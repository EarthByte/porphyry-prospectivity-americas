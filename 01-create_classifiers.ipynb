{
 "cells": [
  {
   "cell_type": "markdown",
   "id": "58f4f93f",
   "metadata": {
    "papermill": {
     "duration": 0.004634,
     "end_time": "2024-09-18T03:17:32.426122",
     "exception": false,
     "start_time": "2024-09-18T03:17:32.421488",
     "status": "completed"
    },
    "tags": []
   },
   "source": [
    "## Train classifiers"
   ]
  },
  {
   "cell_type": "markdown",
   "id": "bce162da",
   "metadata": {
    "papermill": {
     "duration": 0.002742,
     "end_time": "2024-09-18T03:17:32.432918",
     "exception": false,
     "start_time": "2024-09-18T03:17:32.430176",
     "status": "completed"
    },
    "tags": []
   },
   "source": [
    "If training data has been extracted from the source datasets by running the `00a-extract_training_data.ipynb` and `00b-extract_grid_data.ipynb` notebooks, set the `use_extracted_data` variable below to `True` to use this dataset instead of the pre-prepared training data from the [Zenodo repository](https://zenodo.org/record/8157691)."
   ]
  },
  {
   "cell_type": "code",
   "execution_count": 1,
   "id": "c8549c11",
   "metadata": {
    "execution": {
     "iopub.execute_input": "2024-09-18T03:17:32.440703Z",
     "iopub.status.busy": "2024-09-18T03:17:32.440423Z",
     "iopub.status.idle": "2024-09-18T03:17:32.444870Z",
     "shell.execute_reply": "2024-09-18T03:17:32.444292Z"
    },
    "papermill": {
     "duration": 0.010119,
     "end_time": "2024-09-18T03:17:32.446704",
     "exception": false,
     "start_time": "2024-09-18T03:17:32.436585",
     "status": "completed"
    },
    "tags": []
   },
   "outputs": [],
   "source": [
    "use_extracted_data = False\n"
   ]
  },
  {
   "cell_type": "code",
   "execution_count": 2,
   "id": "c82342ea",
   "metadata": {
    "execution": {
     "iopub.execute_input": "2024-09-18T03:17:32.455239Z",
     "iopub.status.busy": "2024-09-18T03:17:32.454840Z",
     "iopub.status.idle": "2024-09-18T03:17:37.252155Z",
     "shell.execute_reply": "2024-09-18T03:17:37.251497Z"
    },
    "papermill": {
     "duration": 4.80379,
     "end_time": "2024-09-18T03:17:37.253911",
     "exception": false,
     "start_time": "2024-09-18T03:17:32.450121",
     "status": "completed"
    },
    "tags": []
   },
   "outputs": [
    {
     "name": "stdout",
     "output_type": "stream",
     "text": [
      "env: PYTHONWARNINGS=ignore::FutureWarning\n"
     ]
    }
   ],
   "source": [
    "import os\n",
    "import time\n",
    "import warnings\n",
    "from datetime import timedelta\n",
    "\n",
    "import pandas as pd\n",
    "from joblib import dump\n",
    "from pulearn.bagging import BaggingPuClassifier\n",
    "from sklearn.base import clone\n",
    "from sklearn.experimental import enable_iterative_imputer\n",
    "from sklearn.impute import IterativeImputer\n",
    "from sklearn.pipeline import make_pipeline\n",
    "from sklearn.preprocessing import RobustScaler\n",
    "from sklearn.svm import SVC\n",
    "\n",
    "from lib.check_files import check_prepared_data\n",
    "from lib.pu import (\n",
    "    BASE_MODELS,\n",
    "    PU_PARAMS,\n",
    "    UNUSED_COLUMNS,\n",
    "    downsample_unlabelled,\n",
    ")\n",
    "\n",
    "# Suppress FutureWarning for some versions of Scikit-learn\n",
    "%env PYTHONWARNINGS=ignore::FutureWarning\n",
    "\n",
    "warnings.simplefilter(\"ignore\", FutureWarning)\n"
   ]
  },
  {
   "cell_type": "code",
   "execution_count": 3,
   "id": "30758c64",
   "metadata": {
    "execution": {
     "iopub.execute_input": "2024-09-18T03:17:37.263818Z",
     "iopub.status.busy": "2024-09-18T03:17:37.263372Z",
     "iopub.status.idle": "2024-09-18T03:17:37.267164Z",
     "shell.execute_reply": "2024-09-18T03:17:37.266580Z"
    },
    "papermill": {
     "duration": 0.010464,
     "end_time": "2024-09-18T03:17:37.268803",
     "exception": false,
     "start_time": "2024-09-18T03:17:37.258339",
     "status": "completed"
    },
    "tags": []
   },
   "outputs": [],
   "source": [
    "# Random seed for reproducibility\n",
    "random_seed = 1234\n",
    "\n",
    "# Number of jobs used to train model\n",
    "n_jobs = int(os.environ.get(\"N_JOBS\", 8))\n",
    "\n",
    "# Parameters for models\n",
    "imputer_params = {\n",
    "    \"random_state\": random_seed,\n",
    "    \"add_indicator\": False,\n",
    "}\n",
    "rf_params = {\"random_state\": random_seed}\n",
    "pu_params = {\n",
    "    \"n_jobs\": n_jobs,\n",
    "    \"random_state\": random_seed,\n",
    "    **PU_PARAMS\n",
    "}\n",
    "svm_params = {\n",
    "    \"kernel\": \"rbf\",\n",
    "    \"probability\": True,\n",
    "    \"random_state\": random_seed,\n",
    "}\n"
   ]
  },
  {
   "cell_type": "code",
   "execution_count": 4,
   "id": "7ebb39be",
   "metadata": {
    "execution": {
     "iopub.execute_input": "2024-09-18T03:17:37.277791Z",
     "iopub.status.busy": "2024-09-18T03:17:37.277520Z",
     "iopub.status.idle": "2024-09-18T03:17:37.282312Z",
     "shell.execute_reply": "2024-09-18T03:17:37.281712Z"
    },
    "papermill": {
     "duration": 0.011324,
     "end_time": "2024-09-18T03:17:37.283880",
     "exception": false,
     "start_time": "2024-09-18T03:17:37.272556",
     "status": "completed"
    },
    "tags": []
   },
   "outputs": [],
   "source": [
    "# Input/output files\n",
    "if use_extracted_data:\n",
    "    data_dir = \"extracted_data\"\n",
    "else:\n",
    "    data_dir = \"prepared_data\"\n",
    "    check_prepared_data(data_dir, verbose=False)\n",
    "data_filename = os.path.join(data_dir, \"training_data.csv\")\n",
    "\n",
    "output_dir = os.path.join(\"outputs\", \"Americas\")\n",
    "os.makedirs(output_dir, exist_ok=True)\n",
    "\n",
    "pu_dir = os.path.join(output_dir, \"PU\")\n",
    "os.makedirs(pu_dir, exist_ok=True)\n",
    "pu_filename = os.path.join(pu_dir, \"classifier.joblib\")\n",
    "\n",
    "svm_dir = os.path.join(output_dir, \"SVM\")\n",
    "os.makedirs(svm_dir, exist_ok=True)\n",
    "svm_filename = os.path.join(svm_dir, \"classifier.joblib\")\n"
   ]
  },
  {
   "cell_type": "code",
   "execution_count": 5,
   "id": "c0ae54cd",
   "metadata": {
    "execution": {
     "iopub.execute_input": "2024-09-18T03:17:37.291720Z",
     "iopub.status.busy": "2024-09-18T03:17:37.291489Z",
     "iopub.status.idle": "2024-09-18T03:17:37.774232Z",
     "shell.execute_reply": "2024-09-18T03:17:37.773712Z"
    },
    "papermill": {
     "duration": 0.488722,
     "end_time": "2024-09-18T03:17:37.775912",
     "exception": false,
     "start_time": "2024-09-18T03:17:37.287190",
     "status": "completed"
    },
    "tags": []
   },
   "outputs": [
    {
     "name": "stdout",
     "output_type": "stream",
     "text": [
      "region         label     \n",
      "North America  negative       57\n",
      "               positive      170\n",
      "               unlabelled    158\n",
      "South America  negative      979\n",
      "               positive      126\n",
      "               unlabelled    138\n",
      "dtype: int64\n"
     ]
    }
   ],
   "source": [
    "data = pd.read_csv(data_filename)\n",
    "\n",
    "# Restrict training data to the Americas\n",
    "data = data[data[\"region\"].isin({\"North America\", \"South America\"})]\n",
    "\n",
    "# Equal number of positive and unlabelled samples\n",
    "negatives = data[data[\"label\"] == \"negative\"]\n",
    "tmp = data[data[\"label\"] != \"negative\"]\n",
    "tmp_downsampled = downsample_unlabelled(\n",
    "    tmp,\n",
    "    random_state=random_seed,\n",
    ")\n",
    "combined = pd.concat((tmp_downsampled, negatives))\n",
    "cleaned = combined.drop(columns=list(UNUSED_COLUMNS), errors=\"ignore\")\n",
    "del tmp, tmp_downsampled\n",
    "\n",
    "print(combined.groupby([\"region\", \"label\"]).size())\n"
   ]
  },
  {
   "cell_type": "markdown",
   "id": "f28e8f39",
   "metadata": {
    "papermill": {
     "duration": 0.00355,
     "end_time": "2024-09-18T03:17:37.785248",
     "exception": false,
     "start_time": "2024-09-18T03:17:37.781698",
     "status": "completed"
    },
    "tags": []
   },
   "source": [
    "### Train the PU classifier"
   ]
  },
  {
   "cell_type": "markdown",
   "id": "bd63ddf5",
   "metadata": {
    "papermill": {
     "duration": 0.003185,
     "end_time": "2024-09-18T03:17:37.791785",
     "exception": false,
     "start_time": "2024-09-18T03:17:37.788600",
     "status": "completed"
    },
    "tags": []
   },
   "source": [
    "#### All data"
   ]
  },
  {
   "cell_type": "code",
   "execution_count": 6,
   "id": "55d73ca5",
   "metadata": {
    "execution": {
     "iopub.execute_input": "2024-09-18T03:17:37.801218Z",
     "iopub.status.busy": "2024-09-18T03:17:37.800865Z",
     "iopub.status.idle": "2024-09-18T03:17:44.821098Z",
     "shell.execute_reply": "2024-09-18T03:17:44.820441Z"
    },
    "papermill": {
     "duration": 7.027148,
     "end_time": "2024-09-18T03:17:44.822804",
     "exception": false,
     "start_time": "2024-09-18T03:17:37.795656",
     "status": "completed"
    },
    "tags": []
   },
   "outputs": [
    {
     "name": "stdout",
     "output_type": "stream",
     "text": [
      "Model training time: 0:00:07.011656\n"
     ]
    }
   ],
   "source": [
    "# Wrangle training data\n",
    "train_pu = cleaned[cleaned[\"label\"].isin({\"positive\", \"unlabelled\"})]\n",
    "x_pu = train_pu.drop(columns=\"label\")\n",
    "y_pu = train_pu[\"label\"].replace({\"positive\": 1, \"unlabelled\": 0})\n",
    "\n",
    "# Use a random forest as the base classifier\n",
    "base_model = clone(BASE_MODELS[\"randomforest\"])\n",
    "base_model.set_params(**rf_params)\n",
    "\n",
    "# Impute missing values and scale before training\n",
    "pu_model = make_pipeline(\n",
    "    IterativeImputer(**imputer_params),\n",
    "    RobustScaler(),\n",
    "    BaggingPuClassifier(base_model, **pu_params),\n",
    ")\n",
    "pu_model.set_output(transform=\"pandas\")\n",
    "\n",
    "# Train model\n",
    "t0 = time.time()\n",
    "pu_model.fit(x_pu, y_pu)\n",
    "\n",
    "# Save to file\n",
    "dump(pu_model, pu_filename, compress=True)\n",
    "duration = timedelta(seconds=time.time() - t0)\n",
    "print(f\"Model training time: {duration}\")\n"
   ]
  },
  {
   "cell_type": "code",
   "execution_count": 7,
   "id": "43818c18",
   "metadata": {
    "execution": {
     "iopub.execute_input": "2024-09-18T03:17:44.832977Z",
     "iopub.status.busy": "2024-09-18T03:17:44.832702Z",
     "iopub.status.idle": "2024-09-18T03:17:44.859570Z",
     "shell.execute_reply": "2024-09-18T03:17:44.859008Z"
    },
    "papermill": {
     "duration": 0.034015,
     "end_time": "2024-09-18T03:17:44.861207",
     "exception": false,
     "start_time": "2024-09-18T03:17:44.827192",
     "status": "completed"
    },
    "tags": []
   },
   "outputs": [
    {
     "data": {
      "text/html": [
       "<div>\n",
       "<style scoped>\n",
       "    .dataframe tbody tr th:only-of-type {\n",
       "        vertical-align: middle;\n",
       "    }\n",
       "\n",
       "    .dataframe tbody tr th {\n",
       "        vertical-align: top;\n",
       "    }\n",
       "\n",
       "    .dataframe thead th {\n",
       "        text-align: right;\n",
       "    }\n",
       "</style>\n",
       "<table border=\"1\" class=\"dataframe\">\n",
       "  <thead>\n",
       "    <tr style=\"text-align: right;\">\n",
       "      <th></th>\n",
       "      <th>present_lon</th>\n",
       "      <th>present_lat</th>\n",
       "      <th>age (Ma)</th>\n",
       "      <th>label</th>\n",
       "      <th>source</th>\n",
       "      <th>plate_id</th>\n",
       "      <th>lon</th>\n",
       "      <th>lat</th>\n",
       "      <th>overriding_plate_id</th>\n",
       "      <th>region</th>\n",
       "      <th>...</th>\n",
       "      <th>crustal_thickness_n</th>\n",
       "      <th>crustal_thickness_range (m)</th>\n",
       "      <th>magnetic_anomaly_mean (nT)</th>\n",
       "      <th>magnetic_anomaly_min (nT)</th>\n",
       "      <th>magnetic_anomaly_max (nT)</th>\n",
       "      <th>magnetic_anomaly_median (nT)</th>\n",
       "      <th>magnetic_anomaly_std (nT)</th>\n",
       "      <th>magnetic_anomaly_n</th>\n",
       "      <th>magnetic_anomaly_range (nT)</th>\n",
       "      <th>erosion (m)</th>\n",
       "    </tr>\n",
       "  </thead>\n",
       "  <tbody>\n",
       "    <tr>\n",
       "      <th>0</th>\n",
       "      <td>-153.091800</td>\n",
       "      <td>60.031900</td>\n",
       "      <td>0</td>\n",
       "      <td>negative</td>\n",
       "      <td>Diaz-Rodriguez et al. 2021</td>\n",
       "      <td>1073.0</td>\n",
       "      <td>-153.091800</td>\n",
       "      <td>60.031900</td>\n",
       "      <td>101</td>\n",
       "      <td>North America</td>\n",
       "      <td>...</td>\n",
       "      <td>224</td>\n",
       "      <td>3295.085938</td>\n",
       "      <td>154.652344</td>\n",
       "      <td>35.811516</td>\n",
       "      <td>282.693878</td>\n",
       "      <td>149.069107</td>\n",
       "      <td>62.332241</td>\n",
       "      <td>57</td>\n",
       "      <td>246.882362</td>\n",
       "      <td>-0.000000</td>\n",
       "    </tr>\n",
       "    <tr>\n",
       "      <th>1</th>\n",
       "      <td>-153.435000</td>\n",
       "      <td>59.362600</td>\n",
       "      <td>0</td>\n",
       "      <td>negative</td>\n",
       "      <td>Diaz-Rodriguez et al. 2021</td>\n",
       "      <td>1073.0</td>\n",
       "      <td>-153.435000</td>\n",
       "      <td>59.362600</td>\n",
       "      <td>101</td>\n",
       "      <td>North America</td>\n",
       "      <td>...</td>\n",
       "      <td>222</td>\n",
       "      <td>3179.992188</td>\n",
       "      <td>73.226997</td>\n",
       "      <td>67.446449</td>\n",
       "      <td>90.968697</td>\n",
       "      <td>71.927338</td>\n",
       "      <td>5.519875</td>\n",
       "      <td>58</td>\n",
       "      <td>23.522247</td>\n",
       "      <td>-0.000000</td>\n",
       "    </tr>\n",
       "    <tr>\n",
       "      <th>2</th>\n",
       "      <td>-153.535100</td>\n",
       "      <td>58.859600</td>\n",
       "      <td>0</td>\n",
       "      <td>negative</td>\n",
       "      <td>Diaz-Rodriguez et al. 2021</td>\n",
       "      <td>1073.0</td>\n",
       "      <td>-153.535100</td>\n",
       "      <td>58.859600</td>\n",
       "      <td>101</td>\n",
       "      <td>North America</td>\n",
       "      <td>...</td>\n",
       "      <td>219</td>\n",
       "      <td>2803.796875</td>\n",
       "      <td>137.284744</td>\n",
       "      <td>122.035904</td>\n",
       "      <td>156.593994</td>\n",
       "      <td>135.497070</td>\n",
       "      <td>9.474295</td>\n",
       "      <td>57</td>\n",
       "      <td>34.558090</td>\n",
       "      <td>-0.000000</td>\n",
       "    </tr>\n",
       "    <tr>\n",
       "      <th>3</th>\n",
       "      <td>-153.673800</td>\n",
       "      <td>58.770300</td>\n",
       "      <td>0</td>\n",
       "      <td>negative</td>\n",
       "      <td>Diaz-Rodriguez et al. 2021</td>\n",
       "      <td>1073.0</td>\n",
       "      <td>-153.673800</td>\n",
       "      <td>58.770300</td>\n",
       "      <td>101</td>\n",
       "      <td>North America</td>\n",
       "      <td>...</td>\n",
       "      <td>219</td>\n",
       "      <td>2763.070312</td>\n",
       "      <td>134.857651</td>\n",
       "      <td>88.042747</td>\n",
       "      <td>158.585251</td>\n",
       "      <td>144.321899</td>\n",
       "      <td>20.285322</td>\n",
       "      <td>56</td>\n",
       "      <td>70.542503</td>\n",
       "      <td>-0.000000</td>\n",
       "    </tr>\n",
       "    <tr>\n",
       "      <th>4</th>\n",
       "      <td>-154.357300</td>\n",
       "      <td>58.452800</td>\n",
       "      <td>0</td>\n",
       "      <td>negative</td>\n",
       "      <td>Diaz-Rodriguez et al. 2021</td>\n",
       "      <td>1073.0</td>\n",
       "      <td>-154.357300</td>\n",
       "      <td>58.452800</td>\n",
       "      <td>101</td>\n",
       "      <td>North America</td>\n",
       "      <td>...</td>\n",
       "      <td>216</td>\n",
       "      <td>2659.718750</td>\n",
       "      <td>34.768494</td>\n",
       "      <td>23.034136</td>\n",
       "      <td>52.113960</td>\n",
       "      <td>34.099560</td>\n",
       "      <td>7.306161</td>\n",
       "      <td>53</td>\n",
       "      <td>29.079824</td>\n",
       "      <td>-0.000000</td>\n",
       "    </tr>\n",
       "    <tr>\n",
       "      <th>...</th>\n",
       "      <td>...</td>\n",
       "      <td>...</td>\n",
       "      <td>...</td>\n",
       "      <td>...</td>\n",
       "      <td>...</td>\n",
       "      <td>...</td>\n",
       "      <td>...</td>\n",
       "      <td>...</td>\n",
       "      <td>...</td>\n",
       "      <td>...</td>\n",
       "      <td>...</td>\n",
       "      <td>...</td>\n",
       "      <td>...</td>\n",
       "      <td>...</td>\n",
       "      <td>...</td>\n",
       "      <td>...</td>\n",
       "      <td>...</td>\n",
       "      <td>...</td>\n",
       "      <td>...</td>\n",
       "      <td>...</td>\n",
       "      <td>...</td>\n",
       "    </tr>\n",
       "    <tr>\n",
       "      <th>37302</th>\n",
       "      <td>-86.833202</td>\n",
       "      <td>16.027304</td>\n",
       "      <td>170</td>\n",
       "      <td>unlabelled</td>\n",
       "      <td>random</td>\n",
       "      <td>NaN</td>\n",
       "      <td>-75.962592</td>\n",
       "      <td>7.547731</td>\n",
       "      <td>9020</td>\n",
       "      <td>North America</td>\n",
       "      <td>...</td>\n",
       "      <td>0</td>\n",
       "      <td>NaN</td>\n",
       "      <td>47.997517</td>\n",
       "      <td>37.580315</td>\n",
       "      <td>58.946045</td>\n",
       "      <td>47.636066</td>\n",
       "      <td>6.158432</td>\n",
       "      <td>30</td>\n",
       "      <td>21.365730</td>\n",
       "      <td>3828.529550</td>\n",
       "    </tr>\n",
       "    <tr>\n",
       "      <th>37307</th>\n",
       "      <td>-163.833216</td>\n",
       "      <td>61.215475</td>\n",
       "      <td>170</td>\n",
       "      <td>unlabelled</td>\n",
       "      <td>random</td>\n",
       "      <td>NaN</td>\n",
       "      <td>-129.825589</td>\n",
       "      <td>61.419039</td>\n",
       "      <td>9040</td>\n",
       "      <td>North America</td>\n",
       "      <td>...</td>\n",
       "      <td>39</td>\n",
       "      <td>0.000000</td>\n",
       "      <td>-53.238571</td>\n",
       "      <td>-168.160477</td>\n",
       "      <td>76.782150</td>\n",
       "      <td>-45.935848</td>\n",
       "      <td>61.840675</td>\n",
       "      <td>58</td>\n",
       "      <td>244.942627</td>\n",
       "      <td>2053.613637</td>\n",
       "    </tr>\n",
       "    <tr>\n",
       "      <th>37310</th>\n",
       "      <td>-148.391585</td>\n",
       "      <td>61.788103</td>\n",
       "      <td>170</td>\n",
       "      <td>unlabelled</td>\n",
       "      <td>random</td>\n",
       "      <td>NaN</td>\n",
       "      <td>-77.204341</td>\n",
       "      <td>44.840847</td>\n",
       "      <td>1072</td>\n",
       "      <td>North America</td>\n",
       "      <td>...</td>\n",
       "      <td>12</td>\n",
       "      <td>2200.000000</td>\n",
       "      <td>127.109818</td>\n",
       "      <td>47.917496</td>\n",
       "      <td>298.118469</td>\n",
       "      <td>108.855057</td>\n",
       "      <td>67.063446</td>\n",
       "      <td>60</td>\n",
       "      <td>250.200974</td>\n",
       "      <td>8466.513303</td>\n",
       "    </tr>\n",
       "    <tr>\n",
       "      <th>37314</th>\n",
       "      <td>-77.023983</td>\n",
       "      <td>7.706606</td>\n",
       "      <td>170</td>\n",
       "      <td>unlabelled</td>\n",
       "      <td>random</td>\n",
       "      <td>NaN</td>\n",
       "      <td>-72.434033</td>\n",
       "      <td>-0.491494</td>\n",
       "      <td>9020</td>\n",
       "      <td>South America</td>\n",
       "      <td>...</td>\n",
       "      <td>0</td>\n",
       "      <td>NaN</td>\n",
       "      <td>-39.352089</td>\n",
       "      <td>-83.110275</td>\n",
       "      <td>3.672881</td>\n",
       "      <td>-43.054024</td>\n",
       "      <td>25.887815</td>\n",
       "      <td>29</td>\n",
       "      <td>86.783156</td>\n",
       "      <td>4181.183118</td>\n",
       "    </tr>\n",
       "    <tr>\n",
       "      <th>37317</th>\n",
       "      <td>-68.240138</td>\n",
       "      <td>-24.827352</td>\n",
       "      <td>170</td>\n",
       "      <td>unlabelled</td>\n",
       "      <td>random</td>\n",
       "      <td>NaN</td>\n",
       "      <td>-58.070395</td>\n",
       "      <td>-29.684517</td>\n",
       "      <td>701</td>\n",
       "      <td>South America</td>\n",
       "      <td>...</td>\n",
       "      <td>62</td>\n",
       "      <td>0.000000</td>\n",
       "      <td>15.587819</td>\n",
       "      <td>5.053922</td>\n",
       "      <td>26.658129</td>\n",
       "      <td>14.252346</td>\n",
       "      <td>5.927727</td>\n",
       "      <td>31</td>\n",
       "      <td>21.604207</td>\n",
       "      <td>6789.073831</td>\n",
       "    </tr>\n",
       "  </tbody>\n",
       "</table>\n",
       "<p>14925 rows × 58 columns</p>\n",
       "</div>"
      ],
      "text/plain": [
       "       present_lon  present_lat  age (Ma)       label  \\\n",
       "0      -153.091800    60.031900         0    negative   \n",
       "1      -153.435000    59.362600         0    negative   \n",
       "2      -153.535100    58.859600         0    negative   \n",
       "3      -153.673800    58.770300         0    negative   \n",
       "4      -154.357300    58.452800         0    negative   \n",
       "...            ...          ...       ...         ...   \n",
       "37302   -86.833202    16.027304       170  unlabelled   \n",
       "37307  -163.833216    61.215475       170  unlabelled   \n",
       "37310  -148.391585    61.788103       170  unlabelled   \n",
       "37314   -77.023983     7.706606       170  unlabelled   \n",
       "37317   -68.240138   -24.827352       170  unlabelled   \n",
       "\n",
       "                           source  plate_id         lon        lat  \\\n",
       "0      Diaz-Rodriguez et al. 2021    1073.0 -153.091800  60.031900   \n",
       "1      Diaz-Rodriguez et al. 2021    1073.0 -153.435000  59.362600   \n",
       "2      Diaz-Rodriguez et al. 2021    1073.0 -153.535100  58.859600   \n",
       "3      Diaz-Rodriguez et al. 2021    1073.0 -153.673800  58.770300   \n",
       "4      Diaz-Rodriguez et al. 2021    1073.0 -154.357300  58.452800   \n",
       "...                           ...       ...         ...        ...   \n",
       "37302                      random       NaN  -75.962592   7.547731   \n",
       "37307                      random       NaN -129.825589  61.419039   \n",
       "37310                      random       NaN  -77.204341  44.840847   \n",
       "37314                      random       NaN  -72.434033  -0.491494   \n",
       "37317                      random       NaN  -58.070395 -29.684517   \n",
       "\n",
       "       overriding_plate_id         region  ...  crustal_thickness_n  \\\n",
       "0                      101  North America  ...                  224   \n",
       "1                      101  North America  ...                  222   \n",
       "2                      101  North America  ...                  219   \n",
       "3                      101  North America  ...                  219   \n",
       "4                      101  North America  ...                  216   \n",
       "...                    ...            ...  ...                  ...   \n",
       "37302                 9020  North America  ...                    0   \n",
       "37307                 9040  North America  ...                   39   \n",
       "37310                 1072  North America  ...                   12   \n",
       "37314                 9020  South America  ...                    0   \n",
       "37317                  701  South America  ...                   62   \n",
       "\n",
       "       crustal_thickness_range (m)  magnetic_anomaly_mean (nT)  \\\n",
       "0                      3295.085938                  154.652344   \n",
       "1                      3179.992188                   73.226997   \n",
       "2                      2803.796875                  137.284744   \n",
       "3                      2763.070312                  134.857651   \n",
       "4                      2659.718750                   34.768494   \n",
       "...                            ...                         ...   \n",
       "37302                          NaN                   47.997517   \n",
       "37307                     0.000000                  -53.238571   \n",
       "37310                  2200.000000                  127.109818   \n",
       "37314                          NaN                  -39.352089   \n",
       "37317                     0.000000                   15.587819   \n",
       "\n",
       "       magnetic_anomaly_min (nT)  magnetic_anomaly_max (nT)  \\\n",
       "0                      35.811516                 282.693878   \n",
       "1                      67.446449                  90.968697   \n",
       "2                     122.035904                 156.593994   \n",
       "3                      88.042747                 158.585251   \n",
       "4                      23.034136                  52.113960   \n",
       "...                          ...                        ...   \n",
       "37302                  37.580315                  58.946045   \n",
       "37307                -168.160477                  76.782150   \n",
       "37310                  47.917496                 298.118469   \n",
       "37314                 -83.110275                   3.672881   \n",
       "37317                   5.053922                  26.658129   \n",
       "\n",
       "       magnetic_anomaly_median (nT)  magnetic_anomaly_std (nT)  \\\n",
       "0                        149.069107                  62.332241   \n",
       "1                         71.927338                   5.519875   \n",
       "2                        135.497070                   9.474295   \n",
       "3                        144.321899                  20.285322   \n",
       "4                         34.099560                   7.306161   \n",
       "...                             ...                        ...   \n",
       "37302                     47.636066                   6.158432   \n",
       "37307                    -45.935848                  61.840675   \n",
       "37310                    108.855057                  67.063446   \n",
       "37314                    -43.054024                  25.887815   \n",
       "37317                     14.252346                   5.927727   \n",
       "\n",
       "       magnetic_anomaly_n  magnetic_anomaly_range (nT)  erosion (m)  \n",
       "0                      57                   246.882362    -0.000000  \n",
       "1                      58                    23.522247    -0.000000  \n",
       "2                      57                    34.558090    -0.000000  \n",
       "3                      56                    70.542503    -0.000000  \n",
       "4                      53                    29.079824    -0.000000  \n",
       "...                   ...                          ...          ...  \n",
       "37302                  30                    21.365730  3828.529550  \n",
       "37307                  58                   244.942627  2053.613637  \n",
       "37310                  60                   250.200974  8466.513303  \n",
       "37314                  29                    86.783156  4181.183118  \n",
       "37317                  31                    21.604207  6789.073831  \n",
       "\n",
       "[14925 rows x 58 columns]"
      ]
     },
     "execution_count": 7,
     "metadata": {},
     "output_type": "execute_result"
    }
   ],
   "source": [
    "data"
   ]
  },
  {
   "cell_type": "code",
   "execution_count": null,
   "id": "554d04b7",
   "metadata": {
    "papermill": {
     "duration": 0.003917,
     "end_time": "2024-09-18T03:17:44.869205",
     "exception": false,
     "start_time": "2024-09-18T03:17:44.865288",
     "status": "completed"
    },
    "tags": []
   },
   "outputs": [],
   "source": []
  },
  {
   "cell_type": "code",
   "execution_count": null,
   "id": "0300ebcc",
   "metadata": {
    "papermill": {
     "duration": 0.004184,
     "end_time": "2024-09-18T03:17:44.877215",
     "exception": false,
     "start_time": "2024-09-18T03:17:44.873031",
     "status": "completed"
    },
    "tags": []
   },
   "outputs": [],
   "source": []
  },
  {
   "cell_type": "code",
   "execution_count": null,
   "id": "354b36c5",
   "metadata": {
    "papermill": {
     "duration": 0.003636,
     "end_time": "2024-09-18T03:17:44.884865",
     "exception": false,
     "start_time": "2024-09-18T03:17:44.881229",
     "status": "completed"
    },
    "tags": []
   },
   "outputs": [],
   "source": []
  },
  {
   "cell_type": "markdown",
   "id": "2b3ccf5f",
   "metadata": {
    "papermill": {
     "duration": 0.00377,
     "end_time": "2024-09-18T03:17:44.892394",
     "exception": false,
     "start_time": "2024-09-18T03:17:44.888624",
     "status": "completed"
    },
    "tags": []
   },
   "source": [
    "#### Separate regions"
   ]
  },
  {
   "cell_type": "code",
   "execution_count": 8,
   "id": "680f093d",
   "metadata": {
    "execution": {
     "iopub.execute_input": "2024-09-18T03:17:44.900803Z",
     "iopub.status.busy": "2024-09-18T03:17:44.900540Z",
     "iopub.status.idle": "2024-09-18T03:17:53.285379Z",
     "shell.execute_reply": "2024-09-18T03:17:53.284782Z"
    },
    "papermill": {
     "duration": 8.390957,
     "end_time": "2024-09-18T03:17:53.286903",
     "exception": false,
     "start_time": "2024-09-18T03:17:44.895946",
     "status": "completed"
    },
    "tags": []
   },
   "outputs": [
    {
     "name": "stdout",
     "output_type": "stream",
     "text": [
      "Region: North America\n",
      "label\n",
      "positive      170\n",
      "unlabelled    158\n",
      "dtype: int64\n"
     ]
    },
    {
     "name": "stdout",
     "output_type": "stream",
     "text": [
      "Model training time: 0:00:04.178691\n",
      "\n",
      "Region: South America\n",
      "label\n",
      "positive      126\n",
      "unlabelled    138\n",
      "dtype: int64\n"
     ]
    },
    {
     "name": "stdout",
     "output_type": "stream",
     "text": [
      "Model training time: 0:00:04.181627\n",
      "\n"
     ]
    }
   ],
   "source": [
    "for region, subset in combined.groupby(\"region\"):\n",
    "    region = str(region)\n",
    "    if (subset[\"label\"] == \"positive\").sum() < 50:\n",
    "        print(f\"Skipping region: {region}\")\n",
    "        continue\n",
    "    print(f\"Region: {region}\")\n",
    "    r = \"_\".join(region.lower().split())\n",
    "    output_subset = os.path.join(\n",
    "        pu_dir,\n",
    "        f\"classifier_{r}.joblib\",\n",
    "    )\n",
    "\n",
    "    subset = subset[subset[\"label\"].isin({\"positive\", \"unlabelled\"})]\n",
    "    subset = subset.drop(columns=list(UNUSED_COLUMNS), errors=\"ignore\")\n",
    "    print(subset.groupby(\"label\").size())\n",
    "    x_pu_subset = subset.drop(columns=\"label\")\n",
    "    y_pu_subset = subset[\"label\"].replace({\"positive\": 1, \"unlabelled\": 0})\n",
    "\n",
    "    pu_model_subset = clone(pu_model)\n",
    "    t0 = time.time()\n",
    "    pu_model_subset.fit(x_pu_subset, y_pu_subset)\n",
    "    dump(pu_model, output_subset, compress=True)\n",
    "    duration = timedelta(seconds=time.time() - t0)\n",
    "    print(f\"Model training time: {duration}\")\n",
    "\n",
    "    print(\"\")\n"
   ]
  },
  {
   "cell_type": "markdown",
   "id": "15b4ab2e",
   "metadata": {
    "papermill": {
     "duration": 0.003783,
     "end_time": "2024-09-18T03:17:53.294897",
     "exception": false,
     "start_time": "2024-09-18T03:17:53.291114",
     "status": "completed"
    },
    "tags": []
   },
   "source": [
    "### Train the SVM classifier"
   ]
  },
  {
   "cell_type": "markdown",
   "id": "186b56a9",
   "metadata": {
    "papermill": {
     "duration": 0.003752,
     "end_time": "2024-09-18T03:17:53.302445",
     "exception": false,
     "start_time": "2024-09-18T03:17:53.298693",
     "status": "completed"
    },
    "tags": []
   },
   "source": [
    "#### All data"
   ]
  },
  {
   "cell_type": "code",
   "execution_count": 9,
   "id": "2b4a61e7",
   "metadata": {
    "execution": {
     "iopub.execute_input": "2024-09-18T03:17:53.311207Z",
     "iopub.status.busy": "2024-09-18T03:17:53.310928Z",
     "iopub.status.idle": "2024-09-18T03:17:53.568457Z",
     "shell.execute_reply": "2024-09-18T03:17:53.567658Z"
    },
    "papermill": {
     "duration": 0.264352,
     "end_time": "2024-09-18T03:17:53.570636",
     "exception": false,
     "start_time": "2024-09-18T03:17:53.306284",
     "status": "completed"
    },
    "tags": []
   },
   "outputs": [
    {
     "name": "stdout",
     "output_type": "stream",
     "text": [
      "Model training time: 0:00:00.250057\n"
     ]
    }
   ],
   "source": [
    "# Wrangle training data\n",
    "train_svm = cleaned[cleaned[\"label\"].isin({\"positive\", \"negative\"})]\n",
    "x_svm = train_svm.drop(columns=\"label\")\n",
    "y_svm = train_svm[\"label\"].replace({\"positive\": 1, \"negative\": 0})\n",
    "\n",
    "# Impute missing values and scale before training\n",
    "svm_model = make_pipeline(\n",
    "    IterativeImputer(**imputer_params),\n",
    "    RobustScaler(),\n",
    "    SVC(**svm_params),\n",
    ")\n",
    "svm_model.set_output(transform=\"pandas\")\n",
    "\n",
    "# Train model\n",
    "t0 = time.time()\n",
    "svm_model.fit(x_svm, y_svm)\n",
    "\n",
    "# Save to file\n",
    "dump(svm_model, svm_filename, compress=True)\n",
    "duration = timedelta(seconds=time.time() - t0)\n",
    "print(f\"Model training time: {duration}\")\n"
   ]
  },
  {
   "cell_type": "markdown",
   "id": "e1c42b19",
   "metadata": {
    "papermill": {
     "duration": 0.006991,
     "end_time": "2024-09-18T03:17:53.583978",
     "exception": false,
     "start_time": "2024-09-18T03:17:53.576987",
     "status": "completed"
    },
    "tags": []
   },
   "source": [
    "#### Separate regions"
   ]
  },
  {
   "cell_type": "code",
   "execution_count": 10,
   "id": "4de50175",
   "metadata": {
    "execution": {
     "iopub.execute_input": "2024-09-18T03:17:53.596330Z",
     "iopub.status.busy": "2024-09-18T03:17:53.595974Z",
     "iopub.status.idle": "2024-09-18T03:17:53.923143Z",
     "shell.execute_reply": "2024-09-18T03:17:53.922244Z"
    },
    "papermill": {
     "duration": 0.335834,
     "end_time": "2024-09-18T03:17:53.925236",
     "exception": false,
     "start_time": "2024-09-18T03:17:53.589402",
     "status": "completed"
    },
    "tags": []
   },
   "outputs": [
    {
     "name": "stdout",
     "output_type": "stream",
     "text": [
      "Region: North America\n",
      "label\n",
      "negative     57\n",
      "positive    170\n",
      "dtype: int64\n",
      "Model training time: 0:00:00.097714\n",
      "\n",
      "Region: South America\n",
      "label\n",
      "negative    979\n",
      "positive    126\n",
      "dtype: int64\n"
     ]
    },
    {
     "name": "stdout",
     "output_type": "stream",
     "text": [
      "Model training time: 0:00:00.211793\n",
      "\n"
     ]
    }
   ],
   "source": [
    "for region, subset in combined.groupby(\"region\"):\n",
    "    region = str(region)\n",
    "    if (subset[\"label\"] == \"positive\").sum() < 50:\n",
    "        print(f\"Skipping region: {region}\")\n",
    "        continue\n",
    "    print(f\"Region: {region}\")\n",
    "    r = \"_\".join(region.lower().split())\n",
    "    output_subset = os.path.join(\n",
    "        svm_dir,\n",
    "        f\"classifier_{r}.joblib\",\n",
    "    )\n",
    "\n",
    "    subset = subset[subset[\"label\"].isin({\"positive\", \"negative\"})]\n",
    "    subset = subset.drop(columns=list(UNUSED_COLUMNS), errors=\"ignore\")\n",
    "    print(subset.groupby(\"label\").size())\n",
    "    x_svm_subset = subset.drop(columns=\"label\")\n",
    "    y_svm_subset = subset[\"label\"].replace({\"positive\": 1, \"negative\": 0})\n",
    "\n",
    "    svm_model_subset = clone(svm_model)\n",
    "    t0 = time.time()\n",
    "    svm_model_subset.fit(x_svm_subset, y_svm_subset)\n",
    "    dump(svm_model_subset, output_subset, compress=True)\n",
    "    duration = timedelta(seconds=time.time() - t0)\n",
    "    print(f\"Model training time: {duration}\")\n",
    "\n",
    "    print(\"\")\n"
   ]
  },
  {
   "cell_type": "code",
   "execution_count": null,
   "id": "f744bcac",
   "metadata": {
    "papermill": {
     "duration": 0.006101,
     "end_time": "2024-09-18T03:17:53.936524",
     "exception": false,
     "start_time": "2024-09-18T03:17:53.930423",
     "status": "completed"
    },
    "tags": []
   },
   "outputs": [],
   "source": []
  }
 ],
 "metadata": {
  "kernelspec": {
   "display_name": "datamining",
   "language": "python",
   "name": "python3"
  },
  "language_info": {
   "codemirror_mode": {
    "name": "ipython",
    "version": 3
   },
   "file_extension": ".py",
   "mimetype": "text/x-python",
   "name": "python",
   "nbconvert_exporter": "python",
   "pygments_lexer": "ipython3",
   "version": "3.12.5"
  },
  "papermill": {
   "default_parameters": {},
   "duration": 25.564686,
   "end_time": "2024-09-18T03:17:56.559508",
   "environment_variables": {},
   "exception": null,
   "input_path": "01-create_classifiers.ipynb",
   "output_path": "01-create_classifiers.ipynb",
   "parameters": {},
   "start_time": "2024-09-18T03:17:30.994822",
   "version": "2.4.0"
  }
 },
 "nbformat": 4,
 "nbformat_minor": 5
}