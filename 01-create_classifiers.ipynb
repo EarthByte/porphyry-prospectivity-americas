{
 "cells": [
  {
   "cell_type": "markdown",
   "id": "58f4f93f",
   "metadata": {
    "papermill": {
     "duration": 0.005378,
     "end_time": "2024-09-24T04:23:18.403436",
     "exception": false,
     "start_time": "2024-09-24T04:23:18.398058",
     "status": "completed"
    },
    "tags": []
   },
   "source": [
    "## Train classifiers"
   ]
  },
  {
   "cell_type": "markdown",
   "id": "bce162da",
   "metadata": {
    "papermill": {
     "duration": 0.003252,
     "end_time": "2024-09-24T04:23:18.411753",
     "exception": false,
     "start_time": "2024-09-24T04:23:18.408501",
     "status": "completed"
    },
    "tags": []
   },
   "source": [
    "If training data has been extracted from the source datasets by running the `00a-extract_training_data.ipynb` and `00b-extract_grid_data.ipynb` notebooks, set the `use_extracted_data` variable below to `True` to use this dataset instead of the pre-prepared training data from the [Zenodo repository](https://zenodo.org/record/8157691)."
   ]
  },
  {
   "cell_type": "code",
   "execution_count": 1,
   "id": "c8549c11",
   "metadata": {
    "execution": {
     "iopub.execute_input": "2024-09-24T04:23:18.419022Z",
     "iopub.status.busy": "2024-09-24T04:23:18.418721Z",
     "iopub.status.idle": "2024-09-24T04:23:18.422818Z",
     "shell.execute_reply": "2024-09-24T04:23:18.422200Z"
    },
    "papermill": {
     "duration": 0.009335,
     "end_time": "2024-09-24T04:23:18.424188",
     "exception": false,
     "start_time": "2024-09-24T04:23:18.414853",
     "status": "completed"
    },
    "tags": []
   },
   "outputs": [],
   "source": [
    "use_extracted_data = False\n"
   ]
  },
  {
   "cell_type": "code",
   "execution_count": 2,
   "id": "c82342ea",
   "metadata": {
    "execution": {
     "iopub.execute_input": "2024-09-24T04:23:18.430565Z",
     "iopub.status.busy": "2024-09-24T04:23:18.430197Z",
     "iopub.status.idle": "2024-09-24T04:23:21.788434Z",
     "shell.execute_reply": "2024-09-24T04:23:21.787636Z"
    },
    "papermill": {
     "duration": 3.363322,
     "end_time": "2024-09-24T04:23:21.790241",
     "exception": false,
     "start_time": "2024-09-24T04:23:18.426919",
     "status": "completed"
    },
    "tags": []
   },
   "outputs": [
    {
     "name": "stdout",
     "output_type": "stream",
     "text": [
      "env: PYTHONWARNINGS=ignore::FutureWarning\n"
     ]
    }
   ],
   "source": [
    "import os\n",
    "import time\n",
    "import warnings\n",
    "from datetime import timedelta\n",
    "\n",
    "import pandas as pd\n",
    "from joblib import dump\n",
    "from pulearn.bagging import BaggingPuClassifier\n",
    "from sklearn.base import clone\n",
    "from sklearn.experimental import enable_iterative_imputer\n",
    "from sklearn.impute import IterativeImputer\n",
    "from sklearn.pipeline import make_pipeline\n",
    "from sklearn.preprocessing import RobustScaler\n",
    "from sklearn.svm import SVC\n",
    "\n",
    "from lib.check_files import check_prepared_data\n",
    "from lib.pu import (\n",
    "    BASE_MODELS,\n",
    "    PU_PARAMS,\n",
    "    UNUSED_COLUMNS,\n",
    "    downsample_unlabelled,\n",
    ")\n",
    "\n",
    "# Suppress FutureWarning for some versions of Scikit-learn\n",
    "%env PYTHONWARNINGS=ignore::FutureWarning\n",
    "\n",
    "warnings.simplefilter(\"ignore\", FutureWarning)\n"
   ]
  },
  {
   "cell_type": "code",
   "execution_count": 3,
   "id": "30758c64",
   "metadata": {
    "execution": {
     "iopub.execute_input": "2024-09-24T04:23:21.796111Z",
     "iopub.status.busy": "2024-09-24T04:23:21.795619Z",
     "iopub.status.idle": "2024-09-24T04:23:21.799496Z",
     "shell.execute_reply": "2024-09-24T04:23:21.799089Z"
    },
    "papermill": {
     "duration": 0.008014,
     "end_time": "2024-09-24T04:23:21.800631",
     "exception": false,
     "start_time": "2024-09-24T04:23:21.792617",
     "status": "completed"
    },
    "tags": []
   },
   "outputs": [],
   "source": [
    "# Random seed for reproducibility\n",
    "random_seed = 1234\n",
    "\n",
    "# Number of jobs used to train model\n",
    "n_jobs = int(os.environ.get(\"N_JOBS\", 8))\n",
    "\n",
    "# Parameters for models\n",
    "imputer_params = {\n",
    "    \"random_state\": random_seed,\n",
    "    \"add_indicator\": False,\n",
    "}\n",
    "rf_params = {\"random_state\": random_seed}\n",
    "pu_params = {\n",
    "    \"n_jobs\": n_jobs,\n",
    "    \"random_state\": random_seed,\n",
    "    **PU_PARAMS\n",
    "}\n",
    "svm_params = {\n",
    "    \"kernel\": \"rbf\",\n",
    "    \"probability\": True,\n",
    "    \"random_state\": random_seed,\n",
    "}\n"
   ]
  },
  {
   "cell_type": "code",
   "execution_count": 4,
   "id": "7ebb39be",
   "metadata": {
    "execution": {
     "iopub.execute_input": "2024-09-24T04:23:21.806732Z",
     "iopub.status.busy": "2024-09-24T04:23:21.806469Z",
     "iopub.status.idle": "2024-09-24T04:23:21.810604Z",
     "shell.execute_reply": "2024-09-24T04:23:21.810193Z"
    },
    "papermill": {
     "duration": 0.008597,
     "end_time": "2024-09-24T04:23:21.811746",
     "exception": false,
     "start_time": "2024-09-24T04:23:21.803149",
     "status": "completed"
    },
    "tags": []
   },
   "outputs": [],
   "source": [
    "# Input/output files\n",
    "if use_extracted_data:\n",
    "    data_dir = \"extracted_data\"\n",
    "else:\n",
    "    data_dir = \"prepared_data\"\n",
    "    check_prepared_data(data_dir, verbose=False)\n",
    "data_filename = os.path.join(data_dir, \"training_data.csv\")\n",
    "\n",
    "output_dir = os.path.join(\"outputs\", \"Americas\")\n",
    "os.makedirs(output_dir, exist_ok=True)\n",
    "\n",
    "pu_dir = os.path.join(output_dir, \"PU\")\n",
    "os.makedirs(pu_dir, exist_ok=True)\n",
    "pu_filename = os.path.join(pu_dir, \"classifier.joblib\")\n",
    "\n",
    "svm_dir = os.path.join(output_dir, \"SVM\")\n",
    "os.makedirs(svm_dir, exist_ok=True)\n",
    "svm_filename = os.path.join(svm_dir, \"classifier.joblib\")\n"
   ]
  },
  {
   "cell_type": "code",
   "execution_count": 5,
   "id": "c0ae54cd",
   "metadata": {
    "execution": {
     "iopub.execute_input": "2024-09-24T04:23:21.817090Z",
     "iopub.status.busy": "2024-09-24T04:23:21.816854Z",
     "iopub.status.idle": "2024-09-24T04:23:22.239118Z",
     "shell.execute_reply": "2024-09-24T04:23:22.238450Z"
    },
    "papermill": {
     "duration": 0.426786,
     "end_time": "2024-09-24T04:23:22.240703",
     "exception": false,
     "start_time": "2024-09-24T04:23:21.813917",
     "status": "completed"
    },
    "tags": []
   },
   "outputs": [
    {
     "name": "stdout",
     "output_type": "stream",
     "text": [
      "region         label     \n",
      "North America  negative       57\n",
      "               positive      170\n",
      "               unlabelled    158\n",
      "South America  negative      979\n",
      "               positive      126\n",
      "               unlabelled    138\n",
      "dtype: int64\n"
     ]
    }
   ],
   "source": [
    "data = pd.read_csv(data_filename)\n",
    "\n",
    "# Restrict training data to the Americas\n",
    "data = data[data[\"region\"].isin({\"North America\", \"South America\"})]\n",
    "\n",
    "# Equal number of positive and unlabelled samples\n",
    "negatives = data[data[\"label\"] == \"negative\"]\n",
    "tmp = data[data[\"label\"] != \"negative\"]\n",
    "tmp_downsampled = downsample_unlabelled(\n",
    "    tmp,\n",
    "    random_state=random_seed,\n",
    ")\n",
    "combined = pd.concat((tmp_downsampled, negatives))\n",
    "cleaned = combined.drop(columns=list(UNUSED_COLUMNS), errors=\"ignore\")\n",
    "del tmp, tmp_downsampled\n",
    "\n",
    "print(combined.groupby([\"region\", \"label\"]).size())\n"
   ]
  },
  {
   "cell_type": "markdown",
   "id": "f28e8f39",
   "metadata": {
    "papermill": {
     "duration": 0.003414,
     "end_time": "2024-09-24T04:23:22.247466",
     "exception": false,
     "start_time": "2024-09-24T04:23:22.244052",
     "status": "completed"
    },
    "tags": []
   },
   "source": [
    "### Train the PU classifier"
   ]
  },
  {
   "cell_type": "markdown",
   "id": "bd63ddf5",
   "metadata": {
    "papermill": {
     "duration": 0.003065,
     "end_time": "2024-09-24T04:23:22.254109",
     "exception": false,
     "start_time": "2024-09-24T04:23:22.251044",
     "status": "completed"
    },
    "tags": []
   },
   "source": [
    "#### All data"
   ]
  },
  {
   "cell_type": "code",
   "execution_count": 6,
   "id": "55d73ca5",
   "metadata": {
    "execution": {
     "iopub.execute_input": "2024-09-24T04:23:22.261183Z",
     "iopub.status.busy": "2024-09-24T04:23:22.260890Z",
     "iopub.status.idle": "2024-09-24T04:23:28.921302Z",
     "shell.execute_reply": "2024-09-24T04:23:28.920809Z"
    },
    "papermill": {
     "duration": 6.665475,
     "end_time": "2024-09-24T04:23:28.922639",
     "exception": false,
     "start_time": "2024-09-24T04:23:22.257164",
     "status": "completed"
    },
    "tags": []
   },
   "outputs": [
    {
     "name": "stdout",
     "output_type": "stream",
     "text": [
      "Model training time: 0:00:06.652297\n"
     ]
    }
   ],
   "source": [
    "# Wrangle training data\n",
    "train_pu = cleaned[cleaned[\"label\"].isin({\"positive\", \"unlabelled\"})]\n",
    "x_pu = train_pu.drop(columns=\"label\")\n",
    "y_pu = train_pu[\"label\"].replace({\"positive\": 1, \"unlabelled\": 0})\n",
    "\n",
    "# Use a random forest as the base classifier\n",
    "base_model = clone(BASE_MODELS[\"randomforest\"])\n",
    "base_model.set_params(**rf_params)\n",
    "\n",
    "# Impute missing values and scale before training\n",
    "pu_model = make_pipeline(\n",
    "    IterativeImputer(**imputer_params),\n",
    "    RobustScaler(),\n",
    "    BaggingPuClassifier(base_model, **pu_params),\n",
    ")\n",
    "pu_model.set_output(transform=\"pandas\")\n",
    "\n",
    "# Train model\n",
    "t0 = time.time()\n",
    "pu_model.fit(x_pu, y_pu)\n",
    "\n",
    "# Save to file\n",
    "dump(pu_model, pu_filename, compress=True)\n",
    "duration = timedelta(seconds=time.time() - t0)\n",
    "print(f\"Model training time: {duration}\")\n"
   ]
  },
  {
   "cell_type": "markdown",
   "id": "2b3ccf5f",
   "metadata": {
    "papermill": {
     "duration": 0.002662,
     "end_time": "2024-09-24T04:23:28.928121",
     "exception": false,
     "start_time": "2024-09-24T04:23:28.925459",
     "status": "completed"
    },
    "tags": []
   },
   "source": [
    "#### Separate regions"
   ]
  },
  {
   "cell_type": "code",
   "execution_count": 7,
   "id": "680f093d",
   "metadata": {
    "execution": {
     "iopub.execute_input": "2024-09-24T04:23:28.934809Z",
     "iopub.status.busy": "2024-09-24T04:23:28.934531Z",
     "iopub.status.idle": "2024-09-24T04:23:36.022146Z",
     "shell.execute_reply": "2024-09-24T04:23:36.021540Z"
    },
    "papermill": {
     "duration": 7.092532,
     "end_time": "2024-09-24T04:23:36.023436",
     "exception": false,
     "start_time": "2024-09-24T04:23:28.930904",
     "status": "completed"
    },
    "tags": []
   },
   "outputs": [
    {
     "name": "stdout",
     "output_type": "stream",
     "text": [
      "Region: North America\n",
      "label\n",
      "positive      170\n",
      "unlabelled    158\n",
      "dtype: int64\n"
     ]
    },
    {
     "name": "stdout",
     "output_type": "stream",
     "text": [
      "Model training time: 0:00:03.563984\n",
      "\n",
      "Region: South America\n",
      "label\n",
      "positive      126\n",
      "unlabelled    138\n",
      "dtype: int64\n"
     ]
    },
    {
     "name": "stdout",
     "output_type": "stream",
     "text": [
      "Model training time: 0:00:03.492598\n",
      "\n"
     ]
    }
   ],
   "source": [
    "for region, subset in combined.groupby(\"region\"):\n",
    "    region = str(region)\n",
    "    if (subset[\"label\"] == \"positive\").sum() < 50:\n",
    "        print(f\"Skipping region: {region}\")\n",
    "        continue\n",
    "    print(f\"Region: {region}\")\n",
    "    r = \"_\".join(region.lower().split())\n",
    "    output_subset = os.path.join(\n",
    "        pu_dir,\n",
    "        f\"classifier_{r}.joblib\",\n",
    "    )\n",
    "\n",
    "    subset = subset[subset[\"label\"].isin({\"positive\", \"unlabelled\"})]\n",
    "    subset = subset.drop(columns=list(UNUSED_COLUMNS), errors=\"ignore\")\n",
    "    print(subset.groupby(\"label\").size())\n",
    "    x_pu_subset = subset.drop(columns=\"label\")\n",
    "    y_pu_subset = subset[\"label\"].replace({\"positive\": 1, \"unlabelled\": 0})\n",
    "\n",
    "    pu_model_subset = clone(pu_model)\n",
    "    t0 = time.time()\n",
    "    pu_model_subset.fit(x_pu_subset, y_pu_subset)\n",
    "    dump(pu_model_subset, output_subset, compress=True)\n",
    "    duration = timedelta(seconds=time.time() - t0)\n",
    "    print(f\"Model training time: {duration}\")\n",
    "\n",
    "    print(\"\")\n"
   ]
  },
  {
   "cell_type": "markdown",
   "id": "15b4ab2e",
   "metadata": {
    "papermill": {
     "duration": 0.003003,
     "end_time": "2024-09-24T04:23:36.029807",
     "exception": false,
     "start_time": "2024-09-24T04:23:36.026804",
     "status": "completed"
    },
    "tags": []
   },
   "source": [
    "### Train the SVM classifier"
   ]
  },
  {
   "cell_type": "markdown",
   "id": "186b56a9",
   "metadata": {
    "papermill": {
     "duration": 0.002899,
     "end_time": "2024-09-24T04:23:36.035936",
     "exception": false,
     "start_time": "2024-09-24T04:23:36.033037",
     "status": "completed"
    },
    "tags": []
   },
   "source": [
    "#### All data"
   ]
  },
  {
   "cell_type": "code",
   "execution_count": 8,
   "id": "2b4a61e7",
   "metadata": {
    "execution": {
     "iopub.execute_input": "2024-09-24T04:23:36.043055Z",
     "iopub.status.busy": "2024-09-24T04:23:36.042790Z",
     "iopub.status.idle": "2024-09-24T04:23:36.310914Z",
     "shell.execute_reply": "2024-09-24T04:23:36.310204Z"
    },
    "papermill": {
     "duration": 0.273839,
     "end_time": "2024-09-24T04:23:36.312777",
     "exception": false,
     "start_time": "2024-09-24T04:23:36.038938",
     "status": "completed"
    },
    "tags": []
   },
   "outputs": [
    {
     "name": "stdout",
     "output_type": "stream",
     "text": [
      "Model training time: 0:00:00.261055\n"
     ]
    }
   ],
   "source": [
    "# Wrangle training data\n",
    "train_svm = cleaned[cleaned[\"label\"].isin({\"positive\", \"negative\"})]\n",
    "x_svm = train_svm.drop(columns=\"label\")\n",
    "y_svm = train_svm[\"label\"].replace({\"positive\": 1, \"negative\": 0})\n",
    "\n",
    "# Impute missing values and scale before training\n",
    "svm_model = make_pipeline(\n",
    "    IterativeImputer(**imputer_params),\n",
    "    RobustScaler(),\n",
    "    SVC(**svm_params),\n",
    ")\n",
    "svm_model.set_output(transform=\"pandas\")\n",
    "\n",
    "# Train model\n",
    "t0 = time.time()\n",
    "svm_model.fit(x_svm, y_svm)\n",
    "\n",
    "# Save to file\n",
    "dump(svm_model, svm_filename, compress=True)\n",
    "duration = timedelta(seconds=time.time() - t0)\n",
    "print(f\"Model training time: {duration}\")\n"
   ]
  },
  {
   "cell_type": "markdown",
   "id": "e1c42b19",
   "metadata": {
    "papermill": {
     "duration": 0.004348,
     "end_time": "2024-09-24T04:23:36.321635",
     "exception": false,
     "start_time": "2024-09-24T04:23:36.317287",
     "status": "completed"
    },
    "tags": []
   },
   "source": [
    "#### Separate regions"
   ]
  },
  {
   "cell_type": "code",
   "execution_count": 9,
   "id": "4de50175",
   "metadata": {
    "execution": {
     "iopub.execute_input": "2024-09-24T04:23:36.330893Z",
     "iopub.status.busy": "2024-09-24T04:23:36.330593Z",
     "iopub.status.idle": "2024-09-24T04:23:36.595032Z",
     "shell.execute_reply": "2024-09-24T04:23:36.594328Z"
    },
    "papermill": {
     "duration": 0.271067,
     "end_time": "2024-09-24T04:23:36.596659",
     "exception": false,
     "start_time": "2024-09-24T04:23:36.325592",
     "status": "completed"
    },
    "tags": []
   },
   "outputs": [
    {
     "name": "stdout",
     "output_type": "stream",
     "text": [
      "Region: North America\n",
      "label\n",
      "negative     57\n",
      "positive    170\n",
      "dtype: int64\n",
      "Model training time: 0:00:00.072352\n",
      "\n",
      "Region: South America\n",
      "label\n",
      "negative    979\n",
      "positive    126\n",
      "dtype: int64\n"
     ]
    },
    {
     "name": "stdout",
     "output_type": "stream",
     "text": [
      "Model training time: 0:00:00.175944\n",
      "\n"
     ]
    }
   ],
   "source": [
    "for region, subset in combined.groupby(\"region\"):\n",
    "    region = str(region)\n",
    "    if (subset[\"label\"] == \"positive\").sum() < 50:\n",
    "        print(f\"Skipping region: {region}\")\n",
    "        continue\n",
    "    print(f\"Region: {region}\")\n",
    "    r = \"_\".join(region.lower().split())\n",
    "    output_subset = os.path.join(\n",
    "        svm_dir,\n",
    "        f\"classifier_{r}.joblib\",\n",
    "    )\n",
    "\n",
    "    subset = subset[subset[\"label\"].isin({\"positive\", \"negative\"})]\n",
    "    subset = subset.drop(columns=list(UNUSED_COLUMNS), errors=\"ignore\")\n",
    "    print(subset.groupby(\"label\").size())\n",
    "    x_svm_subset = subset.drop(columns=\"label\")\n",
    "    y_svm_subset = subset[\"label\"].replace({\"positive\": 1, \"negative\": 0})\n",
    "\n",
    "    svm_model_subset = clone(svm_model)\n",
    "    t0 = time.time()\n",
    "    svm_model_subset.fit(x_svm_subset, y_svm_subset)\n",
    "    dump(svm_model_subset, output_subset, compress=True)\n",
    "    duration = timedelta(seconds=time.time() - t0)\n",
    "    print(f\"Model training time: {duration}\")\n",
    "\n",
    "    print(\"\")\n"
   ]
  },
  {
   "cell_type": "code",
   "execution_count": null,
   "id": "f744bcac",
   "metadata": {
    "papermill": {
     "duration": 0.003824,
     "end_time": "2024-09-24T04:23:36.604442",
     "exception": false,
     "start_time": "2024-09-24T04:23:36.600618",
     "status": "completed"
    },
    "tags": []
   },
   "outputs": [],
   "source": []
  }
 ],
 "metadata": {
  "kernelspec": {
   "display_name": "datamining",
   "language": "python",
   "name": "python3"
  },
  "language_info": {
   "codemirror_mode": {
    "name": "ipython",
    "version": 3
   },
   "file_extension": ".py",
   "mimetype": "text/x-python",
   "name": "python",
   "nbconvert_exporter": "python",
   "pygments_lexer": "ipython3",
   "version": "3.12.5"
  },
  "papermill": {
   "default_parameters": {},
   "duration": 21.964291,
   "end_time": "2024-09-24T04:23:39.226221",
   "environment_variables": {},
   "exception": null,
   "input_path": "01-create_classifiers.ipynb",
   "output_path": "01-create_classifiers.ipynb",
   "parameters": {},
   "start_time": "2024-09-24T04:23:17.261930",
   "version": "2.4.0"
  }
 },
 "nbformat": 4,
 "nbformat_minor": 5
}