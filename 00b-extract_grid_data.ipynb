{
 "cells": [
  {
   "cell_type": "code",
   "execution_count": 1,
   "id": "7064cd0e",
   "metadata": {
    "execution": {
     "iopub.execute_input": "2024-09-17T07:51:45.312719Z",
     "iopub.status.busy": "2024-09-17T07:51:45.312448Z",
     "iopub.status.idle": "2024-09-17T07:51:49.084051Z",
     "shell.execute_reply": "2024-09-17T07:51:49.083477Z"
    },
    "papermill": {
     "duration": 3.778893,
     "end_time": "2024-09-17T07:51:49.085786",
     "exception": false,
     "start_time": "2024-09-17T07:51:45.306893",
     "status": "completed"
    },
    "tags": []
   },
   "outputs": [
    {
     "name": "stdout",
     "output_type": "stream",
     "text": [
      "env: PYTHONWARNINGS=ignore::UserWarning\n"
     ]
    }
   ],
   "source": [
    "import glob\n",
    "import os\n",
    "import warnings\n",
    "\n",
    "import pandas as pd\n",
    "from gplately.tools import plate_isotherm_depth\n",
    "\n",
    "from lib.check_files import (\n",
    "    check_plate_model,\n",
    "    check_source_data,\n",
    ")\n",
    "from lib.coregister_combined_point_data import run_coregister_combined_point_data\n",
    "from lib.coregister_crustal_thickness import run_coregister_crustal_thickness\n",
    "from lib.coregister_magnetic import coregister_magnetic\n",
    "from lib.erodep import calculate_erodep\n",
    "from lib.misc import (\n",
    "    calculate_slab_flux,\n",
    "    calculate_water_thickness,\n",
    ")\n",
    "from lib.pu import generate_grid_points\n",
    "from lib.slab_dip import calculate_slab_dip\n",
    "\n",
    "# Suppress occasional joblib warnings\n",
    "%env PYTHONWARNINGS=ignore::UserWarning\n",
    "\n",
    "warnings.simplefilter(\"ignore\", UserWarning)\n"
   ]
  },
  {
   "cell_type": "code",
   "execution_count": 2,
   "id": "b9df0e9a",
   "metadata": {
    "execution": {
     "iopub.execute_input": "2024-09-17T07:51:49.092716Z",
     "iopub.status.busy": "2024-09-17T07:51:49.092466Z",
     "iopub.status.idle": "2024-09-17T07:51:49.095732Z",
     "shell.execute_reply": "2024-09-17T07:51:49.094992Z"
    },
    "papermill": {
     "duration": 0.008339,
     "end_time": "2024-09-17T07:51:49.097284",
     "exception": false,
     "start_time": "2024-09-17T07:51:49.088945",
     "status": "completed"
    },
    "tags": []
   },
   "outputs": [],
   "source": [
    "n_jobs = int(os.environ.get(\"N_JOBS\", 8))\n",
    "times = range(171)\n",
    "verbose = False\n",
    "\n",
    "grid_resolution = 0.5  # degrees\n"
   ]
  },
  {
   "cell_type": "code",
   "execution_count": 3,
   "id": "77b83aff",
   "metadata": {
    "execution": {
     "iopub.execute_input": "2024-09-17T07:51:49.103481Z",
     "iopub.status.busy": "2024-09-17T07:51:49.103256Z",
     "iopub.status.idle": "2024-09-17T07:51:49.109576Z",
     "shell.execute_reply": "2024-09-17T07:51:49.109157Z"
    },
    "papermill": {
     "duration": 0.011105,
     "end_time": "2024-09-17T07:51:49.111020",
     "exception": false,
     "start_time": "2024-09-17T07:51:49.099915",
     "status": "completed"
    },
    "tags": []
   },
   "outputs": [],
   "source": [
    "model_dir = \"plate_model\"\n",
    "check_plate_model(model_dir, verbose=verbose)\n",
    "\n",
    "data_dir = \"source_data\"\n",
    "check_source_data(data_dir, verbose=verbose)\n",
    "agegrid_dir = os.path.join(data_dir, \"AgeGrids\")\n",
    "sedthick_dir = os.path.join(data_dir, \"SedimentThickness\")\n",
    "carbonate_dir = os.path.join(data_dir, \"CarbonateThickness\")\n",
    "co2_dir = os.path.join(data_dir, \"CrustalCO2\")\n",
    "crustal_thickness_dir = os.path.join(data_dir, \"CrustalThickness\")\n",
    "mag_anomaly_filename = os.path.join(\n",
    "    data_dir,\n",
    "    \"MagneticAnomaly\",\n",
    "    \"emag2_upcont_interpolated.nc\",\n",
    ")\n",
    "subducted_quantities_dir = os.path.join(\n",
    "    data_dir,\n",
    "    \"SubductedQuantities\",\n",
    ")\n",
    "erodep_dir = os.path.join(data_dir, \"ErosionDeposition\")\n",
    "\n",
    "output_dir = \"extracted_data\"\n",
    "os.makedirs(output_dir, exist_ok=True)\n",
    "subduction_data_filename = os.path.join(output_dir, \"subducting_plate_data.csv\")\n",
    "study_area_dir = os.path.join(output_dir, \"study_area_polygons\")\n",
    "grid_filename = None\n",
    "coregistered_filename = None\n",
    "output_filename = os.path.join(output_dir, \"grid_data.csv\")\n",
    "\n",
    "feature_filenames = glob.glob(\n",
    "    os.path.join(\n",
    "        model_dir,\n",
    "        \"*.gpml\",\n",
    "    )\n",
    ")\n",
    "rotation_filenames = glob.glob(\n",
    "    os.path.join(\n",
    "        model_dir,\n",
    "        \"*.rot\",\n",
    "    )\n",
    ")\n"
   ]
  },
  {
   "attachments": {},
   "cell_type": "markdown",
   "id": "eb746f63",
   "metadata": {
    "papermill": {
     "duration": 0.002364,
     "end_time": "2024-09-17T07:51:49.115708",
     "exception": false,
     "start_time": "2024-09-17T07:51:49.113344",
     "status": "completed"
    },
    "tags": []
   },
   "source": [
    "### Generate grid points"
   ]
  },
  {
   "cell_type": "code",
   "execution_count": 4,
   "id": "c7415048",
   "metadata": {
    "execution": {
     "iopub.execute_input": "2024-09-17T07:51:49.123943Z",
     "iopub.status.busy": "2024-09-17T07:51:49.123640Z",
     "iopub.status.idle": "2024-09-17T08:09:25.967860Z",
     "shell.execute_reply": "2024-09-17T08:09:25.966969Z"
    },
    "papermill": {
     "duration": 1056.85019,
     "end_time": "2024-09-17T08:09:25.969827",
     "exception": false,
     "start_time": "2024-09-17T07:51:49.119637",
     "status": "completed"
    },
    "tags": []
   },
   "outputs": [],
   "source": [
    "grid_data = generate_grid_points(\n",
    "    times=times,\n",
    "    resolution=grid_resolution,\n",
    "    polygons_dir=study_area_dir,\n",
    "    topological_features=feature_filenames,\n",
    "    rotation_model=rotation_filenames,\n",
    "    n_jobs=n_jobs,\n",
    "    verbose=verbose,\n",
    ")\n"
   ]
  },
  {
   "cell_type": "code",
   "execution_count": 5,
   "id": "42851c3c",
   "metadata": {
    "execution": {
     "iopub.execute_input": "2024-09-17T08:09:25.979215Z",
     "iopub.status.busy": "2024-09-17T08:09:25.978926Z",
     "iopub.status.idle": "2024-09-17T08:09:25.982067Z",
     "shell.execute_reply": "2024-09-17T08:09:25.981540Z"
    },
    "papermill": {
     "duration": 0.00916,
     "end_time": "2024-09-17T08:09:25.983704",
     "exception": false,
     "start_time": "2024-09-17T08:09:25.974544",
     "status": "completed"
    },
    "tags": []
   },
   "outputs": [],
   "source": [
    "if grid_filename is not None:\n",
    "    grid_data.to_csv(grid_filename, index=False)\n"
   ]
  },
  {
   "attachments": {},
   "cell_type": "markdown",
   "id": "0e2ba866",
   "metadata": {
    "papermill": {
     "duration": 0.002716,
     "end_time": "2024-09-17T08:09:25.989098",
     "exception": false,
     "start_time": "2024-09-17T08:09:25.986382",
     "status": "completed"
    },
    "tags": []
   },
   "source": [
    "### Load subduction data"
   ]
  },
  {
   "cell_type": "code",
   "execution_count": 6,
   "id": "7c03c5a2",
   "metadata": {
    "execution": {
     "iopub.execute_input": "2024-09-17T08:09:25.996243Z",
     "iopub.status.busy": "2024-09-17T08:09:25.996017Z",
     "iopub.status.idle": "2024-09-17T08:09:50.675665Z",
     "shell.execute_reply": "2024-09-17T08:09:50.674832Z"
    },
    "papermill": {
     "duration": 24.685947,
     "end_time": "2024-09-17T08:09:50.677700",
     "exception": false,
     "start_time": "2024-09-17T08:09:25.991753",
     "status": "completed"
    },
    "tags": []
   },
   "outputs": [],
   "source": [
    "subduction_data = pd.read_csv(subduction_data_filename)\n",
    "subduction_data[\"plate_thickness (m)\"] = plate_isotherm_depth(\n",
    "    subduction_data[\"seafloor_age (Ma)\"],\n",
    "    maxiter=100,\n",
    ")\n",
    "subduction_data = calculate_water_thickness(subduction_data)\n",
    "subduction_data = calculate_slab_flux(subduction_data)\n",
    "subduction_data = calculate_slab_dip(subduction_data)\n"
   ]
  },
  {
   "attachments": {},
   "cell_type": "markdown",
   "id": "cafffa14",
   "metadata": {
    "papermill": {
     "duration": 0.003344,
     "end_time": "2024-09-17T08:09:50.685701",
     "exception": false,
     "start_time": "2024-09-17T08:09:50.682357",
     "status": "completed"
    },
    "tags": []
   },
   "source": [
    "### Assign subduction data to grid"
   ]
  },
  {
   "cell_type": "code",
   "execution_count": 7,
   "id": "fbadac30",
   "metadata": {
    "execution": {
     "iopub.execute_input": "2024-09-17T08:09:50.693383Z",
     "iopub.status.busy": "2024-09-17T08:09:50.693101Z",
     "iopub.status.idle": "2024-09-17T08:16:10.574416Z",
     "shell.execute_reply": "2024-09-17T08:16:10.573738Z"
    },
    "papermill": {
     "duration": 379.887753,
     "end_time": "2024-09-17T08:16:10.576545",
     "exception": false,
     "start_time": "2024-09-17T08:09:50.688792",
     "status": "completed"
    },
    "tags": []
   },
   "outputs": [],
   "source": [
    "coregistered_data = run_coregister_combined_point_data(\n",
    "    point_data=grid_data,\n",
    "    subduction_data=subduction_data,\n",
    "    n_jobs=n_jobs,\n",
    "    verbose=verbose,\n",
    "    output_filename=coregistered_filename,\n",
    ")\n"
   ]
  },
  {
   "attachments": {},
   "cell_type": "markdown",
   "id": "6c7067fe",
   "metadata": {
    "papermill": {
     "duration": 0.003131,
     "end_time": "2024-09-17T08:16:10.585461",
     "exception": false,
     "start_time": "2024-09-17T08:16:10.582330",
     "status": "completed"
    },
    "tags": []
   },
   "source": [
    "### Assign magnetic anomaly and crustal thickness data to grid"
   ]
  },
  {
   "cell_type": "code",
   "execution_count": 8,
   "id": "317048a8",
   "metadata": {
    "execution": {
     "iopub.execute_input": "2024-09-17T08:16:10.591830Z",
     "iopub.status.busy": "2024-09-17T08:16:10.591580Z",
     "iopub.status.idle": "2024-09-17T08:29:00.888216Z",
     "shell.execute_reply": "2024-09-17T08:29:00.887614Z"
    },
    "papermill": {
     "duration": 770.302123,
     "end_time": "2024-09-17T08:29:00.890277",
     "exception": false,
     "start_time": "2024-09-17T08:16:10.588154",
     "status": "completed"
    },
    "tags": []
   },
   "outputs": [],
   "source": [
    "coregistered_data = run_coregister_crustal_thickness(\n",
    "    point_data=coregistered_data,\n",
    "    input_dir=crustal_thickness_dir,\n",
    "    n_jobs=n_jobs,\n",
    "    verbose=verbose,\n",
    ")\n",
    "coregistered_data = coregister_magnetic(\n",
    "    data=coregistered_data,\n",
    "    filename=mag_anomaly_filename,\n",
    "    n_jobs=n_jobs,\n",
    ")\n"
   ]
  },
  {
   "cell_type": "markdown",
   "id": "3067ae47",
   "metadata": {
    "papermill": {
     "duration": 0.003271,
     "end_time": "2024-09-17T08:29:00.896733",
     "exception": false,
     "start_time": "2024-09-17T08:29:00.893462",
     "status": "completed"
    },
    "tags": []
   },
   "source": [
    "### Calculate cumulative erosion"
   ]
  },
  {
   "cell_type": "code",
   "execution_count": 9,
   "id": "a90d7da4",
   "metadata": {
    "execution": {
     "iopub.execute_input": "2024-09-17T08:29:00.903337Z",
     "iopub.status.busy": "2024-09-17T08:29:00.903084Z",
     "iopub.status.idle": "2024-09-17T08:40:00.797446Z",
     "shell.execute_reply": "2024-09-17T08:40:00.796756Z"
    },
    "papermill": {
     "duration": 659.900042,
     "end_time": "2024-09-17T08:40:00.799540",
     "exception": false,
     "start_time": "2024-09-17T08:29:00.899498",
     "status": "completed"
    },
    "tags": []
   },
   "outputs": [],
   "source": [
    "coregistered_data = calculate_erodep(\n",
    "    coregistered_data,\n",
    "    input_dir=erodep_dir,\n",
    "    n_jobs=n_jobs,\n",
    "    column_name=\"erosion (m)\",\n",
    "    verbose=verbose,\n",
    ")\n"
   ]
  },
  {
   "cell_type": "markdown",
   "id": "48e28940",
   "metadata": {
    "papermill": {
     "duration": 0.003147,
     "end_time": "2024-09-17T08:40:00.806302",
     "exception": false,
     "start_time": "2024-09-17T08:40:00.803155",
     "status": "completed"
    },
    "tags": []
   },
   "source": [
    "### Save to file"
   ]
  },
  {
   "cell_type": "code",
   "execution_count": 10,
   "id": "333c91a8",
   "metadata": {
    "execution": {
     "iopub.execute_input": "2024-09-17T08:40:00.812901Z",
     "iopub.status.busy": "2024-09-17T08:40:00.812648Z",
     "iopub.status.idle": "2024-09-17T08:43:08.755424Z",
     "shell.execute_reply": "2024-09-17T08:43:08.754755Z"
    },
    "papermill": {
     "duration": 187.948001,
     "end_time": "2024-09-17T08:43:08.757188",
     "exception": false,
     "start_time": "2024-09-17T08:40:00.809187",
     "status": "completed"
    },
    "tags": []
   },
   "outputs": [],
   "source": [
    "coregistered_data.to_csv(output_filename, index=False)\n"
   ]
  },
  {
   "cell_type": "code",
   "execution_count": null,
   "id": "b51b394a",
   "metadata": {
    "papermill": {
     "duration": 0.002597,
     "end_time": "2024-09-17T08:43:08.762579",
     "exception": false,
     "start_time": "2024-09-17T08:43:08.759982",
     "status": "completed"
    },
    "tags": []
   },
   "outputs": [],
   "source": []
  }
 ],
 "metadata": {
  "kernelspec": {
   "display_name": "datamining",
   "language": "python",
   "name": "python3"
  },
  "language_info": {
   "codemirror_mode": {
    "name": "ipython",
    "version": 3
   },
   "file_extension": ".py",
   "mimetype": "text/x-python",
   "name": "python",
   "nbconvert_exporter": "python",
   "pygments_lexer": "ipython3",
   "version": "3.12.5"
  },
  "papermill": {
   "default_parameters": {},
   "duration": 3088.007103,
   "end_time": "2024-09-17T08:43:11.893420",
   "environment_variables": {},
   "exception": null,
   "input_path": "00b-extract_grid_data.ipynb",
   "output_path": "00b-extract_grid_data.ipynb",
   "parameters": {},
   "start_time": "2024-09-17T07:51:43.886317",
   "version": "2.4.0"
  }
 },
 "nbformat": 4,
 "nbformat_minor": 5
}