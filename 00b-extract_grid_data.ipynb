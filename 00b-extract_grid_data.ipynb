{
 "cells": [
  {
   "cell_type": "code",
   "execution_count": 1,
   "id": "7064cd0e",
   "metadata": {
    "execution": {
     "iopub.execute_input": "2023-12-02T08:54:59.018924Z",
     "iopub.status.busy": "2023-12-02T08:54:59.018220Z",
     "iopub.status.idle": "2023-12-02T08:55:00.749760Z",
     "shell.execute_reply": "2023-12-02T08:55:00.749028Z"
    },
    "papermill": {
     "duration": 1.737806,
     "end_time": "2023-12-02T08:55:00.751341",
     "exception": false,
     "start_time": "2023-12-02T08:54:59.013535",
     "status": "completed"
    },
    "tags": []
   },
   "outputs": [
    {
     "name": "stdout",
     "output_type": "stream",
     "text": [
      "env: PYTHONWARNINGS=ignore::UserWarning\n"
     ]
    }
   ],
   "source": [
    "import glob\n",
    "import os\n",
    "import warnings\n",
    "\n",
    "import pandas as pd\n",
    "from gplately.tools import plate_isotherm_depth\n",
    "\n",
    "from lib.check_files import (\n",
    "    check_plate_model,\n",
    "    check_source_data,\n",
    ")\n",
    "from lib.coregister_combined_point_data import run_coregister_combined_point_data\n",
    "from lib.coregister_crustal_thickness import run_coregister_crustal_thickness\n",
    "from lib.coregister_magnetic import coregister_magnetic\n",
    "from lib.erodep import calculate_erodep\n",
    "from lib.misc import (\n",
    "    calculate_slab_flux,\n",
    "    calculate_water_thickness,\n",
    ")\n",
    "from lib.pu import generate_grid_points\n",
    "from lib.slab_dip import calculate_slab_dip\n",
    "\n",
    "# Suppress occasional joblib warnings\n",
    "%env PYTHONWARNINGS=ignore::UserWarning\n",
    "\n",
    "warnings.simplefilter(\"ignore\", UserWarning)\n"
   ]
  },
  {
   "cell_type": "code",
   "execution_count": 2,
   "id": "b9df0e9a",
   "metadata": {
    "execution": {
     "iopub.execute_input": "2023-12-02T08:55:00.759856Z",
     "iopub.status.busy": "2023-12-02T08:55:00.759702Z",
     "iopub.status.idle": "2023-12-02T08:55:00.762961Z",
     "shell.execute_reply": "2023-12-02T08:55:00.762328Z"
    },
    "papermill": {
     "duration": 0.00914,
     "end_time": "2023-12-02T08:55:00.764457",
     "exception": false,
     "start_time": "2023-12-02T08:55:00.755317",
     "status": "completed"
    },
    "tags": []
   },
   "outputs": [],
   "source": [
    "n_jobs = int(os.environ.get(\"N_JOBS\", 8))\n",
    "times = range(171)\n",
    "verbose = False\n",
    "\n",
    "grid_resolution = 0.5  # degrees\n"
   ]
  },
  {
   "cell_type": "code",
   "execution_count": 3,
   "id": "77b83aff",
   "metadata": {
    "execution": {
     "iopub.execute_input": "2023-12-02T08:55:00.772749Z",
     "iopub.status.busy": "2023-12-02T08:55:00.772592Z",
     "iopub.status.idle": "2023-12-02T08:55:00.778809Z",
     "shell.execute_reply": "2023-12-02T08:55:00.778166Z"
    },
    "papermill": {
     "duration": 0.012418,
     "end_time": "2023-12-02T08:55:00.780440",
     "exception": false,
     "start_time": "2023-12-02T08:55:00.768022",
     "status": "completed"
    },
    "tags": []
   },
   "outputs": [],
   "source": [
    "model_dir = \"plate_model\"\n",
    "check_plate_model(model_dir, verbose=verbose)\n",
    "\n",
    "data_dir = \"source_data\"\n",
    "check_source_data(data_dir, verbose=verbose)\n",
    "agegrid_dir = os.path.join(data_dir, \"AgeGrids\")\n",
    "sedthick_dir = os.path.join(data_dir, \"SedimentThickness\")\n",
    "carbonate_dir = os.path.join(data_dir, \"CarbonateThickness\")\n",
    "co2_dir = os.path.join(data_dir, \"CrustalCO2\")\n",
    "crustal_thickness_dir = os.path.join(data_dir, \"CrustalThickness\")\n",
    "mag_anomaly_filename = os.path.join(\n",
    "    data_dir,\n",
    "    \"MagneticAnomaly\",\n",
    "    \"emag2_upcont_interpolated.nc\",\n",
    ")\n",
    "subducted_quantities_dir = os.path.join(\n",
    "    data_dir,\n",
    "    \"SubductedQuantities\",\n",
    ")\n",
    "erodep_dir = os.path.join(data_dir, \"ErosionDeposition\")\n",
    "\n",
    "output_dir = \"extracted_data\"\n",
    "os.makedirs(output_dir, exist_ok=True)\n",
    "subduction_data_filename = os.path.join(output_dir, \"subducting_plate_data.csv\")\n",
    "study_area_dir = os.path.join(output_dir, \"study_area_polygons\")\n",
    "grid_filename = None\n",
    "coregistered_filename = None\n",
    "output_filename = os.path.join(output_dir, \"grid_data.csv\")\n",
    "\n",
    "feature_filenames = glob.glob(\n",
    "    os.path.join(\n",
    "        model_dir,\n",
    "        \"*.gpml\",\n",
    "    )\n",
    ")\n",
    "rotation_filenames = glob.glob(\n",
    "    os.path.join(\n",
    "        model_dir,\n",
    "        \"*.rot\",\n",
    "    )\n",
    ")\n"
   ]
  },
  {
   "attachments": {},
   "cell_type": "markdown",
   "id": "eb746f63",
   "metadata": {
    "papermill": {
     "duration": 0.003561,
     "end_time": "2023-12-02T08:55:00.787648",
     "exception": false,
     "start_time": "2023-12-02T08:55:00.784087",
     "status": "completed"
    },
    "tags": []
   },
   "source": [
    "### Generate grid points"
   ]
  },
  {
   "cell_type": "code",
   "execution_count": 4,
   "id": "c7415048",
   "metadata": {
    "execution": {
     "iopub.execute_input": "2023-12-02T08:55:00.795748Z",
     "iopub.status.busy": "2023-12-02T08:55:00.795605Z",
     "iopub.status.idle": "2023-12-02T09:12:43.645060Z",
     "shell.execute_reply": "2023-12-02T09:12:43.644324Z"
    },
    "papermill": {
     "duration": 1062.855742,
     "end_time": "2023-12-02T09:12:43.646960",
     "exception": false,
     "start_time": "2023-12-02T08:55:00.791218",
     "status": "completed"
    },
    "tags": []
   },
   "outputs": [],
   "source": [
    "grid_data = generate_grid_points(\n",
    "    times=times,\n",
    "    resolution=grid_resolution,\n",
    "    polygons_dir=study_area_dir,\n",
    "    topological_features=feature_filenames,\n",
    "    rotation_model=rotation_filenames,\n",
    "    n_jobs=n_jobs,\n",
    "    verbose=verbose,\n",
    ")\n"
   ]
  },
  {
   "cell_type": "code",
   "execution_count": 5,
   "id": "42851c3c",
   "metadata": {
    "execution": {
     "iopub.execute_input": "2023-12-02T09:12:43.657008Z",
     "iopub.status.busy": "2023-12-02T09:12:43.656835Z",
     "iopub.status.idle": "2023-12-02T09:12:43.659624Z",
     "shell.execute_reply": "2023-12-02T09:12:43.659235Z"
    },
    "papermill": {
     "duration": 0.009109,
     "end_time": "2023-12-02T09:12:43.661101",
     "exception": false,
     "start_time": "2023-12-02T09:12:43.651992",
     "status": "completed"
    },
    "tags": []
   },
   "outputs": [],
   "source": [
    "if grid_filename is not None:\n",
    "    grid_data.to_csv(grid_filename, index=False)\n"
   ]
  },
  {
   "attachments": {},
   "cell_type": "markdown",
   "id": "0e2ba866",
   "metadata": {
    "papermill": {
     "duration": 0.003671,
     "end_time": "2023-12-02T09:12:43.668541",
     "exception": false,
     "start_time": "2023-12-02T09:12:43.664870",
     "status": "completed"
    },
    "tags": []
   },
   "source": [
    "### Load subduction data"
   ]
  },
  {
   "cell_type": "code",
   "execution_count": 6,
   "id": "7c03c5a2",
   "metadata": {
    "execution": {
     "iopub.execute_input": "2023-12-02T09:12:43.677171Z",
     "iopub.status.busy": "2023-12-02T09:12:43.677023Z",
     "iopub.status.idle": "2023-12-02T09:13:12.725775Z",
     "shell.execute_reply": "2023-12-02T09:13:12.725024Z"
    },
    "papermill": {
     "duration": 29.054634,
     "end_time": "2023-12-02T09:13:12.727157",
     "exception": false,
     "start_time": "2023-12-02T09:12:43.672523",
     "status": "completed"
    },
    "tags": []
   },
   "outputs": [],
   "source": [
    "subduction_data = pd.read_csv(subduction_data_filename)\n",
    "subduction_data[\"plate_thickness (m)\"] = plate_isotherm_depth(\n",
    "    subduction_data[\"seafloor_age (Ma)\"],\n",
    "    maxiter=100,\n",
    ")\n",
    "subduction_data = calculate_water_thickness(subduction_data)\n",
    "subduction_data = calculate_slab_flux(subduction_data)\n",
    "subduction_data = calculate_slab_dip(subduction_data)\n"
   ]
  },
  {
   "attachments": {},
   "cell_type": "markdown",
   "id": "cafffa14",
   "metadata": {
    "papermill": {
     "duration": 0.002106,
     "end_time": "2023-12-02T09:13:12.731828",
     "exception": false,
     "start_time": "2023-12-02T09:13:12.729722",
     "status": "completed"
    },
    "tags": []
   },
   "source": [
    "### Assign subduction data to grid"
   ]
  },
  {
   "cell_type": "code",
   "execution_count": 7,
   "id": "fbadac30",
   "metadata": {
    "execution": {
     "iopub.execute_input": "2023-12-02T09:13:12.736987Z",
     "iopub.status.busy": "2023-12-02T09:13:12.736810Z",
     "iopub.status.idle": "2023-12-02T09:18:04.210528Z",
     "shell.execute_reply": "2023-12-02T09:18:04.209751Z"
    },
    "papermill": {
     "duration": 291.478773,
     "end_time": "2023-12-02T09:18:04.212655",
     "exception": false,
     "start_time": "2023-12-02T09:13:12.733882",
     "status": "completed"
    },
    "tags": []
   },
   "outputs": [],
   "source": [
    "coregistered_data = run_coregister_combined_point_data(\n",
    "    point_data=grid_data,\n",
    "    subduction_data=subduction_data,\n",
    "    n_jobs=n_jobs,\n",
    "    verbose=verbose,\n",
    "    output_filename=coregistered_filename,\n",
    ")\n"
   ]
  },
  {
   "attachments": {},
   "cell_type": "markdown",
   "id": "6c7067fe",
   "metadata": {
    "papermill": {
     "duration": 0.004184,
     "end_time": "2023-12-02T09:18:04.221616",
     "exception": false,
     "start_time": "2023-12-02T09:18:04.217432",
     "status": "completed"
    },
    "tags": []
   },
   "source": [
    "### Assign magnetic anomaly and crustal thickness data to grid"
   ]
  },
  {
   "cell_type": "code",
   "execution_count": 8,
   "id": "317048a8",
   "metadata": {
    "execution": {
     "iopub.execute_input": "2023-12-02T09:18:04.230942Z",
     "iopub.status.busy": "2023-12-02T09:18:04.230749Z",
     "iopub.status.idle": "2023-12-02T09:30:38.532920Z",
     "shell.execute_reply": "2023-12-02T09:30:38.532101Z"
    },
    "papermill": {
     "duration": 754.309365,
     "end_time": "2023-12-02T09:30:38.535063",
     "exception": false,
     "start_time": "2023-12-02T09:18:04.225698",
     "status": "completed"
    },
    "tags": []
   },
   "outputs": [],
   "source": [
    "coregistered_data = run_coregister_crustal_thickness(\n",
    "    point_data=coregistered_data,\n",
    "    input_dir=crustal_thickness_dir,\n",
    "    n_jobs=n_jobs,\n",
    "    verbose=verbose,\n",
    ")\n",
    "coregistered_data = coregister_magnetic(\n",
    "    data=coregistered_data,\n",
    "    filename=mag_anomaly_filename,\n",
    "    n_jobs=n_jobs,\n",
    ")\n"
   ]
  },
  {
   "cell_type": "markdown",
   "id": "3067ae47",
   "metadata": {
    "papermill": {
     "duration": 0.004145,
     "end_time": "2023-12-02T09:30:38.543926",
     "exception": false,
     "start_time": "2023-12-02T09:30:38.539781",
     "status": "completed"
    },
    "tags": []
   },
   "source": [
    "### Calculate cumulative erosion"
   ]
  },
  {
   "cell_type": "code",
   "execution_count": 9,
   "id": "a90d7da4",
   "metadata": {
    "execution": {
     "iopub.execute_input": "2023-12-02T09:30:38.553025Z",
     "iopub.status.busy": "2023-12-02T09:30:38.552837Z",
     "iopub.status.idle": "2023-12-02T09:46:59.568305Z",
     "shell.execute_reply": "2023-12-02T09:46:59.567533Z"
    },
    "papermill": {
     "duration": 981.022614,
     "end_time": "2023-12-02T09:46:59.570586",
     "exception": false,
     "start_time": "2023-12-02T09:30:38.547972",
     "status": "completed"
    },
    "tags": []
   },
   "outputs": [],
   "source": [
    "coregistered_data = calculate_erodep(\n",
    "    coregistered_data,\n",
    "    input_dir=erodep_dir,\n",
    "    n_jobs=n_jobs,\n",
    "    column_name=\"erosion (m)\",\n",
    "    verbose=verbose,\n",
    ")\n"
   ]
  },
  {
   "cell_type": "markdown",
   "id": "48e28940",
   "metadata": {
    "papermill": {
     "duration": 0.004201,
     "end_time": "2023-12-02T09:46:59.579820",
     "exception": false,
     "start_time": "2023-12-02T09:46:59.575619",
     "status": "completed"
    },
    "tags": []
   },
   "source": [
    "### Save to file"
   ]
  },
  {
   "cell_type": "code",
   "execution_count": 10,
   "id": "333c91a8",
   "metadata": {
    "execution": {
     "iopub.execute_input": "2023-12-02T09:46:59.589469Z",
     "iopub.status.busy": "2023-12-02T09:46:59.589290Z",
     "iopub.status.idle": "2023-12-02T09:49:19.329227Z",
     "shell.execute_reply": "2023-12-02T09:49:19.328463Z"
    },
    "papermill": {
     "duration": 139.747135,
     "end_time": "2023-12-02T09:49:19.331271",
     "exception": false,
     "start_time": "2023-12-02T09:46:59.584136",
     "status": "completed"
    },
    "tags": []
   },
   "outputs": [],
   "source": [
    "coregistered_data.to_csv(output_filename, index=False)\n"
   ]
  },
  {
   "cell_type": "code",
   "execution_count": null,
   "id": "b51b394a",
   "metadata": {
    "papermill": {
     "duration": 0.004196,
     "end_time": "2023-12-02T09:49:19.351444",
     "exception": false,
     "start_time": "2023-12-02T09:49:19.347248",
     "status": "completed"
    },
    "tags": []
   },
   "outputs": [],
   "source": []
  }
 ],
 "metadata": {
  "kernelspec": {
   "display_name": "datamining",
   "language": "python",
   "name": "python3"
  },
  "language_info": {
   "codemirror_mode": {
    "name": "ipython",
    "version": 3
   },
   "file_extension": ".py",
   "mimetype": "text/x-python",
   "name": "python",
   "nbconvert_exporter": "python",
   "pygments_lexer": "ipython3",
   "version": "3.11.6"
  },
  "papermill": {
   "default_parameters": {},
   "duration": 3264.385669,
   "end_time": "2023-12-02T09:49:22.677949",
   "environment_variables": {},
   "exception": null,
   "input_path": "00b-extract_grid_data.ipynb",
   "output_path": "00b-extract_grid_data_output.ipynb",
   "parameters": {},
   "start_time": "2023-12-02T08:54:58.292280",
   "version": "2.4.0"
  }
 },
 "nbformat": 4,
 "nbformat_minor": 5
}