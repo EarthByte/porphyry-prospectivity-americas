{
 "cells": [
  {
   "cell_type": "code",
   "execution_count": 1,
   "id": "416d11e4",
   "metadata": {
    "execution": {
     "iopub.execute_input": "2024-09-19T02:28:37.078056Z",
     "iopub.status.busy": "2024-09-19T02:28:37.077718Z",
     "iopub.status.idle": "2024-09-19T02:29:11.244360Z",
     "shell.execute_reply": "2024-09-19T02:29:11.243789Z"
    },
    "papermill": {
     "duration": 34.179041,
     "end_time": "2024-09-19T02:29:11.249187",
     "exception": false,
     "start_time": "2024-09-19T02:28:37.070146",
     "status": "completed"
    },
    "tags": []
   },
   "outputs": [
    {
     "name": "stdout",
     "output_type": "stream",
     "text": [
      "env: PYTHONWARNINGS=ignore::UserWarning\n"
     ]
    }
   ],
   "source": [
    "import glob\n",
    "import os\n",
    "import tempfile\n",
    "import warnings\n",
    "\n",
    "import geopandas as gpd\n",
    "from gplately.tools import plate_isotherm_depth\n",
    "\n",
    "from lib.assign_regions import assign_regions\n",
    "from lib.calculate_convergence import run_calculate_convergence\n",
    "from lib.check_files import (\n",
    "    check_source_data,\n",
    "    check_plate_model,\n",
    ")\n",
    "from lib.combine_point_data import combine_point_data\n",
    "from lib.coregister_combined_point_data import run_coregister_combined_point_data\n",
    "from lib.coregister_crustal_thickness import run_coregister_crustal_thickness\n",
    "from lib.coregister_magnetic import coregister_magnetic\n",
    "from lib.coregister_ocean_rasters import run_coregister_ocean_rasters\n",
    "from lib.create_study_area_polygons import run_create_study_area_polygons\n",
    "from lib.erodep import calculate_erodep\n",
    "from lib.generate_unlabelled_points import generate_unlabelled_points\n",
    "from lib.misc import (\n",
    "    calculate_slab_flux,\n",
    "    calculate_water_thickness,\n",
    ")\n",
    "from lib.slab_dip import calculate_slab_dip\n",
    "\n",
    "# Suppress occasional joblib warnings\n",
    "%env PYTHONWARNINGS=ignore::UserWarning\n",
    "\n",
    "warnings.simplefilter(\"ignore\", UserWarning)\n"
   ]
  },
  {
   "cell_type": "code",
   "execution_count": 2,
   "id": "24504d52",
   "metadata": {
    "execution": {
     "iopub.execute_input": "2024-09-19T02:29:11.256966Z",
     "iopub.status.busy": "2024-09-19T02:29:11.256704Z",
     "iopub.status.idle": "2024-09-19T02:29:11.260088Z",
     "shell.execute_reply": "2024-09-19T02:29:11.259552Z"
    },
    "papermill": {
     "duration": 0.008563,
     "end_time": "2024-09-19T02:29:11.261345",
     "exception": false,
     "start_time": "2024-09-19T02:29:11.252782",
     "status": "completed"
    },
    "tags": []
   },
   "outputs": [],
   "source": [
    "random_seed = 1234\n",
    "\n",
    "n_jobs = int(os.environ.get(\"N_JOBS\", 8))\n",
    "times = range(171)\n",
    "verbose = False\n",
    "\n",
    "num_unlabelled = 200  # per timestep\n"
   ]
  },
  {
   "attachments": {},
   "cell_type": "markdown",
   "id": "8070f64c",
   "metadata": {
    "papermill": {
     "duration": 0.002706,
     "end_time": "2024-09-19T02:29:11.267046",
     "exception": false,
     "start_time": "2024-09-19T02:29:11.264340",
     "status": "completed"
    },
    "tags": []
   },
   "source": [
    "### Input and output files"
   ]
  },
  {
   "cell_type": "code",
   "execution_count": 3,
   "id": "8cc369d6",
   "metadata": {
    "execution": {
     "iopub.execute_input": "2024-09-19T02:29:11.273068Z",
     "iopub.status.busy": "2024-09-19T02:29:11.272842Z",
     "iopub.status.idle": "2024-09-19T02:51:56.735723Z",
     "shell.execute_reply": "2024-09-19T02:51:56.734995Z"
    },
    "papermill": {
     "duration": 1365.467598,
     "end_time": "2024-09-19T02:51:56.737290",
     "exception": false,
     "start_time": "2024-09-19T02:29:11.269692",
     "status": "completed"
    },
    "tags": []
   },
   "outputs": [],
   "source": [
    "model_dir = \"plate_model\"\n",
    "check_plate_model(model_dir, verbose=verbose)\n",
    "\n",
    "data_dir = \"source_data\"\n",
    "check_source_data(data_dir, verbose=verbose)\n",
    "deposits_filename = os.path.join(data_dir, \"deposit_data.csv\")\n",
    "regions_filename = os.path.join(data_dir, \"regions.shp\")\n",
    "agegrid_dir = os.path.join(data_dir, \"AgeGrids\")\n",
    "sedthick_dir = os.path.join(data_dir, \"SedimentThickness\")\n",
    "carbonate_dir = os.path.join(data_dir, \"CarbonateThickness\")\n",
    "co2_dir = os.path.join(data_dir, \"CrustalCO2\")\n",
    "crustal_thickness_dir = os.path.join(data_dir, \"CrustalThickness\")\n",
    "mag_anomaly_filename = os.path.join(\n",
    "    data_dir,\n",
    "    \"MagneticAnomaly\",\n",
    "    \"emag2_upcont_interpolated.nc\",\n",
    ")\n",
    "subducted_quantities_dir = os.path.join(\n",
    "    data_dir,\n",
    "    \"SubductedQuantities\",\n",
    ")\n",
    "erodep_dir = os.path.join(data_dir, \"ErosionDeposition\")\n",
    "\n",
    "output_dir = \"extracted_data\"\n",
    "os.makedirs(output_dir, exist_ok=True)\n",
    "subduction_data_filename = os.path.join(output_dir, \"subducting_plate_data.csv\")\n",
    "study_area_dir = os.path.join(output_dir, \"study_area_polygons\")\n",
    "output_filename = os.path.join(output_dir, \"training_data.csv\")\n",
    "\n",
    "feature_filenames = glob.glob(\n",
    "    os.path.join(\n",
    "        model_dir,\n",
    "        \"*.gpml\",\n",
    "    )\n",
    ")\n",
    "rotation_filenames = glob.glob(\n",
    "    os.path.join(\n",
    "        model_dir,\n",
    "        \"*.rot\",\n",
    "    )\n",
    ")\n",
    "static_polygons_filename = os.path.join(\n",
    "    model_dir,\n",
    "    \"StaticGeometries\",\n",
    "    \"StaticPolygons\",\n",
    "    \"Clennett_2020_StaticPolygons.gpml\",\n",
    ")\n"
   ]
  },
  {
   "attachments": {},
   "cell_type": "markdown",
   "id": "a45746ed",
   "metadata": {
    "papermill": {
     "duration": 0.003783,
     "end_time": "2024-09-19T02:51:56.745271",
     "exception": false,
     "start_time": "2024-09-19T02:51:56.741488",
     "status": "completed"
    },
    "tags": []
   },
   "source": [
    "### Subducting plate data"
   ]
  },
  {
   "cell_type": "code",
   "execution_count": 4,
   "id": "3e1a295a",
   "metadata": {
    "execution": {
     "iopub.execute_input": "2024-09-19T02:51:56.753702Z",
     "iopub.status.busy": "2024-09-19T02:51:56.753323Z",
     "iopub.status.idle": "2024-09-19T03:12:44.813003Z",
     "shell.execute_reply": "2024-09-19T03:12:44.811457Z"
    },
    "papermill": {
     "duration": 1248.072526,
     "end_time": "2024-09-19T03:12:44.820626",
     "exception": false,
     "start_time": "2024-09-19T02:51:56.748100",
     "status": "completed"
    },
    "tags": []
   },
   "outputs": [],
   "source": [
    "with tempfile.TemporaryDirectory() as subduction_kinematics_dir:\n",
    "    run_calculate_convergence(\n",
    "        nprocs=n_jobs,\n",
    "        min_time=min(times),\n",
    "        max_time=max(times),\n",
    "        topology_filenames=feature_filenames,\n",
    "        rotation_filenames=rotation_filenames,\n",
    "        output_dir=subduction_kinematics_dir,\n",
    "        verbose=verbose,\n",
    "    )\n",
    "\n",
    "    subduction_data = run_coregister_ocean_rasters(\n",
    "        nprocs=n_jobs,\n",
    "        times=times,\n",
    "        input_data=subduction_kinematics_dir,\n",
    "        agegrid_dir=agegrid_dir,\n",
    "        topology_features=feature_filenames,\n",
    "        rotation_model=rotation_filenames,\n",
    "        sedthick_dir=sedthick_dir,\n",
    "        carbonate_dir=carbonate_dir,\n",
    "        co2_dir=co2_dir,\n",
    "        subducted_thickness_dir=os.path.join(\n",
    "            subducted_quantities_dir,\n",
    "            \"plate_thickness\",\n",
    "        ),\n",
    "        subducted_sediments_dir=os.path.join(\n",
    "            subducted_quantities_dir,\n",
    "            \"sediment_thickness\",\n",
    "        ),\n",
    "        subducted_carbonates_dir=os.path.join(\n",
    "            subducted_quantities_dir,\n",
    "            \"carbonate_thickness\",\n",
    "        ),\n",
    "        subducted_water_dir=os.path.join(\n",
    "            subducted_quantities_dir,\n",
    "            \"water_thickness\",\n",
    "        ),\n",
    "        verbose=verbose,\n",
    "    )\n",
    "subduction_data[\"plate_thickness (m)\"] = plate_isotherm_depth(\n",
    "    subduction_data[\"seafloor_age (Ma)\"],\n",
    "    maxiter=100,\n",
    ")\n",
    "subduction_data = calculate_water_thickness(subduction_data)\n",
    "subduction_data = calculate_slab_flux(subduction_data)\n",
    "subduction_data = calculate_slab_dip(subduction_data)\n",
    "if subduction_data_filename is not None:\n",
    "    subduction_data.to_csv(subduction_data_filename, index=False)\n"
   ]
  },
  {
   "attachments": {},
   "cell_type": "markdown",
   "id": "1d88d599",
   "metadata": {
    "papermill": {
     "duration": 0.003598,
     "end_time": "2024-09-19T03:12:44.834504",
     "exception": false,
     "start_time": "2024-09-19T03:12:44.830906",
     "status": "completed"
    },
    "tags": []
   },
   "source": [
    "### Create study area polygons along subduction zones"
   ]
  },
  {
   "cell_type": "code",
   "execution_count": 5,
   "id": "6e7f3421",
   "metadata": {
    "execution": {
     "iopub.execute_input": "2024-09-19T03:12:44.844755Z",
     "iopub.status.busy": "2024-09-19T03:12:44.844437Z",
     "iopub.status.idle": "2024-09-19T03:13:59.168772Z",
     "shell.execute_reply": "2024-09-19T03:13:59.167867Z"
    },
    "papermill": {
     "duration": 74.332517,
     "end_time": "2024-09-19T03:13:59.170377",
     "exception": false,
     "start_time": "2024-09-19T03:12:44.837860",
     "status": "completed"
    },
    "tags": []
   },
   "outputs": [],
   "source": [
    "run_create_study_area_polygons(\n",
    "    nprocs=n_jobs,\n",
    "    times=times,\n",
    "    topological_features=feature_filenames,\n",
    "    rotation_model=rotation_filenames,\n",
    "    output_dir=study_area_dir,\n",
    "    verbose=verbose,\n",
    "    return_output=False,\n",
    ")\n"
   ]
  },
  {
   "attachments": {},
   "cell_type": "markdown",
   "id": "5dd1c434",
   "metadata": {
    "papermill": {
     "duration": 0.003361,
     "end_time": "2024-09-19T03:13:59.177743",
     "exception": false,
     "start_time": "2024-09-19T03:13:59.174382",
     "status": "completed"
    },
    "tags": []
   },
   "source": [
    "### Generate random unlabelled data points"
   ]
  },
  {
   "cell_type": "code",
   "execution_count": 6,
   "id": "f0eb6f15",
   "metadata": {
    "execution": {
     "iopub.execute_input": "2024-09-19T03:13:59.186890Z",
     "iopub.status.busy": "2024-09-19T03:13:59.186556Z",
     "iopub.status.idle": "2024-09-19T03:28:34.512958Z",
     "shell.execute_reply": "2024-09-19T03:28:34.511890Z"
    },
    "papermill": {
     "duration": 875.333645,
     "end_time": "2024-09-19T03:28:34.514683",
     "exception": false,
     "start_time": "2024-09-19T03:13:59.181038",
     "status": "completed"
    },
    "tags": []
   },
   "outputs": [],
   "source": [
    "unlabelled = generate_unlabelled_points(\n",
    "    times=times,\n",
    "    input_dir=study_area_dir,\n",
    "    num=num_unlabelled,\n",
    "    threads=n_jobs,\n",
    "    seed=random_seed,\n",
    "    topological_features=feature_filenames,\n",
    "    rotation_model=rotation_filenames,\n",
    "    verbose=verbose,\n",
    ")\n"
   ]
  },
  {
   "attachments": {},
   "cell_type": "markdown",
   "id": "168d3871",
   "metadata": {
    "papermill": {
     "duration": 0.004261,
     "end_time": "2024-09-19T03:28:34.524648",
     "exception": false,
     "start_time": "2024-09-19T03:28:34.520387",
     "status": "completed"
    },
    "tags": []
   },
   "source": [
    "### Combine labelled deposit/non-deposit data with random unlabelled data"
   ]
  },
  {
   "cell_type": "code",
   "execution_count": 7,
   "id": "a8fb758c",
   "metadata": {
    "execution": {
     "iopub.execute_input": "2024-09-19T03:28:34.532810Z",
     "iopub.status.busy": "2024-09-19T03:28:34.532536Z",
     "iopub.status.idle": "2024-09-19T03:30:05.199047Z",
     "shell.execute_reply": "2024-09-19T03:30:05.198433Z"
    },
    "papermill": {
     "duration": 90.672323,
     "end_time": "2024-09-19T03:30:05.200491",
     "exception": false,
     "start_time": "2024-09-19T03:28:34.528168",
     "status": "completed"
    },
    "tags": []
   },
   "outputs": [],
   "source": [
    "combined_points = combine_point_data(\n",
    "    deposit_data=deposits_filename,\n",
    "    unlabelled_data=unlabelled,\n",
    "    static_polygons=static_polygons_filename,\n",
    "    topological_features=feature_filenames,\n",
    "    rotation_model=rotation_filenames,\n",
    "    study_area_dir=study_area_dir,\n",
    "    min_time=min(times),\n",
    "    max_time=max(times),\n",
    "    n_jobs=n_jobs,\n",
    "    verbose=verbose,\n",
    ")\n",
    "del unlabelled\n"
   ]
  },
  {
   "attachments": {},
   "cell_type": "markdown",
   "id": "ad8e6307",
   "metadata": {
    "papermill": {
     "duration": 0.003313,
     "end_time": "2024-09-19T03:30:05.208597",
     "exception": false,
     "start_time": "2024-09-19T03:30:05.205284",
     "status": "completed"
    },
    "tags": []
   },
   "source": [
    "### Assign subduction data to point deposit/non-deposit/unlabelled data"
   ]
  },
  {
   "cell_type": "code",
   "execution_count": 8,
   "id": "3bf8e4fd",
   "metadata": {
    "execution": {
     "iopub.execute_input": "2024-09-19T03:30:05.216377Z",
     "iopub.status.busy": "2024-09-19T03:30:05.216086Z",
     "iopub.status.idle": "2024-09-19T03:30:12.381987Z",
     "shell.execute_reply": "2024-09-19T03:30:12.381223Z"
    },
    "papermill": {
     "duration": 7.171668,
     "end_time": "2024-09-19T03:30:12.383533",
     "exception": false,
     "start_time": "2024-09-19T03:30:05.211865",
     "status": "completed"
    },
    "tags": []
   },
   "outputs": [],
   "source": [
    "coregistered_data = run_coregister_combined_point_data(\n",
    "    point_data=combined_points,\n",
    "    subduction_data=subduction_data,\n",
    "    n_jobs=n_jobs,\n",
    "    verbose=verbose,\n",
    ")\n",
    "del combined_points, subduction_data\n"
   ]
  },
  {
   "attachments": {},
   "cell_type": "markdown",
   "id": "f23026ea",
   "metadata": {
    "papermill": {
     "duration": 0.003348,
     "end_time": "2024-09-19T03:30:12.391287",
     "exception": false,
     "start_time": "2024-09-19T03:30:12.387939",
     "status": "completed"
    },
    "tags": []
   },
   "source": [
    "### Assign magnetic anomaly and crustal thickness data to point data"
   ]
  },
  {
   "cell_type": "code",
   "execution_count": 9,
   "id": "a82404e1",
   "metadata": {
    "execution": {
     "iopub.execute_input": "2024-09-19T03:30:12.399841Z",
     "iopub.status.busy": "2024-09-19T03:30:12.399562Z",
     "iopub.status.idle": "2024-09-19T03:31:16.957580Z",
     "shell.execute_reply": "2024-09-19T03:31:16.956812Z"
    },
    "papermill": {
     "duration": 64.563801,
     "end_time": "2024-09-19T03:31:16.959112",
     "exception": false,
     "start_time": "2024-09-19T03:30:12.395311",
     "status": "completed"
    },
    "tags": []
   },
   "outputs": [],
   "source": [
    "coregistered_data = run_coregister_crustal_thickness(\n",
    "    point_data=coregistered_data,\n",
    "    input_dir=crustal_thickness_dir,\n",
    "    n_jobs=n_jobs,\n",
    "    verbose=verbose,\n",
    ")\n",
    "coregistered_data = coregister_magnetic(\n",
    "    data=coregistered_data,\n",
    "    filename=mag_anomaly_filename,\n",
    "    n_jobs=n_jobs,\n",
    ")\n"
   ]
  },
  {
   "cell_type": "markdown",
   "id": "40319403",
   "metadata": {
    "papermill": {
     "duration": 0.003279,
     "end_time": "2024-09-19T03:31:16.966660",
     "exception": false,
     "start_time": "2024-09-19T03:31:16.963381",
     "status": "completed"
    },
    "tags": []
   },
   "source": [
    "### Calculate cumulative erosion"
   ]
  },
  {
   "cell_type": "code",
   "execution_count": 10,
   "id": "47f23804",
   "metadata": {
    "execution": {
     "iopub.execute_input": "2024-09-19T03:31:16.974233Z",
     "iopub.status.busy": "2024-09-19T03:31:16.973834Z",
     "iopub.status.idle": "2024-09-19T03:31:52.192766Z",
     "shell.execute_reply": "2024-09-19T03:31:52.192045Z"
    },
    "papermill": {
     "duration": 35.224458,
     "end_time": "2024-09-19T03:31:52.194324",
     "exception": false,
     "start_time": "2024-09-19T03:31:16.969866",
     "status": "completed"
    },
    "tags": []
   },
   "outputs": [],
   "source": [
    "coregistered_data = calculate_erodep(\n",
    "    coregistered_data,\n",
    "    input_dir=erodep_dir,\n",
    "    n_jobs=n_jobs,\n",
    "    column_name=\"erosion (m)\",\n",
    "    verbose=verbose,\n",
    ")\n"
   ]
  },
  {
   "cell_type": "markdown",
   "id": "8b973e4e",
   "metadata": {
    "papermill": {
     "duration": 0.003372,
     "end_time": "2024-09-19T03:31:52.201477",
     "exception": false,
     "start_time": "2024-09-19T03:31:52.198105",
     "status": "completed"
    },
    "tags": []
   },
   "source": [
    "### Assign data to regions"
   ]
  },
  {
   "cell_type": "code",
   "execution_count": 11,
   "id": "90f34d8b",
   "metadata": {
    "execution": {
     "iopub.execute_input": "2024-09-19T03:31:52.208792Z",
     "iopub.status.busy": "2024-09-19T03:31:52.208540Z",
     "iopub.status.idle": "2024-09-19T03:31:52.298363Z",
     "shell.execute_reply": "2024-09-19T03:31:52.297799Z"
    },
    "papermill": {
     "duration": 0.095244,
     "end_time": "2024-09-19T03:31:52.299884",
     "exception": false,
     "start_time": "2024-09-19T03:31:52.204640",
     "status": "completed"
    },
    "tags": []
   },
   "outputs": [],
   "source": [
    "points = gpd.GeoSeries.from_xy(\n",
    "    coregistered_data[\"present_lon\"],\n",
    "    coregistered_data[\"present_lat\"],\n",
    "    index=coregistered_data.index,\n",
    ")\n",
    "coregistered_data[\"region\"] = assign_regions(\n",
    "    points,\n",
    "    regions=regions_filename,\n",
    ")\n",
    "del points\n"
   ]
  },
  {
   "cell_type": "code",
   "execution_count": 12,
   "id": "42c75518",
   "metadata": {
    "execution": {
     "iopub.execute_input": "2024-09-19T03:31:52.308018Z",
     "iopub.status.busy": "2024-09-19T03:31:52.307601Z",
     "iopub.status.idle": "2024-09-19T03:31:54.442209Z",
     "shell.execute_reply": "2024-09-19T03:31:54.441652Z"
    },
    "papermill": {
     "duration": 2.141716,
     "end_time": "2024-09-19T03:31:54.445228",
     "exception": false,
     "start_time": "2024-09-19T03:31:52.303512",
     "status": "completed"
    },
    "tags": []
   },
   "outputs": [
    {
     "data": {
      "text/plain": [
       "source                      region          label     \n",
       "Diaz-Rodriguez et al. 2021  North America   negative        57\n",
       "                                            positive       170\n",
       "                            South America   negative       979\n",
       "                                            positive       126\n",
       "random                      East Asia       unlabelled    4549\n",
       "                            North America   unlabelled    7359\n",
       "                            Other           unlabelled    4104\n",
       "                            South America   unlabelled    6234\n",
       "                            Southeast Asia  unlabelled    6758\n",
       "                            Tethys          unlabelled    6984\n",
       "dtype: int64"
      ]
     },
     "execution_count": 12,
     "metadata": {},
     "output_type": "execute_result"
    }
   ],
   "source": [
    "coregistered_data.to_csv(output_filename, index=False)\n",
    "\n",
    "coregistered_data.groupby([\"source\", \"region\", \"label\"]).size()\n"
   ]
  },
  {
   "cell_type": "code",
   "execution_count": null,
   "id": "da5291f4",
   "metadata": {
    "papermill": {
     "duration": 0.003445,
     "end_time": "2024-09-19T03:31:54.452481",
     "exception": false,
     "start_time": "2024-09-19T03:31:54.449036",
     "status": "completed"
    },
    "tags": []
   },
   "outputs": [],
   "source": []
  }
 ],
 "metadata": {
  "kernelspec": {
   "display_name": "datamining",
   "language": "python",
   "name": "python3"
  },
  "language_info": {
   "codemirror_mode": {
    "name": "ipython",
    "version": 3
   },
   "file_extension": ".py",
   "mimetype": "text/x-python",
   "name": "python",
   "nbconvert_exporter": "python",
   "pygments_lexer": "ipython3",
   "version": "3.12.5"
  },
  "papermill": {
   "default_parameters": {},
   "duration": 3801.711455,
   "end_time": "2024-09-19T03:31:57.278115",
   "environment_variables": {},
   "exception": null,
   "input_path": "00a-extract_training_data.ipynb",
   "output_path": "00a-extract_training_data_output.ipynb",
   "parameters": {},
   "start_time": "2024-09-19T02:28:35.566660",
   "version": "2.4.0"
  }
 },
 "nbformat": 4,
 "nbformat_minor": 5
}