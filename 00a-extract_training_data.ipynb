{
 "cells": [
  {
   "cell_type": "code",
   "execution_count": 1,
   "id": "416d11e4",
   "metadata": {
    "execution": {
     "iopub.execute_input": "2024-09-17T05:16:42.072226Z",
     "iopub.status.busy": "2024-09-17T05:16:42.071907Z",
     "iopub.status.idle": "2024-09-17T05:18:24.474023Z",
     "shell.execute_reply": "2024-09-17T05:18:24.473326Z"
    },
    "papermill": {
     "duration": 102.413869,
     "end_time": "2024-09-17T05:18:24.478169",
     "exception": false,
     "start_time": "2024-09-17T05:16:42.064300",
     "status": "completed"
    },
    "tags": []
   },
   "outputs": [
    {
     "name": "stderr",
     "output_type": "stream",
     "text": [
      "Matplotlib is building the font cache; this may take a moment.\n"
     ]
    },
    {
     "name": "stdout",
     "output_type": "stream",
     "text": [
      "env: PYTHONWARNINGS=ignore::UserWarning\n"
     ]
    }
   ],
   "source": [
    "import glob\n",
    "import os\n",
    "import tempfile\n",
    "import warnings\n",
    "\n",
    "import geopandas as gpd\n",
    "from gplately.tools import plate_isotherm_depth\n",
    "\n",
    "from lib.assign_regions import assign_regions\n",
    "from lib.calculate_convergence import run_calculate_convergence\n",
    "from lib.check_files import (\n",
    "    check_source_data,\n",
    "    check_plate_model,\n",
    ")\n",
    "from lib.combine_point_data import combine_point_data\n",
    "from lib.coregister_combined_point_data import run_coregister_combined_point_data\n",
    "from lib.coregister_crustal_thickness import run_coregister_crustal_thickness\n",
    "from lib.coregister_magnetic import coregister_magnetic\n",
    "from lib.coregister_ocean_rasters import run_coregister_ocean_rasters\n",
    "from lib.create_study_area_polygons import run_create_study_area_polygons\n",
    "from lib.erodep import calculate_erodep\n",
    "from lib.generate_unlabelled_points import generate_unlabelled_points\n",
    "from lib.misc import (\n",
    "    calculate_slab_flux,\n",
    "    calculate_water_thickness,\n",
    ")\n",
    "from lib.slab_dip import calculate_slab_dip\n",
    "\n",
    "# Suppress occasional joblib warnings\n",
    "%env PYTHONWARNINGS=ignore::UserWarning\n",
    "\n",
    "warnings.simplefilter(\"ignore\", UserWarning)\n"
   ]
  },
  {
   "cell_type": "code",
   "execution_count": 2,
   "id": "24504d52",
   "metadata": {
    "execution": {
     "iopub.execute_input": "2024-09-17T05:18:24.486329Z",
     "iopub.status.busy": "2024-09-17T05:18:24.486037Z",
     "iopub.status.idle": "2024-09-17T05:18:24.489585Z",
     "shell.execute_reply": "2024-09-17T05:18:24.488990Z"
    },
    "papermill": {
     "duration": 0.009659,
     "end_time": "2024-09-17T05:18:24.491273",
     "exception": false,
     "start_time": "2024-09-17T05:18:24.481614",
     "status": "completed"
    },
    "tags": []
   },
   "outputs": [],
   "source": [
    "random_seed = 1234\n",
    "\n",
    "n_jobs = int(os.environ.get(\"N_JOBS\", 8))\n",
    "times = range(171)\n",
    "verbose = False\n",
    "\n",
    "num_unlabelled = 200  # per timestep\n"
   ]
  },
  {
   "attachments": {},
   "cell_type": "markdown",
   "id": "8070f64c",
   "metadata": {
    "papermill": {
     "duration": 0.003327,
     "end_time": "2024-09-17T05:18:24.498102",
     "exception": false,
     "start_time": "2024-09-17T05:18:24.494775",
     "status": "completed"
    },
    "tags": []
   },
   "source": [
    "### Input and output files"
   ]
  },
  {
   "cell_type": "code",
   "execution_count": 3,
   "id": "8cc369d6",
   "metadata": {
    "execution": {
     "iopub.execute_input": "2024-09-17T05:18:24.505926Z",
     "iopub.status.busy": "2024-09-17T05:18:24.505664Z",
     "iopub.status.idle": "2024-09-17T07:14:29.887221Z",
     "shell.execute_reply": "2024-09-17T07:14:29.886633Z"
    },
    "papermill": {
     "duration": 6965.387528,
     "end_time": "2024-09-17T07:14:29.888957",
     "exception": false,
     "start_time": "2024-09-17T05:18:24.501429",
     "status": "completed"
    },
    "tags": []
   },
   "outputs": [],
   "source": [
    "model_dir = \"plate_model\"\n",
    "check_plate_model(model_dir, verbose=verbose)\n",
    "\n",
    "data_dir = \"source_data\"\n",
    "check_source_data(data_dir, verbose=verbose)\n",
    "deposits_filename = os.path.join(data_dir, \"deposit_data.csv\")\n",
    "regions_filename = os.path.join(data_dir, \"regions.shp\")\n",
    "agegrid_dir = os.path.join(data_dir, \"AgeGrids\")\n",
    "sedthick_dir = os.path.join(data_dir, \"SedimentThickness\")\n",
    "carbonate_dir = os.path.join(data_dir, \"CarbonateThickness\")\n",
    "co2_dir = os.path.join(data_dir, \"CrustalCO2\")\n",
    "crustal_thickness_dir = os.path.join(data_dir, \"CrustalThickness\")\n",
    "mag_anomaly_filename = os.path.join(\n",
    "    data_dir,\n",
    "    \"MagneticAnomaly\",\n",
    "    \"emag2_upcont_interpolated.nc\",\n",
    ")\n",
    "subducted_quantities_dir = os.path.join(\n",
    "    data_dir,\n",
    "    \"SubductedQuantities\",\n",
    ")\n",
    "erodep_dir = os.path.join(data_dir, \"ErosionDeposition\")\n",
    "\n",
    "output_dir = \"extracted_data\"\n",
    "os.makedirs(output_dir, exist_ok=True)\n",
    "subduction_data_filename = os.path.join(output_dir, \"subducting_plate_data.csv\")\n",
    "study_area_dir = os.path.join(output_dir, \"study_area_polygons\")\n",
    "output_filename = os.path.join(output_dir, \"training_data.csv\")\n",
    "\n",
    "feature_filenames = glob.glob(\n",
    "    os.path.join(\n",
    "        model_dir,\n",
    "        \"*.gpml\",\n",
    "    )\n",
    ")\n",
    "rotation_filenames = glob.glob(\n",
    "    os.path.join(\n",
    "        model_dir,\n",
    "        \"*.rot\",\n",
    "    )\n",
    ")\n",
    "static_polygons_filename = os.path.join(\n",
    "    model_dir,\n",
    "    \"StaticGeometries\",\n",
    "    \"StaticPolygons\",\n",
    "    \"Clennett_2020_StaticPolygons.gpml\",\n",
    ")\n"
   ]
  },
  {
   "attachments": {},
   "cell_type": "markdown",
   "id": "a45746ed",
   "metadata": {
    "papermill": {
     "duration": 0.004932,
     "end_time": "2024-09-17T07:14:29.899687",
     "exception": false,
     "start_time": "2024-09-17T07:14:29.894755",
     "status": "completed"
    },
    "tags": []
   },
   "source": [
    "### Subducting plate data"
   ]
  },
  {
   "cell_type": "code",
   "execution_count": 4,
   "id": "3e1a295a",
   "metadata": {
    "execution": {
     "iopub.execute_input": "2024-09-17T07:14:29.908118Z",
     "iopub.status.busy": "2024-09-17T07:14:29.907852Z",
     "iopub.status.idle": "2024-09-17T07:33:32.237310Z",
     "shell.execute_reply": "2024-09-17T07:33:32.236515Z"
    },
    "papermill": {
     "duration": 1142.337311,
     "end_time": "2024-09-17T07:33:32.241094",
     "exception": false,
     "start_time": "2024-09-17T07:14:29.903783",
     "status": "completed"
    },
    "tags": []
   },
   "outputs": [],
   "source": [
    "with tempfile.TemporaryDirectory() as subduction_kinematics_dir:\n",
    "    run_calculate_convergence(\n",
    "        nprocs=n_jobs,\n",
    "        min_time=min(times),\n",
    "        max_time=max(times),\n",
    "        topology_filenames=feature_filenames,\n",
    "        rotation_filenames=rotation_filenames,\n",
    "        output_dir=subduction_kinematics_dir,\n",
    "        verbose=verbose,\n",
    "    )\n",
    "\n",
    "    subduction_data = run_coregister_ocean_rasters(\n",
    "        nprocs=n_jobs,\n",
    "        times=times,\n",
    "        input_data=subduction_kinematics_dir,\n",
    "        agegrid_dir=agegrid_dir,\n",
    "        topology_features=feature_filenames,\n",
    "        rotation_model=rotation_filenames,\n",
    "        sedthick_dir=sedthick_dir,\n",
    "        carbonate_dir=carbonate_dir,\n",
    "        co2_dir=co2_dir,\n",
    "        subducted_thickness_dir=os.path.join(\n",
    "            subducted_quantities_dir,\n",
    "            \"plate_thickness\",\n",
    "        ),\n",
    "        subducted_sediments_dir=os.path.join(\n",
    "            subducted_quantities_dir,\n",
    "            \"sediment_thickness\",\n",
    "        ),\n",
    "        subducted_carbonates_dir=os.path.join(\n",
    "            subducted_quantities_dir,\n",
    "            \"carbonate_thickness\",\n",
    "        ),\n",
    "        subducted_water_dir=os.path.join(\n",
    "            subducted_quantities_dir,\n",
    "            \"water_thickness\",\n",
    "        ),\n",
    "        verbose=verbose,\n",
    "    )\n",
    "subduction_data[\"plate_thickness (m)\"] = plate_isotherm_depth(\n",
    "    subduction_data[\"seafloor_age (Ma)\"],\n",
    "    maxiter=100,\n",
    ")\n",
    "subduction_data = calculate_water_thickness(subduction_data)\n",
    "subduction_data = calculate_slab_flux(subduction_data)\n",
    "subduction_data = calculate_slab_dip(subduction_data)\n",
    "if subduction_data_filename is not None:\n",
    "    subduction_data.to_csv(subduction_data_filename, index=False)\n"
   ]
  },
  {
   "attachments": {},
   "cell_type": "markdown",
   "id": "1d88d599",
   "metadata": {
    "papermill": {
     "duration": 0.003742,
     "end_time": "2024-09-17T07:33:32.255561",
     "exception": false,
     "start_time": "2024-09-17T07:33:32.251819",
     "status": "completed"
    },
    "tags": []
   },
   "source": [
    "### Create study area polygons along subduction zones"
   ]
  },
  {
   "cell_type": "code",
   "execution_count": 5,
   "id": "6e7f3421",
   "metadata": {
    "execution": {
     "iopub.execute_input": "2024-09-17T07:33:32.268404Z",
     "iopub.status.busy": "2024-09-17T07:33:32.268116Z",
     "iopub.status.idle": "2024-09-17T07:34:39.757645Z",
     "shell.execute_reply": "2024-09-17T07:34:39.756776Z"
    },
    "papermill": {
     "duration": 67.498799,
     "end_time": "2024-09-17T07:34:39.759522",
     "exception": false,
     "start_time": "2024-09-17T07:33:32.260723",
     "status": "completed"
    },
    "tags": []
   },
   "outputs": [],
   "source": [
    "run_create_study_area_polygons(\n",
    "    nprocs=n_jobs,\n",
    "    times=times,\n",
    "    topological_features=feature_filenames,\n",
    "    rotation_model=rotation_filenames,\n",
    "    output_dir=study_area_dir,\n",
    "    verbose=verbose,\n",
    "    return_output=False,\n",
    ")\n"
   ]
  },
  {
   "attachments": {},
   "cell_type": "markdown",
   "id": "5dd1c434",
   "metadata": {
    "papermill": {
     "duration": 0.004771,
     "end_time": "2024-09-17T07:34:39.770698",
     "exception": false,
     "start_time": "2024-09-17T07:34:39.765927",
     "status": "completed"
    },
    "tags": []
   },
   "source": [
    "### Generate random unlabelled data points"
   ]
  },
  {
   "cell_type": "code",
   "execution_count": 6,
   "id": "f0eb6f15",
   "metadata": {
    "execution": {
     "iopub.execute_input": "2024-09-17T07:34:39.781017Z",
     "iopub.status.busy": "2024-09-17T07:34:39.780433Z",
     "iopub.status.idle": "2024-09-17T07:47:58.641682Z",
     "shell.execute_reply": "2024-09-17T07:47:58.640599Z"
    },
    "papermill": {
     "duration": 798.867733,
     "end_time": "2024-09-17T07:47:58.643138",
     "exception": false,
     "start_time": "2024-09-17T07:34:39.775405",
     "status": "completed"
    },
    "tags": []
   },
   "outputs": [],
   "source": [
    "unlabelled = generate_unlabelled_points(\n",
    "    times=times,\n",
    "    input_dir=study_area_dir,\n",
    "    num=num_unlabelled,\n",
    "    threads=n_jobs,\n",
    "    seed=random_seed,\n",
    "    topological_features=feature_filenames,\n",
    "    rotation_model=rotation_filenames,\n",
    "    verbose=verbose,\n",
    ")\n"
   ]
  },
  {
   "attachments": {},
   "cell_type": "markdown",
   "id": "168d3871",
   "metadata": {
    "papermill": {
     "duration": 0.003513,
     "end_time": "2024-09-17T07:47:58.652619",
     "exception": false,
     "start_time": "2024-09-17T07:47:58.649106",
     "status": "completed"
    },
    "tags": []
   },
   "source": [
    "### Combine labelled deposit/non-deposit data with random unlabelled data"
   ]
  },
  {
   "cell_type": "code",
   "execution_count": 7,
   "id": "a8fb758c",
   "metadata": {
    "execution": {
     "iopub.execute_input": "2024-09-17T07:47:58.664608Z",
     "iopub.status.busy": "2024-09-17T07:47:58.664324Z",
     "iopub.status.idle": "2024-09-17T07:49:23.705950Z",
     "shell.execute_reply": "2024-09-17T07:49:23.705220Z"
    },
    "papermill": {
     "duration": 85.049281,
     "end_time": "2024-09-17T07:49:23.708167",
     "exception": false,
     "start_time": "2024-09-17T07:47:58.658886",
     "status": "completed"
    },
    "tags": []
   },
   "outputs": [],
   "source": [
    "combined_points = combine_point_data(\n",
    "    deposit_data=deposits_filename,\n",
    "    unlabelled_data=unlabelled,\n",
    "    static_polygons=static_polygons_filename,\n",
    "    topological_features=feature_filenames,\n",
    "    rotation_model=rotation_filenames,\n",
    "    study_area_dir=study_area_dir,\n",
    "    min_time=min(times),\n",
    "    max_time=max(times),\n",
    "    n_jobs=n_jobs,\n",
    "    verbose=verbose,\n",
    ")\n",
    "del unlabelled\n"
   ]
  },
  {
   "attachments": {},
   "cell_type": "markdown",
   "id": "ad8e6307",
   "metadata": {
    "papermill": {
     "duration": 0.003723,
     "end_time": "2024-09-17T07:49:23.716383",
     "exception": false,
     "start_time": "2024-09-17T07:49:23.712660",
     "status": "completed"
    },
    "tags": []
   },
   "source": [
    "### Assign subduction data to point deposit/non-deposit/unlabelled data"
   ]
  },
  {
   "cell_type": "code",
   "execution_count": 8,
   "id": "3bf8e4fd",
   "metadata": {
    "execution": {
     "iopub.execute_input": "2024-09-17T07:49:23.724272Z",
     "iopub.status.busy": "2024-09-17T07:49:23.724015Z",
     "iopub.status.idle": "2024-09-17T07:49:30.959804Z",
     "shell.execute_reply": "2024-09-17T07:49:30.959051Z"
    },
    "papermill": {
     "duration": 7.241905,
     "end_time": "2024-09-17T07:49:30.961782",
     "exception": false,
     "start_time": "2024-09-17T07:49:23.719877",
     "status": "completed"
    },
    "tags": []
   },
   "outputs": [],
   "source": [
    "coregistered_data = run_coregister_combined_point_data(\n",
    "    point_data=combined_points,\n",
    "    subduction_data=subduction_data,\n",
    "    n_jobs=n_jobs,\n",
    "    verbose=verbose,\n",
    ")\n",
    "del combined_points, subduction_data\n"
   ]
  },
  {
   "attachments": {},
   "cell_type": "markdown",
   "id": "f23026ea",
   "metadata": {
    "papermill": {
     "duration": 0.003378,
     "end_time": "2024-09-17T07:49:30.968835",
     "exception": false,
     "start_time": "2024-09-17T07:49:30.965457",
     "status": "completed"
    },
    "tags": []
   },
   "source": [
    "### Assign magnetic anomaly and crustal thickness data to point data"
   ]
  },
  {
   "cell_type": "code",
   "execution_count": 9,
   "id": "a82404e1",
   "metadata": {
    "execution": {
     "iopub.execute_input": "2024-09-17T07:49:30.979091Z",
     "iopub.status.busy": "2024-09-17T07:49:30.978810Z",
     "iopub.status.idle": "2024-09-17T07:50:32.448006Z",
     "shell.execute_reply": "2024-09-17T07:50:32.447236Z"
    },
    "papermill": {
     "duration": 61.47749,
     "end_time": "2024-09-17T07:50:32.450200",
     "exception": false,
     "start_time": "2024-09-17T07:49:30.972710",
     "status": "completed"
    },
    "tags": []
   },
   "outputs": [],
   "source": [
    "coregistered_data = run_coregister_crustal_thickness(\n",
    "    point_data=coregistered_data,\n",
    "    input_dir=crustal_thickness_dir,\n",
    "    n_jobs=n_jobs,\n",
    "    verbose=verbose,\n",
    ")\n",
    "coregistered_data = coregister_magnetic(\n",
    "    data=coregistered_data,\n",
    "    filename=mag_anomaly_filename,\n",
    "    n_jobs=n_jobs,\n",
    ")\n"
   ]
  },
  {
   "cell_type": "markdown",
   "id": "40319403",
   "metadata": {
    "papermill": {
     "duration": 0.004053,
     "end_time": "2024-09-17T07:50:32.458552",
     "exception": false,
     "start_time": "2024-09-17T07:50:32.454499",
     "status": "completed"
    },
    "tags": []
   },
   "source": [
    "### Calculate cumulative erosion"
   ]
  },
  {
   "cell_type": "code",
   "execution_count": 10,
   "id": "47f23804",
   "metadata": {
    "execution": {
     "iopub.execute_input": "2024-09-17T07:50:32.467686Z",
     "iopub.status.busy": "2024-09-17T07:50:32.467250Z",
     "iopub.status.idle": "2024-09-17T07:51:09.741228Z",
     "shell.execute_reply": "2024-09-17T07:51:09.740386Z"
    },
    "papermill": {
     "duration": 37.280662,
     "end_time": "2024-09-17T07:51:09.743207",
     "exception": false,
     "start_time": "2024-09-17T07:50:32.462545",
     "status": "completed"
    },
    "tags": []
   },
   "outputs": [],
   "source": [
    "coregistered_data = calculate_erodep(\n",
    "    coregistered_data,\n",
    "    input_dir=erodep_dir,\n",
    "    n_jobs=n_jobs,\n",
    "    column_name=\"erosion (m)\",\n",
    "    verbose=verbose,\n",
    ")\n"
   ]
  },
  {
   "cell_type": "markdown",
   "id": "8b973e4e",
   "metadata": {
    "papermill": {
     "duration": 0.003768,
     "end_time": "2024-09-17T07:51:09.751167",
     "exception": false,
     "start_time": "2024-09-17T07:51:09.747399",
     "status": "completed"
    },
    "tags": []
   },
   "source": [
    "### Assign data to regions"
   ]
  },
  {
   "cell_type": "code",
   "execution_count": 11,
   "id": "90f34d8b",
   "metadata": {
    "execution": {
     "iopub.execute_input": "2024-09-17T07:51:09.758933Z",
     "iopub.status.busy": "2024-09-17T07:51:09.758682Z",
     "iopub.status.idle": "2024-09-17T07:51:09.854966Z",
     "shell.execute_reply": "2024-09-17T07:51:09.854390Z"
    },
    "papermill": {
     "duration": 0.102091,
     "end_time": "2024-09-17T07:51:09.856736",
     "exception": false,
     "start_time": "2024-09-17T07:51:09.754645",
     "status": "completed"
    },
    "tags": []
   },
   "outputs": [],
   "source": [
    "points = gpd.GeoSeries.from_xy(\n",
    "    coregistered_data[\"present_lon\"],\n",
    "    coregistered_data[\"present_lat\"],\n",
    "    index=coregistered_data.index,\n",
    ")\n",
    "coregistered_data[\"region\"] = assign_regions(\n",
    "    points,\n",
    "    regions=regions_filename,\n",
    ")\n",
    "del points\n"
   ]
  },
  {
   "cell_type": "code",
   "execution_count": 12,
   "id": "42c75518",
   "metadata": {
    "execution": {
     "iopub.execute_input": "2024-09-17T07:51:09.864999Z",
     "iopub.status.busy": "2024-09-17T07:51:09.864582Z",
     "iopub.status.idle": "2024-09-17T07:51:12.051102Z",
     "shell.execute_reply": "2024-09-17T07:51:12.050565Z"
    },
    "papermill": {
     "duration": 2.1934,
     "end_time": "2024-09-17T07:51:12.053835",
     "exception": false,
     "start_time": "2024-09-17T07:51:09.860435",
     "status": "completed"
    },
    "tags": []
   },
   "outputs": [
    {
     "data": {
      "text/plain": [
       "source                      region          label     \n",
       "Diaz-Rodriguez et al. 2021  North America   negative        57\n",
       "                                            positive       170\n",
       "                            South America   negative       979\n",
       "                                            positive       126\n",
       "random                      East Asia       unlabelled    4549\n",
       "                            North America   unlabelled    7359\n",
       "                            Other           unlabelled    4104\n",
       "                            South America   unlabelled    6234\n",
       "                            Southeast Asia  unlabelled    6758\n",
       "                            Tethys          unlabelled    6984\n",
       "dtype: int64"
      ]
     },
     "execution_count": 12,
     "metadata": {},
     "output_type": "execute_result"
    }
   ],
   "source": [
    "coregistered_data.to_csv(output_filename, index=False)\n",
    "\n",
    "coregistered_data.groupby([\"source\", \"region\", \"label\"]).size()\n"
   ]
  },
  {
   "cell_type": "code",
   "execution_count": null,
   "id": "da5291f4",
   "metadata": {
    "papermill": {
     "duration": 0.004816,
     "end_time": "2024-09-17T07:51:12.062255",
     "exception": false,
     "start_time": "2024-09-17T07:51:12.057439",
     "status": "completed"
    },
    "tags": []
   },
   "outputs": [],
   "source": []
  }
 ],
 "metadata": {
  "kernelspec": {
   "display_name": "datamining",
   "language": "python",
   "name": "python3"
  },
  "language_info": {
   "codemirror_mode": {
    "name": "ipython",
    "version": 3
   },
   "file_extension": ".py",
   "mimetype": "text/x-python",
   "name": "python",
   "nbconvert_exporter": "python",
   "pygments_lexer": "ipython3",
   "version": "3.12.5"
  },
  "papermill": {
   "default_parameters": {},
   "duration": 9275.354132,
   "end_time": "2024-09-17T07:51:14.895706",
   "environment_variables": {},
   "exception": null,
   "input_path": "00a-extract_training_data.ipynb",
   "output_path": "00a-extract_training_data.ipynb",
   "parameters": {},
   "start_time": "2024-09-17T05:16:39.541574",
   "version": "2.4.0"
  }
 },
 "nbformat": 4,
 "nbformat_minor": 5
}