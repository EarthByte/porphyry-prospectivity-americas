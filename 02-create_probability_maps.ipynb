{
 "cells": [
  {
   "attachments": {},
   "cell_type": "markdown",
   "metadata": {},
   "source": [
    "## Probability grids\n",
    "\n",
    "This notebook creates the time-dependent probability maps and writes them to file (`.nc` format)."
   ]
  },
  {
   "cell_type": "code",
   "execution_count": 5,
   "metadata": {},
   "outputs": [],
   "source": [
    "import os\n",
    "\n",
    "import pandas as pd\n",
    "from joblib import load\n",
    "\n",
    "from lib.check_files import check_prepared_data\n",
    "from lib.pu import (\n",
    "    calculate_probabilities,\n",
    "    create_probability_grids,\n",
    "    COLUMNS_TO_DROP,\n",
    "    CORRELATED_COLUMNS,\n",
    "    PRESERVATION_COLUMNS,\n",
    ")\n",
    "\n",
    "columns_to_drop = COLUMNS_TO_DROP | CORRELATED_COLUMNS | PRESERVATION_COLUMNS\n",
    "columns_to_drop = columns_to_drop.difference(\n",
    "    {\n",
    "        \"lon\",\n",
    "        \"lat\",\n",
    "        \"present_lon\",\n",
    "        \"present_lat\",\n",
    "        \"age (Ma)\",\n",
    "    }\n",
    ")"
   ]
  },
  {
   "attachments": {},
   "cell_type": "markdown",
   "metadata": {},
   "source": [
    "### Load classifier and input data from file"
   ]
  },
  {
   "cell_type": "code",
   "execution_count": 2,
   "metadata": {},
   "outputs": [],
   "source": [
    "output_dir = \"outputs\"\n",
    "classifier_filename = os.path.join(output_dir, \"pu_classifier.joblib\")\n",
    "classifier = load(classifier_filename)\n",
    "\n",
    "data_dir = \"prepared_data\"\n",
    "check_prepared_data(data_dir, verbose=True)\n",
    "data_filename = os.path.join(data_dir, \"grid_data.csv.zip\")\n",
    "point_data = pd.read_csv(data_filename)"
   ]
  },
  {
   "attachments": {},
   "cell_type": "markdown",
   "metadata": {},
   "source": [
    "### Calculate probabilities"
   ]
  },
  {
   "cell_type": "code",
   "execution_count": 3,
   "metadata": {},
   "outputs": [],
   "source": [
    "probabilities = calculate_probabilities(\n",
    "    point_data=point_data.drop(\n",
    "        columns=columns_to_drop,\n",
    "        errors=\"ignore\",\n",
    "    ),\n",
    "    classifier=classifier,\n",
    ")\n",
    "for i in (\"lon\", \"lat\"):\n",
    "    probabilities[f\"present_{i}\"] = point_data[f\"present_{i}\"]\n",
    "probabilities.to_csv(os.path.join(output_dir, \"grid_probabilities.csv.zip\"), index=False)"
   ]
  },
  {
   "attachments": {},
   "cell_type": "markdown",
   "metadata": {},
   "source": [
    "### Create grids"
   ]
  },
  {
   "cell_type": "code",
   "execution_count": 9,
   "metadata": {},
   "outputs": [],
   "source": [
    "n_jobs = 8\n",
    "grid_output_dir = os.path.join(output_dir, \"grids\")\n",
    "os.makedirs(grid_output_dir, exist_ok=True)\n",
    "\n",
    "create_probability_grids(\n",
    "    probabilities=probabilities,\n",
    "    output_dir=grid_output_dir,\n",
    "    threads=n_jobs,\n",
    "    extent=(-180, 180, -90, 90),\n",
    ")"
   ]
  },
  {
   "cell_type": "code",
   "execution_count": null,
   "metadata": {},
   "outputs": [],
   "source": []
  }
 ],
 "metadata": {
  "kernelspec": {
   "display_name": "datamining",
   "language": "python",
   "name": "python3"
  },
  "language_info": {
   "codemirror_mode": {
    "name": "ipython",
    "version": 3
   },
   "file_extension": ".py",
   "mimetype": "text/x-python",
   "name": "python",
   "nbconvert_exporter": "python",
   "pygments_lexer": "ipython3",
   "version": "3.11.3"
  },
  "orig_nbformat": 4
 },
 "nbformat": 4,
 "nbformat_minor": 2
}
