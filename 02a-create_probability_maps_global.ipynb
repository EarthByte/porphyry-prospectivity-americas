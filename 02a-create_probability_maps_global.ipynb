{
 "cells": [
  {
   "attachments": {},
   "cell_type": "markdown",
   "id": "80263a75",
   "metadata": {
    "papermill": {
     "duration": 0.003153,
     "end_time": "2023-12-15T05:37:02.589324",
     "exception": false,
     "start_time": "2023-12-15T05:37:02.586171",
     "status": "completed"
    },
    "tags": []
   },
   "source": [
    "## Probability grids\n",
    "\n",
    "This notebook creates the time-dependent probability maps and writes them to file (`.nc` format). The notebook `01a-create_classifiers_global.ipynb` must have been run previously."
   ]
  },
  {
   "cell_type": "code",
   "execution_count": 1,
   "id": "9057911b",
   "metadata": {
    "execution": {
     "iopub.execute_input": "2023-12-15T05:37:02.596376Z",
     "iopub.status.busy": "2023-12-15T05:37:02.596132Z",
     "iopub.status.idle": "2023-12-15T05:37:02.603966Z",
     "shell.execute_reply": "2023-12-15T05:37:02.603094Z"
    },
    "papermill": {
     "duration": 0.013276,
     "end_time": "2023-12-15T05:37:02.605673",
     "exception": false,
     "start_time": "2023-12-15T05:37:02.592397",
     "status": "completed"
    },
    "tags": []
   },
   "outputs": [],
   "source": [
    "use_extracted_data = False\n"
   ]
  },
  {
   "cell_type": "code",
   "execution_count": 2,
   "id": "5303979d",
   "metadata": {
    "execution": {
     "iopub.execute_input": "2023-12-15T05:37:02.612443Z",
     "iopub.status.busy": "2023-12-15T05:37:02.612204Z",
     "iopub.status.idle": "2023-12-15T05:37:04.499199Z",
     "shell.execute_reply": "2023-12-15T05:37:04.498578Z"
    },
    "papermill": {
     "duration": 1.892455,
     "end_time": "2023-12-15T05:37:04.501051",
     "exception": false,
     "start_time": "2023-12-15T05:37:02.608596",
     "status": "completed"
    },
    "tags": []
   },
   "outputs": [],
   "source": [
    "import os\n",
    "import time\n",
    "from datetime import timedelta\n",
    "\n",
    "import dask\n",
    "import dask.dataframe as dd\n",
    "from dask_ml.wrappers import ParallelPostFit\n",
    "from joblib import load\n",
    "\n",
    "from lib.check_files import check_prepared_data\n",
    "from lib.pu import create_probability_grids\n"
   ]
  },
  {
   "cell_type": "code",
   "execution_count": 3,
   "id": "7c013b25",
   "metadata": {
    "execution": {
     "iopub.execute_input": "2023-12-15T05:37:04.508343Z",
     "iopub.status.busy": "2023-12-15T05:37:04.507975Z",
     "iopub.status.idle": "2023-12-15T05:37:04.513942Z",
     "shell.execute_reply": "2023-12-15T05:37:04.513421Z"
    },
    "papermill": {
     "duration": 0.01104,
     "end_time": "2023-12-15T05:37:04.515427",
     "exception": false,
     "start_time": "2023-12-15T05:37:04.504387",
     "status": "completed"
    },
    "tags": []
   },
   "outputs": [
    {
     "data": {
      "text/plain": [
       "<dask.config.set at 0x7fa2b8563690>"
      ]
     },
     "execution_count": 3,
     "metadata": {},
     "output_type": "execute_result"
    }
   ],
   "source": [
    "n_jobs = int(os.environ.get(\"N_JOBS\", 8))\n",
    "dask.config.set(num_workers=n_jobs)\n"
   ]
  },
  {
   "attachments": {},
   "cell_type": "markdown",
   "id": "632c1c44",
   "metadata": {
    "papermill": {
     "duration": 0.002919,
     "end_time": "2023-12-15T05:37:04.521529",
     "exception": false,
     "start_time": "2023-12-15T05:37:04.518610",
     "status": "completed"
    },
    "tags": []
   },
   "source": [
    "### Load input data from file"
   ]
  },
  {
   "cell_type": "code",
   "execution_count": 4,
   "id": "f01bd62d",
   "metadata": {
    "execution": {
     "iopub.execute_input": "2023-12-15T05:37:04.528195Z",
     "iopub.status.busy": "2023-12-15T05:37:04.528048Z",
     "iopub.status.idle": "2023-12-15T05:37:20.681227Z",
     "shell.execute_reply": "2023-12-15T05:37:20.680608Z"
    },
    "papermill": {
     "duration": 16.158618,
     "end_time": "2023-12-15T05:37:20.683131",
     "exception": false,
     "start_time": "2023-12-15T05:37:04.524513",
     "status": "completed"
    },
    "tags": []
   },
   "outputs": [],
   "source": [
    "if use_extracted_data:\n",
    "    data_dir = \"extracted_data\"\n",
    "else:\n",
    "    data_dir = \"prepared_data\"\n",
    "    check_prepared_data(data_dir, verbose=True)\n",
    "data_filename = os.path.join(data_dir, \"grid_data.csv\")\n",
    "point_data = dd.read_csv(data_filename)\n",
    "\n",
    "df_out = point_data[[\"lon\", \"lat\", \"age (Ma)\"]].compute()\n"
   ]
  },
  {
   "attachments": {},
   "cell_type": "markdown",
   "id": "dc314a0d",
   "metadata": {
    "papermill": {
     "duration": 0.002907,
     "end_time": "2023-12-15T05:37:20.689517",
     "exception": false,
     "start_time": "2023-12-15T05:37:20.686610",
     "status": "completed"
    },
    "tags": []
   },
   "source": [
    "### Calculate probabilities"
   ]
  },
  {
   "cell_type": "code",
   "execution_count": 5,
   "id": "5ac247e1",
   "metadata": {
    "execution": {
     "iopub.execute_input": "2023-12-15T05:37:20.696353Z",
     "iopub.status.busy": "2023-12-15T05:37:20.696198Z",
     "iopub.status.idle": "2023-12-15T05:40:40.289992Z",
     "shell.execute_reply": "2023-12-15T05:40:40.289296Z"
    },
    "papermill": {
     "duration": 199.601423,
     "end_time": "2023-12-15T05:40:40.293889",
     "exception": false,
     "start_time": "2023-12-15T05:37:20.692466",
     "status": "completed"
    },
    "tags": []
   },
   "outputs": [
    {
     "name": "stdout",
     "output_type": "stream",
     "text": [
      "Calculating probabilities for PU model... "
     ]
    },
    {
     "name": "stdout",
     "output_type": "stream",
     "text": [
      "Done! (duration: 0:02:46.127116)\n"
     ]
    },
    {
     "name": "stdout",
     "output_type": "stream",
     "text": [
      "Calculating probabilities for SVM model... "
     ]
    },
    {
     "name": "stdout",
     "output_type": "stream",
     "text": [
      "Done! (duration: 0:00:33.458220)\n"
     ]
    }
   ],
   "source": [
    "output_dir = os.path.join(\"outputs\", \"global\")\n",
    "\n",
    "for algorithm in (\"PU\", \"SVM\"):\n",
    "    print(\n",
    "        f\"Calculating probabilities for {algorithm} model... \",\n",
    "        end=\"\",\n",
    "        flush=True,\n",
    "    )\n",
    "    t0 = time.time()\n",
    "\n",
    "    subdir = os.path.join(output_dir, algorithm)\n",
    "    model_filename = os.path.join(subdir, f\"classifier.joblib\")\n",
    "    probabilities_filename = os.path.join(\n",
    "        subdir,\n",
    "        f\"grid_probabilities.csv\",\n",
    "    )\n",
    "    model = load(model_filename)\n",
    "\n",
    "    # Set model n_jobs if possible\n",
    "    # (let dask handle parallelism at this stage)\n",
    "    try:\n",
    "        model[-1].set_params(n_jobs=1)\n",
    "    except ValueError:\n",
    "        pass\n",
    "\n",
    "    model_parallel = ParallelPostFit(model)\n",
    "\n",
    "    point_x = point_data[model.feature_names_in_]\n",
    "    p = model_parallel.predict_proba(point_x)[:, 1].ravel().compute()\n",
    "    probabilities = df_out.copy()\n",
    "    probabilities[\"probability\"] = p\n",
    "    del p\n",
    "    probabilities.to_csv(probabilities_filename, index=False)\n",
    "    del probabilities, model\n",
    "    duration = timedelta(seconds=time.time() - t0)\n",
    "    print(f\"Done! (duration: {duration})\", flush=True)\n",
    "\n",
    "del point_data\n"
   ]
  },
  {
   "cell_type": "markdown",
   "id": "e94d2cc2",
   "metadata": {
    "papermill": {
     "duration": 0.003349,
     "end_time": "2023-12-15T05:40:40.300769",
     "exception": false,
     "start_time": "2023-12-15T05:40:40.297420",
     "status": "completed"
    },
    "tags": []
   },
   "source": [
    "### Create probability maps"
   ]
  },
  {
   "cell_type": "code",
   "execution_count": 6,
   "id": "23b349d7",
   "metadata": {
    "execution": {
     "iopub.execute_input": "2023-12-15T05:40:40.308486Z",
     "iopub.status.busy": "2023-12-15T05:40:40.308240Z",
     "iopub.status.idle": "2023-12-15T05:48:03.314227Z",
     "shell.execute_reply": "2023-12-15T05:48:03.313237Z"
    },
    "papermill": {
     "duration": 443.014024,
     "end_time": "2023-12-15T05:48:03.318049",
     "exception": false,
     "start_time": "2023-12-15T05:40:40.304025",
     "status": "completed"
    },
    "tags": []
   },
   "outputs": [
    {
     "name": "stdout",
     "output_type": "stream",
     "text": [
      "Creating grids for PU model... "
     ]
    },
    {
     "name": "stdout",
     "output_type": "stream",
     "text": [
      "Done! (duration: 0:03:35.476700)\n"
     ]
    },
    {
     "name": "stdout",
     "output_type": "stream",
     "text": [
      "Creating grids for SVM model... "
     ]
    },
    {
     "name": "stdout",
     "output_type": "stream",
     "text": [
      "Done! (duration: 0:03:47.519718)\n"
     ]
    }
   ],
   "source": [
    "for algorithm in (\"PU\", \"SVM\"):\n",
    "    print(\n",
    "        f\"Creating grids for {algorithm} model... \",\n",
    "        end=\"\",\n",
    "        flush=True,\n",
    "    )\n",
    "    t0 = time.time()\n",
    "\n",
    "    subdir = os.path.join(output_dir, algorithm)\n",
    "    probabilities_filename = os.path.join(\n",
    "        subdir,\n",
    "        f\"grid_probabilities.csv\",\n",
    "    )\n",
    "    grid_output_dir = os.path.join(\n",
    "        subdir,\n",
    "        f\"probability_grids\",\n",
    "    )\n",
    "    os.makedirs(grid_output_dir, exist_ok=True)\n",
    "\n",
    "    create_probability_grids(\n",
    "        data=probabilities_filename,\n",
    "        output_dir=grid_output_dir,\n",
    "        threads=n_jobs,\n",
    "        extent=(-180, 180, -90, 90),\n",
    "    )\n",
    "    duration = timedelta(seconds=time.time() - t0)\n",
    "    print(f\"Done! (duration: {duration})\", flush=True)\n"
   ]
  },
  {
   "cell_type": "code",
   "execution_count": null,
   "id": "01345ac5",
   "metadata": {
    "papermill": {
     "duration": 0.003605,
     "end_time": "2023-12-15T05:48:03.325558",
     "exception": false,
     "start_time": "2023-12-15T05:48:03.321953",
     "status": "completed"
    },
    "tags": []
   },
   "outputs": [],
   "source": []
  }
 ],
 "metadata": {
  "kernelspec": {
   "display_name": "datamining",
   "language": "python",
   "name": "python3"
  },
  "language_info": {
   "codemirror_mode": {
    "name": "ipython",
    "version": 3
   },
   "file_extension": ".py",
   "mimetype": "text/x-python",
   "name": "python",
   "nbconvert_exporter": "python",
   "pygments_lexer": "ipython3",
   "version": "3.11.6"
  },
  "papermill": {
   "default_parameters": {},
   "duration": 664.284569,
   "end_time": "2023-12-15T05:48:06.148601",
   "environment_variables": {},
   "exception": null,
   "input_path": "02a-create_probability_maps_global.ipynb",
   "output_path": "02a-create_probability_maps_global_output.ipynb",
   "parameters": {},
   "start_time": "2023-12-15T05:37:01.864032",
   "version": "2.4.0"
  }
 },
 "nbformat": 4,
 "nbformat_minor": 5
}