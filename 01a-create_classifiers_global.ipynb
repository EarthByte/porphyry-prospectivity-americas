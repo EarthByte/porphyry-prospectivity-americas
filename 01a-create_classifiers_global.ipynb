{
 "cells": [
  {
   "cell_type": "markdown",
   "id": "2fcdeb87",
   "metadata": {
    "papermill": {
     "duration": 0.006105,
     "end_time": "2023-12-19T01:13:27.767582",
     "exception": false,
     "start_time": "2023-12-19T01:13:27.761477",
     "status": "completed"
    },
    "tags": []
   },
   "source": [
    "# Train classifiers\n",
    "\n",
    "If training data has been extracted from the source datasets by running the `00c-extract_training_data_global.ipynb` and `00b-extract_grid_data.ipynb` notebooks, set the `use_extracted_data` variable below to `True` to use this dataset instead of the pre-prepared training data from the [Zenodo repository](https://zenodo.org/record/8157691)."
   ]
  },
  {
   "cell_type": "code",
   "execution_count": 1,
   "id": "f4f435c1",
   "metadata": {
    "execution": {
     "iopub.execute_input": "2023-12-19T01:13:27.779289Z",
     "iopub.status.busy": "2023-12-19T01:13:27.778767Z",
     "iopub.status.idle": "2023-12-19T01:13:27.787475Z",
     "shell.execute_reply": "2023-12-19T01:13:27.786677Z"
    },
    "papermill": {
     "duration": 0.016226,
     "end_time": "2023-12-19T01:13:27.789134",
     "exception": false,
     "start_time": "2023-12-19T01:13:27.772908",
     "status": "completed"
    },
    "tags": []
   },
   "outputs": [],
   "source": [
    "use_extracted_data = False\n"
   ]
  },
  {
   "cell_type": "code",
   "execution_count": 2,
   "id": "9899ca9d",
   "metadata": {
    "execution": {
     "iopub.execute_input": "2023-12-19T01:13:27.800635Z",
     "iopub.status.busy": "2023-12-19T01:13:27.800121Z",
     "iopub.status.idle": "2023-12-19T01:13:29.509667Z",
     "shell.execute_reply": "2023-12-19T01:13:29.508904Z"
    },
    "papermill": {
     "duration": 1.717168,
     "end_time": "2023-12-19T01:13:29.511445",
     "exception": false,
     "start_time": "2023-12-19T01:13:27.794277",
     "status": "completed"
    },
    "tags": []
   },
   "outputs": [
    {
     "name": "stdout",
     "output_type": "stream",
     "text": [
      "env: PYTHONWARNINGS=ignore::FutureWarning\n"
     ]
    }
   ],
   "source": [
    "import os\n",
    "import time\n",
    "import warnings\n",
    "from datetime import timedelta\n",
    "\n",
    "import pandas as pd\n",
    "from joblib import dump\n",
    "import matplotlib.pyplot as plt\n",
    "from pulearn.bagging import BaggingPuClassifier\n",
    "from sklearn.base import clone\n",
    "from sklearn.experimental import enable_iterative_imputer\n",
    "from sklearn.impute import IterativeImputer\n",
    "from sklearn.pipeline import make_pipeline\n",
    "from sklearn.preprocessing import RobustScaler\n",
    "from sklearn.svm import SVC\n",
    "\n",
    "from lib.check_files import check_prepared_data\n",
    "from lib.feature_selection import (\n",
    "    create_dendrogram,\n",
    "    select_features,\n",
    ")\n",
    "from lib.pu import (\n",
    "    BASE_MODELS,\n",
    "    PU_PARAMS,\n",
    "    COLUMNS_TO_DROP,\n",
    "    PRESERVATION_COLUMNS,\n",
    "    downsample_unlabelled,\n",
    ")\n",
    "\n",
    "# Suppress FutureWarning for some versions of Scikit-learn\n",
    "%env PYTHONWARNINGS=ignore::FutureWarning\n",
    "\n",
    "warnings.simplefilter(\"ignore\", FutureWarning)\n"
   ]
  },
  {
   "cell_type": "code",
   "execution_count": 3,
   "id": "3c35c1b8",
   "metadata": {
    "execution": {
     "iopub.execute_input": "2023-12-19T01:13:29.523750Z",
     "iopub.status.busy": "2023-12-19T01:13:29.523425Z",
     "iopub.status.idle": "2023-12-19T01:13:29.527619Z",
     "shell.execute_reply": "2023-12-19T01:13:29.526968Z"
    },
    "papermill": {
     "duration": 0.011466,
     "end_time": "2023-12-19T01:13:29.528949",
     "exception": false,
     "start_time": "2023-12-19T01:13:29.517483",
     "status": "completed"
    },
    "tags": []
   },
   "outputs": [],
   "source": [
    "# Random seed for reproducibility\n",
    "random_seed = 1234\n",
    "\n",
    "# Number of jobs used to train model\n",
    "n_jobs = int(os.environ.get(\"N_JOBS\", 8))\n",
    "\n",
    "# Parameters for models\n",
    "imputer_params = {\n",
    "    \"random_state\": random_seed,\n",
    "    \"add_indicator\": False,\n",
    "}\n",
    "rf_params = {\"random_state\": random_seed}\n",
    "pu_params = {\n",
    "    \"n_jobs\": n_jobs,\n",
    "    \"random_state\": random_seed,\n",
    "    **PU_PARAMS\n",
    "}\n",
    "svm_params = {\n",
    "    \"kernel\": \"rbf\",\n",
    "    \"probability\": True,\n",
    "    \"random_state\": random_seed,\n",
    "}\n"
   ]
  },
  {
   "cell_type": "code",
   "execution_count": 4,
   "id": "554066b8",
   "metadata": {
    "execution": {
     "iopub.execute_input": "2023-12-19T01:13:29.539855Z",
     "iopub.status.busy": "2023-12-19T01:13:29.539700Z",
     "iopub.status.idle": "2023-12-19T01:13:29.544911Z",
     "shell.execute_reply": "2023-12-19T01:13:29.544212Z"
    },
    "papermill": {
     "duration": 0.012575,
     "end_time": "2023-12-19T01:13:29.546619",
     "exception": false,
     "start_time": "2023-12-19T01:13:29.534044",
     "status": "completed"
    },
    "tags": []
   },
   "outputs": [],
   "source": [
    "# Input/output files\n",
    "if use_extracted_data:\n",
    "    data_dir = \"extracted_data\"\n",
    "else:\n",
    "    data_dir = \"prepared_data\"\n",
    "    check_prepared_data(data_dir, verbose=True)\n",
    "data_filename = os.path.join(data_dir, \"training_data_global.csv\")\n",
    "\n",
    "output_dir = os.path.join(\"outputs\", \"global\")\n",
    "os.makedirs(output_dir, exist_ok=True)\n",
    "\n",
    "dendro_dir = os.path.join(output_dir, \"correlation_dendrograms\")\n",
    "os.makedirs(dendro_dir, exist_ok=True)\n",
    "dendro_filename = os.path.join(dendro_dir, \"correlation_dendrogram.png\")\n",
    "selected_features_filename = os.path.join(output_dir, \"selected_features.csv\")\n",
    "\n",
    "pu_dir = os.path.join(output_dir, \"PU\")\n",
    "os.makedirs(pu_dir, exist_ok=True)\n",
    "pu_filename = os.path.join(pu_dir, \"classifier.joblib\")\n",
    "\n",
    "svm_dir = os.path.join(output_dir, \"SVM\")\n",
    "os.makedirs(svm_dir, exist_ok=True)\n",
    "svm_filename = os.path.join(svm_dir, \"classifier.joblib\")\n"
   ]
  },
  {
   "cell_type": "code",
   "execution_count": 5,
   "id": "2a97ba30",
   "metadata": {
    "execution": {
     "iopub.execute_input": "2023-12-19T01:13:29.557722Z",
     "iopub.status.busy": "2023-12-19T01:13:29.557500Z",
     "iopub.status.idle": "2023-12-19T01:13:29.879028Z",
     "shell.execute_reply": "2023-12-19T01:13:29.878285Z"
    },
    "papermill": {
     "duration": 0.329049,
     "end_time": "2023-12-19T01:13:29.880808",
     "exception": false,
     "start_time": "2023-12-19T01:13:29.551759",
     "status": "completed"
    },
    "tags": []
   },
   "outputs": [
    {
     "name": "stdout",
     "output_type": "stream",
     "text": [
      "region          label     \n",
      "East Asia       negative         7\n",
      "                positive         4\n",
      "                unlabelled      71\n",
      "North America   negative        57\n",
      "                positive       259\n",
      "                unlabelled     130\n",
      "Other           negative       218\n",
      "                positive         1\n",
      "                unlabelled      65\n",
      "South America   negative      1100\n",
      "                positive       212\n",
      "                unlabelled     117\n",
      "Southeast Asia  negative         4\n",
      "                positive        51\n",
      "                unlabelled     104\n",
      "Tethys          negative        20\n",
      "                positive        80\n",
      "                unlabelled     120\n",
      "dtype: int64\n"
     ]
    }
   ],
   "source": [
    "data = pd.read_csv(data_filename)\n",
    "\n",
    "# Equal number of positive and unlabelled samples\n",
    "negatives = data[data[\"label\"] == \"negative\"]\n",
    "tmp = data[data[\"label\"] != \"negative\"]\n",
    "tmp_downsampled = downsample_unlabelled(\n",
    "    tmp,\n",
    "    random_state=random_seed,\n",
    ")\n",
    "combined = pd.concat((tmp_downsampled, negatives))\n",
    "cleaned = combined.drop(\n",
    "    columns=list(COLUMNS_TO_DROP | PRESERVATION_COLUMNS),\n",
    "    errors=\"ignore\",\n",
    ")\n",
    "del tmp, tmp_downsampled\n",
    "\n",
    "print(combined.groupby([\"region\", \"label\"]).size())\n"
   ]
  },
  {
   "cell_type": "markdown",
   "id": "24c8b2c6",
   "metadata": {
    "papermill": {
     "duration": 0.005199,
     "end_time": "2023-12-19T01:13:29.892024",
     "exception": false,
     "start_time": "2023-12-19T01:13:29.886825",
     "status": "completed"
    },
    "tags": []
   },
   "source": [
    "## Select uncorrelated features"
   ]
  },
  {
   "cell_type": "markdown",
   "id": "834602b2",
   "metadata": {
    "papermill": {
     "duration": 0.005033,
     "end_time": "2023-12-19T01:13:29.902098",
     "exception": false,
     "start_time": "2023-12-19T01:13:29.897065",
     "status": "completed"
    },
    "tags": []
   },
   "source": [
    "### Global"
   ]
  },
  {
   "cell_type": "code",
   "execution_count": 6,
   "id": "465349cf",
   "metadata": {
    "execution": {
     "iopub.execute_input": "2023-12-19T01:13:29.913376Z",
     "iopub.status.busy": "2023-12-19T01:13:29.913165Z",
     "iopub.status.idle": "2023-12-19T01:13:31.685492Z",
     "shell.execute_reply": "2023-12-19T01:13:31.684779Z"
    },
    "papermill": {
     "duration": 1.780774,
     "end_time": "2023-12-19T01:13:31.688013",
     "exception": false,
     "start_time": "2023-12-19T01:13:29.907239",
     "status": "completed"
    },
    "tags": []
   },
   "outputs": [
    {
     "data": {
      "image/png": "[encoded data removed]",
      "text/plain": [
       "<Figure size 900x700 with 1 Axes>"
      ]
     },
     "metadata": {},
     "output_type": "display_data"
    }
   ],
   "source": [
    "transformer = make_pipeline(\n",
    "    IterativeImputer(**imputer_params),\n",
    "    RobustScaler(),\n",
    ").set_output(transform=\"pandas\")\n",
    "X = transformer.fit_transform(cleaned.drop(columns=\"label\"))\n",
    "\n",
    "distance_threshold = 0.4\n",
    "dendro = create_dendrogram(\n",
    "    X,\n",
    "    show_plot=True,\n",
    "    dendro_kwargs=dict(\n",
    "        orientation=\"right\",\n",
    "    ),\n",
    "    distance_threshold=distance_threshold,\n",
    "    thresh_kwargs=dict(\n",
    "        label=f\"cutoff value ({distance_threshold:0.1f})\",\n",
    "    )\n",
    ")\n",
    "dendro.figure.axes[0].set_title(\"Correlated features (global)\", fontsize=15)\n",
    "dendro.figure.axes[0].legend(fontsize=13)\n",
    "\n",
    "dendro.figure.savefig(dendro_filename, dpi=400, bbox_inches=\"tight\")"
   ]
  },
  {
   "cell_type": "code",
   "execution_count": 7,
   "id": "45b676d9",
   "metadata": {
    "execution": {
     "iopub.execute_input": "2023-12-19T01:13:31.704295Z",
     "iopub.status.busy": "2023-12-19T01:13:31.704122Z",
     "iopub.status.idle": "2023-12-19T01:13:31.712340Z",
     "shell.execute_reply": "2023-12-19T01:13:31.711326Z"
    },
    "papermill": {
     "duration": 0.018433,
     "end_time": "2023-12-19T01:13:31.714055",
     "exception": false,
     "start_time": "2023-12-19T01:13:31.695622",
     "status": "completed"
    },
    "tags": []
   },
   "outputs": [
    {
     "name": "stdout",
     "output_type": "stream",
     "text": [
      "Excluded the following 16 features:\n",
      " - arc_trench_distance (km)\n",
      " - co2_volume (m^3/m^2)\n",
      " - convergence_obliquity (degrees)\n",
      " - convergence_rate (cm/yr)\n",
      " - convergence_rate_orthogonal (cm/yr)\n",
      " - crustal_thickness_max (m)\n",
      " - crustal_thickness_median (m)\n",
      " - crustal_thickness_range (m)\n",
      " - crustal_thickness_std (m)\n",
      " - seafloor_age (Ma)\n",
      " - sediment_thickness (m)\n",
      " - subducted_plate_volume (m)\n",
      " - subducted_sediment_volume (m)\n",
      " - subducting_plate_absolute_obliquity (degrees)\n",
      " - subducting_plate_absolute_velocity (cm/yr)\n",
      " - trench_velocity (cm/yr)\n",
      "Keeping the following 18 features\n",
      " - carbonate_thickness (m)\n",
      " - convergence_rate_parallel (cm/yr)\n",
      " - crustal_thickness_mean (m)\n",
      " - crustal_thickness_min (m)\n",
      " - distance_to_trench (km)\n",
      " - distance_to_trench_edge (degrees)\n",
      " - plate_thickness (m)\n",
      " - seafloor_spreading_rate (km/Myr)\n",
      " - slab_dip (degrees)\n",
      " - slab_flux (m^2/yr)\n",
      " - subducted_carbonates_volume (m)\n",
      " - subducted_water_volume (m)\n",
      " - subducting_plate_absolute_velocity_orthogonal (cm/yr)\n",
      " - subducting_plate_absolute_velocity_parallel (cm/yr)\n",
      " - trench_velocity_obliquity (degrees)\n",
      " - trench_velocity_orthogonal (cm/yr)\n",
      " - trench_velocity_parallel (cm/yr)\n",
      " - water_thickness (m)\n"
     ]
    }
   ],
   "source": [
    "features_table = []\n",
    "features_dict = {}\n",
    "\n",
    "selected_features = select_features(\n",
    "    dendro.distances,\n",
    "    distance_threshold,\n",
    "    names=X.columns,\n",
    ")\n",
    "excluded_features = set(X.columns) - set(selected_features)\n",
    "\n",
    "features_table.append(\n",
    "    pd.Series(\n",
    "        [i in selected_features for i in cleaned.drop(columns=\"label\").columns.to_list()],\n",
    "        index=cleaned.drop(columns=\"label\").columns.to_list(),\n",
    "        name=\"Global\",\n",
    "    )\n",
    ")\n",
    "features_dict[\"Global\"] = selected_features\n",
    "\n",
    "print(\n",
    "    \"Excluded the following \"\n",
    "    f\"{len(excluded_features)} features:\"\n",
    ")\n",
    "for i in sorted(excluded_features):\n",
    "    print(f\" - {i}\")\n",
    "\n",
    "print(\n",
    "    \"Keeping the following \"\n",
    "    f\"{len(selected_features)} features\"\n",
    ")\n",
    "for i in sorted(selected_features):\n",
    "    print(f\" - {i}\")\n"
   ]
  },
  {
   "cell_type": "markdown",
   "id": "0968ba52",
   "metadata": {
    "papermill": {
     "duration": 0.007247,
     "end_time": "2023-12-19T01:13:31.728693",
     "exception": false,
     "start_time": "2023-12-19T01:13:31.721446",
     "status": "completed"
    },
    "tags": []
   },
   "source": [
    "### By region"
   ]
  },
  {
   "cell_type": "code",
   "execution_count": 8,
   "id": "eb179ec7",
   "metadata": {
    "execution": {
     "iopub.execute_input": "2023-12-19T01:13:31.744635Z",
     "iopub.status.busy": "2023-12-19T01:13:31.744117Z",
     "iopub.status.idle": "2023-12-19T01:13:38.469989Z",
     "shell.execute_reply": "2023-12-19T01:13:38.469266Z"
    },
    "papermill": {
     "duration": 6.735929,
     "end_time": "2023-12-19T01:13:38.471869",
     "exception": false,
     "start_time": "2023-12-19T01:13:31.735940",
     "status": "completed"
    },
    "tags": []
   },
   "outputs": [
    {
     "name": "stdout",
     "output_type": "stream",
     "text": [
      "Region: East Asia\n"
     ]
    },
    {
     "name": "stdout",
     "output_type": "stream",
     "text": [
      "Region: North America\n"
     ]
    },
    {
     "name": "stdout",
     "output_type": "stream",
     "text": [
      "Region: Other\n"
     ]
    },
    {
     "name": "stdout",
     "output_type": "stream",
     "text": [
      "Region: South America\n"
     ]
    },
    {
     "name": "stdout",
     "output_type": "stream",
     "text": [
      "Region: Southeast Asia\n"
     ]
    },
    {
     "name": "stdout",
     "output_type": "stream",
     "text": [
      "Region: Tethys\n"
     ]
    }
   ],
   "source": [
    "for region, subset in combined.groupby(\"region\"):\n",
    "    region = str(region)\n",
    "    subset = subset.drop(\n",
    "        columns=list(COLUMNS_TO_DROP | PRESERVATION_COLUMNS),\n",
    "        errors=\"ignore\",\n",
    "    )\n",
    "    print(f\"Region: {region}\")\n",
    "    r = \"_\".join(region.lower().split())\n",
    "\n",
    "    # Feature selection\n",
    "    X_subset = clone(transformer).fit_transform(subset.drop(columns=\"label\"))\n",
    "    dendro_region = create_dendrogram(\n",
    "        X_subset,\n",
    "        show_plot=True,\n",
    "        dendro_kwargs=dict(\n",
    "            orientation=\"right\",\n",
    "        ),\n",
    "        distance_threshold=distance_threshold,\n",
    "        thresh_kwargs=dict(\n",
    "            label=f\"cutoff value ({distance_threshold:0.1f})\",\n",
    "        )\n",
    "    )\n",
    "    dendro_region.figure.axes[0].set_title(f\"Correlated features ({region})\", fontsize=15)\n",
    "    dendro_region.figure.axes[0].legend(fontsize=13)\n",
    "    dendro_region.figure.savefig(\n",
    "        dendro_filename.replace(\".png\", f\"_{r}.png\"),\n",
    "        dpi=400,\n",
    "        bbox_inches=\"tight\",\n",
    "    )\n",
    "    plt.close(dendro_region.figure)\n",
    "    selected_features_region = select_features(\n",
    "        dendro_region.distances,\n",
    "        distance_threshold,\n",
    "        names=X_subset.columns,\n",
    "    )\n",
    "    features_table.append(\n",
    "        pd.Series(\n",
    "            [i in selected_features_region for i in subset.drop(columns=\"label\").columns.to_list()],\n",
    "            index=subset.drop(columns=\"label\").columns.to_list(),\n",
    "            name=region,\n",
    "        )\n",
    "    )\n",
    "    features_dict[region] = selected_features_region\n",
    "\n",
    "features_table = pd.concat(features_table, axis=\"columns\")\n",
    "features_table = features_table.set_index(\n",
    "    pd.Index(features_table.index, name=\"feature\")\n",
    ")\n",
    "features_table.to_csv(selected_features_filename, index=True)"
   ]
  },
  {
   "cell_type": "markdown",
   "id": "b833f960",
   "metadata": {
    "papermill": {
     "duration": 0.007716,
     "end_time": "2023-12-19T01:13:38.487864",
     "exception": false,
     "start_time": "2023-12-19T01:13:38.480148",
     "status": "completed"
    },
    "tags": []
   },
   "source": [
    "## Train the PU models"
   ]
  },
  {
   "cell_type": "markdown",
   "id": "fb4c8456",
   "metadata": {
    "papermill": {
     "duration": 0.00768,
     "end_time": "2023-12-19T01:13:38.503820",
     "exception": false,
     "start_time": "2023-12-19T01:13:38.496140",
     "status": "completed"
    },
    "tags": []
   },
   "source": [
    "### Global"
   ]
  },
  {
   "cell_type": "code",
   "execution_count": 9,
   "id": "e321fbe2",
   "metadata": {
    "execution": {
     "iopub.execute_input": "2023-12-19T01:13:38.520204Z",
     "iopub.status.busy": "2023-12-19T01:13:38.520043Z",
     "iopub.status.idle": "2023-12-19T01:13:45.369771Z",
     "shell.execute_reply": "2023-12-19T01:13:45.369313Z"
    },
    "papermill": {
     "duration": 6.86019,
     "end_time": "2023-12-19T01:13:45.371628",
     "exception": false,
     "start_time": "2023-12-19T01:13:38.511438",
     "status": "completed"
    },
    "tags": []
   },
   "outputs": [
    {
     "name": "stdout",
     "output_type": "stream",
     "text": [
      "Model training time: 0:00:06.841243\n"
     ]
    }
   ],
   "source": [
    "# Wrangle training data\n",
    "train_pu = cleaned[cleaned[\"label\"].isin({\"positive\", \"unlabelled\"})]\n",
    "x_pu = train_pu.drop(columns=\"label\")\n",
    "y_pu = train_pu[\"label\"].replace({\"positive\": 1, \"unlabelled\": 0})\n",
    "\n",
    "# Use a random forest as the base classifier\n",
    "base_model = clone(BASE_MODELS[\"randomforest\"])\n",
    "base_model.set_params(**rf_params)\n",
    "\n",
    "# Impute missing values and scale before training\n",
    "pu_model = make_pipeline(\n",
    "    IterativeImputer(**imputer_params),\n",
    "    RobustScaler(),\n",
    "    BaggingPuClassifier(base_estimator=base_model, **pu_params),\n",
    ")\n",
    "pu_model.set_output(transform=\"pandas\")\n",
    "\n",
    "# Train model\n",
    "t0 = time.time()\n",
    "pu_model.fit(x_pu[selected_features], y_pu)\n",
    "\n",
    "# Save to file\n",
    "dump(pu_model, pu_filename, compress=True)\n",
    "duration = timedelta(seconds=time.time() - t0)\n",
    "print(f\"Model training time: {duration}\")\n"
   ]
  },
  {
   "cell_type": "markdown",
   "id": "ef577927",
   "metadata": {
    "papermill": {
     "duration": 0.008151,
     "end_time": "2023-12-19T01:13:45.388341",
     "exception": false,
     "start_time": "2023-12-19T01:13:45.380190",
     "status": "completed"
    },
    "tags": []
   },
   "source": [
    "### By region"
   ]
  },
  {
   "cell_type": "code",
   "execution_count": 10,
   "id": "d5fc922e",
   "metadata": {
    "execution": {
     "iopub.execute_input": "2023-12-19T01:13:45.405716Z",
     "iopub.status.busy": "2023-12-19T01:13:45.405555Z",
     "iopub.status.idle": "2023-12-19T01:14:02.753444Z",
     "shell.execute_reply": "2023-12-19T01:14:02.752876Z"
    },
    "papermill": {
     "duration": 17.358223,
     "end_time": "2023-12-19T01:14:02.754876",
     "exception": false,
     "start_time": "2023-12-19T01:13:45.396653",
     "status": "completed"
    },
    "tags": []
   },
   "outputs": [
    {
     "name": "stdout",
     "output_type": "stream",
     "text": [
      "Skipping region: East Asia\n",
      "Region: North America\n",
      "label\n",
      "positive      259\n",
      "unlabelled    130\n",
      "dtype: int64\n"
     ]
    },
    {
     "name": "stdout",
     "output_type": "stream",
     "text": [
      "Model training time: 0:00:04.450949\n",
      "\n",
      "Skipping region: Other\n",
      "Region: South America\n",
      "label\n",
      "positive      212\n",
      "unlabelled    117\n",
      "dtype: int64\n"
     ]
    },
    {
     "name": "stderr",
     "output_type": "stream",
     "text": [
      "/home/chris/mambaforge/envs/datamining/lib/python3.11/site-packages/sklearn/impute/_iterative.py:800: ConvergenceWarning: [IterativeImputer] Early stopping criterion not reached.\n"
     ]
    },
    {
     "name": "stdout",
     "output_type": "stream",
     "text": [
      "Model training time: 0:00:04.525795\n",
      "\n",
      "Region: Southeast Asia\n",
      "label\n",
      "positive       51\n",
      "unlabelled    104\n",
      "dtype: int64\n"
     ]
    },
    {
     "name": "stdout",
     "output_type": "stream",
     "text": [
      "Model training time: 0:00:04.247596\n",
      "\n",
      "Region: Tethys\n",
      "label\n",
      "positive       80\n",
      "unlabelled    120\n",
      "dtype: int64\n"
     ]
    },
    {
     "name": "stdout",
     "output_type": "stream",
     "text": [
      "Model training time: 0:00:04.073793\n",
      "\n"
     ]
    }
   ],
   "source": [
    "for region, subset in combined.groupby(\"region\"):\n",
    "    region = str(region)\n",
    "    if (subset[\"label\"] == \"positive\").sum() < 50:\n",
    "        print(f\"Skipping region: {region}\")\n",
    "        continue\n",
    "    subset = subset.drop(\n",
    "        columns=list(COLUMNS_TO_DROP | PRESERVATION_COLUMNS),\n",
    "        errors=\"ignore\",\n",
    "    )\n",
    "    print(f\"Region: {region}\")\n",
    "    r = \"_\".join(region.lower().split())\n",
    "    output_subset = os.path.join(\n",
    "        pu_dir,\n",
    "        f\"classifier_{r}.joblib\",\n",
    "    )\n",
    "\n",
    "    subset = subset[subset[\"label\"].isin({\"positive\", \"unlabelled\"})]\n",
    "    print(subset.groupby(\"label\").size())\n",
    "    x_pu_subset = subset.drop(columns=\"label\")\n",
    "    y_pu_subset = subset[\"label\"].replace({\"positive\": 1, \"unlabelled\": 0})\n",
    "\n",
    "    pu_model_subset = clone(pu_model)\n",
    "    t0 = time.time()\n",
    "    pu_model_subset.fit(x_pu_subset[features_dict[region]], y_pu_subset)\n",
    "    dump(pu_model, output_subset, compress=True)\n",
    "    duration = timedelta(seconds=time.time() - t0)\n",
    "    print(f\"Model training time: {duration}\")\n",
    "\n",
    "    print(\"\")"
   ]
  },
  {
   "cell_type": "markdown",
   "id": "4b2e71f8",
   "metadata": {
    "papermill": {
     "duration": 0.094744,
     "end_time": "2023-12-19T01:14:02.858916",
     "exception": false,
     "start_time": "2023-12-19T01:14:02.764172",
     "status": "completed"
    },
    "tags": []
   },
   "source": [
    "## Train the SVM models"
   ]
  },
  {
   "cell_type": "markdown",
   "id": "b2d3016f",
   "metadata": {
    "papermill": {
     "duration": 0.008195,
     "end_time": "2023-12-19T01:14:02.875744",
     "exception": false,
     "start_time": "2023-12-19T01:14:02.867549",
     "status": "completed"
    },
    "tags": []
   },
   "source": [
    "### Global"
   ]
  },
  {
   "cell_type": "code",
   "execution_count": 11,
   "id": "6782d9d2",
   "metadata": {
    "execution": {
     "iopub.execute_input": "2023-12-19T01:14:02.893460Z",
     "iopub.status.busy": "2023-12-19T01:14:02.893214Z",
     "iopub.status.idle": "2023-12-19T01:14:03.480850Z",
     "shell.execute_reply": "2023-12-19T01:14:03.480281Z"
    },
    "papermill": {
     "duration": 0.598606,
     "end_time": "2023-12-19T01:14:03.482581",
     "exception": false,
     "start_time": "2023-12-19T01:14:02.883975",
     "status": "completed"
    },
    "tags": []
   },
   "outputs": [
    {
     "name": "stdout",
     "output_type": "stream",
     "text": [
      "Model training time: 0:00:00.577707\n"
     ]
    }
   ],
   "source": [
    "# Wrangle training data\n",
    "train_svm = cleaned[cleaned[\"label\"].isin({\"positive\", \"negative\"})]\n",
    "x_svm = train_svm.drop(columns=\"label\")\n",
    "y_svm = train_svm[\"label\"].replace({\"positive\": 1, \"negative\": 0})\n",
    "\n",
    "# Impute missing values and scale before training\n",
    "svm_model = make_pipeline(\n",
    "    IterativeImputer(**imputer_params),\n",
    "    RobustScaler(),\n",
    "    SVC(**svm_params),\n",
    ")\n",
    "svm_model.set_output(transform=\"pandas\")\n",
    "\n",
    "# Train model\n",
    "t0 = time.time()\n",
    "svm_model.fit(x_svm[features_dict[\"Global\"]], y_svm)\n",
    "\n",
    "# Save to file\n",
    "dump(svm_model, svm_filename, compress=True)\n",
    "duration = timedelta(seconds=time.time() - t0)\n",
    "print(f\"Model training time: {duration}\")\n"
   ]
  },
  {
   "cell_type": "markdown",
   "id": "0c3386b5",
   "metadata": {
    "papermill": {
     "duration": 0.0086,
     "end_time": "2023-12-19T01:14:03.500409",
     "exception": false,
     "start_time": "2023-12-19T01:14:03.491809",
     "status": "completed"
    },
    "tags": []
   },
   "source": [
    "### By region"
   ]
  },
  {
   "cell_type": "code",
   "execution_count": 12,
   "id": "a33816bc",
   "metadata": {
    "execution": {
     "iopub.execute_input": "2023-12-19T01:14:03.519203Z",
     "iopub.status.busy": "2023-12-19T01:14:03.518596Z",
     "iopub.status.idle": "2023-12-19T01:14:03.841958Z",
     "shell.execute_reply": "2023-12-19T01:14:03.841388Z"
    },
    "papermill": {
     "duration": 0.334375,
     "end_time": "2023-12-19T01:14:03.843427",
     "exception": false,
     "start_time": "2023-12-19T01:14:03.509052",
     "status": "completed"
    },
    "tags": []
   },
   "outputs": [
    {
     "name": "stdout",
     "output_type": "stream",
     "text": [
      "Skipping region: East Asia\n",
      "\n",
      "Region: North America\n",
      "label\n",
      "negative     57\n",
      "positive    259\n",
      "dtype: int64\n",
      "Model training time: 0:00:00.049677\n",
      "\n",
      "Skipping region: Other\n",
      "\n",
      "Region: South America\n",
      "label\n",
      "negative    1100\n",
      "positive     212\n",
      "dtype: int64\n"
     ]
    },
    {
     "name": "stdout",
     "output_type": "stream",
     "text": [
      "Model training time: 0:00:00.257479\n",
      "\n",
      "Skipping region: Southeast Asia\n",
      "\n",
      "Skipping region: Tethys\n",
      "\n"
     ]
    }
   ],
   "source": [
    "for region, subset in combined.groupby(\"region\"):\n",
    "    region = str(region)\n",
    "    if (\n",
    "        (subset[\"label\"] == \"positive\").sum() < 50\n",
    "        or (subset[\"label\"] == \"negative\").sum() < 50\n",
    "    ):\n",
    "        print(f\"Skipping region: {region}\")\n",
    "        print(\"\")\n",
    "        continue\n",
    "    print(f\"Region: {region}\")\n",
    "    r = \"_\".join(region.lower().split())\n",
    "    output_subset = os.path.join(\n",
    "        svm_dir,\n",
    "        f\"classifier_{r}.joblib\",\n",
    "    )\n",
    "\n",
    "    subset = subset[subset[\"label\"].isin({\"positive\", \"negative\"})]\n",
    "    print(subset.groupby(\"label\").size())\n",
    "    x_svm_subset = subset.drop(columns=\"label\")\n",
    "    y_svm_subset = subset[\"label\"].replace({\"positive\": 1, \"negative\": 0})\n",
    "\n",
    "    svm_model_subset = clone(svm_model)\n",
    "    t0 = time.time()\n",
    "    svm_model_subset.fit(x_svm_subset[features_dict[region]], y_svm_subset)\n",
    "    dump(svm_model_subset, output_subset, compress=True)\n",
    "    duration = timedelta(seconds=time.time() - t0)\n",
    "    print(f\"Model training time: {duration}\")\n",
    "\n",
    "    print(\"\")\n"
   ]
  },
  {
   "cell_type": "code",
   "execution_count": null,
   "id": "71008de2",
   "metadata": {
    "papermill": {
     "duration": 0.008955,
     "end_time": "2023-12-19T01:14:03.861721",
     "exception": false,
     "start_time": "2023-12-19T01:14:03.852766",
     "status": "completed"
    },
    "tags": []
   },
   "outputs": [],
   "source": []
  }
 ],
 "metadata": {
  "kernelspec": {
   "display_name": "datamining",
   "language": "python",
   "name": "python3"
  },
  "language_info": {
   "codemirror_mode": {
    "name": "ipython",
    "version": 3
   },
   "file_extension": ".py",
   "mimetype": "text/x-python",
   "name": "python",
   "nbconvert_exporter": "python",
   "pygments_lexer": "ipython3",
   "version": "3.11.6"
  },
  "papermill": {
   "default_parameters": {},
   "duration": 39.591365,
   "end_time": "2023-12-19T01:14:06.487434",
   "environment_variables": {},
   "exception": null,
   "input_path": "01a-create_classifiers_global.ipynb",
   "output_path": "01a-create_classifiers_global.ipynb",
   "parameters": {},
   "start_time": "2023-12-19T01:13:26.896069",
   "version": "2.4.0"
  }
 },
 "nbformat": 4,
 "nbformat_minor": 5
}