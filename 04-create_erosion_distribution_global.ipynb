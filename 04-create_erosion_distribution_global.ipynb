{
 "cells": [
  {
   "cell_type": "code",
   "execution_count": 1,
   "id": "15741578",
   "metadata": {
    "execution": {
     "iopub.execute_input": "2023-12-16T05:59:07.050693Z",
     "iopub.status.busy": "2023-12-16T05:59:07.050541Z",
     "iopub.status.idle": "2023-12-16T05:59:07.055976Z",
     "shell.execute_reply": "2023-12-16T05:59:07.055510Z"
    },
    "papermill": {
     "duration": 0.01075,
     "end_time": "2023-12-16T05:59:07.057477",
     "exception": false,
     "start_time": "2023-12-16T05:59:07.046727",
     "status": "completed"
    },
    "tags": []
   },
   "outputs": [],
   "source": [
    "use_extracted_data = False"
   ]
  },
  {
   "cell_type": "code",
   "execution_count": 2,
   "id": "fb711475",
   "metadata": {
    "execution": {
     "iopub.execute_input": "2023-12-16T05:59:07.065048Z",
     "iopub.status.busy": "2023-12-16T05:59:07.064903Z",
     "iopub.status.idle": "2023-12-16T05:59:08.611500Z",
     "shell.execute_reply": "2023-12-16T05:59:08.610863Z"
    },
    "papermill": {
     "duration": 1.552099,
     "end_time": "2023-12-16T05:59:08.613303",
     "exception": false,
     "start_time": "2023-12-16T05:59:07.061204",
     "status": "completed"
    },
    "tags": []
   },
   "outputs": [],
   "source": [
    "import os\n",
    "import warnings\n",
    "\n",
    "import matplotlib.pyplot as plt\n",
    "import numpy as np\n",
    "import pandas as pd\n",
    "from joblib import dump\n",
    "from scipy.optimize import differential_evolution\n",
    "from scipy.stats import (\n",
    "    fit,\n",
    "    gengamma,\n",
    ")\n",
    "from sklearn.neighbors import KernelDensity\n",
    "\n",
    "from lib.check_files import check_prepared_data\n",
    "from lib.erodep import clean_outliers\n"
   ]
  },
  {
   "cell_type": "code",
   "execution_count": 3,
   "id": "db65221e",
   "metadata": {
    "execution": {
     "iopub.execute_input": "2023-12-16T05:59:08.620986Z",
     "iopub.status.busy": "2023-12-16T05:59:08.620658Z",
     "iopub.status.idle": "2023-12-16T05:59:08.625003Z",
     "shell.execute_reply": "2023-12-16T05:59:08.624477Z"
    },
    "papermill": {
     "duration": 0.009521,
     "end_time": "2023-12-16T05:59:08.626408",
     "exception": false,
     "start_time": "2023-12-16T05:59:08.616887",
     "status": "completed"
    },
    "tags": []
   },
   "outputs": [],
   "source": [
    "n_jobs = int(os.environ.get(\"N_JOBS\", 8))\n",
    "kde_bandwidth = int(os.environ.get(\"BANDWIDTH\", 1000))\n",
    "random_state = int(os.environ.get(\"RANDOM_STATE\", 1234))\n",
    "outlier_contamination = float(os.environ.get(\"CONTAMINATION\", 0.06))\n",
    "verbose = bool(int(os.environ.get(\"VERBOSE\", 0)))\n",
    "\n",
    "dist_name = \"gengamma\"\n",
    "failure = \"raise\"  # or \"ignore\"\n",
    "\n",
    "gengamma_bounds = {\n",
    "    \"a\": (0, 50),\n",
    "    \"c\": (-50, 50),\n",
    "}\n"
   ]
  },
  {
   "cell_type": "code",
   "execution_count": 4,
   "id": "946bb793",
   "metadata": {
    "execution": {
     "iopub.execute_input": "2023-12-16T05:59:08.633521Z",
     "iopub.status.busy": "2023-12-16T05:59:08.633372Z",
     "iopub.status.idle": "2023-12-16T05:59:08.637274Z",
     "shell.execute_reply": "2023-12-16T05:59:08.636754Z"
    },
    "papermill": {
     "duration": 0.00894,
     "end_time": "2023-12-16T05:59:08.638763",
     "exception": false,
     "start_time": "2023-12-16T05:59:08.629823",
     "status": "completed"
    },
    "tags": []
   },
   "outputs": [],
   "source": [
    "if use_extracted_data:\n",
    "    data_dir = \"extracted_data\"\n",
    "else:\n",
    "    data_dir = \"prepared_data\"\n",
    "    check_prepared_data(data_dir)\n",
    "data_filename = os.path.join(data_dir, \"training_data_global.csv\")\n",
    "\n",
    "outputs_dir = os.path.join(\"outputs\", \"global\")\n",
    "output_parametric = os.path.join(outputs_dir, \"erodep_dist_parametric.joblib\")\n",
    "output_kde = os.path.join(outputs_dir, \"erodep_dist_kde.joblib\")\n",
    "output_image = os.path.join(outputs_dir, \"erodep_dists.png\")\n"
   ]
  },
  {
   "cell_type": "code",
   "execution_count": 5,
   "id": "4513dafb",
   "metadata": {
    "execution": {
     "iopub.execute_input": "2023-12-16T05:59:08.645547Z",
     "iopub.status.busy": "2023-12-16T05:59:08.645399Z",
     "iopub.status.idle": "2023-12-16T05:59:08.940409Z",
     "shell.execute_reply": "2023-12-16T05:59:08.939794Z"
    },
    "papermill": {
     "duration": 0.300423,
     "end_time": "2023-12-16T05:59:08.942263",
     "exception": false,
     "start_time": "2023-12-16T05:59:08.641840",
     "status": "completed"
    },
    "tags": []
   },
   "outputs": [],
   "source": [
    "df = pd.read_csv(data_filename)\n",
    "positives = df[df[\"label\"] == \"positive\"]\n",
    "unlabelled = df[df[\"label\"] == \"unlabelled\"]\n",
    "\n",
    "x_positives = np.array(positives[\"erosion (m)\"])\n",
    "x_unlabelled = np.array(unlabelled[\"erosion (m)\"])\n"
   ]
  },
  {
   "cell_type": "code",
   "execution_count": 6,
   "id": "f5dbf3dd",
   "metadata": {
    "execution": {
     "iopub.execute_input": "2023-12-16T05:59:08.949719Z",
     "iopub.status.busy": "2023-12-16T05:59:08.949565Z",
     "iopub.status.idle": "2023-12-16T05:59:09.184821Z",
     "shell.execute_reply": "2023-12-16T05:59:09.184096Z"
    },
    "papermill": {
     "duration": 0.241072,
     "end_time": "2023-12-16T05:59:09.186769",
     "exception": false,
     "start_time": "2023-12-16T05:59:08.945697",
     "status": "completed"
    },
    "tags": []
   },
   "outputs": [],
   "source": [
    "x_cleaned = clean_outliers(\n",
    "    data=x_positives,\n",
    "    contamination=outlier_contamination,\n",
    "    n_jobs=n_jobs,\n",
    "    random_state=random_state,\n",
    ")\n",
    "x_cleaned = x_cleaned[x_cleaned > 0.0]"
   ]
  },
  {
   "cell_type": "code",
   "execution_count": 7,
   "id": "f91767d0",
   "metadata": {
    "execution": {
     "iopub.execute_input": "2023-12-16T05:59:09.194380Z",
     "iopub.status.busy": "2023-12-16T05:59:09.194119Z",
     "iopub.status.idle": "2023-12-16T05:59:09.355176Z",
     "shell.execute_reply": "2023-12-16T05:59:09.354616Z"
    },
    "papermill": {
     "duration": 0.166751,
     "end_time": "2023-12-16T05:59:09.356780",
     "exception": false,
     "start_time": "2023-12-16T05:59:09.190029",
     "status": "completed"
    },
    "tags": []
   },
   "outputs": [
    {
     "name": "stdout",
     "output_type": "stream",
     "text": [
      "Parametric (gamma) distribution: NLL = 4899\n",
      "Writing parametric distribution to file: outputs/global/erodep_dist_parametric.joblib\n"
     ]
    }
   ],
   "source": [
    "def optimize_func(*args, **kwargs):\n",
    "    return differential_evolution(*args, seed=random_state, **kwargs)\n",
    "\n",
    "\n",
    "with warnings.catch_warnings():\n",
    "    warnings.simplefilter(\"ignore\", RuntimeWarning)\n",
    "    fitted_params = fit(\n",
    "        gengamma,\n",
    "        data=x_cleaned,\n",
    "        bounds=gengamma_bounds,\n",
    "        optimizer=optimize_func,\n",
    "    )\n",
    "if not fitted_params.success:\n",
    "    message = f\"Optimisation failed! {fitted_params.message}\"\n",
    "    if failure == \"raise\":\n",
    "        raise RuntimeError(message)\n",
    "    else:\n",
    "        warnings.warn(message, RuntimeWarning)\n",
    "\n",
    "dist_parametric = gengamma(*(fitted_params.params))\n",
    "nll_parametric = -1 * dist_parametric.logpdf(x_cleaned).sum()\n",
    "\n",
    "dump(dist_parametric, output_parametric, compress=True)\n",
    "if verbose:\n",
    "    print(f\"Parametric (gamma) distribution: NLL = {nll_parametric:0.0f}\")\n",
    "    print(\n",
    "        f\"\"\"Writing parametric distribution to file: {output_parametric}\"\"\"\n",
    "    )\n"
   ]
  },
  {
   "cell_type": "code",
   "execution_count": 8,
   "id": "5e97d97d",
   "metadata": {
    "execution": {
     "iopub.execute_input": "2023-12-16T05:59:09.363860Z",
     "iopub.status.busy": "2023-12-16T05:59:09.363701Z",
     "iopub.status.idle": "2023-12-16T05:59:09.382676Z",
     "shell.execute_reply": "2023-12-16T05:59:09.382150Z"
    },
    "papermill": {
     "duration": 0.023955,
     "end_time": "2023-12-16T05:59:09.384060",
     "exception": false,
     "start_time": "2023-12-16T05:59:09.360105",
     "status": "completed"
    },
    "tags": []
   },
   "outputs": [
    {
     "name": "stdout",
     "output_type": "stream",
     "text": [
      "Kernel density estimate (KDE; bandwidth = 1000): NLL = 4923\n",
      "Writing KDE distribution to file: outputs/global/erodep_dist_kde.joblib\n"
     ]
    }
   ],
   "source": [
    "kde = KernelDensity(\n",
    "    kernel=\"gaussian\",\n",
    "    bandwidth=kde_bandwidth,\n",
    ").fit(x_cleaned.reshape((-1, 1)))\n",
    "nll_kde = -1 * kde.score(x_cleaned.reshape((-1, 1)))\n",
    "\n",
    "dump(kde, output_kde, compress=True)\n",
    "if verbose:\n",
    "    print(\n",
    "        f\"Kernel density estimate (KDE; bandwidth = {kde_bandwidth}): NLL = {nll_kde:0.0f}\"\n",
    "    )\n",
    "    print(\n",
    "        f\"\"\"Writing KDE distribution to file: {output_kde}\"\"\"\n",
    "    )\n"
   ]
  },
  {
   "cell_type": "code",
   "execution_count": 9,
   "id": "c5c1ef39",
   "metadata": {
    "execution": {
     "iopub.execute_input": "2023-12-16T05:59:09.390940Z",
     "iopub.status.busy": "2023-12-16T05:59:09.390790Z",
     "iopub.status.idle": "2023-12-16T05:59:10.086078Z",
     "shell.execute_reply": "2023-12-16T05:59:10.085520Z"
    },
    "papermill": {
     "duration": 0.700959,
     "end_time": "2023-12-16T05:59:10.088135",
     "exception": false,
     "start_time": "2023-12-16T05:59:09.387176",
     "status": "completed"
    },
    "tags": []
   },
   "outputs": [
    {
     "data": {
      "image/png": "[encoded data removed]",
      "text/plain": [
       "<Figure size 640x480 with 1 Axes>"
      ]
     },
     "metadata": {},
     "output_type": "display_data"
    }
   ],
   "source": [
    "dist_x = np.linspace(\n",
    "    positives[\"erosion (m)\"].min(),\n",
    "    positives[\"erosion (m)\"].max(),\n",
    "    500,\n",
    ")\n",
    "y_parametric = dist_parametric.pdf(dist_x)\n",
    "y_kde = np.exp(kde.score_samples(dist_x.reshape((-1, 1))))\n",
    "\n",
    "fig, ax = plt.subplots()\n",
    "nbins = 30\n",
    "_, bins, _ = ax.hist(\n",
    "    unlabelled[\"erosion (m)\"],\n",
    "    bins=nbins,\n",
    "    density=True,\n",
    "    facecolor=\"blue\",\n",
    "    alpha=0.6,\n",
    "    label=\"random\",\n",
    ")\n",
    "ax.hist(\n",
    "    positives[\"erosion (m)\"],\n",
    "    bins=bins,\n",
    "    density=True,\n",
    "    facecolor=\"red\",\n",
    "    alpha=0.6,\n",
    "    label=\"positive\",\n",
    ")\n",
    "ax.plot(\n",
    "    dist_x,\n",
    "    y_parametric,\n",
    "    linestyle=\"dashed\",\n",
    "    color=\"black\",\n",
    "    zorder=10,\n",
    "    label=f\"positive distribution\\n({dist_name}; NLL = {nll_parametric:0.0f})\",\n",
    ")\n",
    "ax.plot(\n",
    "    dist_x,\n",
    "    y_kde,\n",
    "    linestyle=\"solid\",\n",
    "    color=\"black\",\n",
    "    zorder=10,\n",
    "    label=f\"positive distribution\\n(KDE, bandwidth = {kde_bandwidth}; NLL = {nll_kde:0.0f})\",\n",
    ")\n",
    "\n",
    "ax.set_xlabel(\"Cumulative erosion (m)\")\n",
    "ax.set_xlim(0, positives[\"erosion (m)\"].quantile(0.99))\n",
    "ax.legend(loc=\"best\")\n",
    "fig.savefig(output_image, dpi=400, bbox_inches=\"tight\")\n"
   ]
  },
  {
   "cell_type": "code",
   "execution_count": null,
   "id": "e1a064e3",
   "metadata": {
    "papermill": {
     "duration": 0.00395,
     "end_time": "2023-12-16T05:59:10.096470",
     "exception": false,
     "start_time": "2023-12-16T05:59:10.092520",
     "status": "completed"
    },
    "tags": []
   },
   "outputs": [],
   "source": []
  }
 ],
 "metadata": {
  "kernelspec": {
   "display_name": "datamining",
   "language": "python",
   "name": "python3"
  },
  "language_info": {
   "codemirror_mode": {
    "name": "ipython",
    "version": 3
   },
   "file_extension": ".py",
   "mimetype": "text/x-python",
   "name": "python",
   "nbconvert_exporter": "python",
   "pygments_lexer": "ipython3",
   "version": "3.11.6"
  },
  "papermill": {
   "default_parameters": {},
   "duration": 4.526218,
   "end_time": "2023-12-16T05:59:10.717488",
   "environment_variables": {},
   "exception": null,
   "input_path": "04-create_erosion_distribution_global.ipynb",
   "output_path": "04-create_erosion_distribution_global_output.ipynb",
   "parameters": {},
   "start_time": "2023-12-16T05:59:06.191270",
   "version": "2.4.0"
  }
 },
 "nbformat": 4,
 "nbformat_minor": 5
}