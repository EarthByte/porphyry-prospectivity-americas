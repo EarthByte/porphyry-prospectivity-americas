{
 "cells": [
  {
   "attachments": {},
   "cell_type": "markdown",
   "id": "411076b7",
   "metadata": {
    "papermill": {
     "duration": 0.001767,
     "end_time": "2023-12-02T10:35:26.144118",
     "exception": false,
     "start_time": "2023-12-02T10:35:26.142351",
     "status": "completed"
    },
    "tags": []
   },
   "source": [
    "## Probability maps animation\n",
    "\n",
    "This notebook creates an animation showing the evolution of the predicted time-dependent deposit probability from 170Ma-present. The notebook `02-create_probability_maps.ipynb` must have been run previously."
   ]
  },
  {
   "cell_type": "code",
   "execution_count": 1,
   "id": "ace4fd81",
   "metadata": {
    "execution": {
     "iopub.execute_input": "2023-12-02T10:35:26.149046Z",
     "iopub.status.busy": "2023-12-02T10:35:26.148522Z",
     "iopub.status.idle": "2023-12-02T10:35:26.155443Z",
     "shell.execute_reply": "2023-12-02T10:35:26.154799Z"
    },
    "papermill": {
     "duration": 0.01067,
     "end_time": "2023-12-02T10:35:26.156606",
     "exception": false,
     "start_time": "2023-12-02T10:35:26.145936",
     "status": "completed"
    },
    "tags": []
   },
   "outputs": [],
   "source": [
    "use_extracted_data = False\n"
   ]
  },
  {
   "cell_type": "code",
   "execution_count": 2,
   "id": "e7e3fab8",
   "metadata": {
    "execution": {
     "iopub.execute_input": "2023-12-02T10:35:26.161484Z",
     "iopub.status.busy": "2023-12-02T10:35:26.161135Z",
     "iopub.status.idle": "2023-12-02T10:35:27.394813Z",
     "shell.execute_reply": "2023-12-02T10:35:27.393913Z"
    },
    "papermill": {
     "duration": 1.238095,
     "end_time": "2023-12-02T10:35:27.396517",
     "exception": false,
     "start_time": "2023-12-02T10:35:26.158422",
     "status": "completed"
    },
    "tags": []
   },
   "outputs": [
    {
     "name": "stdout",
     "output_type": "stream",
     "text": [
      "env: PYTHONWARNINGS=ignore::UserWarning\n"
     ]
    }
   ],
   "source": [
    "import glob\n",
    "import os\n",
    "import tempfile\n",
    "\n",
    "import cartopy.crs as ccrs\n",
    "import pandas as pd\n",
    "import pygplates\n",
    "from gplately import (\n",
    "    PlateReconstruction,\n",
    "    PlotTopologies,\n",
    ")\n",
    "from joblib import Parallel, delayed\n",
    "from moviepy.video.io.ImageSequenceClip import ImageSequenceClip\n",
    "\n",
    "from lib.check_files import (\n",
    "    check_plate_model,\n",
    "    check_prepared_data,\n",
    ")\n",
    "from lib.visualisation import plot\n",
    "\n",
    "# Suppress occasional joblib warnings\n",
    "%env PYTHONWARNINGS=ignore::UserWarning\n",
    "\n",
    "NOTEBOOK = \"get_ipython\" in dir()\n"
   ]
  },
  {
   "cell_type": "code",
   "execution_count": 3,
   "id": "d54fd5c5",
   "metadata": {
    "execution": {
     "iopub.execute_input": "2023-12-02T10:35:27.405918Z",
     "iopub.status.busy": "2023-12-02T10:35:27.405343Z",
     "iopub.status.idle": "2023-12-02T10:35:27.409717Z",
     "shell.execute_reply": "2023-12-02T10:35:27.409099Z"
    },
    "papermill": {
     "duration": 0.010518,
     "end_time": "2023-12-02T10:35:27.411109",
     "exception": false,
     "start_time": "2023-12-02T10:35:27.400591",
     "status": "completed"
    },
    "tags": []
   },
   "outputs": [],
   "source": [
    "n_jobs = int(os.environ.get(\"N_JOBS\", 8))\n",
    "verbose = True\n",
    "projection = ccrs.Orthographic(-100, 10)\n",
    "\n",
    "output_dir = os.path.join(\"outputs\", \"Americas\")\n"
   ]
  },
  {
   "attachments": {},
   "cell_type": "markdown",
   "id": "6baea9c3",
   "metadata": {
    "papermill": {
     "duration": 0.003686,
     "end_time": "2023-12-02T10:35:27.425929",
     "exception": false,
     "start_time": "2023-12-02T10:35:27.422243",
     "status": "completed"
    },
    "tags": []
   },
   "source": [
    "### Load plate model files"
   ]
  },
  {
   "cell_type": "code",
   "execution_count": 4,
   "id": "49e83a16",
   "metadata": {
    "execution": {
     "iopub.execute_input": "2023-12-02T10:35:27.434549Z",
     "iopub.status.busy": "2023-12-02T10:35:27.434030Z",
     "iopub.status.idle": "2023-12-02T10:35:33.125008Z",
     "shell.execute_reply": "2023-12-02T10:35:33.124222Z"
    },
    "papermill": {
     "duration": 5.69734,
     "end_time": "2023-12-02T10:35:33.126955",
     "exception": false,
     "start_time": "2023-12-02T10:35:27.429615",
     "status": "completed"
    },
    "tags": []
   },
   "outputs": [],
   "source": [
    "model_dir = \"plate_model\"\n",
    "check_plate_model(model_dir, verbose=True)\n",
    "feature_filenames = glob.glob(\n",
    "    os.path.join(\n",
    "        model_dir,\n",
    "        r\"*.gpml\",\n",
    "    )\n",
    ")\n",
    "rotation_filenames = glob.glob(\n",
    "    os.path.join(\n",
    "        model_dir,\n",
    "        r\"*.rot\",\n",
    "    )\n",
    ")\n",
    "coastlines_filename = os.path.join(\n",
    "    model_dir,\n",
    "    \"StaticGeometries\",\n",
    "    \"AgeGridInput\",\n",
    "    \"CombinedTerranes.gpml\",\n",
    ")\n",
    "\n",
    "reconstruction = PlateReconstruction(\n",
    "    rotation_model=rotation_filenames,\n",
    "    topology_features=pygplates.FeatureCollection(\n",
    "        [\n",
    "            i for i in pygplates.FeaturesFunctionArgument(\n",
    "                feature_filenames\n",
    "            ).get_features()\n",
    "            if i.get_feature_type().to_qualified_string()\n",
    "            != \"gpml:TopologicalSlabBoundary\"\n",
    "        ]\n",
    "        \n",
    "    ),\n",
    ")\n",
    "gplot = PlotTopologies(\n",
    "    plate_reconstruction=reconstruction,\n",
    "    coastlines=coastlines_filename,\n",
    ")\n"
   ]
  },
  {
   "attachments": {},
   "cell_type": "markdown",
   "id": "c370e1f7",
   "metadata": {
    "papermill": {
     "duration": 0.003146,
     "end_time": "2023-12-02T10:35:33.133851",
     "exception": false,
     "start_time": "2023-12-02T10:35:33.130705",
     "status": "completed"
    },
    "tags": []
   },
   "source": [
    "### Load training data"
   ]
  },
  {
   "cell_type": "code",
   "execution_count": 5,
   "id": "fd3cdf9e",
   "metadata": {
    "execution": {
     "iopub.execute_input": "2023-12-02T10:35:33.157561Z",
     "iopub.status.busy": "2023-12-02T10:35:33.156978Z",
     "iopub.status.idle": "2023-12-02T10:35:33.455056Z",
     "shell.execute_reply": "2023-12-02T10:35:33.454328Z"
    },
    "papermill": {
     "duration": 0.304515,
     "end_time": "2023-12-02T10:35:33.457015",
     "exception": false,
     "start_time": "2023-12-02T10:35:33.152500",
     "status": "completed"
    },
    "tags": []
   },
   "outputs": [],
   "source": [
    "if use_extracted_data:\n",
    "    data_dir = \"extracted_data\"\n",
    "else:\n",
    "    data_dir = \"prepared_data\"\n",
    "    check_prepared_data(data_dir, verbose=True)\n",
    "training_filename = os.path.join(data_dir, \"training_data.csv\")\n",
    "training_data = pd.read_csv(training_filename)\n",
    "positives = training_data[training_data[\"label\"] == \"positive\"]\n"
   ]
  },
  {
   "attachments": {},
   "cell_type": "markdown",
   "id": "e87616db",
   "metadata": {
    "papermill": {
     "duration": 0.003441,
     "end_time": "2023-12-02T10:35:33.464442",
     "exception": false,
     "start_time": "2023-12-02T10:35:33.461001",
     "status": "completed"
    },
    "tags": []
   },
   "source": [
    "### Example plot"
   ]
  },
  {
   "cell_type": "code",
   "execution_count": 6,
   "id": "9de83a74",
   "metadata": {
    "execution": {
     "iopub.execute_input": "2023-12-02T10:35:33.472534Z",
     "iopub.status.busy": "2023-12-02T10:35:33.472328Z",
     "iopub.status.idle": "2023-12-02T10:35:38.350153Z",
     "shell.execute_reply": "2023-12-02T10:35:38.349422Z"
    },
    "papermill": {
     "duration": 4.88692,
     "end_time": "2023-12-02T10:35:38.354811",
     "exception": false,
     "start_time": "2023-12-02T10:35:33.467891",
     "status": "completed"
    },
    "tags": []
   },
   "outputs": [
    {
     "name": "stdout",
     "output_type": "stream",
     "text": [
      "PU example plot:\n"
     ]
    },
    {
     "data": {
      "image/png": "[encoded data removed]",
      "text/plain": [
       "<Figure size 1000x1000 with 2 Axes>"
      ]
     },
     "metadata": {},
     "output_type": "display_data"
    }
   ],
   "source": [
    "# Example plot (only in notebook)\n",
    "if NOTEBOOK:\n",
    "    t_example = 110  # Ma\n",
    "    gplot.time = t_example\n",
    "    algorithm = \"PU\"\n",
    "    probs_dir = os.path.join(output_dir, algorithm, \"probability_grids\")\n",
    "\n",
    "    print(f\"{algorithm} example plot:\")\n",
    "    fig = plot(\n",
    "        gplot=gplot,\n",
    "        probabilities=os.path.join(\n",
    "            probs_dir,\n",
    "            f\"probability_grid_{t_example:0.0f}Ma.nc\",\n",
    "        ),\n",
    "        positives=positives,\n",
    "        projection=projection,\n",
    "        time=t_example,\n",
    "        central_meridian=-100,\n",
    "    )\n"
   ]
  },
  {
   "cell_type": "markdown",
   "id": "93d28a33",
   "metadata": {
    "papermill": {
     "duration": 0.007999,
     "end_time": "2023-12-02T10:35:38.371363",
     "exception": false,
     "start_time": "2023-12-02T10:35:38.363364",
     "status": "completed"
    },
    "tags": []
   },
   "source": [
    "### Create all plots"
   ]
  },
  {
   "cell_type": "code",
   "execution_count": 7,
   "id": "572ffe29",
   "metadata": {
    "execution": {
     "iopub.execute_input": "2023-12-02T10:35:38.389256Z",
     "iopub.status.busy": "2023-12-02T10:35:38.389034Z",
     "iopub.status.idle": "2023-12-02T10:49:26.303215Z",
     "shell.execute_reply": "2023-12-02T10:49:26.302394Z"
    },
    "papermill": {
     "duration": 827.925419,
     "end_time": "2023-12-02T10:49:26.304940",
     "exception": false,
     "start_time": "2023-12-02T10:35:38.379521",
     "status": "completed"
    },
    "tags": []
   },
   "outputs": [
    {
     "name": "stderr",
     "output_type": "stream",
     "text": [
      "[Parallel(n_jobs=8)]: Using backend LokyBackend with 8 concurrent workers.\n"
     ]
    },
    {
     "name": "stderr",
     "output_type": "stream",
     "text": [
      "[Parallel(n_jobs=8)]: Done  34 tasks      | elapsed:  1.1min\n"
     ]
    },
    {
     "name": "stderr",
     "output_type": "stream",
     "text": [
      "[Parallel(n_jobs=8)]: Done 171 out of 171 | elapsed:  4.6min finished\n"
     ]
    },
    {
     "name": "stdout",
     "output_type": "stream",
     "text": [
      "Moviepy - Building video outputs/Americas/PU/probability_animation.mp4.\n",
      "Moviepy - Writing video outputs/Americas/PU/probability_animation.mp4\n",
      "\n"
     ]
    },
    {
     "name": "stderr",
     "output_type": "stream",
     "text": [
      "\r",
      "t:   0%|                                                                                                     | 0/1026 [00:00<?, ?it/s, now=None]"
     ]
    },
    {
     "name": "stderr",
     "output_type": "stream",
     "text": [
      "\r",
      "t:   0%|▏                                                                                            | 2/1026 [00:00<00:51, 19.74it/s, now=None]"
     ]
    },
    {
     "name": "stderr",
     "output_type": "stream",
     "text": [
      "\r",
      "t:   0%|▎                                                                                            | 4/1026 [00:00<01:26, 11.87it/s, now=None]"
     ]
    },
    {
     "name": "stderr",
     "output_type": "stream",
     "text": [
      "\r",
      "t:   1%|▌                                                                                            | 6/1026 [00:00<01:36, 10.56it/s, now=None]"
     ]
    },
    {
     "name": "stderr",
     "output_type": "stream",
     "text": [
      "\r",
      "t:   1%|▋                                                                                            | 8/1026 [00:00<01:57,  8.66it/s, now=None]"
     ]
    },
    {
     "name": "stderr",
     "output_type": "stream",
     "text": [
      "\r",
      "t:   1%|▉                                                                                           | 10/1026 [00:01<01:50,  9.23it/s, now=None]"
     ]
    },
    {
     "name": "stderr",
     "output_type": "stream",
     "text": [
      "\r",
      "t:   1%|▉                                                                                           | 11/1026 [00:01<01:48,  9.35it/s, now=None]"
     ]
    },
    {
     "name": "stderr",
     "output_type": "stream",
     "text": [
      "\r",
      "t:   1%|█                                                                                           | 12/1026 [00:01<01:47,  9.41it/s, now=None]"
     ]
    },
    {
     "name": "stderr",
     "output_type": "stream",
     "text": [
      "\r",
      "t:   1%|█▏                                                                                          | 13/1026 [00:01<01:46,  9.52it/s, now=None]"
     ]
    },
    {
     "name": "stderr",
     "output_type": "stream",
     "text": [
      "\r",
      "t:   1%|█▎                                                                                          | 14/1026 [00:01<02:08,  7.89it/s, now=None]"
     ]
    },
    {
     "name": "stderr",
     "output_type": "stream",
     "text": [
      "\r",
      "t:   1%|█▎                                                                                          | 15/1026 [00:01<02:01,  8.33it/s, now=None]"
     ]
    },
    {
     "name": "stderr",
     "output_type": "stream",
     "text": [
      "\r",
      "t:   2%|█▍                                                                                          | 16/1026 [00:01<01:56,  8.65it/s, now=None]"
     ]
    },
    {
     "name": "stderr",
     "output_type": "stream",
     "text": [
      "\r",
      "t:   2%|█▌                                                                                          | 17/1026 [00:01<01:52,  8.96it/s, now=None]"
     ]
    },
    {
     "name": "stderr",
     "output_type": "stream",
     "text": [
      "\r",
      "t:   2%|█▌                                                                                          | 18/1026 [00:01<01:50,  9.16it/s, now=None]"
     ]
    },
    {
     "name": "stderr",
     "output_type": "stream",
     "text": [
      "\r",
      "t:   2%|█▋                                                                                          | 19/1026 [00:02<01:50,  9.07it/s, now=None]"
     ]
    },
    {
     "name": "stderr",
     "output_type": "stream",
     "text": [
      "\r",
      "t:   2%|█▊                                                                                          | 20/1026 [00:02<02:14,  7.46it/s, now=None]"
     ]
    },
    {
     "name": "stderr",
     "output_type": "stream",
     "text": [
      "\r",
      "t:   2%|█▉                                                                                          | 21/1026 [00:02<02:05,  8.03it/s, now=None]"
     ]
    },
    {
     "name": "stderr",
     "output_type": "stream",
     "text": [
      "\r",
      "t:   2%|██                                                                                          | 23/1026 [00:02<01:53,  8.80it/s, now=None]"
     ]
    },
    {
     "name": "stderr",
     "output_type": "stream",
     "text": [
      "\r",
      "t:   2%|██▏                                                                                         | 24/1026 [00:02<01:51,  9.01it/s, now=None]"
     ]
    },
    {
     "name": "stderr",
     "output_type": "stream",
     "text": [
      "\r",
      "t:   3%|██▎                                                                                         | 26/1026 [00:02<02:01,  8.26it/s, now=None]"
     ]
    },
    {
     "name": "stderr",
     "output_type": "stream",
     "text": [
      "\r",
      "t:   3%|██▍                                                                                         | 27/1026 [00:03<01:58,  8.43it/s, now=None]"
     ]
    },
    {
     "name": "stderr",
     "output_type": "stream",
     "text": [
      "\r",
      "t:   3%|██▌                                                                                         | 29/1026 [00:03<01:52,  8.85it/s, now=None]"
     ]
    },
    {
     "name": "stderr",
     "output_type": "stream",
     "text": [
      "\r",
      "t:   3%|██▋                                                                                         | 30/1026 [00:03<01:50,  9.05it/s, now=None]"
     ]
    },
    {
     "name": "stderr",
     "output_type": "stream",
     "text": [
      "\r",
      "t:   3%|██▊                                                                                         | 32/1026 [00:03<02:00,  8.22it/s, now=None]"
     ]
    },
    {
     "name": "stderr",
     "output_type": "stream",
     "text": [
      "\r",
      "t:   3%|██▉                                                                                         | 33/1026 [00:03<01:56,  8.49it/s, now=None]"
     ]
    },
    {
     "name": "stderr",
     "output_type": "stream",
     "text": [
      "\r",
      "t:   3%|███                                                                                         | 34/1026 [00:03<01:53,  8.75it/s, now=None]"
     ]
    },
    {
     "name": "stderr",
     "output_type": "stream",
     "text": [
      "\r",
      "t:   3%|███▏                                                                                        | 35/1026 [00:03<01:52,  8.82it/s, now=None]"
     ]
    },
    {
     "name": "stderr",
     "output_type": "stream",
     "text": [
      "\r",
      "t:   4%|███▏                                                                                        | 36/1026 [00:04<01:51,  8.86it/s, now=None]"
     ]
    },
    {
     "name": "stderr",
     "output_type": "stream",
     "text": [
      "\r",
      "t:   4%|███▍                                                                                        | 38/1026 [00:04<02:02,  8.07it/s, now=None]"
     ]
    },
    {
     "name": "stderr",
     "output_type": "stream",
     "text": [
      "\r",
      "t:   4%|███▍                                                                                        | 39/1026 [00:04<01:57,  8.42it/s, now=None]"
     ]
    },
    {
     "name": "stderr",
     "output_type": "stream",
     "text": [
      "\r",
      "t:   4%|███▋                                                                                        | 41/1026 [00:04<01:48,  9.09it/s, now=None]"
     ]
    },
    {
     "name": "stderr",
     "output_type": "stream",
     "text": [
      "\r",
      "t:   4%|███▊                                                                                        | 42/1026 [00:04<01:46,  9.22it/s, now=None]"
     ]
    },
    {
     "name": "stderr",
     "output_type": "stream",
     "text": [
      "\r",
      "t:   4%|███▉                                                                                        | 44/1026 [00:04<01:58,  8.30it/s, now=None]"
     ]
    },
    {
     "name": "stderr",
     "output_type": "stream",
     "text": [
      "\r",
      "t:   4%|████                                                                                        | 45/1026 [00:05<01:56,  8.44it/s, now=None]"
     ]
    },
    {
     "name": "stderr",
     "output_type": "stream",
     "text": [
      "\r",
      "t:   5%|████▏                                                                                       | 47/1026 [00:05<01:48,  9.03it/s, now=None]"
     ]
    },
    {
     "name": "stderr",
     "output_type": "stream",
     "text": [
      "\r",
      "t:   5%|████▎                                                                                       | 48/1026 [00:05<01:46,  9.17it/s, now=None]"
     ]
    },
    {
     "name": "stderr",
     "output_type": "stream",
     "text": [
      "\r",
      "t:   5%|████▍                                                                                       | 50/1026 [00:05<01:57,  8.30it/s, now=None]"
     ]
    },
    {
     "name": "stderr",
     "output_type": "stream",
     "text": [
      "\r",
      "t:   5%|████▌                                                                                       | 51/1026 [00:05<01:53,  8.56it/s, now=None]"
     ]
    },
    {
     "name": "stderr",
     "output_type": "stream",
     "text": [
      "\r",
      "t:   5%|████▊                                                                                       | 53/1026 [00:05<01:47,  9.03it/s, now=None]"
     ]
    },
    {
     "name": "stderr",
     "output_type": "stream",
     "text": [
      "\r",
      "t:   5%|████▊                                                                                       | 54/1026 [00:06<01:46,  9.16it/s, now=None]"
     ]
    },
    {
     "name": "stderr",
     "output_type": "stream",
     "text": [
      "\r",
      "t:   5%|█████                                                                                       | 56/1026 [00:06<01:55,  8.41it/s, now=None]"
     ]
    },
    {
     "name": "stderr",
     "output_type": "stream",
     "text": [
      "\r",
      "t:   6%|█████                                                                                       | 57/1026 [00:06<01:52,  8.65it/s, now=None]"
     ]
    },
    {
     "name": "stderr",
     "output_type": "stream",
     "text": [
      "\r",
      "t:   6%|█████▎                                                                                      | 59/1026 [00:06<01:47,  8.99it/s, now=None]"
     ]
    },
    {
     "name": "stderr",
     "output_type": "stream",
     "text": [
      "\r",
      "t:   6%|█████▍                                                                                      | 60/1026 [00:06<01:48,  8.90it/s, now=None]"
     ]
    },
    {
     "name": "stderr",
     "output_type": "stream",
     "text": [
      "\r",
      "t:   6%|█████▌                                                                                      | 62/1026 [00:07<01:58,  8.11it/s, now=None]"
     ]
    },
    {
     "name": "stderr",
     "output_type": "stream",
     "text": [
      "\r",
      "t:   6%|█████▋                                                                                      | 63/1026 [00:07<01:54,  8.41it/s, now=None]"
     ]
    },
    {
     "name": "stderr",
     "output_type": "stream",
     "text": [
      "\r",
      "t:   6%|█████▊                                                                                      | 65/1026 [00:07<01:47,  8.92it/s, now=None]"
     ]
    },
    {
     "name": "stderr",
     "output_type": "stream",
     "text": [
      "\r",
      "t:   6%|█████▉                                                                                      | 66/1026 [00:07<01:45,  9.09it/s, now=None]"
     ]
    },
    {
     "name": "stderr",
     "output_type": "stream",
     "text": [
      "\r",
      "t:   7%|██████                                                                                      | 68/1026 [00:07<01:55,  8.31it/s, now=None]"
     ]
    },
    {
     "name": "stderr",
     "output_type": "stream",
     "text": [
      "\r",
      "t:   7%|██████▏                                                                                     | 69/1026 [00:07<01:53,  8.46it/s, now=None]"
     ]
    },
    {
     "name": "stderr",
     "output_type": "stream",
     "text": [
      "\r",
      "t:   7%|██████▎                                                                                     | 71/1026 [00:08<01:44,  9.10it/s, now=None]"
     ]
    },
    {
     "name": "stderr",
     "output_type": "stream",
     "text": [
      "\r",
      "t:   7%|██████▍                                                                                     | 72/1026 [00:08<01:43,  9.23it/s, now=None]"
     ]
    },
    {
     "name": "stderr",
     "output_type": "stream",
     "text": [
      "\r",
      "t:   7%|██████▋                                                                                     | 74/1026 [00:08<01:54,  8.33it/s, now=None]"
     ]
    },
    {
     "name": "stderr",
     "output_type": "stream",
     "text": [
      "\r",
      "t:   7%|██████▋                                                                                     | 75/1026 [00:08<01:50,  8.60it/s, now=None]"
     ]
    },
    {
     "name": "stderr",
     "output_type": "stream",
     "text": [
      "\r",
      "t:   8%|██████▉                                                                                     | 77/1026 [00:08<01:44,  9.09it/s, now=None]"
     ]
    },
    {
     "name": "stderr",
     "output_type": "stream",
     "text": [
      "\r",
      "t:   8%|██████▉                                                                                     | 78/1026 [00:08<01:42,  9.22it/s, now=None]"
     ]
    },
    {
     "name": "stderr",
     "output_type": "stream",
     "text": [
      "\r",
      "t:   8%|███████▏                                                                                    | 80/1026 [00:09<01:53,  8.33it/s, now=None]"
     ]
    },
    {
     "name": "stderr",
     "output_type": "stream",
     "text": [
      "\r",
      "t:   8%|███████▎                                                                                    | 81/1026 [00:09<01:49,  8.60it/s, now=None]"
     ]
    },
    {
     "name": "stderr",
     "output_type": "stream",
     "text": [
      "\r",
      "t:   8%|███████▍                                                                                    | 83/1026 [00:09<01:42,  9.22it/s, now=None]"
     ]
    },
    {
     "name": "stderr",
     "output_type": "stream",
     "text": [
      "\r",
      "t:   8%|███████▌                                                                                    | 84/1026 [00:09<01:40,  9.33it/s, now=None]"
     ]
    },
    {
     "name": "stderr",
     "output_type": "stream",
     "text": [
      "\r",
      "t:   8%|███████▋                                                                                    | 86/1026 [00:09<01:52,  8.36it/s, now=None]"
     ]
    },
    {
     "name": "stderr",
     "output_type": "stream",
     "text": [
      "\r",
      "t:   8%|███████▊                                                                                    | 87/1026 [00:09<01:48,  8.62it/s, now=None]"
     ]
    },
    {
     "name": "stderr",
     "output_type": "stream",
     "text": [
      "\r",
      "t:   9%|███████▉                                                                                    | 89/1026 [00:10<01:44,  8.93it/s, now=None]"
     ]
    },
    {
     "name": "stderr",
     "output_type": "stream",
     "text": [
      "\r",
      "t:   9%|████████                                                                                    | 90/1026 [00:10<01:44,  8.95it/s, now=None]"
     ]
    },
    {
     "name": "stderr",
     "output_type": "stream",
     "text": [
      "\r",
      "t:   9%|████████▏                                                                                   | 92/1026 [00:10<01:52,  8.27it/s, now=None]"
     ]
    },
    {
     "name": "stderr",
     "output_type": "stream",
     "text": [
      "\r",
      "t:   9%|████████▎                                                                                   | 93/1026 [00:10<01:49,  8.55it/s, now=None]"
     ]
    },
    {
     "name": "stderr",
     "output_type": "stream",
     "text": [
      "\r",
      "t:   9%|████████▌                                                                                   | 95/1026 [00:10<01:41,  9.14it/s, now=None]"
     ]
    },
    {
     "name": "stderr",
     "output_type": "stream",
     "text": [
      "\r",
      "t:   9%|████████▌                                                                                   | 96/1026 [00:10<01:40,  9.27it/s, now=None]"
     ]
    },
    {
     "name": "stderr",
     "output_type": "stream",
     "text": [
      "\r",
      "t:  10%|████████▊                                                                                   | 98/1026 [00:11<01:52,  8.27it/s, now=None]"
     ]
    },
    {
     "name": "stderr",
     "output_type": "stream",
     "text": [
      "\r",
      "t:  10%|████████▉                                                                                   | 99/1026 [00:11<01:50,  8.37it/s, now=None]"
     ]
    },
    {
     "name": "stderr",
     "output_type": "stream",
     "text": [
      "\r",
      "t:  10%|████████▉                                                                                  | 101/1026 [00:11<01:46,  8.72it/s, now=None]"
     ]
    },
    {
     "name": "stderr",
     "output_type": "stream",
     "text": [
      "\r",
      "t:  10%|█████████                                                                                  | 102/1026 [00:11<01:44,  8.87it/s, now=None]"
     ]
    },
    {
     "name": "stderr",
     "output_type": "stream",
     "text": [
      "\r",
      "t:  10%|█████████▏                                                                                 | 104/1026 [00:11<01:54,  8.07it/s, now=None]"
     ]
    },
    {
     "name": "stderr",
     "output_type": "stream",
     "text": [
      "\r",
      "t:  10%|█████████▎                                                                                 | 105/1026 [00:11<01:50,  8.33it/s, now=None]"
     ]
    },
    {
     "name": "stderr",
     "output_type": "stream",
     "text": [
      "\r",
      "t:  10%|█████████▍                                                                                 | 107/1026 [00:12<01:43,  8.92it/s, now=None]"
     ]
    },
    {
     "name": "stderr",
     "output_type": "stream",
     "text": [
      "\r",
      "t:  11%|█████████▌                                                                                 | 108/1026 [00:12<01:41,  9.05it/s, now=None]"
     ]
    },
    {
     "name": "stderr",
     "output_type": "stream",
     "text": [
      "\r",
      "t:  11%|█████████▊                                                                                 | 110/1026 [00:12<01:52,  8.13it/s, now=None]"
     ]
    },
    {
     "name": "stderr",
     "output_type": "stream",
     "text": [
      "\r",
      "t:  11%|█████████▊                                                                                 | 111/1026 [00:12<01:49,  8.39it/s, now=None]"
     ]
    },
    {
     "name": "stderr",
     "output_type": "stream",
     "text": [
      "\r",
      "t:  11%|█████████▉                                                                                 | 112/1026 [00:12<01:45,  8.70it/s, now=None]"
     ]
    },
    {
     "name": "stderr",
     "output_type": "stream",
     "text": [
      "\r",
      "t:  11%|██████████                                                                                 | 113/1026 [00:12<01:42,  8.92it/s, now=None]"
     ]
    },
    {
     "name": "stderr",
     "output_type": "stream",
     "text": [
      "\r",
      "t:  11%|██████████                                                                                 | 114/1026 [00:12<01:40,  9.05it/s, now=None]"
     ]
    },
    {
     "name": "stderr",
     "output_type": "stream",
     "text": [
      "\r",
      "t:  11%|██████████▎                                                                                | 116/1026 [00:13<01:51,  8.18it/s, now=None]"
     ]
    },
    {
     "name": "stderr",
     "output_type": "stream",
     "text": [
      "\r",
      "t:  11%|██████████▍                                                                                | 117/1026 [00:13<01:47,  8.48it/s, now=None]"
     ]
    },
    {
     "name": "stderr",
     "output_type": "stream",
     "text": [
      "\r",
      "t:  12%|██████████▌                                                                                | 119/1026 [00:13<01:39,  9.08it/s, now=None]"
     ]
    },
    {
     "name": "stderr",
     "output_type": "stream",
     "text": [
      "\r",
      "t:  12%|██████████▋                                                                                | 120/1026 [00:13<01:40,  9.00it/s, now=None]"
     ]
    },
    {
     "name": "stderr",
     "output_type": "stream",
     "text": [
      "\r",
      "t:  12%|██████████▋                                                                                | 121/1026 [00:13<01:40,  9.03it/s, now=None]"
     ]
    },
    {
     "name": "stderr",
     "output_type": "stream",
     "text": [
      "\r",
      "t:  12%|██████████▊                                                                                | 122/1026 [00:13<01:59,  7.59it/s, now=None]"
     ]
    },
    {
     "name": "stderr",
     "output_type": "stream",
     "text": [
      "\r",
      "t:  12%|██████████▉                                                                                | 123/1026 [00:14<01:52,  8.04it/s, now=None]"
     ]
    },
    {
     "name": "stderr",
     "output_type": "stream",
     "text": [
      "\r",
      "t:  12%|███████████                                                                                | 125/1026 [00:14<01:43,  8.70it/s, now=None]"
     ]
    },
    {
     "name": "stderr",
     "output_type": "stream",
     "text": [
      "\r",
      "t:  12%|███████████▏                                                                               | 126/1026 [00:14<01:41,  8.88it/s, now=None]"
     ]
    },
    {
     "name": "stderr",
     "output_type": "stream",
     "text": [
      "\r",
      "t:  12%|███████████▎                                                                               | 128/1026 [00:14<01:51,  8.03it/s, now=None]"
     ]
    },
    {
     "name": "stderr",
     "output_type": "stream",
     "text": [
      "\r",
      "t:  13%|███████████▍                                                                               | 129/1026 [00:14<01:47,  8.31it/s, now=None]"
     ]
    },
    {
     "name": "stderr",
     "output_type": "stream",
     "text": [
      "\r",
      "t:  13%|███████████▌                                                                               | 131/1026 [00:14<01:39,  8.97it/s, now=None]"
     ]
    },
    {
     "name": "stderr",
     "output_type": "stream",
     "text": [
      "\r",
      "t:  13%|███████████▋                                                                               | 132/1026 [00:15<01:38,  9.09it/s, now=None]"
     ]
    },
    {
     "name": "stderr",
     "output_type": "stream",
     "text": [
      "\r",
      "t:  13%|███████████▉                                                                               | 134/1026 [00:15<01:47,  8.30it/s, now=None]"
     ]
    },
    {
     "name": "stderr",
     "output_type": "stream",
     "text": [
      "\r",
      "t:  13%|███████████▉                                                                               | 135/1026 [00:15<01:44,  8.53it/s, now=None]"
     ]
    },
    {
     "name": "stderr",
     "output_type": "stream",
     "text": [
      "\r",
      "t:  13%|████████████▏                                                                              | 137/1026 [00:15<01:40,  8.84it/s, now=None]"
     ]
    },
    {
     "name": "stderr",
     "output_type": "stream",
     "text": [
      "\r",
      "t:  13%|████████████▏                                                                              | 138/1026 [00:15<01:38,  8.98it/s, now=None]"
     ]
    },
    {
     "name": "stderr",
     "output_type": "stream",
     "text": [
      "\r",
      "t:  14%|████████████▍                                                                              | 140/1026 [00:16<01:48,  8.14it/s, now=None]"
     ]
    },
    {
     "name": "stderr",
     "output_type": "stream",
     "text": [
      "\r",
      "t:  14%|████████████▌                                                                              | 141/1026 [00:16<01:45,  8.39it/s, now=None]"
     ]
    },
    {
     "name": "stderr",
     "output_type": "stream",
     "text": [
      "\r",
      "t:  14%|████████████▋                                                                              | 143/1026 [00:16<01:39,  8.85it/s, now=None]"
     ]
    },
    {
     "name": "stderr",
     "output_type": "stream",
     "text": [
      "\r",
      "t:  14%|████████████▊                                                                              | 144/1026 [00:16<01:39,  8.85it/s, now=None]"
     ]
    },
    {
     "name": "stderr",
     "output_type": "stream",
     "text": [
      "\r",
      "t:  14%|████████████▉                                                                              | 146/1026 [00:16<01:49,  8.06it/s, now=None]"
     ]
    },
    {
     "name": "stderr",
     "output_type": "stream",
     "text": [
      "\r",
      "t:  14%|█████████████                                                                              | 147/1026 [00:16<01:47,  8.21it/s, now=None]"
     ]
    },
    {
     "name": "stderr",
     "output_type": "stream",
     "text": [
      "\r",
      "t:  15%|█████████████▏                                                                             | 149/1026 [00:17<01:40,  8.71it/s, now=None]"
     ]
    },
    {
     "name": "stderr",
     "output_type": "stream",
     "text": [
      "\r",
      "t:  15%|█████████████▎                                                                             | 150/1026 [00:17<01:38,  8.87it/s, now=None]"
     ]
    },
    {
     "name": "stderr",
     "output_type": "stream",
     "text": [
      "\r",
      "t:  15%|█████████████▍                                                                             | 152/1026 [00:17<01:48,  8.08it/s, now=None]"
     ]
    },
    {
     "name": "stderr",
     "output_type": "stream",
     "text": [
      "\r",
      "t:  15%|█████████████▌                                                                             | 153/1026 [00:17<01:44,  8.35it/s, now=None]"
     ]
    },
    {
     "name": "stderr",
     "output_type": "stream",
     "text": [
      "\r",
      "t:  15%|█████████████▋                                                                             | 155/1026 [00:17<01:40,  8.66it/s, now=None]"
     ]
    },
    {
     "name": "stderr",
     "output_type": "stream",
     "text": [
      "\r",
      "t:  15%|█████████████▊                                                                             | 156/1026 [00:17<01:39,  8.73it/s, now=None]"
     ]
    },
    {
     "name": "stderr",
     "output_type": "stream",
     "text": [
      "\r",
      "t:  15%|██████████████                                                                             | 158/1026 [00:18<01:48,  8.00it/s, now=None]"
     ]
    },
    {
     "name": "stderr",
     "output_type": "stream",
     "text": [
      "\r",
      "t:  15%|██████████████                                                                             | 159/1026 [00:18<01:44,  8.28it/s, now=None]"
     ]
    },
    {
     "name": "stderr",
     "output_type": "stream",
     "text": [
      "\r",
      "t:  16%|██████████████▎                                                                            | 161/1026 [00:18<01:36,  8.93it/s, now=None]"
     ]
    },
    {
     "name": "stderr",
     "output_type": "stream",
     "text": [
      "\r",
      "t:  16%|██████████████▎                                                                            | 162/1026 [00:18<01:35,  9.04it/s, now=None]"
     ]
    },
    {
     "name": "stderr",
     "output_type": "stream",
     "text": [
      "\r",
      "t:  16%|██████████████▌                                                                            | 164/1026 [00:18<01:45,  8.17it/s, now=None]"
     ]
    },
    {
     "name": "stderr",
     "output_type": "stream",
     "text": [
      "\r",
      "t:  16%|██████████████▋                                                                            | 165/1026 [00:19<01:42,  8.41it/s, now=None]"
     ]
    },
    {
     "name": "stderr",
     "output_type": "stream",
     "text": [
      "\r",
      "t:  16%|██████████████▊                                                                            | 167/1026 [00:19<01:36,  8.90it/s, now=None]"
     ]
    },
    {
     "name": "stderr",
     "output_type": "stream",
     "text": [
      "\r",
      "t:  16%|██████████████▉                                                                            | 168/1026 [00:19<01:34,  9.04it/s, now=None]"
     ]
    },
    {
     "name": "stderr",
     "output_type": "stream",
     "text": [
      "\r",
      "t:  17%|███████████████                                                                            | 170/1026 [00:19<01:44,  8.19it/s, now=None]"
     ]
    },
    {
     "name": "stderr",
     "output_type": "stream",
     "text": [
      "\r",
      "t:  17%|███████████████▏                                                                           | 171/1026 [00:19<01:41,  8.44it/s, now=None]"
     ]
    },
    {
     "name": "stderr",
     "output_type": "stream",
     "text": [
      "\r",
      "t:  17%|███████████████▎                                                                           | 173/1026 [00:19<01:37,  8.79it/s, now=None]"
     ]
    },
    {
     "name": "stderr",
     "output_type": "stream",
     "text": [
      "\r",
      "t:  17%|███████████████▍                                                                           | 174/1026 [00:20<01:35,  8.93it/s, now=None]"
     ]
    },
    {
     "name": "stderr",
     "output_type": "stream",
     "text": [
      "\r",
      "t:  17%|███████████████▌                                                                           | 176/1026 [00:20<01:44,  8.13it/s, now=None]"
     ]
    },
    {
     "name": "stderr",
     "output_type": "stream",
     "text": [
      "\r",
      "t:  17%|███████████████▋                                                                           | 177/1026 [00:20<01:41,  8.39it/s, now=None]"
     ]
    },
    {
     "name": "stderr",
     "output_type": "stream",
     "text": [
      "\r",
      "t:  17%|███████████████▊                                                                           | 178/1026 [00:20<01:39,  8.54it/s, now=None]"
     ]
    },
    {
     "name": "stderr",
     "output_type": "stream",
     "text": [
      "\r",
      "t:  17%|███████████████▉                                                                           | 179/1026 [00:20<01:36,  8.78it/s, now=None]"
     ]
    },
    {
     "name": "stderr",
     "output_type": "stream",
     "text": [
      "\r",
      "t:  18%|███████████████▉                                                                           | 180/1026 [00:20<01:36,  8.76it/s, now=None]"
     ]
    },
    {
     "name": "stderr",
     "output_type": "stream",
     "text": [
      "\r",
      "t:  18%|████████████████▏                                                                          | 182/1026 [00:21<01:45,  7.98it/s, now=None]"
     ]
    },
    {
     "name": "stderr",
     "output_type": "stream",
     "text": [
      "\r",
      "t:  18%|████████████████▏                                                                          | 183/1026 [00:21<01:41,  8.29it/s, now=None]"
     ]
    },
    {
     "name": "stderr",
     "output_type": "stream",
     "text": [
      "\r",
      "t:  18%|████████████████▍                                                                          | 185/1026 [00:21<01:35,  8.84it/s, now=None]"
     ]
    },
    {
     "name": "stderr",
     "output_type": "stream",
     "text": [
      "\r",
      "t:  18%|████████████████▍                                                                          | 186/1026 [00:21<01:33,  9.02it/s, now=None]"
     ]
    },
    {
     "name": "stderr",
     "output_type": "stream",
     "text": [
      "\r",
      "t:  18%|████████████████▋                                                                          | 188/1026 [00:21<01:42,  8.17it/s, now=None]"
     ]
    },
    {
     "name": "stderr",
     "output_type": "stream",
     "text": [
      "\r",
      "t:  18%|████████████████▊                                                                          | 189/1026 [00:21<01:38,  8.46it/s, now=None]"
     ]
    },
    {
     "name": "stderr",
     "output_type": "stream",
     "text": [
      "\r",
      "t:  19%|████████████████▉                                                                          | 191/1026 [00:22<01:33,  8.92it/s, now=None]"
     ]
    },
    {
     "name": "stderr",
     "output_type": "stream",
     "text": [
      "\r",
      "t:  19%|█████████████████                                                                          | 192/1026 [00:22<01:32,  9.03it/s, now=None]"
     ]
    },
    {
     "name": "stderr",
     "output_type": "stream",
     "text": [
      "\r",
      "t:  19%|█████████████████▏                                                                         | 194/1026 [00:22<01:42,  8.13it/s, now=None]"
     ]
    },
    {
     "name": "stderr",
     "output_type": "stream",
     "text": [
      "\r",
      "t:  19%|█████████████████▎                                                                         | 195/1026 [00:22<01:38,  8.40it/s, now=None]"
     ]
    },
    {
     "name": "stderr",
     "output_type": "stream",
     "text": [
      "\r",
      "t:  19%|█████████████████▍                                                                         | 196/1026 [00:22<01:36,  8.60it/s, now=None]"
     ]
    },
    {
     "name": "stderr",
     "output_type": "stream",
     "text": [
      "\r",
      "t:  19%|█████████████████▍                                                                         | 197/1026 [00:22<01:34,  8.80it/s, now=None]"
     ]
    },
    {
     "name": "stderr",
     "output_type": "stream",
     "text": [
      "\r",
      "t:  19%|█████████████████▌                                                                         | 198/1026 [00:22<01:32,  8.98it/s, now=None]"
     ]
    },
    {
     "name": "stderr",
     "output_type": "stream",
     "text": [
      "\r",
      "t:  19%|█████████████████▋                                                                         | 199/1026 [00:22<01:29,  9.22it/s, now=None]"
     ]
    },
    {
     "name": "stderr",
     "output_type": "stream",
     "text": [
      "\r",
      "t:  19%|█████████████████▋                                                                         | 200/1026 [00:23<01:48,  7.59it/s, now=None]"
     ]
    },
    {
     "name": "stderr",
     "output_type": "stream",
     "text": [
      "\r",
      "t:  20%|█████████████████▊                                                                         | 201/1026 [00:23<01:42,  8.05it/s, now=None]"
     ]
    },
    {
     "name": "stderr",
     "output_type": "stream",
     "text": [
      "\r",
      "t:  20%|██████████████████                                                                         | 203/1026 [00:23<01:34,  8.75it/s, now=None]"
     ]
    },
    {
     "name": "stderr",
     "output_type": "stream",
     "text": [
      "\r",
      "t:  20%|██████████████████                                                                         | 204/1026 [00:23<01:32,  8.91it/s, now=None]"
     ]
    },
    {
     "name": "stderr",
     "output_type": "stream",
     "text": [
      "\r",
      "t:  20%|██████████████████▎                                                                        | 206/1026 [00:23<01:42,  8.03it/s, now=None]"
     ]
    },
    {
     "name": "stderr",
     "output_type": "stream",
     "text": [
      "\r",
      "t:  20%|██████████████████▎                                                                        | 207/1026 [00:23<01:38,  8.30it/s, now=None]"
     ]
    },
    {
     "name": "stderr",
     "output_type": "stream",
     "text": [
      "\r",
      "t:  20%|██████████████████▍                                                                        | 208/1026 [00:24<01:34,  8.64it/s, now=None]"
     ]
    },
    {
     "name": "stderr",
     "output_type": "stream",
     "text": [
      "\r",
      "t:  20%|██████████████████▌                                                                        | 209/1026 [00:24<01:34,  8.67it/s, now=None]"
     ]
    },
    {
     "name": "stderr",
     "output_type": "stream",
     "text": [
      "\r",
      "t:  20%|██████████████████▋                                                                        | 210/1026 [00:24<01:31,  8.93it/s, now=None]"
     ]
    },
    {
     "name": "stderr",
     "output_type": "stream",
     "text": [
      "\r",
      "t:  21%|██████████████████▊                                                                        | 212/1026 [00:24<01:40,  8.12it/s, now=None]"
     ]
    },
    {
     "name": "stderr",
     "output_type": "stream",
     "text": [
      "\r",
      "t:  21%|██████████████████▉                                                                        | 213/1026 [00:24<01:36,  8.41it/s, now=None]"
     ]
    },
    {
     "name": "stderr",
     "output_type": "stream",
     "text": [
      "\r",
      "t:  21%|██████████████████▉                                                                        | 214/1026 [00:24<01:32,  8.75it/s, now=None]"
     ]
    },
    {
     "name": "stderr",
     "output_type": "stream",
     "text": [
      "\r",
      "t:  21%|███████████████████                                                                        | 215/1026 [00:24<01:32,  8.79it/s, now=None]"
     ]
    },
    {
     "name": "stderr",
     "output_type": "stream",
     "text": [
      "\r",
      "t:  21%|███████████████████▏                                                                       | 216/1026 [00:24<01:30,  8.99it/s, now=None]"
     ]
    },
    {
     "name": "stderr",
     "output_type": "stream",
     "text": [
      "\r",
      "t:  21%|███████████████████▎                                                                       | 218/1026 [00:25<01:39,  8.13it/s, now=None]"
     ]
    },
    {
     "name": "stderr",
     "output_type": "stream",
     "text": [
      "\r",
      "t:  21%|███████████████████▍                                                                       | 219/1026 [00:25<01:35,  8.42it/s, now=None]"
     ]
    },
    {
     "name": "stderr",
     "output_type": "stream",
     "text": [
      "\r",
      "t:  22%|███████████████████▌                                                                       | 221/1026 [00:25<01:30,  8.91it/s, now=None]"
     ]
    },
    {
     "name": "stderr",
     "output_type": "stream",
     "text": [
      "\r",
      "t:  22%|███████████████████▋                                                                       | 222/1026 [00:25<01:28,  9.06it/s, now=None]"
     ]
    },
    {
     "name": "stderr",
     "output_type": "stream",
     "text": [
      "\r",
      "t:  22%|███████████████████▊                                                                       | 224/1026 [00:25<01:38,  8.16it/s, now=None]"
     ]
    },
    {
     "name": "stderr",
     "output_type": "stream",
     "text": [
      "\r",
      "t:  22%|███████████████████▉                                                                       | 225/1026 [00:26<01:35,  8.42it/s, now=None]"
     ]
    },
    {
     "name": "stderr",
     "output_type": "stream",
     "text": [
      "\r",
      "t:  22%|████████████████████▏                                                                      | 227/1026 [00:26<01:30,  8.84it/s, now=None]"
     ]
    },
    {
     "name": "stderr",
     "output_type": "stream",
     "text": [
      "\r",
      "t:  22%|████████████████████▏                                                                      | 228/1026 [00:26<01:28,  8.97it/s, now=None]"
     ]
    },
    {
     "name": "stderr",
     "output_type": "stream",
     "text": [
      "\r",
      "t:  22%|████████████████████▍                                                                      | 230/1026 [00:26<01:37,  8.13it/s, now=None]"
     ]
    },
    {
     "name": "stderr",
     "output_type": "stream",
     "text": [
      "\r",
      "t:  23%|████████████████████▍                                                                      | 231/1026 [00:26<01:34,  8.40it/s, now=None]"
     ]
    },
    {
     "name": "stderr",
     "output_type": "stream",
     "text": [
      "\r",
      "t:  23%|████████████████████▋                                                                      | 233/1026 [00:26<01:28,  8.99it/s, now=None]"
     ]
    },
    {
     "name": "stderr",
     "output_type": "stream",
     "text": [
      "\r",
      "t:  23%|████████████████████▊                                                                      | 234/1026 [00:27<01:28,  8.96it/s, now=None]"
     ]
    },
    {
     "name": "stderr",
     "output_type": "stream",
     "text": [
      "\r",
      "t:  23%|████████████████████▉                                                                      | 236/1026 [00:27<01:37,  8.10it/s, now=None]"
     ]
    },
    {
     "name": "stderr",
     "output_type": "stream",
     "text": [
      "\r",
      "t:  23%|█████████████████████                                                                      | 237/1026 [00:27<01:34,  8.36it/s, now=None]"
     ]
    },
    {
     "name": "stderr",
     "output_type": "stream",
     "text": [
      "\r",
      "t:  23%|█████████████████████▏                                                                     | 239/1026 [00:27<01:27,  8.96it/s, now=None]"
     ]
    },
    {
     "name": "stderr",
     "output_type": "stream",
     "text": [
      "\r",
      "t:  23%|█████████████████████▎                                                                     | 240/1026 [00:27<01:26,  9.08it/s, now=None]"
     ]
    },
    {
     "name": "stderr",
     "output_type": "stream",
     "text": [
      "\r",
      "t:  23%|█████████████████████▍                                                                     | 241/1026 [00:27<01:26,  9.07it/s, now=None]"
     ]
    },
    {
     "name": "stderr",
     "output_type": "stream",
     "text": [
      "\r",
      "t:  24%|█████████████████████▍                                                                     | 242/1026 [00:28<01:42,  7.63it/s, now=None]"
     ]
    },
    {
     "name": "stderr",
     "output_type": "stream",
     "text": [
      "\r",
      "t:  24%|█████████████████████▌                                                                     | 243/1026 [00:28<01:37,  8.05it/s, now=None]"
     ]
    },
    {
     "name": "stderr",
     "output_type": "stream",
     "text": [
      "\r",
      "t:  24%|█████████████████████▋                                                                     | 245/1026 [00:28<01:29,  8.72it/s, now=None]"
     ]
    },
    {
     "name": "stderr",
     "output_type": "stream",
     "text": [
      "\r",
      "t:  24%|█████████████████████▊                                                                     | 246/1026 [00:28<01:27,  8.88it/s, now=None]"
     ]
    },
    {
     "name": "stderr",
     "output_type": "stream",
     "text": [
      "\r",
      "t:  24%|█████████████████████▉                                                                     | 248/1026 [00:28<01:35,  8.14it/s, now=None]"
     ]
    },
    {
     "name": "stderr",
     "output_type": "stream",
     "text": [
      "\r",
      "t:  24%|██████████████████████                                                                     | 249/1026 [00:28<01:32,  8.43it/s, now=None]"
     ]
    },
    {
     "name": "stderr",
     "output_type": "stream",
     "text": [
      "\r",
      "t:  24%|██████████████████████▎                                                                    | 251/1026 [00:29<01:25,  9.02it/s, now=None]"
     ]
    },
    {
     "name": "stderr",
     "output_type": "stream",
     "text": [
      "\r",
      "t:  25%|██████████████████████▎                                                                    | 252/1026 [00:29<01:25,  9.10it/s, now=None]"
     ]
    },
    {
     "name": "stderr",
     "output_type": "stream",
     "text": [
      "\r",
      "t:  25%|██████████████████████▌                                                                    | 254/1026 [00:29<01:34,  8.20it/s, now=None]"
     ]
    },
    {
     "name": "stderr",
     "output_type": "stream",
     "text": [
      "\r",
      "t:  25%|██████████████████████▌                                                                    | 255/1026 [00:29<01:31,  8.45it/s, now=None]"
     ]
    },
    {
     "name": "stderr",
     "output_type": "stream",
     "text": [
      "\r",
      "t:  25%|██████████████████████▊                                                                    | 257/1026 [00:29<01:24,  9.05it/s, now=None]"
     ]
    },
    {
     "name": "stderr",
     "output_type": "stream",
     "text": [
      "\r",
      "t:  25%|██████████████████████▉                                                                    | 258/1026 [00:29<01:24,  9.11it/s, now=None]"
     ]
    },
    {
     "name": "stderr",
     "output_type": "stream",
     "text": [
      "\r",
      "t:  25%|███████████████████████                                                                    | 260/1026 [00:30<01:33,  8.21it/s, now=None]"
     ]
    },
    {
     "name": "stderr",
     "output_type": "stream",
     "text": [
      "\r",
      "t:  25%|███████████████████████▏                                                                   | 261/1026 [00:30<01:30,  8.48it/s, now=None]"
     ]
    },
    {
     "name": "stderr",
     "output_type": "stream",
     "text": [
      "\r",
      "t:  26%|███████████████████████▎                                                                   | 263/1026 [00:30<01:24,  9.04it/s, now=None]"
     ]
    },
    {
     "name": "stderr",
     "output_type": "stream",
     "text": [
      "\r",
      "t:  26%|███████████████████████▍                                                                   | 264/1026 [00:30<01:23,  9.15it/s, now=None]"
     ]
    },
    {
     "name": "stderr",
     "output_type": "stream",
     "text": [
      "\r",
      "t:  26%|███████████████████████▌                                                                   | 266/1026 [00:30<01:32,  8.24it/s, now=None]"
     ]
    },
    {
     "name": "stderr",
     "output_type": "stream",
     "text": [
      "\r",
      "t:  26%|███████████████████████▋                                                                   | 267/1026 [00:30<01:29,  8.49it/s, now=None]"
     ]
    },
    {
     "name": "stderr",
     "output_type": "stream",
     "text": [
      "\r",
      "t:  26%|███████████████████████▊                                                                   | 269/1026 [00:31<01:24,  8.92it/s, now=None]"
     ]
    },
    {
     "name": "stderr",
     "output_type": "stream",
     "text": [
      "\r",
      "t:  26%|███████████████████████▉                                                                   | 270/1026 [00:31<01:25,  8.79it/s, now=None]"
     ]
    },
    {
     "name": "stderr",
     "output_type": "stream",
     "text": [
      "\r",
      "t:  27%|████████████████████████                                                                   | 272/1026 [00:31<01:33,  8.05it/s, now=None]"
     ]
    },
    {
     "name": "stderr",
     "output_type": "stream",
     "text": [
      "\r",
      "t:  27%|████████████████████████▏                                                                  | 273/1026 [00:31<01:30,  8.33it/s, now=None]"
     ]
    },
    {
     "name": "stderr",
     "output_type": "stream",
     "text": [
      "\r",
      "t:  27%|████████████████████████▍                                                                  | 275/1026 [00:31<01:25,  8.82it/s, now=None]"
     ]
    },
    {
     "name": "stderr",
     "output_type": "stream",
     "text": [
      "\r",
      "t:  27%|████████████████████████▍                                                                  | 276/1026 [00:31<01:23,  8.96it/s, now=None]"
     ]
    },
    {
     "name": "stderr",
     "output_type": "stream",
     "text": [
      "\r",
      "t:  27%|████████████████████████▋                                                                  | 278/1026 [00:32<01:31,  8.20it/s, now=None]"
     ]
    },
    {
     "name": "stderr",
     "output_type": "stream",
     "text": [
      "\r",
      "t:  27%|████████████████████████▋                                                                  | 279/1026 [00:32<01:28,  8.48it/s, now=None]"
     ]
    },
    {
     "name": "stderr",
     "output_type": "stream",
     "text": [
      "\r",
      "t:  27%|████████████████████████▉                                                                  | 281/1026 [00:32<01:23,  8.94it/s, now=None]"
     ]
    },
    {
     "name": "stderr",
     "output_type": "stream",
     "text": [
      "\r",
      "t:  27%|█████████████████████████                                                                  | 282/1026 [00:32<01:22,  9.07it/s, now=None]"
     ]
    },
    {
     "name": "stderr",
     "output_type": "stream",
     "text": [
      "\r",
      "t:  28%|█████████████████████████▏                                                                 | 284/1026 [00:32<01:30,  8.23it/s, now=None]"
     ]
    },
    {
     "name": "stderr",
     "output_type": "stream",
     "text": [
      "\r",
      "t:  28%|█████████████████████████▎                                                                 | 285/1026 [00:32<01:27,  8.48it/s, now=None]"
     ]
    },
    {
     "name": "stderr",
     "output_type": "stream",
     "text": [
      "\r",
      "t:  28%|█████████████████████████▍                                                                 | 287/1026 [00:33<01:22,  8.96it/s, now=None]"
     ]
    },
    {
     "name": "stderr",
     "output_type": "stream",
     "text": [
      "\r",
      "t:  28%|█████████████████████████▌                                                                 | 288/1026 [00:33<01:20,  9.12it/s, now=None]"
     ]
    },
    {
     "name": "stderr",
     "output_type": "stream",
     "text": [
      "\r",
      "t:  28%|█████████████████████████▋                                                                 | 290/1026 [00:33<01:29,  8.20it/s, now=None]"
     ]
    },
    {
     "name": "stderr",
     "output_type": "stream",
     "text": [
      "\r",
      "t:  28%|█████████████████████████▊                                                                 | 291/1026 [00:33<01:27,  8.37it/s, now=None]"
     ]
    },
    {
     "name": "stderr",
     "output_type": "stream",
     "text": [
      "\r",
      "t:  29%|█████████████████████████▉                                                                 | 293/1026 [00:33<01:24,  8.65it/s, now=None]"
     ]
    },
    {
     "name": "stderr",
     "output_type": "stream",
     "text": [
      "\r",
      "t:  29%|██████████████████████████                                                                 | 294/1026 [00:34<01:23,  8.78it/s, now=None]"
     ]
    },
    {
     "name": "stderr",
     "output_type": "stream",
     "text": [
      "\r",
      "t:  29%|██████████████████████████▎                                                                | 296/1026 [00:34<01:29,  8.12it/s, now=None]"
     ]
    },
    {
     "name": "stderr",
     "output_type": "stream",
     "text": [
      "\r",
      "t:  29%|██████████████████████████▎                                                                | 297/1026 [00:34<01:26,  8.41it/s, now=None]"
     ]
    },
    {
     "name": "stderr",
     "output_type": "stream",
     "text": [
      "\r",
      "t:  29%|██████████████████████████▌                                                                | 299/1026 [00:34<01:20,  8.98it/s, now=None]"
     ]
    },
    {
     "name": "stderr",
     "output_type": "stream",
     "text": [
      "\r",
      "t:  29%|██████████████████████████▌                                                                | 300/1026 [00:34<01:19,  9.14it/s, now=None]"
     ]
    },
    {
     "name": "stderr",
     "output_type": "stream",
     "text": [
      "\r",
      "t:  29%|██████████████████████████▊                                                                | 302/1026 [00:34<01:27,  8.29it/s, now=None]"
     ]
    },
    {
     "name": "stderr",
     "output_type": "stream",
     "text": [
      "\r",
      "t:  30%|██████████████████████████▊                                                                | 303/1026 [00:35<01:24,  8.55it/s, now=None]"
     ]
    },
    {
     "name": "stderr",
     "output_type": "stream",
     "text": [
      "\r",
      "t:  30%|██████████████████████████▉                                                                | 304/1026 [00:35<01:22,  8.78it/s, now=None]"
     ]
    },
    {
     "name": "stderr",
     "output_type": "stream",
     "text": [
      "\r",
      "t:  30%|███████████████████████████                                                                | 305/1026 [00:35<01:21,  8.90it/s, now=None]"
     ]
    },
    {
     "name": "stderr",
     "output_type": "stream",
     "text": [
      "\r",
      "t:  30%|███████████████████████████▏                                                               | 306/1026 [00:35<01:21,  8.83it/s, now=None]"
     ]
    },
    {
     "name": "stderr",
     "output_type": "stream",
     "text": [
      "\r",
      "t:  30%|███████████████████████████▎                                                               | 308/1026 [00:35<01:30,  7.91it/s, now=None]"
     ]
    },
    {
     "name": "stderr",
     "output_type": "stream",
     "text": [
      "\r",
      "t:  30%|███████████████████████████▍                                                               | 309/1026 [00:35<01:26,  8.30it/s, now=None]"
     ]
    },
    {
     "name": "stderr",
     "output_type": "stream",
     "text": [
      "\r",
      "t:  30%|███████████████████████████▌                                                               | 311/1026 [00:35<01:20,  8.90it/s, now=None]"
     ]
    },
    {
     "name": "stderr",
     "output_type": "stream",
     "text": [
      "\r",
      "t:  30%|███████████████████████████▋                                                               | 312/1026 [00:36<01:19,  9.00it/s, now=None]"
     ]
    },
    {
     "name": "stderr",
     "output_type": "stream",
     "text": [
      "\r",
      "t:  31%|███████████████████████████▊                                                               | 314/1026 [00:36<01:27,  8.18it/s, now=None]"
     ]
    },
    {
     "name": "stderr",
     "output_type": "stream",
     "text": [
      "\r",
      "t:  31%|███████████████████████████▉                                                               | 315/1026 [00:36<01:23,  8.47it/s, now=None]"
     ]
    },
    {
     "name": "stderr",
     "output_type": "stream",
     "text": [
      "\r",
      "t:  31%|████████████████████████████                                                               | 317/1026 [00:36<01:18,  8.99it/s, now=None]"
     ]
    },
    {
     "name": "stderr",
     "output_type": "stream",
     "text": [
      "\r",
      "t:  31%|████████████████████████████▏                                                              | 318/1026 [00:36<01:17,  9.15it/s, now=None]"
     ]
    },
    {
     "name": "stderr",
     "output_type": "stream",
     "text": [
      "\r",
      "t:  31%|████████████████████████████▍                                                              | 320/1026 [00:37<01:25,  8.26it/s, now=None]"
     ]
    },
    {
     "name": "stderr",
     "output_type": "stream",
     "text": [
      "\r",
      "t:  31%|████████████████████████████▍                                                              | 321/1026 [00:37<01:23,  8.42it/s, now=None]"
     ]
    },
    {
     "name": "stderr",
     "output_type": "stream",
     "text": [
      "\r",
      "t:  31%|████████████████████████████▋                                                              | 323/1026 [00:37<01:18,  8.93it/s, now=None]"
     ]
    },
    {
     "name": "stderr",
     "output_type": "stream",
     "text": [
      "\r",
      "t:  32%|████████████████████████████▋                                                              | 324/1026 [00:37<01:17,  9.05it/s, now=None]"
     ]
    },
    {
     "name": "stderr",
     "output_type": "stream",
     "text": [
      "\r",
      "t:  32%|████████████████████████████▉                                                              | 326/1026 [00:37<01:24,  8.25it/s, now=None]"
     ]
    },
    {
     "name": "stderr",
     "output_type": "stream",
     "text": [
      "\r",
      "t:  32%|█████████████████████████████                                                              | 327/1026 [00:37<01:21,  8.53it/s, now=None]"
     ]
    },
    {
     "name": "stderr",
     "output_type": "stream",
     "text": [
      "\r",
      "t:  32%|█████████████████████████████▏                                                             | 329/1026 [00:38<01:16,  9.14it/s, now=None]"
     ]
    },
    {
     "name": "stderr",
     "output_type": "stream",
     "text": [
      "\r",
      "t:  32%|█████████████████████████████▎                                                             | 330/1026 [00:38<01:15,  9.23it/s, now=None]"
     ]
    },
    {
     "name": "stderr",
     "output_type": "stream",
     "text": [
      "\r",
      "t:  32%|█████████████████████████████▍                                                             | 332/1026 [00:38<01:23,  8.32it/s, now=None]"
     ]
    },
    {
     "name": "stderr",
     "output_type": "stream",
     "text": [
      "\r",
      "t:  32%|█████████████████████████████▌                                                             | 333/1026 [00:38<01:20,  8.59it/s, now=None]"
     ]
    },
    {
     "name": "stderr",
     "output_type": "stream",
     "text": [
      "\r",
      "t:  33%|█████████████████████████████▋                                                             | 335/1026 [00:38<01:15,  9.19it/s, now=None]"
     ]
    },
    {
     "name": "stderr",
     "output_type": "stream",
     "text": [
      "\r",
      "t:  33%|█████████████████████████████▊                                                             | 336/1026 [00:38<01:14,  9.32it/s, now=None]"
     ]
    },
    {
     "name": "stderr",
     "output_type": "stream",
     "text": [
      "\r",
      "t:  33%|█████████████████████████████▉                                                             | 338/1026 [00:39<01:21,  8.48it/s, now=None]"
     ]
    },
    {
     "name": "stderr",
     "output_type": "stream",
     "text": [
      "\r",
      "t:  33%|██████████████████████████████                                                             | 339/1026 [00:39<01:18,  8.73it/s, now=None]"
     ]
    },
    {
     "name": "stderr",
     "output_type": "stream",
     "text": [
      "\r",
      "t:  33%|██████████████████████████████▏                                                            | 341/1026 [00:39<01:13,  9.30it/s, now=None]"
     ]
    },
    {
     "name": "stderr",
     "output_type": "stream",
     "text": [
      "\r",
      "t:  33%|██████████████████████████████▎                                                            | 342/1026 [00:39<01:12,  9.39it/s, now=None]"
     ]
    },
    {
     "name": "stderr",
     "output_type": "stream",
     "text": [
      "\r",
      "t:  34%|██████████████████████████████▌                                                            | 344/1026 [00:39<01:20,  8.43it/s, now=None]"
     ]
    },
    {
     "name": "stderr",
     "output_type": "stream",
     "text": [
      "\r",
      "t:  34%|██████████████████████████████▌                                                            | 345/1026 [00:39<01:18,  8.66it/s, now=None]"
     ]
    },
    {
     "name": "stderr",
     "output_type": "stream",
     "text": [
      "\r",
      "t:  34%|██████████████████████████████▊                                                            | 347/1026 [00:40<01:16,  8.87it/s, now=None]"
     ]
    },
    {
     "name": "stderr",
     "output_type": "stream",
     "text": [
      "\r",
      "t:  34%|██████████████████████████████▊                                                            | 348/1026 [00:40<01:15,  9.04it/s, now=None]"
     ]
    },
    {
     "name": "stderr",
     "output_type": "stream",
     "text": [
      "\r",
      "t:  34%|███████████████████████████████                                                            | 350/1026 [00:40<01:22,  8.22it/s, now=None]"
     ]
    },
    {
     "name": "stderr",
     "output_type": "stream",
     "text": [
      "\r",
      "t:  34%|███████████████████████████████▏                                                           | 351/1026 [00:40<01:19,  8.50it/s, now=None]"
     ]
    },
    {
     "name": "stderr",
     "output_type": "stream",
     "text": [
      "\r",
      "t:  34%|███████████████████████████████▎                                                           | 353/1026 [00:40<01:14,  8.98it/s, now=None]"
     ]
    },
    {
     "name": "stderr",
     "output_type": "stream",
     "text": [
      "\r",
      "t:  35%|███████████████████████████████▍                                                           | 354/1026 [00:40<01:13,  9.13it/s, now=None]"
     ]
    },
    {
     "name": "stderr",
     "output_type": "stream",
     "text": [
      "\r",
      "t:  35%|███████████████████████████████▌                                                           | 356/1026 [00:41<01:20,  8.28it/s, now=None]"
     ]
    },
    {
     "name": "stderr",
     "output_type": "stream",
     "text": [
      "\r",
      "t:  35%|███████████████████████████████▋                                                           | 357/1026 [00:41<01:18,  8.54it/s, now=None]"
     ]
    },
    {
     "name": "stderr",
     "output_type": "stream",
     "text": [
      "\r",
      "t:  35%|███████████████████████████████▊                                                           | 359/1026 [00:41<01:14,  9.01it/s, now=None]"
     ]
    },
    {
     "name": "stderr",
     "output_type": "stream",
     "text": [
      "\r",
      "t:  35%|███████████████████████████████▉                                                           | 360/1026 [00:41<01:12,  9.16it/s, now=None]"
     ]
    },
    {
     "name": "stderr",
     "output_type": "stream",
     "text": [
      "\r",
      "t:  35%|████████████████████████████████                                                           | 362/1026 [00:41<01:20,  8.21it/s, now=None]"
     ]
    },
    {
     "name": "stderr",
     "output_type": "stream",
     "text": [
      "\r",
      "t:  35%|████████████████████████████████▏                                                          | 363/1026 [00:41<01:18,  8.49it/s, now=None]"
     ]
    },
    {
     "name": "stderr",
     "output_type": "stream",
     "text": [
      "\r",
      "t:  36%|████████████████████████████████▎                                                          | 365/1026 [00:42<01:12,  9.12it/s, now=None]"
     ]
    },
    {
     "name": "stderr",
     "output_type": "stream",
     "text": [
      "\r",
      "t:  36%|████████████████████████████████▍                                                          | 366/1026 [00:42<01:11,  9.24it/s, now=None]"
     ]
    },
    {
     "name": "stderr",
     "output_type": "stream",
     "text": [
      "\r",
      "t:  36%|████████████████████████████████▋                                                          | 368/1026 [00:42<01:18,  8.35it/s, now=None]"
     ]
    },
    {
     "name": "stderr",
     "output_type": "stream",
     "text": [
      "\r",
      "t:  36%|████████████████████████████████▋                                                          | 369/1026 [00:42<01:16,  8.61it/s, now=None]"
     ]
    },
    {
     "name": "stderr",
     "output_type": "stream",
     "text": [
      "\r",
      "t:  36%|████████████████████████████████▉                                                          | 371/1026 [00:42<01:11,  9.17it/s, now=None]"
     ]
    },
    {
     "name": "stderr",
     "output_type": "stream",
     "text": [
      "\r",
      "t:  36%|████████████████████████████████▉                                                          | 372/1026 [00:42<01:10,  9.28it/s, now=None]"
     ]
    },
    {
     "name": "stderr",
     "output_type": "stream",
     "text": [
      "\r",
      "t:  36%|█████████████████████████████████▏                                                         | 374/1026 [00:43<01:18,  8.29it/s, now=None]"
     ]
    },
    {
     "name": "stderr",
     "output_type": "stream",
     "text": [
      "\r",
      "t:  37%|█████████████████████████████████▎                                                         | 375/1026 [00:43<01:16,  8.56it/s, now=None]"
     ]
    },
    {
     "name": "stderr",
     "output_type": "stream",
     "text": [
      "\r",
      "t:  37%|█████████████████████████████████▍                                                         | 377/1026 [00:43<01:10,  9.16it/s, now=None]"
     ]
    },
    {
     "name": "stderr",
     "output_type": "stream",
     "text": [
      "\r",
      "t:  37%|█████████████████████████████████▌                                                         | 378/1026 [00:43<01:11,  9.08it/s, now=None]"
     ]
    },
    {
     "name": "stderr",
     "output_type": "stream",
     "text": [
      "\r",
      "t:  37%|█████████████████████████████████▋                                                         | 380/1026 [00:43<01:18,  8.25it/s, now=None]"
     ]
    },
    {
     "name": "stderr",
     "output_type": "stream",
     "text": [
      "\r",
      "t:  37%|█████████████████████████████████▊                                                         | 381/1026 [00:44<01:15,  8.53it/s, now=None]"
     ]
    },
    {
     "name": "stderr",
     "output_type": "stream",
     "text": [
      "\r",
      "t:  37%|█████████████████████████████████▉                                                         | 382/1026 [00:44<01:14,  8.68it/s, now=None]"
     ]
    },
    {
     "name": "stderr",
     "output_type": "stream",
     "text": [
      "\r",
      "t:  37%|█████████████████████████████████▉                                                         | 383/1026 [00:44<01:11,  8.93it/s, now=None]"
     ]
    },
    {
     "name": "stderr",
     "output_type": "stream",
     "text": [
      "\r",
      "t:  37%|██████████████████████████████████                                                         | 384/1026 [00:44<01:10,  9.15it/s, now=None]"
     ]
    },
    {
     "name": "stderr",
     "output_type": "stream",
     "text": [
      "\r",
      "t:  38%|██████████████████████████████████▏                                                        | 386/1026 [00:44<01:18,  8.20it/s, now=None]"
     ]
    },
    {
     "name": "stderr",
     "output_type": "stream",
     "text": [
      "\r",
      "t:  38%|██████████████████████████████████▎                                                        | 387/1026 [00:44<01:14,  8.53it/s, now=None]"
     ]
    },
    {
     "name": "stderr",
     "output_type": "stream",
     "text": [
      "\r",
      "t:  38%|██████████████████████████████████▌                                                        | 389/1026 [00:44<01:09,  9.20it/s, now=None]"
     ]
    },
    {
     "name": "stderr",
     "output_type": "stream",
     "text": [
      "\r",
      "t:  38%|██████████████████████████████████▌                                                        | 390/1026 [00:45<01:08,  9.33it/s, now=None]"
     ]
    },
    {
     "name": "stderr",
     "output_type": "stream",
     "text": [
      "\r",
      "t:  38%|██████████████████████████████████▊                                                        | 392/1026 [00:45<01:14,  8.47it/s, now=None]"
     ]
    },
    {
     "name": "stderr",
     "output_type": "stream",
     "text": [
      "\r",
      "t:  38%|██████████████████████████████████▊                                                        | 393/1026 [00:45<01:12,  8.72it/s, now=None]"
     ]
    },
    {
     "name": "stderr",
     "output_type": "stream",
     "text": [
      "\r",
      "t:  38%|███████████████████████████████████                                                        | 395/1026 [00:45<01:08,  9.25it/s, now=None]"
     ]
    },
    {
     "name": "stderr",
     "output_type": "stream",
     "text": [
      "\r",
      "t:  39%|███████████████████████████████████                                                        | 396/1026 [00:45<01:07,  9.33it/s, now=None]"
     ]
    },
    {
     "name": "stderr",
     "output_type": "stream",
     "text": [
      "\r",
      "t:  39%|███████████████████████████████████▎                                                       | 398/1026 [00:45<01:14,  8.38it/s, now=None]"
     ]
    },
    {
     "name": "stderr",
     "output_type": "stream",
     "text": [
      "\r",
      "t:  39%|███████████████████████████████████▍                                                       | 399/1026 [00:46<01:12,  8.60it/s, now=None]"
     ]
    },
    {
     "name": "stderr",
     "output_type": "stream",
     "text": [
      "\r",
      "t:  39%|███████████████████████████████████▌                                                       | 401/1026 [00:46<01:10,  8.85it/s, now=None]"
     ]
    },
    {
     "name": "stderr",
     "output_type": "stream",
     "text": [
      "\r",
      "t:  39%|███████████████████████████████████▋                                                       | 402/1026 [00:46<01:10,  8.80it/s, now=None]"
     ]
    },
    {
     "name": "stderr",
     "output_type": "stream",
     "text": [
      "\r",
      "t:  39%|███████████████████████████████████▊                                                       | 404/1026 [00:46<01:17,  8.03it/s, now=None]"
     ]
    },
    {
     "name": "stderr",
     "output_type": "stream",
     "text": [
      "\r",
      "t:  39%|███████████████████████████████████▉                                                       | 405/1026 [00:46<01:14,  8.31it/s, now=None]"
     ]
    },
    {
     "name": "stderr",
     "output_type": "stream",
     "text": [
      "\r",
      "t:  40%|████████████████████████████████████                                                       | 407/1026 [00:46<01:09,  8.86it/s, now=None]"
     ]
    },
    {
     "name": "stderr",
     "output_type": "stream",
     "text": [
      "\r",
      "t:  40%|████████████████████████████████████▏                                                      | 408/1026 [00:47<01:08,  9.00it/s, now=None]"
     ]
    },
    {
     "name": "stderr",
     "output_type": "stream",
     "text": [
      "\r",
      "t:  40%|████████████████████████████████████▎                                                      | 410/1026 [00:47<01:15,  8.12it/s, now=None]"
     ]
    },
    {
     "name": "stderr",
     "output_type": "stream",
     "text": [
      "\r",
      "t:  40%|████████████████████████████████████▍                                                      | 411/1026 [00:47<01:13,  8.37it/s, now=None]"
     ]
    },
    {
     "name": "stderr",
     "output_type": "stream",
     "text": [
      "\r",
      "t:  40%|████████████████████████████████████▋                                                      | 413/1026 [00:47<01:08,  8.92it/s, now=None]"
     ]
    },
    {
     "name": "stderr",
     "output_type": "stream",
     "text": [
      "\r",
      "t:  40%|████████████████████████████████████▋                                                      | 414/1026 [00:47<01:07,  9.05it/s, now=None]"
     ]
    },
    {
     "name": "stderr",
     "output_type": "stream",
     "text": [
      "\r",
      "t:  41%|████████████████████████████████████▉                                                      | 416/1026 [00:48<01:14,  8.16it/s, now=None]"
     ]
    },
    {
     "name": "stderr",
     "output_type": "stream",
     "text": [
      "\r",
      "t:  41%|████████████████████████████████████▉                                                      | 417/1026 [00:48<01:12,  8.39it/s, now=None]"
     ]
    },
    {
     "name": "stderr",
     "output_type": "stream",
     "text": [
      "\r",
      "t:  41%|█████████████████████████████████████▏                                                     | 419/1026 [00:48<01:07,  8.95it/s, now=None]"
     ]
    },
    {
     "name": "stderr",
     "output_type": "stream",
     "text": [
      "\r",
      "t:  41%|█████████████████████████████████████▎                                                     | 420/1026 [00:48<01:06,  9.05it/s, now=None]"
     ]
    },
    {
     "name": "stderr",
     "output_type": "stream",
     "text": [
      "\r",
      "t:  41%|█████████████████████████████████████▍                                                     | 422/1026 [00:48<01:13,  8.17it/s, now=None]"
     ]
    },
    {
     "name": "stderr",
     "output_type": "stream",
     "text": [
      "\r",
      "t:  41%|█████████████████████████████████████▌                                                     | 423/1026 [00:48<01:11,  8.42it/s, now=None]"
     ]
    },
    {
     "name": "stderr",
     "output_type": "stream",
     "text": [
      "\r",
      "t:  41%|█████████████████████████████████████▌                                                     | 424/1026 [00:48<01:09,  8.71it/s, now=None]"
     ]
    },
    {
     "name": "stderr",
     "output_type": "stream",
     "text": [
      "\r",
      "t:  41%|█████████████████████████████████████▋                                                     | 425/1026 [00:49<01:07,  8.88it/s, now=None]"
     ]
    },
    {
     "name": "stderr",
     "output_type": "stream",
     "text": [
      "\r",
      "t:  42%|█████████████████████████████████████▊                                                     | 426/1026 [00:49<01:06,  9.04it/s, now=None]"
     ]
    },
    {
     "name": "stderr",
     "output_type": "stream",
     "text": [
      "\r",
      "t:  42%|█████████████████████████████████████▉                                                     | 428/1026 [00:49<01:14,  8.03it/s, now=None]"
     ]
    },
    {
     "name": "stderr",
     "output_type": "stream",
     "text": [
      "\r",
      "t:  42%|██████████████████████████████████████                                                     | 429/1026 [00:49<01:11,  8.33it/s, now=None]"
     ]
    },
    {
     "name": "stderr",
     "output_type": "stream",
     "text": [
      "\r",
      "t:  42%|██████████████████████████████████████▏                                                    | 431/1026 [00:49<01:07,  8.81it/s, now=None]"
     ]
    },
    {
     "name": "stderr",
     "output_type": "stream",
     "text": [
      "\r",
      "t:  42%|██████████████████████████████████████▎                                                    | 432/1026 [00:49<01:06,  8.95it/s, now=None]"
     ]
    },
    {
     "name": "stderr",
     "output_type": "stream",
     "text": [
      "\r",
      "t:  42%|██████████████████████████████████████▍                                                    | 433/1026 [00:49<01:04,  9.14it/s, now=None]"
     ]
    },
    {
     "name": "stderr",
     "output_type": "stream",
     "text": [
      "\r",
      "t:  42%|██████████████████████████████████████▍                                                    | 434/1026 [00:50<01:17,  7.62it/s, now=None]"
     ]
    },
    {
     "name": "stderr",
     "output_type": "stream",
     "text": [
      "\r",
      "t:  42%|██████████████████████████████████████▌                                                    | 435/1026 [00:50<01:14,  7.89it/s, now=None]"
     ]
    },
    {
     "name": "stderr",
     "output_type": "stream",
     "text": [
      "\r",
      "t:  43%|██████████████████████████████████████▊                                                    | 437/1026 [00:50<01:07,  8.75it/s, now=None]"
     ]
    },
    {
     "name": "stderr",
     "output_type": "stream",
     "text": [
      "\r",
      "t:  43%|██████████████████████████████████████▊                                                    | 438/1026 [00:50<01:05,  8.91it/s, now=None]"
     ]
    },
    {
     "name": "stderr",
     "output_type": "stream",
     "text": [
      "\r",
      "t:  43%|███████████████████████████████████████                                                    | 440/1026 [00:50<01:12,  8.06it/s, now=None]"
     ]
    },
    {
     "name": "stderr",
     "output_type": "stream",
     "text": [
      "\r",
      "t:  43%|███████████████████████████████████████                                                    | 441/1026 [00:50<01:09,  8.37it/s, now=None]"
     ]
    },
    {
     "name": "stderr",
     "output_type": "stream",
     "text": [
      "\r",
      "t:  43%|███████████████████████████████████████▎                                                   | 443/1026 [00:51<01:04,  9.04it/s, now=None]"
     ]
    },
    {
     "name": "stderr",
     "output_type": "stream",
     "text": [
      "\r",
      "t:  43%|███████████████████████████████████████▍                                                   | 444/1026 [00:51<01:04,  9.03it/s, now=None]"
     ]
    },
    {
     "name": "stderr",
     "output_type": "stream",
     "text": [
      "\r",
      "t:  43%|███████████████████████████████████████▌                                                   | 446/1026 [00:51<01:10,  8.20it/s, now=None]"
     ]
    },
    {
     "name": "stderr",
     "output_type": "stream",
     "text": [
      "\r",
      "t:  44%|███████████████████████████████████████▋                                                   | 447/1026 [00:51<01:08,  8.47it/s, now=None]"
     ]
    },
    {
     "name": "stderr",
     "output_type": "stream",
     "text": [
      "\r",
      "t:  44%|███████████████████████████████████████▊                                                   | 449/1026 [00:51<01:04,  9.00it/s, now=None]"
     ]
    },
    {
     "name": "stderr",
     "output_type": "stream",
     "text": [
      "\r",
      "t:  44%|███████████████████████████████████████▉                                                   | 450/1026 [00:51<01:02,  9.16it/s, now=None]"
     ]
    },
    {
     "name": "stderr",
     "output_type": "stream",
     "text": [
      "\r",
      "t:  44%|████████████████████████████████████████                                                   | 452/1026 [00:52<01:09,  8.29it/s, now=None]"
     ]
    },
    {
     "name": "stderr",
     "output_type": "stream",
     "text": [
      "\r",
      "t:  44%|████████████████████████████████████████▏                                                  | 453/1026 [00:52<01:06,  8.56it/s, now=None]"
     ]
    },
    {
     "name": "stderr",
     "output_type": "stream",
     "text": [
      "\r",
      "t:  44%|████████████████████████████████████████▎                                                  | 455/1026 [00:52<01:03,  9.05it/s, now=None]"
     ]
    },
    {
     "name": "stderr",
     "output_type": "stream",
     "text": [
      "\r",
      "t:  44%|████████████████████████████████████████▍                                                  | 456/1026 [00:52<01:03,  8.94it/s, now=None]"
     ]
    },
    {
     "name": "stderr",
     "output_type": "stream",
     "text": [
      "\r",
      "t:  45%|████████████████████████████████████████▌                                                  | 458/1026 [00:52<01:10,  8.08it/s, now=None]"
     ]
    },
    {
     "name": "stderr",
     "output_type": "stream",
     "text": [
      "\r",
      "t:  45%|████████████████████████████████████████▋                                                  | 459/1026 [00:53<01:09,  8.18it/s, now=None]"
     ]
    },
    {
     "name": "stderr",
     "output_type": "stream",
     "text": [
      "\r",
      "t:  45%|████████████████████████████████████████▊                                                  | 460/1026 [00:53<01:06,  8.51it/s, now=None]"
     ]
    },
    {
     "name": "stderr",
     "output_type": "stream",
     "text": [
      "\r",
      "t:  45%|████████████████████████████████████████▉                                                  | 461/1026 [00:53<01:04,  8.72it/s, now=None]"
     ]
    },
    {
     "name": "stderr",
     "output_type": "stream",
     "text": [
      "\r",
      "t:  45%|████████████████████████████████████████▉                                                  | 462/1026 [00:53<01:03,  8.92it/s, now=None]"
     ]
    },
    {
     "name": "stderr",
     "output_type": "stream",
     "text": [
      "\r",
      "t:  45%|█████████████████████████████████████████                                                  | 463/1026 [00:53<01:01,  9.17it/s, now=None]"
     ]
    },
    {
     "name": "stderr",
     "output_type": "stream",
     "text": [
      "\r",
      "t:  45%|█████████████████████████████████████████▏                                                 | 464/1026 [00:53<01:14,  7.52it/s, now=None]"
     ]
    },
    {
     "name": "stderr",
     "output_type": "stream",
     "text": [
      "\r",
      "t:  45%|█████████████████████████████████████████▏                                                 | 465/1026 [00:53<01:10,  7.99it/s, now=None]"
     ]
    },
    {
     "name": "stderr",
     "output_type": "stream",
     "text": [
      "\r",
      "t:  46%|█████████████████████████████████████████▍                                                 | 467/1026 [00:53<01:04,  8.68it/s, now=None]"
     ]
    },
    {
     "name": "stderr",
     "output_type": "stream",
     "text": [
      "\r",
      "t:  46%|█████████████████████████████████████████▌                                                 | 468/1026 [00:54<01:03,  8.84it/s, now=None]"
     ]
    },
    {
     "name": "stderr",
     "output_type": "stream",
     "text": [
      "\r",
      "t:  46%|█████████████████████████████████████████▋                                                 | 470/1026 [00:54<01:09,  7.99it/s, now=None]"
     ]
    },
    {
     "name": "stderr",
     "output_type": "stream",
     "text": [
      "\r",
      "t:  46%|█████████████████████████████████████████▊                                                 | 471/1026 [00:54<01:06,  8.29it/s, now=None]"
     ]
    },
    {
     "name": "stderr",
     "output_type": "stream",
     "text": [
      "\r",
      "t:  46%|█████████████████████████████████████████▉                                                 | 473/1026 [00:54<01:01,  8.92it/s, now=None]"
     ]
    },
    {
     "name": "stderr",
     "output_type": "stream",
     "text": [
      "\r",
      "t:  46%|██████████████████████████████████████████                                                 | 474/1026 [00:54<01:01,  9.03it/s, now=None]"
     ]
    },
    {
     "name": "stderr",
     "output_type": "stream",
     "text": [
      "\r",
      "t:  46%|██████████████████████████████████████████▏                                                | 476/1026 [00:55<01:07,  8.13it/s, now=None]"
     ]
    },
    {
     "name": "stderr",
     "output_type": "stream",
     "text": [
      "\r",
      "t:  46%|██████████████████████████████████████████▎                                                | 477/1026 [00:55<01:05,  8.35it/s, now=None]"
     ]
    },
    {
     "name": "stderr",
     "output_type": "stream",
     "text": [
      "\r",
      "t:  47%|██████████████████████████████████████████▍                                                | 479/1026 [00:55<01:01,  8.86it/s, now=None]"
     ]
    },
    {
     "name": "stderr",
     "output_type": "stream",
     "text": [
      "\r",
      "t:  47%|██████████████████████████████████████████▌                                                | 480/1026 [00:55<01:00,  8.99it/s, now=None]"
     ]
    },
    {
     "name": "stderr",
     "output_type": "stream",
     "text": [
      "\r",
      "t:  47%|██████████████████████████████████████████▊                                                | 482/1026 [00:55<01:07,  8.05it/s, now=None]"
     ]
    },
    {
     "name": "stderr",
     "output_type": "stream",
     "text": [
      "\r",
      "t:  47%|██████████████████████████████████████████▊                                                | 483/1026 [00:55<01:05,  8.33it/s, now=None]"
     ]
    },
    {
     "name": "stderr",
     "output_type": "stream",
     "text": [
      "\r",
      "t:  47%|███████████████████████████████████████████                                                | 485/1026 [00:56<01:01,  8.82it/s, now=None]"
     ]
    },
    {
     "name": "stderr",
     "output_type": "stream",
     "text": [
      "\r",
      "t:  47%|███████████████████████████████████████████                                                | 486/1026 [00:56<01:00,  8.96it/s, now=None]"
     ]
    },
    {
     "name": "stderr",
     "output_type": "stream",
     "text": [
      "\r",
      "t:  48%|███████████████████████████████████████████▎                                               | 488/1026 [00:56<01:06,  8.13it/s, now=None]"
     ]
    },
    {
     "name": "stderr",
     "output_type": "stream",
     "text": [
      "\r",
      "t:  48%|███████████████████████████████████████████▎                                               | 489/1026 [00:56<01:04,  8.38it/s, now=None]"
     ]
    },
    {
     "name": "stderr",
     "output_type": "stream",
     "text": [
      "\r",
      "t:  48%|███████████████████████████████████████████▍                                               | 490/1026 [00:56<01:02,  8.63it/s, now=None]"
     ]
    },
    {
     "name": "stderr",
     "output_type": "stream",
     "text": [
      "\r",
      "t:  48%|███████████████████████████████████████████▌                                               | 491/1026 [00:56<01:00,  8.84it/s, now=None]"
     ]
    },
    {
     "name": "stderr",
     "output_type": "stream",
     "text": [
      "\r",
      "t:  48%|███████████████████████████████████████████▋                                               | 492/1026 [00:56<01:00,  8.83it/s, now=None]"
     ]
    },
    {
     "name": "stderr",
     "output_type": "stream",
     "text": [
      "\r",
      "t:  48%|███████████████████████████████████████████▊                                               | 494/1026 [00:57<01:06,  7.96it/s, now=None]"
     ]
    },
    {
     "name": "stderr",
     "output_type": "stream",
     "text": [
      "\r",
      "t:  48%|███████████████████████████████████████████▉                                               | 495/1026 [00:57<01:04,  8.28it/s, now=None]"
     ]
    },
    {
     "name": "stderr",
     "output_type": "stream",
     "text": [
      "\r",
      "t:  48%|████████████████████████████████████████████                                               | 497/1026 [00:57<00:59,  8.95it/s, now=None]"
     ]
    },
    {
     "name": "stderr",
     "output_type": "stream",
     "text": [
      "\r",
      "t:  49%|████████████████████████████████████████████▏                                              | 498/1026 [00:57<00:58,  9.07it/s, now=None]"
     ]
    },
    {
     "name": "stderr",
     "output_type": "stream",
     "text": [
      "\r",
      "t:  49%|████████████████████████████████████████████▎                                              | 500/1026 [00:57<01:04,  8.16it/s, now=None]"
     ]
    },
    {
     "name": "stderr",
     "output_type": "stream",
     "text": [
      "\r",
      "t:  49%|████████████████████████████████████████████▍                                              | 501/1026 [00:57<01:02,  8.42it/s, now=None]"
     ]
    },
    {
     "name": "stderr",
     "output_type": "stream",
     "text": [
      "\r",
      "t:  49%|████████████████████████████████████████████▌                                              | 503/1026 [00:58<00:58,  8.91it/s, now=None]"
     ]
    },
    {
     "name": "stderr",
     "output_type": "stream",
     "text": [
      "\r",
      "t:  49%|████████████████████████████████████████████▋                                              | 504/1026 [00:58<00:57,  9.05it/s, now=None]"
     ]
    },
    {
     "name": "stderr",
     "output_type": "stream",
     "text": [
      "\r",
      "t:  49%|████████████████████████████████████████████▉                                              | 506/1026 [00:58<01:04,  8.10it/s, now=None]"
     ]
    },
    {
     "name": "stderr",
     "output_type": "stream",
     "text": [
      "\r",
      "t:  49%|████████████████████████████████████████████▉                                              | 507/1026 [00:58<01:01,  8.38it/s, now=None]"
     ]
    },
    {
     "name": "stderr",
     "output_type": "stream",
     "text": [
      "\r",
      "t:  50%|█████████████████████████████████████████████▏                                             | 509/1026 [00:58<00:57,  8.99it/s, now=None]"
     ]
    },
    {
     "name": "stderr",
     "output_type": "stream",
     "text": [
      "\r",
      "t:  50%|█████████████████████████████████████████████▏                                             | 510/1026 [00:58<00:56,  9.12it/s, now=None]"
     ]
    },
    {
     "name": "stderr",
     "output_type": "stream",
     "text": [
      "\r",
      "t:  50%|█████████████████████████████████████████████▍                                             | 512/1026 [00:59<01:01,  8.39it/s, now=None]"
     ]
    },
    {
     "name": "stderr",
     "output_type": "stream",
     "text": [
      "\r",
      "t:  50%|█████████████████████████████████████████████▌                                             | 513/1026 [00:59<00:59,  8.64it/s, now=None]"
     ]
    },
    {
     "name": "stderr",
     "output_type": "stream",
     "text": [
      "\r",
      "t:  50%|█████████████████████████████████████████████▋                                             | 515/1026 [00:59<00:55,  9.16it/s, now=None]"
     ]
    },
    {
     "name": "stderr",
     "output_type": "stream",
     "text": [
      "\r",
      "t:  50%|█████████████████████████████████████████████▊                                             | 516/1026 [00:59<00:54,  9.29it/s, now=None]"
     ]
    },
    {
     "name": "stderr",
     "output_type": "stream",
     "text": [
      "\r",
      "t:  50%|█████████████████████████████████████████████▉                                             | 518/1026 [00:59<01:01,  8.32it/s, now=None]"
     ]
    },
    {
     "name": "stderr",
     "output_type": "stream",
     "text": [
      "\r",
      "t:  51%|██████████████████████████████████████████████                                             | 519/1026 [01:00<00:59,  8.59it/s, now=None]"
     ]
    },
    {
     "name": "stderr",
     "output_type": "stream",
     "text": [
      "\r",
      "t:  51%|██████████████████████████████████████████████▏                                            | 521/1026 [01:00<00:56,  8.92it/s, now=None]"
     ]
    },
    {
     "name": "stderr",
     "output_type": "stream",
     "text": [
      "\r",
      "t:  51%|██████████████████████████████████████████████▎                                            | 522/1026 [01:00<00:56,  8.95it/s, now=None]"
     ]
    },
    {
     "name": "stderr",
     "output_type": "stream",
     "text": [
      "\r",
      "t:  51%|██████████████████████████████████████████████▍                                            | 524/1026 [01:00<01:01,  8.18it/s, now=None]"
     ]
    },
    {
     "name": "stderr",
     "output_type": "stream",
     "text": [
      "\r",
      "t:  51%|██████████████████████████████████████████████▌                                            | 525/1026 [01:00<00:59,  8.46it/s, now=None]"
     ]
    },
    {
     "name": "stderr",
     "output_type": "stream",
     "text": [
      "\r",
      "t:  51%|██████████████████████████████████████████████▋                                            | 527/1026 [01:00<00:55,  9.06it/s, now=None]"
     ]
    },
    {
     "name": "stderr",
     "output_type": "stream",
     "text": [
      "\r",
      "t:  51%|██████████████████████████████████████████████▊                                            | 528/1026 [01:01<00:54,  9.18it/s, now=None]"
     ]
    },
    {
     "name": "stderr",
     "output_type": "stream",
     "text": [
      "\r",
      "t:  52%|██████████████████████████████████████████████▉                                            | 529/1026 [01:01<00:53,  9.33it/s, now=None]"
     ]
    },
    {
     "name": "stderr",
     "output_type": "stream",
     "text": [
      "\r",
      "t:  52%|███████████████████████████████████████████████                                            | 530/1026 [01:01<01:03,  7.79it/s, now=None]"
     ]
    },
    {
     "name": "stderr",
     "output_type": "stream",
     "text": [
      "\r",
      "t:  52%|███████████████████████████████████████████████                                            | 531/1026 [01:01<01:00,  8.22it/s, now=None]"
     ]
    },
    {
     "name": "stderr",
     "output_type": "stream",
     "text": [
      "\r",
      "t:  52%|███████████████████████████████████████████████▎                                           | 533/1026 [01:01<00:54,  9.04it/s, now=None]"
     ]
    },
    {
     "name": "stderr",
     "output_type": "stream",
     "text": [
      "\r",
      "t:  52%|███████████████████████████████████████████████▎                                           | 534/1026 [01:01<00:53,  9.18it/s, now=None]"
     ]
    },
    {
     "name": "stderr",
     "output_type": "stream",
     "text": [
      "\r",
      "t:  52%|███████████████████████████████████████████████▌                                           | 536/1026 [01:02<00:59,  8.20it/s, now=None]"
     ]
    },
    {
     "name": "stderr",
     "output_type": "stream",
     "text": [
      "\r",
      "t:  52%|███████████████████████████████████████████████▋                                           | 537/1026 [01:02<00:57,  8.48it/s, now=None]"
     ]
    },
    {
     "name": "stderr",
     "output_type": "stream",
     "text": [
      "\r",
      "t:  53%|███████████████████████████████████████████████▊                                           | 539/1026 [01:02<00:54,  8.97it/s, now=None]"
     ]
    },
    {
     "name": "stderr",
     "output_type": "stream",
     "text": [
      "\r",
      "t:  53%|███████████████████████████████████████████████▉                                           | 540/1026 [01:02<00:53,  9.09it/s, now=None]"
     ]
    },
    {
     "name": "stderr",
     "output_type": "stream",
     "text": [
      "\r",
      "t:  53%|████████████████████████████████████████████████                                           | 542/1026 [01:02<00:59,  8.19it/s, now=None]"
     ]
    },
    {
     "name": "stderr",
     "output_type": "stream",
     "text": [
      "\r",
      "t:  53%|████████████████████████████████████████████████▏                                          | 543/1026 [01:02<00:57,  8.47it/s, now=None]"
     ]
    },
    {
     "name": "stderr",
     "output_type": "stream",
     "text": [
      "\r",
      "t:  53%|████████████████████████████████████████████████▎                                          | 545/1026 [01:03<00:52,  9.12it/s, now=None]"
     ]
    },
    {
     "name": "stderr",
     "output_type": "stream",
     "text": [
      "\r",
      "t:  53%|████████████████████████████████████████████████▍                                          | 546/1026 [01:03<00:51,  9.24it/s, now=None]"
     ]
    },
    {
     "name": "stderr",
     "output_type": "stream",
     "text": [
      "\r",
      "t:  53%|████████████████████████████████████████████████▌                                          | 548/1026 [01:03<00:57,  8.30it/s, now=None]"
     ]
    },
    {
     "name": "stderr",
     "output_type": "stream",
     "text": [
      "\r",
      "t:  54%|████████████████████████████████████████████████▋                                          | 549/1026 [01:03<00:55,  8.58it/s, now=None]"
     ]
    },
    {
     "name": "stderr",
     "output_type": "stream",
     "text": [
      "\r",
      "t:  54%|████████████████████████████████████████████████▊                                          | 551/1026 [01:03<00:52,  9.07it/s, now=None]"
     ]
    },
    {
     "name": "stderr",
     "output_type": "stream",
     "text": [
      "\r",
      "t:  54%|████████████████████████████████████████████████▉                                          | 552/1026 [01:03<00:53,  8.86it/s, now=None]"
     ]
    },
    {
     "name": "stderr",
     "output_type": "stream",
     "text": [
      "\r",
      "t:  54%|█████████████████████████████████████████████████                                          | 553/1026 [01:03<00:53,  8.83it/s, now=None]"
     ]
    },
    {
     "name": "stderr",
     "output_type": "stream",
     "text": [
      "\r",
      "t:  54%|█████████████████████████████████████████████████▏                                         | 554/1026 [01:04<01:03,  7.47it/s, now=None]"
     ]
    },
    {
     "name": "stderr",
     "output_type": "stream",
     "text": [
      "\r",
      "t:  54%|█████████████████████████████████████████████████▏                                         | 555/1026 [01:04<00:59,  7.92it/s, now=None]"
     ]
    },
    {
     "name": "stderr",
     "output_type": "stream",
     "text": [
      "\r",
      "t:  54%|█████████████████████████████████████████████████▍                                         | 557/1026 [01:04<00:53,  8.75it/s, now=None]"
     ]
    },
    {
     "name": "stderr",
     "output_type": "stream",
     "text": [
      "\r",
      "t:  54%|█████████████████████████████████████████████████▍                                         | 558/1026 [01:04<00:52,  8.91it/s, now=None]"
     ]
    },
    {
     "name": "stderr",
     "output_type": "stream",
     "text": [
      "\r",
      "t:  55%|█████████████████████████████████████████████████▋                                         | 560/1026 [01:04<00:58,  7.92it/s, now=None]"
     ]
    },
    {
     "name": "stderr",
     "output_type": "stream",
     "text": [
      "\r",
      "t:  55%|█████████████████████████████████████████████████▊                                         | 561/1026 [01:04<00:56,  8.23it/s, now=None]"
     ]
    },
    {
     "name": "stderr",
     "output_type": "stream",
     "text": [
      "\r",
      "t:  55%|█████████████████████████████████████████████████▉                                         | 563/1026 [01:05<00:52,  8.87it/s, now=None]"
     ]
    },
    {
     "name": "stderr",
     "output_type": "stream",
     "text": [
      "\r",
      "t:  55%|██████████████████████████████████████████████████                                         | 564/1026 [01:05<00:51,  9.01it/s, now=None]"
     ]
    },
    {
     "name": "stderr",
     "output_type": "stream",
     "text": [
      "\r",
      "t:  55%|██████████████████████████████████████████████████▏                                        | 566/1026 [01:05<00:57,  8.03it/s, now=None]"
     ]
    },
    {
     "name": "stderr",
     "output_type": "stream",
     "text": [
      "\r",
      "t:  55%|██████████████████████████████████████████████████▎                                        | 567/1026 [01:05<00:55,  8.32it/s, now=None]"
     ]
    },
    {
     "name": "stderr",
     "output_type": "stream",
     "text": [
      "\r",
      "t:  55%|██████████████████████████████████████████████████▍                                        | 569/1026 [01:05<00:51,  8.91it/s, now=None]"
     ]
    },
    {
     "name": "stderr",
     "output_type": "stream",
     "text": [
      "\r",
      "t:  56%|██████████████████████████████████████████████████▌                                        | 570/1026 [01:05<00:50,  9.01it/s, now=None]"
     ]
    },
    {
     "name": "stderr",
     "output_type": "stream",
     "text": [
      "\r",
      "t:  56%|██████████████████████████████████████████████████▋                                        | 572/1026 [01:06<00:56,  8.09it/s, now=None]"
     ]
    },
    {
     "name": "stderr",
     "output_type": "stream",
     "text": [
      "\r",
      "t:  56%|██████████████████████████████████████████████████▊                                        | 573/1026 [01:06<00:54,  8.36it/s, now=None]"
     ]
    },
    {
     "name": "stderr",
     "output_type": "stream",
     "text": [
      "\r",
      "t:  56%|██████████████████████████████████████████████████▉                                        | 575/1026 [01:06<00:51,  8.82it/s, now=None]"
     ]
    },
    {
     "name": "stderr",
     "output_type": "stream",
     "text": [
      "\r",
      "t:  56%|███████████████████████████████████████████████████                                        | 576/1026 [01:06<00:50,  8.96it/s, now=None]"
     ]
    },
    {
     "name": "stderr",
     "output_type": "stream",
     "text": [
      "\r",
      "t:  56%|███████████████████████████████████████████████████▎                                       | 578/1026 [01:06<00:55,  8.09it/s, now=None]"
     ]
    },
    {
     "name": "stderr",
     "output_type": "stream",
     "text": [
      "\r",
      "t:  56%|███████████████████████████████████████████████████▎                                       | 579/1026 [01:07<00:53,  8.37it/s, now=None]"
     ]
    },
    {
     "name": "stderr",
     "output_type": "stream",
     "text": [
      "\r",
      "t:  57%|███████████████████████████████████████████████████▌                                       | 581/1026 [01:07<00:51,  8.70it/s, now=None]"
     ]
    },
    {
     "name": "stderr",
     "output_type": "stream",
     "text": [
      "\r",
      "t:  57%|███████████████████████████████████████████████████▌                                       | 582/1026 [01:07<00:50,  8.88it/s, now=None]"
     ]
    },
    {
     "name": "stderr",
     "output_type": "stream",
     "text": [
      "\r",
      "t:  57%|███████████████████████████████████████████████████▊                                       | 584/1026 [01:07<00:54,  8.07it/s, now=None]"
     ]
    },
    {
     "name": "stderr",
     "output_type": "stream",
     "text": [
      "\r",
      "t:  57%|███████████████████████████████████████████████████▉                                       | 585/1026 [01:07<00:52,  8.33it/s, now=None]"
     ]
    },
    {
     "name": "stderr",
     "output_type": "stream",
     "text": [
      "\r",
      "t:  57%|████████████████████████████████████████████████████                                       | 587/1026 [01:07<00:48,  8.96it/s, now=None]"
     ]
    },
    {
     "name": "stderr",
     "output_type": "stream",
     "text": [
      "\r",
      "t:  57%|████████████████████████████████████████████████████▏                                      | 588/1026 [01:08<00:48,  9.08it/s, now=None]"
     ]
    },
    {
     "name": "stderr",
     "output_type": "stream",
     "text": [
      "\r",
      "t:  57%|████████████████████████████████████████████████████▏                                      | 589/1026 [01:08<00:47,  9.26it/s, now=None]"
     ]
    },
    {
     "name": "stderr",
     "output_type": "stream",
     "text": [
      "\r",
      "t:  58%|████████████████████████████████████████████████████▎                                      | 590/1026 [01:08<00:56,  7.68it/s, now=None]"
     ]
    },
    {
     "name": "stderr",
     "output_type": "stream",
     "text": [
      "\r",
      "t:  58%|████████████████████████████████████████████████████▍                                      | 591/1026 [01:08<00:53,  8.11it/s, now=None]"
     ]
    },
    {
     "name": "stderr",
     "output_type": "stream",
     "text": [
      "\r",
      "t:  58%|████████████████████████████████████████████████████▌                                      | 593/1026 [01:08<00:49,  8.73it/s, now=None]"
     ]
    },
    {
     "name": "stderr",
     "output_type": "stream",
     "text": [
      "\r",
      "t:  58%|████████████████████████████████████████████████████▋                                      | 594/1026 [01:08<00:48,  8.91it/s, now=None]"
     ]
    },
    {
     "name": "stderr",
     "output_type": "stream",
     "text": [
      "\r",
      "t:  58%|████████████████████████████████████████████████████▊                                      | 596/1026 [01:09<00:53,  8.03it/s, now=None]"
     ]
    },
    {
     "name": "stderr",
     "output_type": "stream",
     "text": [
      "\r",
      "t:  58%|████████████████████████████████████████████████████▉                                      | 597/1026 [01:09<00:51,  8.33it/s, now=None]"
     ]
    },
    {
     "name": "stderr",
     "output_type": "stream",
     "text": [
      "\r",
      "t:  58%|█████████████████████████████████████████████████████                                      | 598/1026 [01:09<00:49,  8.66it/s, now=None]"
     ]
    },
    {
     "name": "stderr",
     "output_type": "stream",
     "text": [
      "\r",
      "t:  58%|█████████████████████████████████████████████████████▏                                     | 599/1026 [01:09<00:48,  8.87it/s, now=None]"
     ]
    },
    {
     "name": "stderr",
     "output_type": "stream",
     "text": [
      "\r",
      "t:  58%|█████████████████████████████████████████████████████▏                                     | 600/1026 [01:09<00:47,  9.03it/s, now=None]"
     ]
    },
    {
     "name": "stderr",
     "output_type": "stream",
     "text": [
      "\r",
      "t:  59%|█████████████████████████████████████████████████████▎                                     | 601/1026 [01:09<00:45,  9.25it/s, now=None]"
     ]
    },
    {
     "name": "stderr",
     "output_type": "stream",
     "text": [
      "\r",
      "t:  59%|█████████████████████████████████████████████████████▍                                     | 602/1026 [01:09<00:56,  7.50it/s, now=None]"
     ]
    },
    {
     "name": "stderr",
     "output_type": "stream",
     "text": [
      "\r",
      "t:  59%|█████████████████████████████████████████████████████▍                                     | 603/1026 [01:09<00:52,  7.99it/s, now=None]"
     ]
    },
    {
     "name": "stderr",
     "output_type": "stream",
     "text": [
      "\r",
      "t:  59%|█████████████████████████████████████████████████████▋                                     | 605/1026 [01:10<00:47,  8.89it/s, now=None]"
     ]
    },
    {
     "name": "stderr",
     "output_type": "stream",
     "text": [
      "\r",
      "t:  59%|█████████████████████████████████████████████████████▋                                     | 606/1026 [01:10<00:46,  9.05it/s, now=None]"
     ]
    },
    {
     "name": "stderr",
     "output_type": "stream",
     "text": [
      "\r",
      "t:  59%|█████████████████████████████████████████████████████▉                                     | 608/1026 [01:10<00:51,  8.19it/s, now=None]"
     ]
    },
    {
     "name": "stderr",
     "output_type": "stream",
     "text": [
      "\r",
      "t:  59%|██████████████████████████████████████████████████████                                     | 609/1026 [01:10<00:49,  8.49it/s, now=None]"
     ]
    },
    {
     "name": "stderr",
     "output_type": "stream",
     "text": [
      "\r",
      "t:  60%|██████████████████████████████████████████████████████▏                                    | 611/1026 [01:10<00:45,  9.02it/s, now=None]"
     ]
    },
    {
     "name": "stderr",
     "output_type": "stream",
     "text": [
      "\r",
      "t:  60%|██████████████████████████████████████████████████████▎                                    | 612/1026 [01:10<00:45,  9.16it/s, now=None]"
     ]
    },
    {
     "name": "stderr",
     "output_type": "stream",
     "text": [
      "\r",
      "t:  60%|██████████████████████████████████████████████████████▍                                    | 614/1026 [01:11<00:49,  8.25it/s, now=None]"
     ]
    },
    {
     "name": "stderr",
     "output_type": "stream",
     "text": [
      "\r",
      "t:  60%|██████████████████████████████████████████████████████▌                                    | 615/1026 [01:11<00:48,  8.52it/s, now=None]"
     ]
    },
    {
     "name": "stderr",
     "output_type": "stream",
     "text": [
      "\r",
      "t:  60%|██████████████████████████████████████████████████████▋                                    | 617/1026 [01:11<00:44,  9.13it/s, now=None]"
     ]
    },
    {
     "name": "stderr",
     "output_type": "stream",
     "text": [
      "\r",
      "t:  60%|██████████████████████████████████████████████████████▊                                    | 618/1026 [01:11<00:44,  9.27it/s, now=None]"
     ]
    },
    {
     "name": "stderr",
     "output_type": "stream",
     "text": [
      "\r",
      "t:  60%|██████████████████████████████████████████████████████▉                                    | 620/1026 [01:11<00:48,  8.29it/s, now=None]"
     ]
    },
    {
     "name": "stderr",
     "output_type": "stream",
     "text": [
      "\r",
      "t:  61%|███████████████████████████████████████████████████████                                    | 621/1026 [01:11<00:47,  8.56it/s, now=None]"
     ]
    },
    {
     "name": "stderr",
     "output_type": "stream",
     "text": [
      "\r",
      "t:  61%|███████████████████████████████████████████████████████▎                                   | 623/1026 [01:12<00:44,  9.02it/s, now=None]"
     ]
    },
    {
     "name": "stderr",
     "output_type": "stream",
     "text": [
      "\r",
      "t:  61%|███████████████████████████████████████████████████████▎                                   | 624/1026 [01:12<00:43,  9.16it/s, now=None]"
     ]
    },
    {
     "name": "stderr",
     "output_type": "stream",
     "text": [
      "\r",
      "t:  61%|███████████████████████████████████████████████████████▌                                   | 626/1026 [01:12<00:48,  8.24it/s, now=None]"
     ]
    },
    {
     "name": "stderr",
     "output_type": "stream",
     "text": [
      "\r",
      "t:  61%|███████████████████████████████████████████████████████▌                                   | 627/1026 [01:12<00:46,  8.54it/s, now=None]"
     ]
    },
    {
     "name": "stderr",
     "output_type": "stream",
     "text": [
      "\r",
      "t:  61%|███████████████████████████████████████████████████████▊                                   | 629/1026 [01:12<00:43,  9.12it/s, now=None]"
     ]
    },
    {
     "name": "stderr",
     "output_type": "stream",
     "text": [
      "\r",
      "t:  61%|███████████████████████████████████████████████████████▉                                   | 630/1026 [01:12<00:42,  9.26it/s, now=None]"
     ]
    },
    {
     "name": "stderr",
     "output_type": "stream",
     "text": [
      "\r",
      "t:  62%|████████████████████████████████████████████████████████                                   | 632/1026 [01:13<00:47,  8.28it/s, now=None]"
     ]
    },
    {
     "name": "stderr",
     "output_type": "stream",
     "text": [
      "\r",
      "t:  62%|████████████████████████████████████████████████████████▏                                  | 633/1026 [01:13<00:45,  8.56it/s, now=None]"
     ]
    },
    {
     "name": "stderr",
     "output_type": "stream",
     "text": [
      "\r",
      "t:  62%|████████████████████████████████████████████████████████▎                                  | 635/1026 [01:13<00:42,  9.20it/s, now=None]"
     ]
    },
    {
     "name": "stderr",
     "output_type": "stream",
     "text": [
      "\r",
      "t:  62%|████████████████████████████████████████████████████████▍                                  | 636/1026 [01:13<00:41,  9.30it/s, now=None]"
     ]
    },
    {
     "name": "stderr",
     "output_type": "stream",
     "text": [
      "\r",
      "t:  62%|████████████████████████████████████████████████████████▍                                  | 637/1026 [01:13<00:41,  9.33it/s, now=None]"
     ]
    },
    {
     "name": "stderr",
     "output_type": "stream",
     "text": [
      "\r",
      "t:  62%|████████████████████████████████████████████████████████▌                                  | 638/1026 [01:13<00:49,  7.79it/s, now=None]"
     ]
    },
    {
     "name": "stderr",
     "output_type": "stream",
     "text": [
      "\r",
      "t:  62%|████████████████████████████████████████████████████████▋                                  | 639/1026 [01:13<00:47,  8.20it/s, now=None]"
     ]
    },
    {
     "name": "stderr",
     "output_type": "stream",
     "text": [
      "\r",
      "t:  62%|████████████████████████████████████████████████████████▊                                  | 641/1026 [01:14<00:43,  8.87it/s, now=None]"
     ]
    },
    {
     "name": "stderr",
     "output_type": "stream",
     "text": [
      "\r",
      "t:  63%|████████████████████████████████████████████████████████▉                                  | 642/1026 [01:14<00:42,  9.05it/s, now=None]"
     ]
    },
    {
     "name": "stderr",
     "output_type": "stream",
     "text": [
      "\r",
      "t:  63%|█████████████████████████████████████████████████████████                                  | 644/1026 [01:14<00:46,  8.16it/s, now=None]"
     ]
    },
    {
     "name": "stderr",
     "output_type": "stream",
     "text": [
      "\r",
      "t:  63%|█████████████████████████████████████████████████████████▏                                 | 645/1026 [01:14<00:45,  8.45it/s, now=None]"
     ]
    },
    {
     "name": "stderr",
     "output_type": "stream",
     "text": [
      "\r",
      "t:  63%|█████████████████████████████████████████████████████████▍                                 | 647/1026 [01:14<00:41,  9.12it/s, now=None]"
     ]
    },
    {
     "name": "stderr",
     "output_type": "stream",
     "text": [
      "\r",
      "t:  63%|█████████████████████████████████████████████████████████▍                                 | 648/1026 [01:14<00:40,  9.26it/s, now=None]"
     ]
    },
    {
     "name": "stderr",
     "output_type": "stream",
     "text": [
      "\r",
      "t:  63%|█████████████████████████████████████████████████████████▋                                 | 650/1026 [01:15<00:45,  8.29it/s, now=None]"
     ]
    },
    {
     "name": "stderr",
     "output_type": "stream",
     "text": [
      "\r",
      "t:  63%|█████████████████████████████████████████████████████████▋                                 | 651/1026 [01:15<00:43,  8.55it/s, now=None]"
     ]
    },
    {
     "name": "stderr",
     "output_type": "stream",
     "text": [
      "\r",
      "t:  64%|█████████████████████████████████████████████████████████▉                                 | 653/1026 [01:15<00:40,  9.15it/s, now=None]"
     ]
    },
    {
     "name": "stderr",
     "output_type": "stream",
     "text": [
      "\r",
      "t:  64%|██████████████████████████████████████████████████████████                                 | 654/1026 [01:15<00:40,  9.28it/s, now=None]"
     ]
    },
    {
     "name": "stderr",
     "output_type": "stream",
     "text": [
      "\r",
      "t:  64%|██████████████████████████████████████████████████████████▏                                | 656/1026 [01:15<00:44,  8.33it/s, now=None]"
     ]
    },
    {
     "name": "stderr",
     "output_type": "stream",
     "text": [
      "\r",
      "t:  64%|██████████████████████████████████████████████████████████▎                                | 657/1026 [01:16<00:43,  8.58it/s, now=None]"
     ]
    },
    {
     "name": "stderr",
     "output_type": "stream",
     "text": [
      "\r",
      "t:  64%|██████████████████████████████████████████████████████████▍                                | 659/1026 [01:16<00:39,  9.18it/s, now=None]"
     ]
    },
    {
     "name": "stderr",
     "output_type": "stream",
     "text": [
      "\r",
      "t:  64%|██████████████████████████████████████████████████████████▌                                | 660/1026 [01:16<00:39,  9.28it/s, now=None]"
     ]
    },
    {
     "name": "stderr",
     "output_type": "stream",
     "text": [
      "\r",
      "t:  65%|██████████████████████████████████████████████████████████▋                                | 662/1026 [01:16<00:43,  8.30it/s, now=None]"
     ]
    },
    {
     "name": "stderr",
     "output_type": "stream",
     "text": [
      "\r",
      "t:  65%|██████████████████████████████████████████████████████████▊                                | 663/1026 [01:16<00:42,  8.58it/s, now=None]"
     ]
    },
    {
     "name": "stderr",
     "output_type": "stream",
     "text": [
      "\r",
      "t:  65%|██████████████████████████████████████████████████████████▉                                | 665/1026 [01:16<00:39,  9.06it/s, now=None]"
     ]
    },
    {
     "name": "stderr",
     "output_type": "stream",
     "text": [
      "\r",
      "t:  65%|███████████████████████████████████████████████████████████                                | 666/1026 [01:17<00:39,  9.20it/s, now=None]"
     ]
    },
    {
     "name": "stderr",
     "output_type": "stream",
     "text": [
      "\r",
      "t:  65%|███████████████████████████████████████████████████████████▏                               | 667/1026 [01:17<00:38,  9.36it/s, now=None]"
     ]
    },
    {
     "name": "stderr",
     "output_type": "stream",
     "text": [
      "\r",
      "t:  65%|███████████████████████████████████████████████████████████▏                               | 668/1026 [01:17<00:45,  7.86it/s, now=None]"
     ]
    },
    {
     "name": "stderr",
     "output_type": "stream",
     "text": [
      "\r",
      "t:  65%|███████████████████████████████████████████████████████████▎                               | 669/1026 [01:17<00:43,  8.28it/s, now=None]"
     ]
    },
    {
     "name": "stderr",
     "output_type": "stream",
     "text": [
      "\r",
      "t:  65%|███████████████████████████████████████████████████████████▌                               | 671/1026 [01:17<00:39,  8.96it/s, now=None]"
     ]
    },
    {
     "name": "stderr",
     "output_type": "stream",
     "text": [
      "\r",
      "t:  65%|███████████████████████████████████████████████████████████▌                               | 672/1026 [01:17<00:38,  9.13it/s, now=None]"
     ]
    },
    {
     "name": "stderr",
     "output_type": "stream",
     "text": [
      "\r",
      "t:  66%|███████████████████████████████████████████████████████████▊                               | 674/1026 [01:17<00:42,  8.21it/s, now=None]"
     ]
    },
    {
     "name": "stderr",
     "output_type": "stream",
     "text": [
      "\r",
      "t:  66%|███████████████████████████████████████████████████████████▊                               | 675/1026 [01:18<00:41,  8.49it/s, now=None]"
     ]
    },
    {
     "name": "stderr",
     "output_type": "stream",
     "text": [
      "\r",
      "t:  66%|████████████████████████████████████████████████████████████                               | 677/1026 [01:18<00:38,  9.13it/s, now=None]"
     ]
    },
    {
     "name": "stderr",
     "output_type": "stream",
     "text": [
      "\r",
      "t:  66%|████████████████████████████████████████████████████████████▏                              | 678/1026 [01:18<00:37,  9.27it/s, now=None]"
     ]
    },
    {
     "name": "stderr",
     "output_type": "stream",
     "text": [
      "\r",
      "t:  66%|████████████████████████████████████████████████████████████▎                              | 680/1026 [01:18<00:41,  8.30it/s, now=None]"
     ]
    },
    {
     "name": "stderr",
     "output_type": "stream",
     "text": [
      "\r",
      "t:  66%|████████████████████████████████████████████████████████████▍                              | 681/1026 [01:18<00:40,  8.57it/s, now=None]"
     ]
    },
    {
     "name": "stderr",
     "output_type": "stream",
     "text": [
      "\r",
      "t:  67%|████████████████████████████████████████████████████████████▌                              | 683/1026 [01:18<00:37,  9.17it/s, now=None]"
     ]
    },
    {
     "name": "stderr",
     "output_type": "stream",
     "text": [
      "\r",
      "t:  67%|████████████████████████████████████████████████████████████▋                              | 684/1026 [01:19<00:36,  9.28it/s, now=None]"
     ]
    },
    {
     "name": "stderr",
     "output_type": "stream",
     "text": [
      "\r",
      "t:  67%|████████████████████████████████████████████████████████████▊                              | 686/1026 [01:19<00:40,  8.31it/s, now=None]"
     ]
    },
    {
     "name": "stderr",
     "output_type": "stream",
     "text": [
      "\r",
      "t:  67%|████████████████████████████████████████████████████████████▉                              | 687/1026 [01:19<00:39,  8.59it/s, now=None]"
     ]
    },
    {
     "name": "stderr",
     "output_type": "stream",
     "text": [
      "\r",
      "t:  67%|█████████████████████████████████████████████████████████████                              | 689/1026 [01:19<00:37,  8.94it/s, now=None]"
     ]
    },
    {
     "name": "stderr",
     "output_type": "stream",
     "text": [
      "\r",
      "t:  67%|█████████████████████████████████████████████████████████████▏                             | 690/1026 [01:19<00:36,  9.10it/s, now=None]"
     ]
    },
    {
     "name": "stderr",
     "output_type": "stream",
     "text": [
      "\r",
      "t:  67%|█████████████████████████████████████████████████████████████▍                             | 692/1026 [01:20<00:40,  8.23it/s, now=None]"
     ]
    },
    {
     "name": "stderr",
     "output_type": "stream",
     "text": [
      "\r",
      "t:  68%|█████████████████████████████████████████████████████████████▍                             | 693/1026 [01:20<00:39,  8.51it/s, now=None]"
     ]
    },
    {
     "name": "stderr",
     "output_type": "stream",
     "text": [
      "\r",
      "t:  68%|█████████████████████████████████████████████████████████████▋                             | 695/1026 [01:20<00:36,  9.12it/s, now=None]"
     ]
    },
    {
     "name": "stderr",
     "output_type": "stream",
     "text": [
      "\r",
      "t:  68%|█████████████████████████████████████████████████████████████▋                             | 696/1026 [01:20<00:35,  9.21it/s, now=None]"
     ]
    },
    {
     "name": "stderr",
     "output_type": "stream",
     "text": [
      "\r",
      "t:  68%|█████████████████████████████████████████████████████████████▉                             | 698/1026 [01:20<00:39,  8.29it/s, now=None]"
     ]
    },
    {
     "name": "stderr",
     "output_type": "stream",
     "text": [
      "\r",
      "t:  68%|█████████████████████████████████████████████████████████████▉                             | 699/1026 [01:20<00:38,  8.58it/s, now=None]"
     ]
    },
    {
     "name": "stderr",
     "output_type": "stream",
     "text": [
      "\r",
      "t:  68%|██████████████████████████████████████████████████████████████▏                            | 701/1026 [01:21<00:35,  9.18it/s, now=None]"
     ]
    },
    {
     "name": "stderr",
     "output_type": "stream",
     "text": [
      "\r",
      "t:  68%|██████████████████████████████████████████████████████████████▎                            | 702/1026 [01:21<00:34,  9.29it/s, now=None]"
     ]
    },
    {
     "name": "stderr",
     "output_type": "stream",
     "text": [
      "\r",
      "t:  69%|██████████████████████████████████████████████████████████████▍                            | 704/1026 [01:21<00:38,  8.33it/s, now=None]"
     ]
    },
    {
     "name": "stderr",
     "output_type": "stream",
     "text": [
      "\r",
      "t:  69%|██████████████████████████████████████████████████████████████▌                            | 705/1026 [01:21<00:37,  8.59it/s, now=None]"
     ]
    },
    {
     "name": "stderr",
     "output_type": "stream",
     "text": [
      "\r",
      "t:  69%|██████████████████████████████████████████████████████████████▋                            | 707/1026 [01:21<00:35,  9.07it/s, now=None]"
     ]
    },
    {
     "name": "stderr",
     "output_type": "stream",
     "text": [
      "\r",
      "t:  69%|██████████████████████████████████████████████████████████████▊                            | 708/1026 [01:21<00:34,  9.20it/s, now=None]"
     ]
    },
    {
     "name": "stderr",
     "output_type": "stream",
     "text": [
      "\r",
      "t:  69%|██████████████████████████████████████████████████████████████▉                            | 710/1026 [01:22<00:38,  8.27it/s, now=None]"
     ]
    },
    {
     "name": "stderr",
     "output_type": "stream",
     "text": [
      "\r",
      "t:  69%|███████████████████████████████████████████████████████████████                            | 711/1026 [01:22<00:36,  8.52it/s, now=None]"
     ]
    },
    {
     "name": "stderr",
     "output_type": "stream",
     "text": [
      "\r",
      "t:  69%|███████████████████████████████████████████████████████████████▏                           | 713/1026 [01:22<00:34,  9.02it/s, now=None]"
     ]
    },
    {
     "name": "stderr",
     "output_type": "stream",
     "text": [
      "\r",
      "t:  70%|███████████████████████████████████████████████████████████████▎                           | 714/1026 [01:22<00:34,  9.14it/s, now=None]"
     ]
    },
    {
     "name": "stderr",
     "output_type": "stream",
     "text": [
      "\r",
      "t:  70%|███████████████████████████████████████████████████████████████▌                           | 716/1026 [01:22<00:37,  8.23it/s, now=None]"
     ]
    },
    {
     "name": "stderr",
     "output_type": "stream",
     "text": [
      "\r",
      "t:  70%|███████████████████████████████████████████████████████████████▌                           | 717/1026 [01:22<00:36,  8.38it/s, now=None]"
     ]
    },
    {
     "name": "stderr",
     "output_type": "stream",
     "text": [
      "\r",
      "t:  70%|███████████████████████████████████████████████████████████████▊                           | 719/1026 [01:23<00:34,  8.93it/s, now=None]"
     ]
    },
    {
     "name": "stderr",
     "output_type": "stream",
     "text": [
      "\r",
      "t:  70%|███████████████████████████████████████████████████████████████▊                           | 720/1026 [01:23<00:33,  9.09it/s, now=None]"
     ]
    },
    {
     "name": "stderr",
     "output_type": "stream",
     "text": [
      "\r",
      "t:  70%|████████████████████████████████████████████████████████████████                           | 722/1026 [01:23<00:36,  8.32it/s, now=None]"
     ]
    },
    {
     "name": "stderr",
     "output_type": "stream",
     "text": [
      "\r",
      "t:  70%|████████████████████████████████████████████████████████████████▏                          | 723/1026 [01:23<00:35,  8.57it/s, now=None]"
     ]
    },
    {
     "name": "stderr",
     "output_type": "stream",
     "text": [
      "\r",
      "t:  71%|████████████████████████████████████████████████████████████████▎                          | 725/1026 [01:23<00:33,  9.05it/s, now=None]"
     ]
    },
    {
     "name": "stderr",
     "output_type": "stream",
     "text": [
      "\r",
      "t:  71%|████████████████████████████████████████████████████████████████▍                          | 726/1026 [01:23<00:32,  9.18it/s, now=None]"
     ]
    },
    {
     "name": "stderr",
     "output_type": "stream",
     "text": [
      "\r",
      "t:  71%|████████████████████████████████████████████████████████████████▌                          | 728/1026 [01:24<00:36,  8.27it/s, now=None]"
     ]
    },
    {
     "name": "stderr",
     "output_type": "stream",
     "text": [
      "\r",
      "t:  71%|████████████████████████████████████████████████████████████████▋                          | 729/1026 [01:24<00:34,  8.54it/s, now=None]"
     ]
    },
    {
     "name": "stderr",
     "output_type": "stream",
     "text": [
      "\r",
      "t:  71%|████████████████████████████████████████████████████████████████▊                          | 731/1026 [01:24<00:32,  9.04it/s, now=None]"
     ]
    },
    {
     "name": "stderr",
     "output_type": "stream",
     "text": [
      "\r",
      "t:  71%|████████████████████████████████████████████████████████████████▉                          | 732/1026 [01:24<00:31,  9.19it/s, now=None]"
     ]
    },
    {
     "name": "stderr",
     "output_type": "stream",
     "text": [
      "\r",
      "t:  72%|█████████████████████████████████████████████████████████████████                          | 734/1026 [01:24<00:35,  8.34it/s, now=None]"
     ]
    },
    {
     "name": "stderr",
     "output_type": "stream",
     "text": [
      "\r",
      "t:  72%|█████████████████████████████████████████████████████████████████▏                         | 735/1026 [01:24<00:33,  8.60it/s, now=None]"
     ]
    },
    {
     "name": "stderr",
     "output_type": "stream",
     "text": [
      "\r",
      "t:  72%|█████████████████████████████████████████████████████████████████▎                         | 737/1026 [01:25<00:31,  9.20it/s, now=None]"
     ]
    },
    {
     "name": "stderr",
     "output_type": "stream",
     "text": [
      "\r",
      "t:  72%|█████████████████████████████████████████████████████████████████▍                         | 738/1026 [01:25<00:30,  9.32it/s, now=None]"
     ]
    },
    {
     "name": "stderr",
     "output_type": "stream",
     "text": [
      "\r",
      "t:  72%|█████████████████████████████████████████████████████████████████▋                         | 740/1026 [01:25<00:33,  8.44it/s, now=None]"
     ]
    },
    {
     "name": "stderr",
     "output_type": "stream",
     "text": [
      "\r",
      "t:  72%|█████████████████████████████████████████████████████████████████▋                         | 741/1026 [01:25<00:32,  8.68it/s, now=None]"
     ]
    },
    {
     "name": "stderr",
     "output_type": "stream",
     "text": [
      "\r",
      "t:  72%|█████████████████████████████████████████████████████████████████▉                         | 743/1026 [01:25<00:30,  9.24it/s, now=None]"
     ]
    },
    {
     "name": "stderr",
     "output_type": "stream",
     "text": [
      "\r",
      "t:  73%|█████████████████████████████████████████████████████████████████▉                         | 744/1026 [01:25<00:30,  9.34it/s, now=None]"
     ]
    },
    {
     "name": "stderr",
     "output_type": "stream",
     "text": [
      "\r",
      "t:  73%|██████████████████████████████████████████████████████████████████▏                        | 746/1026 [01:26<00:33,  8.30it/s, now=None]"
     ]
    },
    {
     "name": "stderr",
     "output_type": "stream",
     "text": [
      "\r",
      "t:  73%|██████████████████████████████████████████████████████████████████▎                        | 747/1026 [01:26<00:32,  8.55it/s, now=None]"
     ]
    },
    {
     "name": "stderr",
     "output_type": "stream",
     "text": [
      "\r",
      "t:  73%|██████████████████████████████████████████████████████████████████▍                        | 749/1026 [01:26<00:31,  8.91it/s, now=None]"
     ]
    },
    {
     "name": "stderr",
     "output_type": "stream",
     "text": [
      "\r",
      "t:  73%|██████████████████████████████████████████████████████████████████▌                        | 750/1026 [01:26<00:30,  8.98it/s, now=None]"
     ]
    },
    {
     "name": "stderr",
     "output_type": "stream",
     "text": [
      "\r",
      "t:  73%|██████████████████████████████████████████████████████████████████▋                        | 752/1026 [01:26<00:33,  8.16it/s, now=None]"
     ]
    },
    {
     "name": "stderr",
     "output_type": "stream",
     "text": [
      "\r",
      "t:  73%|██████████████████████████████████████████████████████████████████▊                        | 753/1026 [01:27<00:32,  8.45it/s, now=None]"
     ]
    },
    {
     "name": "stderr",
     "output_type": "stream",
     "text": [
      "\r",
      "t:  74%|██████████████████████████████████████████████████████████████████▉                        | 755/1026 [01:27<00:30,  8.83it/s, now=None]"
     ]
    },
    {
     "name": "stderr",
     "output_type": "stream",
     "text": [
      "\r",
      "t:  74%|███████████████████████████████████████████████████████████████████                        | 756/1026 [01:27<00:30,  9.00it/s, now=None]"
     ]
    },
    {
     "name": "stderr",
     "output_type": "stream",
     "text": [
      "\r",
      "t:  74%|███████████████████████████████████████████████████████████████████▏                       | 758/1026 [01:27<00:32,  8.16it/s, now=None]"
     ]
    },
    {
     "name": "stderr",
     "output_type": "stream",
     "text": [
      "\r",
      "t:  74%|███████████████████████████████████████████████████████████████████▎                       | 759/1026 [01:27<00:32,  8.33it/s, now=None]"
     ]
    },
    {
     "name": "stderr",
     "output_type": "stream",
     "text": [
      "\r",
      "t:  74%|███████████████████████████████████████████████████████████████████▍                       | 761/1026 [01:27<00:29,  9.00it/s, now=None]"
     ]
    },
    {
     "name": "stderr",
     "output_type": "stream",
     "text": [
      "\r",
      "t:  74%|███████████████████████████████████████████████████████████████████▌                       | 762/1026 [01:28<00:28,  9.13it/s, now=None]"
     ]
    },
    {
     "name": "stderr",
     "output_type": "stream",
     "text": [
      "\r",
      "t:  74%|███████████████████████████████████████████████████████████████████▊                       | 764/1026 [01:28<00:32,  8.13it/s, now=None]"
     ]
    },
    {
     "name": "stderr",
     "output_type": "stream",
     "text": [
      "\r",
      "t:  75%|███████████████████████████████████████████████████████████████████▊                       | 765/1026 [01:28<00:31,  8.40it/s, now=None]"
     ]
    },
    {
     "name": "stderr",
     "output_type": "stream",
     "text": [
      "\r",
      "t:  75%|████████████████████████████████████████████████████████████████████                       | 767/1026 [01:28<00:29,  8.85it/s, now=None]"
     ]
    },
    {
     "name": "stderr",
     "output_type": "stream",
     "text": [
      "\r",
      "t:  75%|████████████████████████████████████████████████████████████████████                       | 768/1026 [01:28<00:28,  8.98it/s, now=None]"
     ]
    },
    {
     "name": "stderr",
     "output_type": "stream",
     "text": [
      "\r",
      "t:  75%|████████████████████████████████████████████████████████████████████▎                      | 770/1026 [01:29<00:31,  8.05it/s, now=None]"
     ]
    },
    {
     "name": "stderr",
     "output_type": "stream",
     "text": [
      "\r",
      "t:  75%|████████████████████████████████████████████████████████████████████▍                      | 771/1026 [01:29<00:30,  8.32it/s, now=None]"
     ]
    },
    {
     "name": "stderr",
     "output_type": "stream",
     "text": [
      "\r",
      "t:  75%|████████████████████████████████████████████████████████████████████▌                      | 773/1026 [01:29<00:28,  8.92it/s, now=None]"
     ]
    },
    {
     "name": "stderr",
     "output_type": "stream",
     "text": [
      "\r",
      "t:  75%|████████████████████████████████████████████████████████████████████▋                      | 774/1026 [01:29<00:28,  8.88it/s, now=None]"
     ]
    },
    {
     "name": "stderr",
     "output_type": "stream",
     "text": [
      "\r",
      "t:  76%|████████████████████████████████████████████████████████████████████▊                      | 776/1026 [01:29<00:31,  8.03it/s, now=None]"
     ]
    },
    {
     "name": "stderr",
     "output_type": "stream",
     "text": [
      "\r",
      "t:  76%|████████████████████████████████████████████████████████████████████▉                      | 777/1026 [01:29<00:29,  8.31it/s, now=None]"
     ]
    },
    {
     "name": "stderr",
     "output_type": "stream",
     "text": [
      "\r",
      "t:  76%|█████████████████████████████████████████████████████████████████████                      | 779/1026 [01:30<00:27,  8.88it/s, now=None]"
     ]
    },
    {
     "name": "stderr",
     "output_type": "stream",
     "text": [
      "\r",
      "t:  76%|█████████████████████████████████████████████████████████████████████▏                     | 780/1026 [01:30<00:27,  8.86it/s, now=None]"
     ]
    },
    {
     "name": "stderr",
     "output_type": "stream",
     "text": [
      "\r",
      "t:  76%|█████████████████████████████████████████████████████████████████████▎                     | 782/1026 [01:30<00:30,  8.01it/s, now=None]"
     ]
    },
    {
     "name": "stderr",
     "output_type": "stream",
     "text": [
      "\r",
      "t:  76%|█████████████████████████████████████████████████████████████████████▍                     | 783/1026 [01:30<00:29,  8.28it/s, now=None]"
     ]
    },
    {
     "name": "stderr",
     "output_type": "stream",
     "text": [
      "\r",
      "t:  77%|█████████████████████████████████████████████████████████████████████▌                     | 785/1026 [01:30<00:27,  8.73it/s, now=None]"
     ]
    },
    {
     "name": "stderr",
     "output_type": "stream",
     "text": [
      "\r",
      "t:  77%|█████████████████████████████████████████████████████████████████████▋                     | 786/1026 [01:30<00:27,  8.89it/s, now=None]"
     ]
    },
    {
     "name": "stderr",
     "output_type": "stream",
     "text": [
      "\r",
      "t:  77%|█████████████████████████████████████████████████████████████████████▉                     | 788/1026 [01:31<00:29,  8.02it/s, now=None]"
     ]
    },
    {
     "name": "stderr",
     "output_type": "stream",
     "text": [
      "\r",
      "t:  77%|█████████████████████████████████████████████████████████████████████▉                     | 789/1026 [01:31<00:28,  8.30it/s, now=None]"
     ]
    },
    {
     "name": "stderr",
     "output_type": "stream",
     "text": [
      "\r",
      "t:  77%|██████████████████████████████████████████████████████████████████████▏                    | 791/1026 [01:31<00:26,  8.82it/s, now=None]"
     ]
    },
    {
     "name": "stderr",
     "output_type": "stream",
     "text": [
      "\r",
      "t:  77%|██████████████████████████████████████████████████████████████████████▏                    | 792/1026 [01:31<00:26,  8.95it/s, now=None]"
     ]
    },
    {
     "name": "stderr",
     "output_type": "stream",
     "text": [
      "\r",
      "t:  77%|██████████████████████████████████████████████████████████████████████▍                    | 794/1026 [01:31<00:28,  8.18it/s, now=None]"
     ]
    },
    {
     "name": "stderr",
     "output_type": "stream",
     "text": [
      "\r",
      "t:  77%|██████████████████████████████████████████████████████████████████████▌                    | 795/1026 [01:31<00:27,  8.44it/s, now=None]"
     ]
    },
    {
     "name": "stderr",
     "output_type": "stream",
     "text": [
      "\r",
      "t:  78%|██████████████████████████████████████████████████████████████████████▋                    | 797/1026 [01:32<00:25,  8.99it/s, now=None]"
     ]
    },
    {
     "name": "stderr",
     "output_type": "stream",
     "text": [
      "\r",
      "t:  78%|██████████████████████████████████████████████████████████████████████▊                    | 798/1026 [01:32<00:25,  9.11it/s, now=None]"
     ]
    },
    {
     "name": "stderr",
     "output_type": "stream",
     "text": [
      "\r",
      "t:  78%|██████████████████████████████████████████████████████████████████████▊                    | 799/1026 [01:32<00:24,  9.30it/s, now=None]"
     ]
    },
    {
     "name": "stderr",
     "output_type": "stream",
     "text": [
      "\r",
      "t:  78%|██████████████████████████████████████████████████████████████████████▉                    | 800/1026 [01:32<00:28,  7.81it/s, now=None]"
     ]
    },
    {
     "name": "stderr",
     "output_type": "stream",
     "text": [
      "\r",
      "t:  78%|███████████████████████████████████████████████████████████████████████                    | 801/1026 [01:32<00:27,  8.21it/s, now=None]"
     ]
    },
    {
     "name": "stderr",
     "output_type": "stream",
     "text": [
      "\r",
      "t:  78%|███████████████████████████████████████████████████████████████████████▏                   | 803/1026 [01:32<00:24,  8.95it/s, now=None]"
     ]
    },
    {
     "name": "stderr",
     "output_type": "stream",
     "text": [
      "\r",
      "t:  78%|███████████████████████████████████████████████████████████████████████▎                   | 804/1026 [01:32<00:24,  9.06it/s, now=None]"
     ]
    },
    {
     "name": "stderr",
     "output_type": "stream",
     "text": [
      "\r",
      "t:  79%|███████████████████████████████████████████████████████████████████████▍                   | 806/1026 [01:33<00:27,  8.07it/s, now=None]"
     ]
    },
    {
     "name": "stderr",
     "output_type": "stream",
     "text": [
      "\r",
      "t:  79%|███████████████████████████████████████████████████████████████████████▌                   | 807/1026 [01:33<00:26,  8.36it/s, now=None]"
     ]
    },
    {
     "name": "stderr",
     "output_type": "stream",
     "text": [
      "\r",
      "t:  79%|███████████████████████████████████████████████████████████████████████▊                   | 809/1026 [01:33<00:24,  8.98it/s, now=None]"
     ]
    },
    {
     "name": "stderr",
     "output_type": "stream",
     "text": [
      "\r",
      "t:  79%|███████████████████████████████████████████████████████████████████████▊                   | 810/1026 [01:33<00:23,  9.11it/s, now=None]"
     ]
    },
    {
     "name": "stderr",
     "output_type": "stream",
     "text": [
      "\r",
      "t:  79%|████████████████████████████████████████████████████████████████████████                   | 812/1026 [01:33<00:26,  8.18it/s, now=None]"
     ]
    },
    {
     "name": "stderr",
     "output_type": "stream",
     "text": [
      "\r",
      "t:  79%|████████████████████████████████████████████████████████████████████████                   | 813/1026 [01:34<00:25,  8.42it/s, now=None]"
     ]
    },
    {
     "name": "stderr",
     "output_type": "stream",
     "text": [
      "\r",
      "t:  79%|████████████████████████████████████████████████████████████████████████▎                  | 815/1026 [01:34<00:23,  9.02it/s, now=None]"
     ]
    },
    {
     "name": "stderr",
     "output_type": "stream",
     "text": [
      "\r",
      "t:  80%|████████████████████████████████████████████████████████████████████████▎                  | 816/1026 [01:34<00:23,  9.13it/s, now=None]"
     ]
    },
    {
     "name": "stderr",
     "output_type": "stream",
     "text": [
      "\r",
      "t:  80%|████████████████████████████████████████████████████████████████████████▍                  | 817/1026 [01:34<00:22,  9.28it/s, now=None]"
     ]
    },
    {
     "name": "stderr",
     "output_type": "stream",
     "text": [
      "\r",
      "t:  80%|████████████████████████████████████████████████████████████████████████▌                  | 818/1026 [01:34<00:27,  7.69it/s, now=None]"
     ]
    },
    {
     "name": "stderr",
     "output_type": "stream",
     "text": [
      "\r",
      "t:  80%|████████████████████████████████████████████████████████████████████████▋                  | 819/1026 [01:34<00:25,  8.11it/s, now=None]"
     ]
    },
    {
     "name": "stderr",
     "output_type": "stream",
     "text": [
      "\r",
      "t:  80%|████████████████████████████████████████████████████████████████████████▊                  | 821/1026 [01:34<00:23,  8.90it/s, now=None]"
     ]
    },
    {
     "name": "stderr",
     "output_type": "stream",
     "text": [
      "\r",
      "t:  80%|████████████████████████████████████████████████████████████████████████▉                  | 822/1026 [01:35<00:22,  8.89it/s, now=None]"
     ]
    },
    {
     "name": "stderr",
     "output_type": "stream",
     "text": [
      "\r",
      "t:  80%|████████████████████████████████████████████████████████████████████████▉                  | 823/1026 [01:35<00:22,  9.14it/s, now=None]"
     ]
    },
    {
     "name": "stderr",
     "output_type": "stream",
     "text": [
      "\r",
      "t:  80%|█████████████████████████████████████████████████████████████████████████                  | 824/1026 [01:35<00:26,  7.56it/s, now=None]"
     ]
    },
    {
     "name": "stderr",
     "output_type": "stream",
     "text": [
      "\r",
      "t:  80%|█████████████████████████████████████████████████████████████████████████▏                 | 825/1026 [01:35<00:25,  8.01it/s, now=None]"
     ]
    },
    {
     "name": "stderr",
     "output_type": "stream",
     "text": [
      "\r",
      "t:  81%|█████████████████████████████████████████████████████████████████████████▎                 | 827/1026 [01:35<00:22,  8.72it/s, now=None]"
     ]
    },
    {
     "name": "stderr",
     "output_type": "stream",
     "text": [
      "\r",
      "t:  81%|█████████████████████████████████████████████████████████████████████████▍                 | 828/1026 [01:35<00:22,  8.91it/s, now=None]"
     ]
    },
    {
     "name": "stderr",
     "output_type": "stream",
     "text": [
      "\r",
      "t:  81%|█████████████████████████████████████████████████████████████████████████▌                 | 830/1026 [01:36<00:24,  8.08it/s, now=None]"
     ]
    },
    {
     "name": "stderr",
     "output_type": "stream",
     "text": [
      "\r",
      "t:  81%|█████████████████████████████████████████████████████████████████████████▋                 | 831/1026 [01:36<00:23,  8.37it/s, now=None]"
     ]
    },
    {
     "name": "stderr",
     "output_type": "stream",
     "text": [
      "\r",
      "t:  81%|█████████████████████████████████████████████████████████████████████████▉                 | 833/1026 [01:36<00:21,  9.04it/s, now=None]"
     ]
    },
    {
     "name": "stderr",
     "output_type": "stream",
     "text": [
      "\r",
      "t:  81%|█████████████████████████████████████████████████████████████████████████▉                 | 834/1026 [01:36<00:20,  9.15it/s, now=None]"
     ]
    },
    {
     "name": "stderr",
     "output_type": "stream",
     "text": [
      "\r",
      "t:  81%|██████████████████████████████████████████████████████████████████████████                 | 835/1026 [01:36<00:20,  9.33it/s, now=None]"
     ]
    },
    {
     "name": "stderr",
     "output_type": "stream",
     "text": [
      "\r",
      "t:  81%|██████████████████████████████████████████████████████████████████████████▏                | 836/1026 [01:36<00:24,  7.71it/s, now=None]"
     ]
    },
    {
     "name": "stderr",
     "output_type": "stream",
     "text": [
      "\r",
      "t:  82%|██████████████████████████████████████████████████████████████████████████▏                | 837/1026 [01:36<00:23,  8.13it/s, now=None]"
     ]
    },
    {
     "name": "stderr",
     "output_type": "stream",
     "text": [
      "\r",
      "t:  82%|██████████████████████████████████████████████████████████████████████████▍                | 839/1026 [01:37<00:21,  8.77it/s, now=None]"
     ]
    },
    {
     "name": "stderr",
     "output_type": "stream",
     "text": [
      "\r",
      "t:  82%|██████████████████████████████████████████████████████████████████████████▌                | 840/1026 [01:37<00:20,  8.96it/s, now=None]"
     ]
    },
    {
     "name": "stderr",
     "output_type": "stream",
     "text": [
      "\r",
      "t:  82%|██████████████████████████████████████████████████████████████████████████▋                | 842/1026 [01:37<00:22,  8.14it/s, now=None]"
     ]
    },
    {
     "name": "stderr",
     "output_type": "stream",
     "text": [
      "\r",
      "t:  82%|██████████████████████████████████████████████████████████████████████████▊                | 843/1026 [01:37<00:21,  8.43it/s, now=None]"
     ]
    },
    {
     "name": "stderr",
     "output_type": "stream",
     "text": [
      "\r",
      "t:  82%|██████████████████████████████████████████████████████████████████████████▉                | 845/1026 [01:37<00:20,  9.02it/s, now=None]"
     ]
    },
    {
     "name": "stderr",
     "output_type": "stream",
     "text": [
      "\r",
      "t:  82%|███████████████████████████████████████████████████████████████████████████                | 846/1026 [01:37<00:20,  8.94it/s, now=None]"
     ]
    },
    {
     "name": "stderr",
     "output_type": "stream",
     "text": [
      "\r",
      "t:  83%|███████████████████████████████████████████████████████████████████████████▏               | 848/1026 [01:38<00:22,  8.07it/s, now=None]"
     ]
    },
    {
     "name": "stderr",
     "output_type": "stream",
     "text": [
      "\r",
      "t:  83%|███████████████████████████████████████████████████████████████████████████▎               | 849/1026 [01:38<00:21,  8.36it/s, now=None]"
     ]
    },
    {
     "name": "stderr",
     "output_type": "stream",
     "text": [
      "\r",
      "t:  83%|███████████████████████████████████████████████████████████████████████████▍               | 851/1026 [01:38<00:19,  8.93it/s, now=None]"
     ]
    },
    {
     "name": "stderr",
     "output_type": "stream",
     "text": [
      "\r",
      "t:  83%|███████████████████████████████████████████████████████████████████████████▌               | 852/1026 [01:38<00:19,  9.04it/s, now=None]"
     ]
    },
    {
     "name": "stderr",
     "output_type": "stream",
     "text": [
      "\r",
      "t:  83%|███████████████████████████████████████████████████████████████████████████▋               | 854/1026 [01:38<00:21,  8.11it/s, now=None]"
     ]
    },
    {
     "name": "stderr",
     "output_type": "stream",
     "text": [
      "\r",
      "t:  83%|███████████████████████████████████████████████████████████████████████████▊               | 855/1026 [01:38<00:20,  8.38it/s, now=None]"
     ]
    },
    {
     "name": "stderr",
     "output_type": "stream",
     "text": [
      "\r",
      "t:  84%|████████████████████████████████████████████████████████████████████████████               | 857/1026 [01:39<00:19,  8.74it/s, now=None]"
     ]
    },
    {
     "name": "stderr",
     "output_type": "stream",
     "text": [
      "\r",
      "t:  84%|████████████████████████████████████████████████████████████████████████████               | 858/1026 [01:39<00:19,  8.83it/s, now=None]"
     ]
    },
    {
     "name": "stderr",
     "output_type": "stream",
     "text": [
      "\r",
      "t:  84%|████████████████████████████████████████████████████████████████████████████▎              | 860/1026 [01:39<00:20,  7.94it/s, now=None]"
     ]
    },
    {
     "name": "stderr",
     "output_type": "stream",
     "text": [
      "\r",
      "t:  84%|████████████████████████████████████████████████████████████████████████████▎              | 861/1026 [01:39<00:20,  8.24it/s, now=None]"
     ]
    },
    {
     "name": "stderr",
     "output_type": "stream",
     "text": [
      "\r",
      "t:  84%|████████████████████████████████████████████████████████████████████████████▌              | 863/1026 [01:39<00:18,  8.89it/s, now=None]"
     ]
    },
    {
     "name": "stderr",
     "output_type": "stream",
     "text": [
      "\r",
      "t:  84%|████████████████████████████████████████████████████████████████████████████▋              | 864/1026 [01:39<00:17,  9.02it/s, now=None]"
     ]
    },
    {
     "name": "stderr",
     "output_type": "stream",
     "text": [
      "\r",
      "t:  84%|████████████████████████████████████████████████████████████████████████████▋              | 865/1026 [01:40<00:17,  9.22it/s, now=None]"
     ]
    },
    {
     "name": "stderr",
     "output_type": "stream",
     "text": [
      "\r",
      "t:  84%|████████████████████████████████████████████████████████████████████████████▊              | 866/1026 [01:40<00:20,  7.65it/s, now=None]"
     ]
    },
    {
     "name": "stderr",
     "output_type": "stream",
     "text": [
      "\r",
      "t:  85%|████████████████████████████████████████████████████████████████████████████▉              | 867/1026 [01:40<00:19,  8.07it/s, now=None]"
     ]
    },
    {
     "name": "stderr",
     "output_type": "stream",
     "text": [
      "\r",
      "t:  85%|█████████████████████████████████████████████████████████████████████████████              | 869/1026 [01:40<00:17,  8.86it/s, now=None]"
     ]
    },
    {
     "name": "stderr",
     "output_type": "stream",
     "text": [
      "\r",
      "t:  85%|█████████████████████████████████████████████████████████████████████████████▏             | 870/1026 [01:40<00:17,  8.90it/s, now=None]"
     ]
    },
    {
     "name": "stderr",
     "output_type": "stream",
     "text": [
      "\r",
      "t:  85%|█████████████████████████████████████████████████████████████████████████████▎             | 871/1026 [01:40<00:16,  9.14it/s, now=None]"
     ]
    },
    {
     "name": "stderr",
     "output_type": "stream",
     "text": [
      "\r",
      "t:  85%|█████████████████████████████████████████████████████████████████████████████▎             | 872/1026 [01:40<00:20,  7.66it/s, now=None]"
     ]
    },
    {
     "name": "stderr",
     "output_type": "stream",
     "text": [
      "\r",
      "t:  85%|█████████████████████████████████████████████████████████████████████████████▍             | 873/1026 [01:41<00:18,  8.11it/s, now=None]"
     ]
    },
    {
     "name": "stderr",
     "output_type": "stream",
     "text": [
      "\r",
      "t:  85%|█████████████████████████████████████████████████████████████████████████████▌             | 875/1026 [01:41<00:17,  8.78it/s, now=None]"
     ]
    },
    {
     "name": "stderr",
     "output_type": "stream",
     "text": [
      "\r",
      "t:  85%|█████████████████████████████████████████████████████████████████████████████▋             | 876/1026 [01:41<00:16,  8.98it/s, now=None]"
     ]
    },
    {
     "name": "stderr",
     "output_type": "stream",
     "text": [
      "\r",
      "t:  86%|█████████████████████████████████████████████████████████████████████████████▊             | 878/1026 [01:41<00:18,  8.02it/s, now=None]"
     ]
    },
    {
     "name": "stderr",
     "output_type": "stream",
     "text": [
      "\r",
      "t:  86%|█████████████████████████████████████████████████████████████████████████████▉             | 879/1026 [01:41<00:17,  8.30it/s, now=None]"
     ]
    },
    {
     "name": "stderr",
     "output_type": "stream",
     "text": [
      "\r",
      "t:  86%|██████████████████████████████████████████████████████████████████████████████▏            | 881/1026 [01:41<00:16,  8.81it/s, now=None]"
     ]
    },
    {
     "name": "stderr",
     "output_type": "stream",
     "text": [
      "\r",
      "t:  86%|██████████████████████████████████████████████████████████████████████████████▏            | 882/1026 [01:42<00:16,  8.95it/s, now=None]"
     ]
    },
    {
     "name": "stderr",
     "output_type": "stream",
     "text": [
      "\r",
      "t:  86%|██████████████████████████████████████████████████████████████████████████████▍            | 884/1026 [01:42<00:17,  8.06it/s, now=None]"
     ]
    },
    {
     "name": "stderr",
     "output_type": "stream",
     "text": [
      "\r",
      "t:  86%|██████████████████████████████████████████████████████████████████████████████▍            | 885/1026 [01:42<00:16,  8.34it/s, now=None]"
     ]
    },
    {
     "name": "stderr",
     "output_type": "stream",
     "text": [
      "\r",
      "t:  86%|██████████████████████████████████████████████████████████████████████████████▋            | 887/1026 [01:42<00:15,  8.83it/s, now=None]"
     ]
    },
    {
     "name": "stderr",
     "output_type": "stream",
     "text": [
      "\r",
      "t:  87%|██████████████████████████████████████████████████████████████████████████████▊            | 888/1026 [01:42<00:15,  8.98it/s, now=None]"
     ]
    },
    {
     "name": "stderr",
     "output_type": "stream",
     "text": [
      "\r",
      "t:  87%|██████████████████████████████████████████████████████████████████████████████▉            | 890/1026 [01:43<00:16,  8.21it/s, now=None]"
     ]
    },
    {
     "name": "stderr",
     "output_type": "stream",
     "text": [
      "\r",
      "t:  87%|███████████████████████████████████████████████████████████████████████████████            | 891/1026 [01:43<00:15,  8.47it/s, now=None]"
     ]
    },
    {
     "name": "stderr",
     "output_type": "stream",
     "text": [
      "\r",
      "t:  87%|███████████████████████████████████████████████████████████████████████████████▏           | 893/1026 [01:43<00:15,  8.78it/s, now=None]"
     ]
    },
    {
     "name": "stderr",
     "output_type": "stream",
     "text": [
      "\r",
      "t:  87%|███████████████████████████████████████████████████████████████████████████████▎           | 894/1026 [01:43<00:14,  8.95it/s, now=None]"
     ]
    },
    {
     "name": "stderr",
     "output_type": "stream",
     "text": [
      "\r",
      "t:  87%|███████████████████████████████████████████████████████████████████████████████▍           | 896/1026 [01:43<00:16,  8.06it/s, now=None]"
     ]
    },
    {
     "name": "stderr",
     "output_type": "stream",
     "text": [
      "\r",
      "t:  87%|███████████████████████████████████████████████████████████████████████████████▌           | 897/1026 [01:43<00:15,  8.33it/s, now=None]"
     ]
    },
    {
     "name": "stderr",
     "output_type": "stream",
     "text": [
      "\r",
      "t:  88%|███████████████████████████████████████████████████████████████████████████████▋           | 898/1026 [01:43<00:14,  8.66it/s, now=None]"
     ]
    },
    {
     "name": "stderr",
     "output_type": "stream",
     "text": [
      "\r",
      "t:  88%|███████████████████████████████████████████████████████████████████████████████▋           | 899/1026 [01:44<00:14,  8.88it/s, now=None]"
     ]
    },
    {
     "name": "stderr",
     "output_type": "stream",
     "text": [
      "\r",
      "t:  88%|███████████████████████████████████████████████████████████████████████████████▊           | 900/1026 [01:44<00:13,  9.05it/s, now=None]"
     ]
    },
    {
     "name": "stderr",
     "output_type": "stream",
     "text": [
      "\r",
      "t:  88%|████████████████████████████████████████████████████████████████████████████████           | 902/1026 [01:44<00:15,  7.92it/s, now=None]"
     ]
    },
    {
     "name": "stderr",
     "output_type": "stream",
     "text": [
      "\r",
      "t:  88%|████████████████████████████████████████████████████████████████████████████████           | 903/1026 [01:44<00:15,  8.12it/s, now=None]"
     ]
    },
    {
     "name": "stderr",
     "output_type": "stream",
     "text": [
      "\r",
      "t:  88%|████████████████████████████████████████████████████████████████████████████████▏          | 904/1026 [01:44<00:14,  8.49it/s, now=None]"
     ]
    },
    {
     "name": "stderr",
     "output_type": "stream",
     "text": [
      "\r",
      "t:  88%|████████████████████████████████████████████████████████████████████████████████▎          | 905/1026 [01:44<00:13,  8.73it/s, now=None]"
     ]
    },
    {
     "name": "stderr",
     "output_type": "stream",
     "text": [
      "\r",
      "t:  88%|████████████████████████████████████████████████████████████████████████████████▎          | 906/1026 [01:44<00:13,  8.94it/s, now=None]"
     ]
    },
    {
     "name": "stderr",
     "output_type": "stream",
     "text": [
      "\r",
      "t:  88%|████████████████████████████████████████████████████████████████████████████████▌          | 908/1026 [01:45<00:14,  7.94it/s, now=None]"
     ]
    },
    {
     "name": "stderr",
     "output_type": "stream",
     "text": [
      "\r",
      "t:  89%|████████████████████████████████████████████████████████████████████████████████▌          | 909/1026 [01:45<00:14,  8.28it/s, now=None]"
     ]
    },
    {
     "name": "stderr",
     "output_type": "stream",
     "text": [
      "\r",
      "t:  89%|████████████████████████████████████████████████████████████████████████████████▊          | 911/1026 [01:45<00:13,  8.84it/s, now=None]"
     ]
    },
    {
     "name": "stderr",
     "output_type": "stream",
     "text": [
      "\r",
      "t:  89%|████████████████████████████████████████████████████████████████████████████████▉          | 912/1026 [01:45<00:12,  9.00it/s, now=None]"
     ]
    },
    {
     "name": "stderr",
     "output_type": "stream",
     "text": [
      "\r",
      "t:  89%|█████████████████████████████████████████████████████████████████████████████████          | 914/1026 [01:45<00:13,  8.04it/s, now=None]"
     ]
    },
    {
     "name": "stderr",
     "output_type": "stream",
     "text": [
      "\r",
      "t:  89%|█████████████████████████████████████████████████████████████████████████████████▏         | 915/1026 [01:45<00:13,  8.19it/s, now=None]"
     ]
    },
    {
     "name": "stderr",
     "output_type": "stream",
     "text": [
      "\r",
      "t:  89%|█████████████████████████████████████████████████████████████████████████████████▎         | 917/1026 [01:46<00:12,  8.87it/s, now=None]"
     ]
    },
    {
     "name": "stderr",
     "output_type": "stream",
     "text": [
      "\r",
      "t:  89%|█████████████████████████████████████████████████████████████████████████████████▍         | 918/1026 [01:46<00:11,  9.02it/s, now=None]"
     ]
    },
    {
     "name": "stderr",
     "output_type": "stream",
     "text": [
      "\r",
      "t:  90%|█████████████████████████████████████████████████████████████████████████████████▌         | 920/1026 [01:46<00:13,  8.10it/s, now=None]"
     ]
    },
    {
     "name": "stderr",
     "output_type": "stream",
     "text": [
      "\r",
      "t:  90%|█████████████████████████████████████████████████████████████████████████████████▋         | 921/1026 [01:46<00:12,  8.36it/s, now=None]"
     ]
    },
    {
     "name": "stderr",
     "output_type": "stream",
     "text": [
      "\r",
      "t:  90%|█████████████████████████████████████████████████████████████████████████████████▊         | 923/1026 [01:46<00:11,  8.74it/s, now=None]"
     ]
    },
    {
     "name": "stderr",
     "output_type": "stream",
     "text": [
      "\r",
      "t:  90%|█████████████████████████████████████████████████████████████████████████████████▉         | 924/1026 [01:46<00:11,  8.71it/s, now=None]"
     ]
    },
    {
     "name": "stderr",
     "output_type": "stream",
     "text": [
      "\r",
      "t:  90%|██████████████████████████████████████████████████████████████████████████████████▏        | 926/1026 [01:47<00:12,  8.02it/s, now=None]"
     ]
    },
    {
     "name": "stderr",
     "output_type": "stream",
     "text": [
      "\r",
      "t:  90%|██████████████████████████████████████████████████████████████████████████████████▏        | 927/1026 [01:47<00:11,  8.35it/s, now=None]"
     ]
    },
    {
     "name": "stderr",
     "output_type": "stream",
     "text": [
      "\r",
      "t:  91%|██████████████████████████████████████████████████████████████████████████████████▍        | 929/1026 [01:47<00:10,  9.02it/s, now=None]"
     ]
    },
    {
     "name": "stderr",
     "output_type": "stream",
     "text": [
      "\r",
      "t:  91%|██████████████████████████████████████████████████████████████████████████████████▍        | 930/1026 [01:47<00:10,  9.17it/s, now=None]"
     ]
    },
    {
     "name": "stderr",
     "output_type": "stream",
     "text": [
      "\r",
      "t:  91%|██████████████████████████████████████████████████████████████████████████████████▋        | 932/1026 [01:47<00:11,  8.26it/s, now=None]"
     ]
    },
    {
     "name": "stderr",
     "output_type": "stream",
     "text": [
      "\r",
      "t:  91%|██████████████████████████████████████████████████████████████████████████████████▊        | 933/1026 [01:48<00:10,  8.54it/s, now=None]"
     ]
    },
    {
     "name": "stderr",
     "output_type": "stream",
     "text": [
      "\r",
      "t:  91%|██████████████████████████████████████████████████████████████████████████████████▉        | 935/1026 [01:48<00:09,  9.16it/s, now=None]"
     ]
    },
    {
     "name": "stderr",
     "output_type": "stream",
     "text": [
      "\r",
      "t:  91%|███████████████████████████████████████████████████████████████████████████████████        | 936/1026 [01:48<00:09,  9.30it/s, now=None]"
     ]
    },
    {
     "name": "stderr",
     "output_type": "stream",
     "text": [
      "\r",
      "t:  91%|███████████████████████████████████████████████████████████████████████████████████▏       | 938/1026 [01:48<00:10,  8.30it/s, now=None]"
     ]
    },
    {
     "name": "stderr",
     "output_type": "stream",
     "text": [
      "\r",
      "t:  92%|███████████████████████████████████████████████████████████████████████████████████▎       | 939/1026 [01:48<00:10,  8.56it/s, now=None]"
     ]
    },
    {
     "name": "stderr",
     "output_type": "stream",
     "text": [
      "\r",
      "t:  92%|███████████████████████████████████████████████████████████████████████████████████▍       | 941/1026 [01:48<00:09,  9.17it/s, now=None]"
     ]
    },
    {
     "name": "stderr",
     "output_type": "stream",
     "text": [
      "\r",
      "t:  92%|███████████████████████████████████████████████████████████████████████████████████▌       | 942/1026 [01:49<00:09,  9.28it/s, now=None]"
     ]
    },
    {
     "name": "stderr",
     "output_type": "stream",
     "text": [
      "\r",
      "t:  92%|███████████████████████████████████████████████████████████████████████████████████▋       | 944/1026 [01:49<00:09,  8.21it/s, now=None]"
     ]
    },
    {
     "name": "stderr",
     "output_type": "stream",
     "text": [
      "\r",
      "t:  92%|███████████████████████████████████████████████████████████████████████████████████▊       | 945/1026 [01:49<00:09,  8.50it/s, now=None]"
     ]
    },
    {
     "name": "stderr",
     "output_type": "stream",
     "text": [
      "\r",
      "t:  92%|███████████████████████████████████████████████████████████████████████████████████▉       | 947/1026 [01:49<00:08,  8.85it/s, now=None]"
     ]
    },
    {
     "name": "stderr",
     "output_type": "stream",
     "text": [
      "\r",
      "t:  92%|████████████████████████████████████████████████████████████████████████████████████       | 948/1026 [01:49<00:08,  8.96it/s, now=None]"
     ]
    },
    {
     "name": "stderr",
     "output_type": "stream",
     "text": [
      "\r",
      "t:  93%|████████████████████████████████████████████████████████████████████████████████████▎      | 950/1026 [01:50<00:09,  8.13it/s, now=None]"
     ]
    },
    {
     "name": "stderr",
     "output_type": "stream",
     "text": [
      "\r",
      "t:  93%|████████████████████████████████████████████████████████████████████████████████████▎      | 951/1026 [01:50<00:08,  8.39it/s, now=None]"
     ]
    },
    {
     "name": "stderr",
     "output_type": "stream",
     "text": [
      "\r",
      "t:  93%|████████████████████████████████████████████████████████████████████████████████████▌      | 953/1026 [01:50<00:08,  8.91it/s, now=None]"
     ]
    },
    {
     "name": "stderr",
     "output_type": "stream",
     "text": [
      "\r",
      "t:  93%|████████████████████████████████████████████████████████████████████████████████████▌      | 954/1026 [01:50<00:07,  9.09it/s, now=None]"
     ]
    },
    {
     "name": "stderr",
     "output_type": "stream",
     "text": [
      "\r",
      "t:  93%|████████████████████████████████████████████████████████████████████████████████████▊      | 956/1026 [01:50<00:08,  8.20it/s, now=None]"
     ]
    },
    {
     "name": "stderr",
     "output_type": "stream",
     "text": [
      "\r",
      "t:  93%|████████████████████████████████████████████████████████████████████████████████████▉      | 957/1026 [01:50<00:08,  8.47it/s, now=None]"
     ]
    },
    {
     "name": "stderr",
     "output_type": "stream",
     "text": [
      "\r",
      "t:  93%|█████████████████████████████████████████████████████████████████████████████████████      | 959/1026 [01:51<00:07,  9.13it/s, now=None]"
     ]
    },
    {
     "name": "stderr",
     "output_type": "stream",
     "text": [
      "\r",
      "t:  94%|█████████████████████████████████████████████████████████████████████████████████████▏     | 960/1026 [01:51<00:07,  9.25it/s, now=None]"
     ]
    },
    {
     "name": "stderr",
     "output_type": "stream",
     "text": [
      "\r",
      "t:  94%|█████████████████████████████████████████████████████████████████████████████████████▎     | 962/1026 [01:51<00:07,  8.26it/s, now=None]"
     ]
    },
    {
     "name": "stderr",
     "output_type": "stream",
     "text": [
      "\r",
      "t:  94%|█████████████████████████████████████████████████████████████████████████████████████▍     | 963/1026 [01:51<00:07,  8.53it/s, now=None]"
     ]
    },
    {
     "name": "stderr",
     "output_type": "stream",
     "text": [
      "\r",
      "t:  94%|█████████████████████████████████████████████████████████████████████████████████████▌     | 965/1026 [01:51<00:06,  9.15it/s, now=None]"
     ]
    },
    {
     "name": "stderr",
     "output_type": "stream",
     "text": [
      "\r",
      "t:  94%|█████████████████████████████████████████████████████████████████████████████████████▋     | 966/1026 [01:51<00:06,  9.27it/s, now=None]"
     ]
    },
    {
     "name": "stderr",
     "output_type": "stream",
     "text": [
      "\r",
      "t:  94%|█████████████████████████████████████████████████████████████████████████████████████▊     | 968/1026 [01:52<00:06,  8.31it/s, now=None]"
     ]
    },
    {
     "name": "stderr",
     "output_type": "stream",
     "text": [
      "\r",
      "t:  94%|█████████████████████████████████████████████████████████████████████████████████████▉     | 969/1026 [01:52<00:06,  8.55it/s, now=None]"
     ]
    },
    {
     "name": "stderr",
     "output_type": "stream",
     "text": [
      "\r",
      "t:  95%|██████████████████████████████████████████████████████████████████████████████████████     | 971/1026 [01:52<00:06,  9.15it/s, now=None]"
     ]
    },
    {
     "name": "stderr",
     "output_type": "stream",
     "text": [
      "\r",
      "t:  95%|██████████████████████████████████████████████████████████████████████████████████████▏    | 972/1026 [01:52<00:05,  9.26it/s, now=None]"
     ]
    },
    {
     "name": "stderr",
     "output_type": "stream",
     "text": [
      "\r",
      "t:  95%|██████████████████████████████████████████████████████████████████████████████████████▍    | 974/1026 [01:52<00:06,  8.38it/s, now=None]"
     ]
    },
    {
     "name": "stderr",
     "output_type": "stream",
     "text": [
      "\r",
      "t:  95%|██████████████████████████████████████████████████████████████████████████████████████▍    | 975/1026 [01:52<00:05,  8.50it/s, now=None]"
     ]
    },
    {
     "name": "stderr",
     "output_type": "stream",
     "text": [
      "\r",
      "t:  95%|██████████████████████████████████████████████████████████████████████████████████████▋    | 977/1026 [01:53<00:05,  9.14it/s, now=None]"
     ]
    },
    {
     "name": "stderr",
     "output_type": "stream",
     "text": [
      "\r",
      "t:  95%|██████████████████████████████████████████████████████████████████████████████████████▋    | 978/1026 [01:53<00:05,  9.21it/s, now=None]"
     ]
    },
    {
     "name": "stderr",
     "output_type": "stream",
     "text": [
      "\r",
      "t:  96%|██████████████████████████████████████████████████████████████████████████████████████▉    | 980/1026 [01:53<00:05,  8.26it/s, now=None]"
     ]
    },
    {
     "name": "stderr",
     "output_type": "stream",
     "text": [
      "\r",
      "t:  96%|███████████████████████████████████████████████████████████████████████████████████████    | 981/1026 [01:53<00:05,  8.55it/s, now=None]"
     ]
    },
    {
     "name": "stderr",
     "output_type": "stream",
     "text": [
      "\r",
      "t:  96%|███████████████████████████████████████████████████████████████████████████████████████▏   | 983/1026 [01:53<00:04,  9.15it/s, now=None]"
     ]
    },
    {
     "name": "stderr",
     "output_type": "stream",
     "text": [
      "\r",
      "t:  96%|███████████████████████████████████████████████████████████████████████████████████████▎   | 984/1026 [01:53<00:04,  9.12it/s, now=None]"
     ]
    },
    {
     "name": "stderr",
     "output_type": "stream",
     "text": [
      "\r",
      "t:  96%|███████████████████████████████████████████████████████████████████████████████████████▍   | 986/1026 [01:54<00:04,  8.19it/s, now=None]"
     ]
    },
    {
     "name": "stderr",
     "output_type": "stream",
     "text": [
      "\r",
      "t:  96%|███████████████████████████████████████████████████████████████████████████████████████▌   | 987/1026 [01:54<00:04,  8.48it/s, now=None]"
     ]
    },
    {
     "name": "stderr",
     "output_type": "stream",
     "text": [
      "\r",
      "t:  96%|███████████████████████████████████████████████████████████████████████████████████████▋   | 989/1026 [01:54<00:04,  8.86it/s, now=None]"
     ]
    },
    {
     "name": "stderr",
     "output_type": "stream",
     "text": [
      "\r",
      "t:  96%|███████████████████████████████████████████████████████████████████████████████████████▊   | 990/1026 [01:54<00:03,  9.01it/s, now=None]"
     ]
    },
    {
     "name": "stderr",
     "output_type": "stream",
     "text": [
      "\r",
      "t:  97%|███████████████████████████████████████████████████████████████████████████████████████▉   | 992/1026 [01:54<00:04,  8.01it/s, now=None]"
     ]
    },
    {
     "name": "stderr",
     "output_type": "stream",
     "text": [
      "\r",
      "t:  97%|████████████████████████████████████████████████████████████████████████████████████████   | 993/1026 [01:54<00:03,  8.29it/s, now=None]"
     ]
    },
    {
     "name": "stderr",
     "output_type": "stream",
     "text": [
      "\r",
      "t:  97%|████████████████████████████████████████████████████████████████████████████████████████▎  | 995/1026 [01:55<00:03,  8.83it/s, now=None]"
     ]
    },
    {
     "name": "stderr",
     "output_type": "stream",
     "text": [
      "\r",
      "t:  97%|████████████████████████████████████████████████████████████████████████████████████████▎  | 996/1026 [01:55<00:03,  8.96it/s, now=None]"
     ]
    },
    {
     "name": "stderr",
     "output_type": "stream",
     "text": [
      "\r",
      "t:  97%|████████████████████████████████████████████████████████████████████████████████████████▌  | 998/1026 [01:55<00:03,  8.05it/s, now=None]"
     ]
    },
    {
     "name": "stderr",
     "output_type": "stream",
     "text": [
      "\r",
      "t:  97%|████████████████████████████████████████████████████████████████████████████████████████▌  | 999/1026 [01:55<00:03,  8.34it/s, now=None]"
     ]
    },
    {
     "name": "stderr",
     "output_type": "stream",
     "text": [
      "\r",
      "t:  98%|███████████████████████████████████████████████████████████████████████████████████████▊  | 1001/1026 [01:55<00:02,  8.82it/s, now=None]"
     ]
    },
    {
     "name": "stderr",
     "output_type": "stream",
     "text": [
      "\r",
      "t:  98%|███████████████████████████████████████████████████████████████████████████████████████▉  | 1002/1026 [01:55<00:02,  8.96it/s, now=None]"
     ]
    },
    {
     "name": "stderr",
     "output_type": "stream",
     "text": [
      "\r",
      "t:  98%|████████████████████████████████████████████████████████████████████████████████████████  | 1004/1026 [01:56<00:02,  8.09it/s, now=None]"
     ]
    },
    {
     "name": "stderr",
     "output_type": "stream",
     "text": [
      "\r",
      "t:  98%|████████████████████████████████████████████████████████████████████████████████████████▏ | 1005/1026 [01:56<00:02,  8.37it/s, now=None]"
     ]
    },
    {
     "name": "stderr",
     "output_type": "stream",
     "text": [
      "\r",
      "t:  98%|████████████████████████████████████████████████████████████████████████████████████████▎ | 1007/1026 [01:56<00:02,  8.86it/s, now=None]"
     ]
    },
    {
     "name": "stderr",
     "output_type": "stream",
     "text": [
      "\r",
      "t:  98%|████████████████████████████████████████████████████████████████████████████████████████▍ | 1008/1026 [01:56<00:02,  8.86it/s, now=None]"
     ]
    },
    {
     "name": "stderr",
     "output_type": "stream",
     "text": [
      "\r",
      "t:  98%|████████████████████████████████████████████████████████████████████████████████████████▌ | 1010/1026 [01:56<00:02,  7.95it/s, now=None]"
     ]
    },
    {
     "name": "stderr",
     "output_type": "stream",
     "text": [
      "\r",
      "t:  99%|████████████████████████████████████████████████████████████████████████████████████████▋ | 1011/1026 [01:57<00:01,  8.24it/s, now=None]"
     ]
    },
    {
     "name": "stderr",
     "output_type": "stream",
     "text": [
      "\r",
      "t:  99%|████████████████████████████████████████████████████████████████████████████████████████▊ | 1013/1026 [01:57<00:01,  8.77it/s, now=None]"
     ]
    },
    {
     "name": "stderr",
     "output_type": "stream",
     "text": [
      "\r",
      "t:  99%|████████████████████████████████████████████████████████████████████████████████████████▉ | 1014/1026 [01:57<00:01,  8.75it/s, now=None]"
     ]
    },
    {
     "name": "stderr",
     "output_type": "stream",
     "text": [
      "\r",
      "t:  99%|█████████████████████████████████████████████████████████████████████████████████████████ | 1016/1026 [01:57<00:01,  7.96it/s, now=None]"
     ]
    },
    {
     "name": "stderr",
     "output_type": "stream",
     "text": [
      "\r",
      "t:  99%|█████████████████████████████████████████████████████████████████████████████████████████▏| 1017/1026 [01:57<00:01,  8.25it/s, now=None]"
     ]
    },
    {
     "name": "stderr",
     "output_type": "stream",
     "text": [
      "\r",
      "t:  99%|█████████████████████████████████████████████████████████████████████████████████████████▍| 1019/1026 [01:57<00:00,  8.77it/s, now=None]"
     ]
    },
    {
     "name": "stderr",
     "output_type": "stream",
     "text": [
      "\r",
      "t:  99%|█████████████████████████████████████████████████████████████████████████████████████████▍| 1020/1026 [01:58<00:00,  8.91it/s, now=None]"
     ]
    },
    {
     "name": "stderr",
     "output_type": "stream",
     "text": [
      "\r",
      "t: 100%|█████████████████████████████████████████████████████████████████████████████████████████▋| 1022/1026 [01:58<00:00,  8.04it/s, now=None]"
     ]
    },
    {
     "name": "stderr",
     "output_type": "stream",
     "text": [
      "\r",
      "t: 100%|█████████████████████████████████████████████████████████████████████████████████████████▋| 1023/1026 [01:58<00:00,  8.20it/s, now=None]"
     ]
    },
    {
     "name": "stderr",
     "output_type": "stream",
     "text": [
      "\r",
      "t: 100%|█████████████████████████████████████████████████████████████████████████████████████████▊| 1024/1026 [01:58<00:00,  8.55it/s, now=None]"
     ]
    },
    {
     "name": "stderr",
     "output_type": "stream",
     "text": [
      "\r",
      "t: 100%|█████████████████████████████████████████████████████████████████████████████████████████▉| 1025/1026 [01:58<00:00,  8.79it/s, now=None]"
     ]
    },
    {
     "name": "stderr",
     "output_type": "stream",
     "text": [
      "\r",
      "t: 100%|██████████████████████████████████████████████████████████████████████████████████████████| 1026/1026 [01:58<00:00,  9.02it/s, now=None]"
     ]
    },
    {
     "name": "stderr",
     "output_type": "stream",
     "text": [
      "\r",
      "                                                                                                                                                "
     ]
    },
    {
     "name": "stderr",
     "output_type": "stream",
     "text": [
      "\r"
     ]
    },
    {
     "name": "stderr",
     "output_type": "stream",
     "text": [
      "[Parallel(n_jobs=8)]: Using backend LokyBackend with 8 concurrent workers.\n"
     ]
    },
    {
     "name": "stdout",
     "output_type": "stream",
     "text": [
      "Moviepy - Done !\n",
      "Moviepy - video ready outputs/Americas/PU/probability_animation.mp4\n"
     ]
    },
    {
     "name": "stderr",
     "output_type": "stream",
     "text": [
      "[Parallel(n_jobs=8)]: Done  34 tasks      | elapsed:  1.1min\n"
     ]
    },
    {
     "name": "stderr",
     "output_type": "stream",
     "text": [
      "[Parallel(n_jobs=8)]: Done 171 out of 171 | elapsed:  4.6min finished\n"
     ]
    },
    {
     "name": "stdout",
     "output_type": "stream",
     "text": [
      "Moviepy - Building video outputs/Americas/SVM/probability_animation.mp4.\n",
      "Moviepy - Writing video outputs/Americas/SVM/probability_animation.mp4\n",
      "\n"
     ]
    },
    {
     "name": "stderr",
     "output_type": "stream",
     "text": [
      "\r",
      "t:   0%|                                                                                                     | 0/1026 [00:00<?, ?it/s, now=None]"
     ]
    },
    {
     "name": "stderr",
     "output_type": "stream",
     "text": [
      "\r",
      "t:   0%|▏                                                                                            | 2/1026 [00:00<00:52, 19.33it/s, now=None]"
     ]
    },
    {
     "name": "stderr",
     "output_type": "stream",
     "text": [
      "\r",
      "t:   0%|▎                                                                                            | 4/1026 [00:00<01:25, 11.94it/s, now=None]"
     ]
    },
    {
     "name": "stderr",
     "output_type": "stream",
     "text": [
      "\r",
      "t:   1%|▌                                                                                            | 6/1026 [00:00<01:37, 10.44it/s, now=None]"
     ]
    },
    {
     "name": "stderr",
     "output_type": "stream",
     "text": [
      "\r",
      "t:   1%|▋                                                                                            | 8/1026 [00:00<01:58,  8.57it/s, now=None]"
     ]
    },
    {
     "name": "stderr",
     "output_type": "stream",
     "text": [
      "\r",
      "t:   1%|▉                                                                                           | 10/1026 [00:01<01:51,  9.11it/s, now=None]"
     ]
    },
    {
     "name": "stderr",
     "output_type": "stream",
     "text": [
      "\r",
      "t:   1%|▉                                                                                           | 11/1026 [00:01<01:50,  9.20it/s, now=None]"
     ]
    },
    {
     "name": "stderr",
     "output_type": "stream",
     "text": [
      "\r",
      "t:   1%|█                                                                                           | 12/1026 [00:01<01:49,  9.25it/s, now=None]"
     ]
    },
    {
     "name": "stderr",
     "output_type": "stream",
     "text": [
      "\r",
      "t:   1%|█▏                                                                                          | 13/1026 [00:01<01:48,  9.33it/s, now=None]"
     ]
    },
    {
     "name": "stderr",
     "output_type": "stream",
     "text": [
      "\r",
      "t:   1%|█▎                                                                                          | 14/1026 [00:01<02:10,  7.75it/s, now=None]"
     ]
    },
    {
     "name": "stderr",
     "output_type": "stream",
     "text": [
      "\r",
      "t:   1%|█▎                                                                                          | 15/1026 [00:01<02:03,  8.16it/s, now=None]"
     ]
    },
    {
     "name": "stderr",
     "output_type": "stream",
     "text": [
      "\r",
      "t:   2%|█▌                                                                                          | 17/1026 [00:01<01:52,  8.98it/s, now=None]"
     ]
    },
    {
     "name": "stderr",
     "output_type": "stream",
     "text": [
      "\r",
      "t:   2%|█▌                                                                                          | 18/1026 [00:01<01:50,  9.12it/s, now=None]"
     ]
    },
    {
     "name": "stderr",
     "output_type": "stream",
     "text": [
      "\r",
      "t:   2%|█▋                                                                                          | 19/1026 [00:02<01:50,  9.15it/s, now=None]"
     ]
    },
    {
     "name": "stderr",
     "output_type": "stream",
     "text": [
      "\r",
      "t:   2%|█▊                                                                                          | 20/1026 [00:02<02:09,  7.74it/s, now=None]"
     ]
    },
    {
     "name": "stderr",
     "output_type": "stream",
     "text": [
      "\r",
      "t:   2%|█▉                                                                                          | 21/1026 [00:02<02:02,  8.18it/s, now=None]"
     ]
    },
    {
     "name": "stderr",
     "output_type": "stream",
     "text": [
      "\r",
      "t:   2%|██                                                                                          | 23/1026 [00:02<01:53,  8.83it/s, now=None]"
     ]
    },
    {
     "name": "stderr",
     "output_type": "stream",
     "text": [
      "\r",
      "t:   2%|██▏                                                                                         | 24/1026 [00:02<01:51,  9.00it/s, now=None]"
     ]
    },
    {
     "name": "stderr",
     "output_type": "stream",
     "text": [
      "\r",
      "t:   3%|██▎                                                                                         | 26/1026 [00:02<02:01,  8.20it/s, now=None]"
     ]
    },
    {
     "name": "stderr",
     "output_type": "stream",
     "text": [
      "\r",
      "t:   3%|██▍                                                                                         | 27/1026 [00:03<01:57,  8.47it/s, now=None]"
     ]
    },
    {
     "name": "stderr",
     "output_type": "stream",
     "text": [
      "\r",
      "t:   3%|██▌                                                                                         | 29/1026 [00:03<01:51,  8.95it/s, now=None]"
     ]
    },
    {
     "name": "stderr",
     "output_type": "stream",
     "text": [
      "\r",
      "t:   3%|██▋                                                                                         | 30/1026 [00:03<01:49,  9.10it/s, now=None]"
     ]
    },
    {
     "name": "stderr",
     "output_type": "stream",
     "text": [
      "\r",
      "t:   3%|██▊                                                                                         | 32/1026 [00:03<02:01,  8.19it/s, now=None]"
     ]
    },
    {
     "name": "stderr",
     "output_type": "stream",
     "text": [
      "\r",
      "t:   3%|██▉                                                                                         | 33/1026 [00:03<01:57,  8.47it/s, now=None]"
     ]
    },
    {
     "name": "stderr",
     "output_type": "stream",
     "text": [
      "\r",
      "t:   3%|███▏                                                                                        | 35/1026 [00:03<01:50,  8.93it/s, now=None]"
     ]
    },
    {
     "name": "stderr",
     "output_type": "stream",
     "text": [
      "\r",
      "t:   4%|███▏                                                                                        | 36/1026 [00:04<01:49,  9.05it/s, now=None]"
     ]
    },
    {
     "name": "stderr",
     "output_type": "stream",
     "text": [
      "\r",
      "t:   4%|███▍                                                                                        | 38/1026 [00:04<02:00,  8.20it/s, now=None]"
     ]
    },
    {
     "name": "stderr",
     "output_type": "stream",
     "text": [
      "\r",
      "t:   4%|███▍                                                                                        | 39/1026 [00:04<01:56,  8.48it/s, now=None]"
     ]
    },
    {
     "name": "stderr",
     "output_type": "stream",
     "text": [
      "\r",
      "t:   4%|███▋                                                                                        | 41/1026 [00:04<01:50,  8.94it/s, now=None]"
     ]
    },
    {
     "name": "stderr",
     "output_type": "stream",
     "text": [
      "\r",
      "t:   4%|███▊                                                                                        | 42/1026 [00:04<01:48,  9.07it/s, now=None]"
     ]
    },
    {
     "name": "stderr",
     "output_type": "stream",
     "text": [
      "\r",
      "t:   4%|███▉                                                                                        | 44/1026 [00:04<01:59,  8.21it/s, now=None]"
     ]
    },
    {
     "name": "stderr",
     "output_type": "stream",
     "text": [
      "\r",
      "t:   4%|████                                                                                        | 45/1026 [00:05<01:56,  8.40it/s, now=None]"
     ]
    },
    {
     "name": "stderr",
     "output_type": "stream",
     "text": [
      "\r",
      "t:   5%|████▏                                                                                       | 47/1026 [00:05<01:51,  8.75it/s, now=None]"
     ]
    },
    {
     "name": "stderr",
     "output_type": "stream",
     "text": [
      "\r",
      "t:   5%|████▎                                                                                       | 48/1026 [00:05<01:49,  8.93it/s, now=None]"
     ]
    },
    {
     "name": "stderr",
     "output_type": "stream",
     "text": [
      "\r",
      "t:   5%|████▍                                                                                       | 50/1026 [00:05<01:58,  8.23it/s, now=None]"
     ]
    },
    {
     "name": "stderr",
     "output_type": "stream",
     "text": [
      "\r",
      "t:   5%|████▌                                                                                       | 51/1026 [00:05<01:54,  8.48it/s, now=None]"
     ]
    },
    {
     "name": "stderr",
     "output_type": "stream",
     "text": [
      "\r",
      "t:   5%|████▊                                                                                       | 53/1026 [00:06<01:48,  8.93it/s, now=None]"
     ]
    },
    {
     "name": "stderr",
     "output_type": "stream",
     "text": [
      "\r",
      "t:   5%|████▊                                                                                       | 54/1026 [00:06<01:47,  9.07it/s, now=None]"
     ]
    },
    {
     "name": "stderr",
     "output_type": "stream",
     "text": [
      "\r",
      "t:   5%|█████                                                                                       | 56/1026 [00:06<01:58,  8.17it/s, now=None]"
     ]
    },
    {
     "name": "stderr",
     "output_type": "stream",
     "text": [
      "\r",
      "t:   6%|█████                                                                                       | 57/1026 [00:06<01:54,  8.43it/s, now=None]"
     ]
    },
    {
     "name": "stderr",
     "output_type": "stream",
     "text": [
      "\r",
      "t:   6%|█████▎                                                                                      | 59/1026 [00:06<01:49,  8.87it/s, now=None]"
     ]
    },
    {
     "name": "stderr",
     "output_type": "stream",
     "text": [
      "\r",
      "t:   6%|█████▍                                                                                      | 60/1026 [00:06<01:47,  9.02it/s, now=None]"
     ]
    },
    {
     "name": "stderr",
     "output_type": "stream",
     "text": [
      "\r",
      "t:   6%|█████▌                                                                                      | 62/1026 [00:07<01:58,  8.13it/s, now=None]"
     ]
    },
    {
     "name": "stderr",
     "output_type": "stream",
     "text": [
      "\r",
      "t:   6%|█████▋                                                                                      | 63/1026 [00:07<01:55,  8.36it/s, now=None]"
     ]
    },
    {
     "name": "stderr",
     "output_type": "stream",
     "text": [
      "\r",
      "t:   6%|█████▊                                                                                      | 65/1026 [00:07<01:47,  8.97it/s, now=None]"
     ]
    },
    {
     "name": "stderr",
     "output_type": "stream",
     "text": [
      "\r",
      "t:   6%|█████▉                                                                                      | 66/1026 [00:07<01:45,  9.07it/s, now=None]"
     ]
    },
    {
     "name": "stderr",
     "output_type": "stream",
     "text": [
      "\r",
      "t:   7%|██████                                                                                      | 68/1026 [00:07<01:55,  8.30it/s, now=None]"
     ]
    },
    {
     "name": "stderr",
     "output_type": "stream",
     "text": [
      "\r",
      "t:   7%|██████▏                                                                                     | 69/1026 [00:07<01:52,  8.53it/s, now=None]"
     ]
    },
    {
     "name": "stderr",
     "output_type": "stream",
     "text": [
      "\r",
      "t:   7%|██████▎                                                                                     | 71/1026 [00:08<01:46,  8.93it/s, now=None]"
     ]
    },
    {
     "name": "stderr",
     "output_type": "stream",
     "text": [
      "\r",
      "t:   7%|██████▍                                                                                     | 72/1026 [00:08<01:45,  9.07it/s, now=None]"
     ]
    },
    {
     "name": "stderr",
     "output_type": "stream",
     "text": [
      "\r",
      "t:   7%|██████▋                                                                                     | 74/1026 [00:08<01:56,  8.16it/s, now=None]"
     ]
    },
    {
     "name": "stderr",
     "output_type": "stream",
     "text": [
      "\r",
      "t:   7%|██████▋                                                                                     | 75/1026 [00:08<01:52,  8.43it/s, now=None]"
     ]
    },
    {
     "name": "stderr",
     "output_type": "stream",
     "text": [
      "\r",
      "t:   8%|██████▉                                                                                     | 77/1026 [00:08<01:46,  8.89it/s, now=None]"
     ]
    },
    {
     "name": "stderr",
     "output_type": "stream",
     "text": [
      "\r",
      "t:   8%|██████▉                                                                                     | 78/1026 [00:08<01:44,  9.04it/s, now=None]"
     ]
    },
    {
     "name": "stderr",
     "output_type": "stream",
     "text": [
      "\r",
      "t:   8%|███████                                                                                     | 79/1026 [00:08<01:42,  9.22it/s, now=None]"
     ]
    },
    {
     "name": "stderr",
     "output_type": "stream",
     "text": [
      "\r",
      "t:   8%|███████▏                                                                                    | 80/1026 [00:09<02:00,  7.84it/s, now=None]"
     ]
    },
    {
     "name": "stderr",
     "output_type": "stream",
     "text": [
      "\r",
      "t:   8%|███████▎                                                                                    | 81/1026 [00:09<01:54,  8.22it/s, now=None]"
     ]
    },
    {
     "name": "stderr",
     "output_type": "stream",
     "text": [
      "\r",
      "t:   8%|███████▍                                                                                    | 83/1026 [00:09<01:48,  8.71it/s, now=None]"
     ]
    },
    {
     "name": "stderr",
     "output_type": "stream",
     "text": [
      "\r",
      "t:   8%|███████▌                                                                                    | 84/1026 [00:09<01:47,  8.75it/s, now=None]"
     ]
    },
    {
     "name": "stderr",
     "output_type": "stream",
     "text": [
      "\r",
      "t:   8%|███████▋                                                                                    | 86/1026 [00:09<01:57,  7.97it/s, now=None]"
     ]
    },
    {
     "name": "stderr",
     "output_type": "stream",
     "text": [
      "\r",
      "t:   8%|███████▊                                                                                    | 87/1026 [00:10<01:55,  8.16it/s, now=None]"
     ]
    },
    {
     "name": "stderr",
     "output_type": "stream",
     "text": [
      "\r",
      "t:   9%|███████▉                                                                                    | 89/1026 [00:10<01:47,  8.73it/s, now=None]"
     ]
    },
    {
     "name": "stderr",
     "output_type": "stream",
     "text": [
      "\r",
      "t:   9%|████████                                                                                    | 90/1026 [00:10<01:46,  8.78it/s, now=None]"
     ]
    },
    {
     "name": "stderr",
     "output_type": "stream",
     "text": [
      "\r",
      "t:   9%|████████▏                                                                                   | 92/1026 [00:10<01:56,  8.04it/s, now=None]"
     ]
    },
    {
     "name": "stderr",
     "output_type": "stream",
     "text": [
      "\r",
      "t:   9%|████████▎                                                                                   | 93/1026 [00:10<01:52,  8.33it/s, now=None]"
     ]
    },
    {
     "name": "stderr",
     "output_type": "stream",
     "text": [
      "\r",
      "t:   9%|████████▌                                                                                   | 95/1026 [00:10<01:44,  8.89it/s, now=None]"
     ]
    },
    {
     "name": "stderr",
     "output_type": "stream",
     "text": [
      "\r",
      "t:   9%|████████▌                                                                                   | 96/1026 [00:11<01:42,  9.03it/s, now=None]"
     ]
    },
    {
     "name": "stderr",
     "output_type": "stream",
     "text": [
      "\r",
      "t:  10%|████████▊                                                                                   | 98/1026 [00:11<01:53,  8.18it/s, now=None]"
     ]
    },
    {
     "name": "stderr",
     "output_type": "stream",
     "text": [
      "\r",
      "t:  10%|████████▉                                                                                   | 99/1026 [00:11<01:50,  8.39it/s, now=None]"
     ]
    },
    {
     "name": "stderr",
     "output_type": "stream",
     "text": [
      "\r",
      "t:  10%|████████▉                                                                                  | 101/1026 [00:11<01:41,  9.14it/s, now=None]"
     ]
    },
    {
     "name": "stderr",
     "output_type": "stream",
     "text": [
      "\r",
      "t:  10%|█████████▏                                                                                 | 103/1026 [00:11<01:35,  9.62it/s, now=None]"
     ]
    },
    {
     "name": "stderr",
     "output_type": "stream",
     "text": [
      "\r",
      "t:  10%|█████████▏                                                                                 | 104/1026 [00:11<01:50,  8.35it/s, now=None]"
     ]
    },
    {
     "name": "stderr",
     "output_type": "stream",
     "text": [
      "\r",
      "t:  10%|█████████▍                                                                                 | 106/1026 [00:12<01:40,  9.12it/s, now=None]"
     ]
    },
    {
     "name": "stderr",
     "output_type": "stream",
     "text": [
      "\r",
      "t:  11%|█████████▌                                                                                 | 108/1026 [00:12<01:36,  9.54it/s, now=None]"
     ]
    },
    {
     "name": "stderr",
     "output_type": "stream",
     "text": [
      "\r",
      "t:  11%|█████████▊                                                                                 | 110/1026 [00:12<01:45,  8.68it/s, now=None]"
     ]
    },
    {
     "name": "stderr",
     "output_type": "stream",
     "text": [
      "\r",
      "t:  11%|█████████▉                                                                                 | 112/1026 [00:12<01:38,  9.27it/s, now=None]"
     ]
    },
    {
     "name": "stderr",
     "output_type": "stream",
     "text": [
      "\r",
      "t:  11%|██████████                                                                                 | 114/1026 [00:12<01:34,  9.63it/s, now=None]"
     ]
    },
    {
     "name": "stderr",
     "output_type": "stream",
     "text": [
      "\r",
      "t:  11%|██████████▎                                                                                | 116/1026 [00:13<01:43,  8.76it/s, now=None]"
     ]
    },
    {
     "name": "stderr",
     "output_type": "stream",
     "text": [
      "\r",
      "t:  12%|██████████▍                                                                                | 118/1026 [00:13<01:37,  9.30it/s, now=None]"
     ]
    },
    {
     "name": "stderr",
     "output_type": "stream",
     "text": [
      "\r",
      "t:  12%|██████████▋                                                                                | 120/1026 [00:13<01:34,  9.64it/s, now=None]"
     ]
    },
    {
     "name": "stderr",
     "output_type": "stream",
     "text": [
      "\r",
      "t:  12%|██████████▊                                                                                | 122/1026 [00:13<01:41,  8.91it/s, now=None]"
     ]
    },
    {
     "name": "stderr",
     "output_type": "stream",
     "text": [
      "\r",
      "t:  12%|██████████▉                                                                                | 124/1026 [00:14<01:35,  9.41it/s, now=None]"
     ]
    },
    {
     "name": "stderr",
     "output_type": "stream",
     "text": [
      "\r",
      "t:  12%|███████████▏                                                                               | 126/1026 [00:14<01:32,  9.73it/s, now=None]"
     ]
    },
    {
     "name": "stderr",
     "output_type": "stream",
     "text": [
      "\r",
      "t:  12%|███████████▎                                                                               | 128/1026 [00:14<01:41,  8.87it/s, now=None]"
     ]
    },
    {
     "name": "stderr",
     "output_type": "stream",
     "text": [
      "\r",
      "t:  13%|███████████▌                                                                               | 130/1026 [00:14<01:35,  9.40it/s, now=None]"
     ]
    },
    {
     "name": "stderr",
     "output_type": "stream",
     "text": [
      "\r",
      "t:  13%|███████████▋                                                                               | 132/1026 [00:14<01:34,  9.48it/s, now=None]"
     ]
    },
    {
     "name": "stderr",
     "output_type": "stream",
     "text": [
      "\r",
      "t:  13%|███████████▉                                                                               | 134/1026 [00:15<01:44,  8.58it/s, now=None]"
     ]
    },
    {
     "name": "stderr",
     "output_type": "stream",
     "text": [
      "\r",
      "t:  13%|███████████▉                                                                               | 135/1026 [00:15<01:42,  8.68it/s, now=None]"
     ]
    },
    {
     "name": "stderr",
     "output_type": "stream",
     "text": [
      "\r",
      "t:  13%|████████████▏                                                                              | 137/1026 [00:15<01:38,  9.01it/s, now=None]"
     ]
    },
    {
     "name": "stderr",
     "output_type": "stream",
     "text": [
      "\r",
      "t:  13%|████████████▏                                                                              | 138/1026 [00:15<01:38,  9.06it/s, now=None]"
     ]
    },
    {
     "name": "stderr",
     "output_type": "stream",
     "text": [
      "\r",
      "t:  14%|████████████▍                                                                              | 140/1026 [00:15<01:48,  8.13it/s, now=None]"
     ]
    },
    {
     "name": "stderr",
     "output_type": "stream",
     "text": [
      "\r",
      "t:  14%|████████████▌                                                                              | 141/1026 [00:16<01:46,  8.34it/s, now=None]"
     ]
    },
    {
     "name": "stderr",
     "output_type": "stream",
     "text": [
      "\r",
      "t:  14%|████████████▋                                                                              | 143/1026 [00:16<01:41,  8.70it/s, now=None]"
     ]
    },
    {
     "name": "stderr",
     "output_type": "stream",
     "text": [
      "\r",
      "t:  14%|████████████▊                                                                              | 144/1026 [00:16<01:40,  8.82it/s, now=None]"
     ]
    },
    {
     "name": "stderr",
     "output_type": "stream",
     "text": [
      "\r",
      "t:  14%|████████████▊                                                                              | 145/1026 [00:16<01:37,  9.05it/s, now=None]"
     ]
    },
    {
     "name": "stderr",
     "output_type": "stream",
     "text": [
      "\r",
      "t:  14%|████████████▉                                                                              | 146/1026 [00:16<01:55,  7.59it/s, now=None]"
     ]
    },
    {
     "name": "stderr",
     "output_type": "stream",
     "text": [
      "\r",
      "t:  14%|█████████████                                                                              | 147/1026 [00:16<01:50,  7.96it/s, now=None]"
     ]
    },
    {
     "name": "stderr",
     "output_type": "stream",
     "text": [
      "\r",
      "t:  15%|█████████████▏                                                                             | 149/1026 [00:16<01:41,  8.63it/s, now=None]"
     ]
    },
    {
     "name": "stderr",
     "output_type": "stream",
     "text": [
      "\r",
      "t:  15%|█████████████▎                                                                             | 150/1026 [00:17<01:40,  8.69it/s, now=None]"
     ]
    },
    {
     "name": "stderr",
     "output_type": "stream",
     "text": [
      "\r",
      "t:  15%|█████████████▍                                                                             | 152/1026 [00:17<01:51,  7.83it/s, now=None]"
     ]
    },
    {
     "name": "stderr",
     "output_type": "stream",
     "text": [
      "\r",
      "t:  15%|█████████████▌                                                                             | 153/1026 [00:17<01:48,  8.08it/s, now=None]"
     ]
    },
    {
     "name": "stderr",
     "output_type": "stream",
     "text": [
      "\r",
      "t:  15%|█████████████▋                                                                             | 155/1026 [00:17<01:40,  8.63it/s, now=None]"
     ]
    },
    {
     "name": "stderr",
     "output_type": "stream",
     "text": [
      "\r",
      "t:  15%|█████████████▊                                                                             | 156/1026 [00:17<01:39,  8.75it/s, now=None]"
     ]
    },
    {
     "name": "stderr",
     "output_type": "stream",
     "text": [
      "\r",
      "t:  15%|█████████████▉                                                                             | 157/1026 [00:17<01:37,  8.89it/s, now=None]"
     ]
    },
    {
     "name": "stderr",
     "output_type": "stream",
     "text": [
      "\r",
      "t:  15%|██████████████                                                                             | 158/1026 [00:18<01:55,  7.48it/s, now=None]"
     ]
    },
    {
     "name": "stderr",
     "output_type": "stream",
     "text": [
      "\r",
      "t:  15%|██████████████                                                                             | 159/1026 [00:18<01:50,  7.86it/s, now=None]"
     ]
    },
    {
     "name": "stderr",
     "output_type": "stream",
     "text": [
      "\r",
      "t:  16%|██████████████▎                                                                            | 161/1026 [00:18<01:41,  8.55it/s, now=None]"
     ]
    },
    {
     "name": "stderr",
     "output_type": "stream",
     "text": [
      "\r",
      "t:  16%|██████████████▎                                                                            | 162/1026 [00:18<01:39,  8.68it/s, now=None]"
     ]
    },
    {
     "name": "stderr",
     "output_type": "stream",
     "text": [
      "\r",
      "t:  16%|██████████████▍                                                                            | 163/1026 [00:18<01:37,  8.87it/s, now=None]"
     ]
    },
    {
     "name": "stderr",
     "output_type": "stream",
     "text": [
      "\r",
      "t:  16%|██████████████▌                                                                            | 164/1026 [00:18<01:54,  7.54it/s, now=None]"
     ]
    },
    {
     "name": "stderr",
     "output_type": "stream",
     "text": [
      "\r",
      "t:  16%|██████████████▋                                                                            | 165/1026 [00:18<01:48,  7.92it/s, now=None]"
     ]
    },
    {
     "name": "stderr",
     "output_type": "stream",
     "text": [
      "\r",
      "t:  16%|██████████████▊                                                                            | 167/1026 [00:19<01:39,  8.59it/s, now=None]"
     ]
    },
    {
     "name": "stderr",
     "output_type": "stream",
     "text": [
      "\r",
      "t:  16%|██████████████▉                                                                            | 168/1026 [00:19<01:39,  8.60it/s, now=None]"
     ]
    },
    {
     "name": "stderr",
     "output_type": "stream",
     "text": [
      "\r",
      "t:  17%|███████████████                                                                            | 170/1026 [00:19<01:49,  7.78it/s, now=None]"
     ]
    },
    {
     "name": "stderr",
     "output_type": "stream",
     "text": [
      "\r",
      "t:  17%|███████████████▏                                                                           | 171/1026 [00:19<01:46,  8.03it/s, now=None]"
     ]
    },
    {
     "name": "stderr",
     "output_type": "stream",
     "text": [
      "\r",
      "t:  17%|███████████████▎                                                                           | 173/1026 [00:19<01:38,  8.64it/s, now=None]"
     ]
    },
    {
     "name": "stderr",
     "output_type": "stream",
     "text": [
      "\r",
      "t:  17%|███████████████▍                                                                           | 174/1026 [00:19<01:37,  8.76it/s, now=None]"
     ]
    },
    {
     "name": "stderr",
     "output_type": "stream",
     "text": [
      "\r",
      "t:  17%|███████████████▌                                                                           | 175/1026 [00:20<01:35,  8.88it/s, now=None]"
     ]
    },
    {
     "name": "stderr",
     "output_type": "stream",
     "text": [
      "\r",
      "t:  17%|███████████████▌                                                                           | 176/1026 [00:20<01:52,  7.58it/s, now=None]"
     ]
    },
    {
     "name": "stderr",
     "output_type": "stream",
     "text": [
      "\r",
      "t:  17%|███████████████▋                                                                           | 177/1026 [00:20<01:46,  7.95it/s, now=None]"
     ]
    },
    {
     "name": "stderr",
     "output_type": "stream",
     "text": [
      "\r",
      "t:  17%|███████████████▉                                                                           | 179/1026 [00:20<01:38,  8.60it/s, now=None]"
     ]
    },
    {
     "name": "stderr",
     "output_type": "stream",
     "text": [
      "\r",
      "t:  18%|███████████████▉                                                                           | 180/1026 [00:20<01:38,  8.59it/s, now=None]"
     ]
    },
    {
     "name": "stderr",
     "output_type": "stream",
     "text": [
      "\r",
      "t:  18%|████████████████▏                                                                          | 182/1026 [00:20<01:48,  7.75it/s, now=None]"
     ]
    },
    {
     "name": "stderr",
     "output_type": "stream",
     "text": [
      "\r",
      "t:  18%|████████████████▏                                                                          | 183/1026 [00:21<01:45,  7.99it/s, now=None]"
     ]
    },
    {
     "name": "stderr",
     "output_type": "stream",
     "text": [
      "\r",
      "t:  18%|████████████████▍                                                                          | 185/1026 [00:21<01:38,  8.58it/s, now=None]"
     ]
    },
    {
     "name": "stderr",
     "output_type": "stream",
     "text": [
      "\r",
      "t:  18%|████████████████▍                                                                          | 186/1026 [00:21<01:36,  8.68it/s, now=None]"
     ]
    },
    {
     "name": "stderr",
     "output_type": "stream",
     "text": [
      "\r",
      "t:  18%|████████████████▌                                                                          | 187/1026 [00:21<01:33,  8.93it/s, now=None]"
     ]
    },
    {
     "name": "stderr",
     "output_type": "stream",
     "text": [
      "\r",
      "t:  18%|████████████████▋                                                                          | 188/1026 [00:21<01:49,  7.62it/s, now=None]"
     ]
    },
    {
     "name": "stderr",
     "output_type": "stream",
     "text": [
      "\r",
      "t:  18%|████████████████▊                                                                          | 189/1026 [00:21<01:44,  7.98it/s, now=None]"
     ]
    },
    {
     "name": "stderr",
     "output_type": "stream",
     "text": [
      "\r",
      "t:  19%|████████████████▉                                                                          | 191/1026 [00:22<01:36,  8.64it/s, now=None]"
     ]
    },
    {
     "name": "stderr",
     "output_type": "stream",
     "text": [
      "\r",
      "t:  19%|█████████████████                                                                          | 192/1026 [00:22<01:35,  8.72it/s, now=None]"
     ]
    },
    {
     "name": "stderr",
     "output_type": "stream",
     "text": [
      "\r",
      "t:  19%|█████████████████▏                                                                         | 194/1026 [00:22<01:45,  7.90it/s, now=None]"
     ]
    },
    {
     "name": "stderr",
     "output_type": "stream",
     "text": [
      "\r",
      "t:  19%|█████████████████▎                                                                         | 195/1026 [00:22<01:41,  8.21it/s, now=None]"
     ]
    },
    {
     "name": "stderr",
     "output_type": "stream",
     "text": [
      "\r",
      "t:  19%|█████████████████▍                                                                         | 197/1026 [00:22<01:33,  8.91it/s, now=None]"
     ]
    },
    {
     "name": "stderr",
     "output_type": "stream",
     "text": [
      "\r",
      "t:  19%|█████████████████▌                                                                         | 198/1026 [00:22<01:31,  9.04it/s, now=None]"
     ]
    },
    {
     "name": "stderr",
     "output_type": "stream",
     "text": [
      "\r",
      "t:  19%|█████████████████▋                                                                         | 200/1026 [00:23<01:40,  8.18it/s, now=None]"
     ]
    },
    {
     "name": "stderr",
     "output_type": "stream",
     "text": [
      "\r",
      "t:  20%|█████████████████▊                                                                         | 201/1026 [00:23<01:37,  8.45it/s, now=None]"
     ]
    },
    {
     "name": "stderr",
     "output_type": "stream",
     "text": [
      "\r",
      "t:  20%|██████████████████                                                                         | 203/1026 [00:23<01:30,  9.05it/s, now=None]"
     ]
    },
    {
     "name": "stderr",
     "output_type": "stream",
     "text": [
      "\r",
      "t:  20%|██████████████████                                                                         | 204/1026 [00:23<01:29,  9.17it/s, now=None]"
     ]
    },
    {
     "name": "stderr",
     "output_type": "stream",
     "text": [
      "\r",
      "t:  20%|██████████████████▎                                                                        | 206/1026 [00:23<01:39,  8.26it/s, now=None]"
     ]
    },
    {
     "name": "stderr",
     "output_type": "stream",
     "text": [
      "\r",
      "t:  20%|██████████████████▎                                                                        | 207/1026 [00:23<01:37,  8.40it/s, now=None]"
     ]
    },
    {
     "name": "stderr",
     "output_type": "stream",
     "text": [
      "\r",
      "t:  20%|██████████████████▌                                                                        | 209/1026 [00:24<01:30,  9.02it/s, now=None]"
     ]
    },
    {
     "name": "stderr",
     "output_type": "stream",
     "text": [
      "\r",
      "t:  20%|██████████████████▋                                                                        | 210/1026 [00:24<01:29,  9.11it/s, now=None]"
     ]
    },
    {
     "name": "stderr",
     "output_type": "stream",
     "text": [
      "\r",
      "t:  21%|██████████████████▊                                                                        | 212/1026 [00:24<01:39,  8.22it/s, now=None]"
     ]
    },
    {
     "name": "stderr",
     "output_type": "stream",
     "text": [
      "\r",
      "t:  21%|██████████████████▉                                                                        | 213/1026 [00:24<01:35,  8.48it/s, now=None]"
     ]
    },
    {
     "name": "stderr",
     "output_type": "stream",
     "text": [
      "\r",
      "t:  21%|███████████████████                                                                        | 215/1026 [00:24<01:29,  9.06it/s, now=None]"
     ]
    },
    {
     "name": "stderr",
     "output_type": "stream",
     "text": [
      "\r",
      "t:  21%|███████████████████▏                                                                       | 216/1026 [00:24<01:28,  9.17it/s, now=None]"
     ]
    },
    {
     "name": "stderr",
     "output_type": "stream",
     "text": [
      "\r",
      "t:  21%|███████████████████▎                                                                       | 218/1026 [00:25<01:37,  8.25it/s, now=None]"
     ]
    },
    {
     "name": "stderr",
     "output_type": "stream",
     "text": [
      "\r",
      "t:  21%|███████████████████▍                                                                       | 219/1026 [00:25<01:34,  8.51it/s, now=None]"
     ]
    },
    {
     "name": "stderr",
     "output_type": "stream",
     "text": [
      "\r",
      "t:  22%|███████████████████▌                                                                       | 221/1026 [00:25<01:30,  8.93it/s, now=None]"
     ]
    },
    {
     "name": "stderr",
     "output_type": "stream",
     "text": [
      "\r",
      "t:  22%|███████████████████▋                                                                       | 222/1026 [00:25<01:28,  9.05it/s, now=None]"
     ]
    },
    {
     "name": "stderr",
     "output_type": "stream",
     "text": [
      "\r",
      "t:  22%|███████████████████▊                                                                       | 224/1026 [00:25<01:38,  8.18it/s, now=None]"
     ]
    },
    {
     "name": "stderr",
     "output_type": "stream",
     "text": [
      "\r",
      "t:  22%|███████████████████▉                                                                       | 225/1026 [00:25<01:34,  8.45it/s, now=None]"
     ]
    },
    {
     "name": "stderr",
     "output_type": "stream",
     "text": [
      "\r",
      "t:  22%|████████████████████▏                                                                      | 227/1026 [00:26<01:31,  8.77it/s, now=None]"
     ]
    },
    {
     "name": "stderr",
     "output_type": "stream",
     "text": [
      "\r",
      "t:  22%|████████████████████▏                                                                      | 228/1026 [00:26<01:29,  8.94it/s, now=None]"
     ]
    },
    {
     "name": "stderr",
     "output_type": "stream",
     "text": [
      "\r",
      "t:  22%|████████████████████▍                                                                      | 230/1026 [00:26<01:36,  8.23it/s, now=None]"
     ]
    },
    {
     "name": "stderr",
     "output_type": "stream",
     "text": [
      "\r",
      "t:  23%|████████████████████▍                                                                      | 231/1026 [00:26<01:34,  8.38it/s, now=None]"
     ]
    },
    {
     "name": "stderr",
     "output_type": "stream",
     "text": [
      "\r",
      "t:  23%|████████████████████▋                                                                      | 233/1026 [00:26<01:28,  9.01it/s, now=None]"
     ]
    },
    {
     "name": "stderr",
     "output_type": "stream",
     "text": [
      "\r",
      "t:  23%|████████████████████▊                                                                      | 234/1026 [00:26<01:26,  9.15it/s, now=None]"
     ]
    },
    {
     "name": "stderr",
     "output_type": "stream",
     "text": [
      "\r",
      "t:  23%|████████████████████▊                                                                      | 235/1026 [00:27<01:25,  9.26it/s, now=None]"
     ]
    },
    {
     "name": "stderr",
     "output_type": "stream",
     "text": [
      "\r",
      "t:  23%|████████████████████▉                                                                      | 236/1026 [00:27<01:41,  7.80it/s, now=None]"
     ]
    },
    {
     "name": "stderr",
     "output_type": "stream",
     "text": [
      "\r",
      "t:  23%|█████████████████████                                                                      | 237/1026 [00:27<01:36,  8.20it/s, now=None]"
     ]
    },
    {
     "name": "stderr",
     "output_type": "stream",
     "text": [
      "\r",
      "t:  23%|█████████████████████▏                                                                     | 239/1026 [00:27<01:28,  8.85it/s, now=None]"
     ]
    },
    {
     "name": "stderr",
     "output_type": "stream",
     "text": [
      "\r",
      "t:  23%|█████████████████████▎                                                                     | 240/1026 [00:27<01:27,  9.02it/s, now=None]"
     ]
    },
    {
     "name": "stderr",
     "output_type": "stream",
     "text": [
      "\r",
      "t:  23%|█████████████████████▍                                                                     | 241/1026 [00:27<01:25,  9.22it/s, now=None]"
     ]
    },
    {
     "name": "stderr",
     "output_type": "stream",
     "text": [
      "\r",
      "t:  24%|█████████████████████▍                                                                     | 242/1026 [00:27<01:41,  7.70it/s, now=None]"
     ]
    },
    {
     "name": "stderr",
     "output_type": "stream",
     "text": [
      "\r",
      "t:  24%|█████████████████████▌                                                                     | 243/1026 [00:28<01:37,  7.99it/s, now=None]"
     ]
    },
    {
     "name": "stderr",
     "output_type": "stream",
     "text": [
      "\r",
      "t:  24%|█████████████████████▋                                                                     | 245/1026 [00:28<01:28,  8.86it/s, now=None]"
     ]
    },
    {
     "name": "stderr",
     "output_type": "stream",
     "text": [
      "\r",
      "t:  24%|█████████████████████▊                                                                     | 246/1026 [00:28<01:26,  9.01it/s, now=None]"
     ]
    },
    {
     "name": "stderr",
     "output_type": "stream",
     "text": [
      "\r",
      "t:  24%|█████████████████████▉                                                                     | 248/1026 [00:28<01:35,  8.13it/s, now=None]"
     ]
    },
    {
     "name": "stderr",
     "output_type": "stream",
     "text": [
      "\r",
      "t:  24%|██████████████████████                                                                     | 249/1026 [00:28<01:32,  8.44it/s, now=None]"
     ]
    },
    {
     "name": "stderr",
     "output_type": "stream",
     "text": [
      "\r",
      "t:  24%|██████████████████████▎                                                                    | 251/1026 [00:28<01:26,  8.96it/s, now=None]"
     ]
    },
    {
     "name": "stderr",
     "output_type": "stream",
     "text": [
      "\r",
      "t:  25%|██████████████████████▎                                                                    | 252/1026 [00:29<01:24,  9.11it/s, now=None]"
     ]
    },
    {
     "name": "stderr",
     "output_type": "stream",
     "text": [
      "\r",
      "t:  25%|██████████████████████▌                                                                    | 254/1026 [00:29<01:32,  8.33it/s, now=None]"
     ]
    },
    {
     "name": "stderr",
     "output_type": "stream",
     "text": [
      "\r",
      "t:  25%|██████████████████████▌                                                                    | 255/1026 [00:29<01:29,  8.60it/s, now=None]"
     ]
    },
    {
     "name": "stderr",
     "output_type": "stream",
     "text": [
      "\r",
      "t:  25%|██████████████████████▊                                                                    | 257/1026 [00:29<01:24,  9.12it/s, now=None]"
     ]
    },
    {
     "name": "stderr",
     "output_type": "stream",
     "text": [
      "\r",
      "t:  25%|██████████████████████▉                                                                    | 258/1026 [00:29<01:23,  9.23it/s, now=None]"
     ]
    },
    {
     "name": "stderr",
     "output_type": "stream",
     "text": [
      "\r",
      "t:  25%|███████████████████████                                                                    | 260/1026 [00:30<01:32,  8.27it/s, now=None]"
     ]
    },
    {
     "name": "stderr",
     "output_type": "stream",
     "text": [
      "\r",
      "t:  25%|███████████████████████▏                                                                   | 261/1026 [00:30<01:30,  8.41it/s, now=None]"
     ]
    },
    {
     "name": "stderr",
     "output_type": "stream",
     "text": [
      "\r",
      "t:  26%|███████████████████████▎                                                                   | 263/1026 [00:30<01:24,  9.03it/s, now=None]"
     ]
    },
    {
     "name": "stderr",
     "output_type": "stream",
     "text": [
      "\r",
      "t:  26%|███████████████████████▍                                                                   | 264/1026 [00:30<01:23,  9.17it/s, now=None]"
     ]
    },
    {
     "name": "stderr",
     "output_type": "stream",
     "text": [
      "\r",
      "t:  26%|███████████████████████▌                                                                   | 266/1026 [00:30<01:33,  8.15it/s, now=None]"
     ]
    },
    {
     "name": "stderr",
     "output_type": "stream",
     "text": [
      "\r",
      "t:  26%|███████████████████████▋                                                                   | 267/1026 [00:30<01:30,  8.43it/s, now=None]"
     ]
    },
    {
     "name": "stderr",
     "output_type": "stream",
     "text": [
      "\r",
      "t:  26%|███████████████████████▊                                                                   | 269/1026 [00:31<01:24,  8.91it/s, now=None]"
     ]
    },
    {
     "name": "stderr",
     "output_type": "stream",
     "text": [
      "\r",
      "t:  26%|███████████████████████▉                                                                   | 270/1026 [00:31<01:23,  9.05it/s, now=None]"
     ]
    },
    {
     "name": "stderr",
     "output_type": "stream",
     "text": [
      "\r",
      "t:  27%|████████████████████████                                                                   | 272/1026 [00:31<01:31,  8.20it/s, now=None]"
     ]
    },
    {
     "name": "stderr",
     "output_type": "stream",
     "text": [
      "\r",
      "t:  27%|████████████████████████▏                                                                  | 273/1026 [00:31<01:28,  8.48it/s, now=None]"
     ]
    },
    {
     "name": "stderr",
     "output_type": "stream",
     "text": [
      "\r",
      "t:  27%|████████████████████████▍                                                                  | 275/1026 [00:31<01:24,  8.85it/s, now=None]"
     ]
    },
    {
     "name": "stderr",
     "output_type": "stream",
     "text": [
      "\r",
      "t:  27%|████████████████████████▍                                                                  | 276/1026 [00:31<01:23,  9.02it/s, now=None]"
     ]
    },
    {
     "name": "stderr",
     "output_type": "stream",
     "text": [
      "\r",
      "t:  27%|████████████████████████▋                                                                  | 278/1026 [00:32<01:31,  8.16it/s, now=None]"
     ]
    },
    {
     "name": "stderr",
     "output_type": "stream",
     "text": [
      "\r",
      "t:  27%|████████████████████████▋                                                                  | 279/1026 [00:32<01:28,  8.44it/s, now=None]"
     ]
    },
    {
     "name": "stderr",
     "output_type": "stream",
     "text": [
      "\r",
      "t:  27%|████████████████████████▊                                                                  | 280/1026 [00:32<01:25,  8.68it/s, now=None]"
     ]
    },
    {
     "name": "stderr",
     "output_type": "stream",
     "text": [
      "\r",
      "t:  27%|████████████████████████▉                                                                  | 281/1026 [00:32<01:23,  8.93it/s, now=None]"
     ]
    },
    {
     "name": "stderr",
     "output_type": "stream",
     "text": [
      "\r",
      "t:  27%|█████████████████████████                                                                  | 282/1026 [00:32<01:21,  9.12it/s, now=None]"
     ]
    },
    {
     "name": "stderr",
     "output_type": "stream",
     "text": [
      "\r",
      "t:  28%|█████████████████████████▏                                                                 | 284/1026 [00:32<01:31,  8.12it/s, now=None]"
     ]
    },
    {
     "name": "stderr",
     "output_type": "stream",
     "text": [
      "\r",
      "t:  28%|█████████████████████████▎                                                                 | 285/1026 [00:32<01:27,  8.42it/s, now=None]"
     ]
    },
    {
     "name": "stderr",
     "output_type": "stream",
     "text": [
      "\r",
      "t:  28%|█████████████████████████▍                                                                 | 287/1026 [00:33<01:21,  9.06it/s, now=None]"
     ]
    },
    {
     "name": "stderr",
     "output_type": "stream",
     "text": [
      "\r",
      "t:  28%|█████████████████████████▌                                                                 | 288/1026 [00:33<01:20,  9.20it/s, now=None]"
     ]
    },
    {
     "name": "stderr",
     "output_type": "stream",
     "text": [
      "\r",
      "t:  28%|█████████████████████████▋                                                                 | 290/1026 [00:33<01:29,  8.24it/s, now=None]"
     ]
    },
    {
     "name": "stderr",
     "output_type": "stream",
     "text": [
      "\r",
      "t:  28%|█████████████████████████▊                                                                 | 291/1026 [00:33<01:26,  8.52it/s, now=None]"
     ]
    },
    {
     "name": "stderr",
     "output_type": "stream",
     "text": [
      "\r",
      "t:  29%|█████████████████████████▉                                                                 | 293/1026 [00:33<01:20,  9.12it/s, now=None]"
     ]
    },
    {
     "name": "stderr",
     "output_type": "stream",
     "text": [
      "\r",
      "t:  29%|██████████████████████████                                                                 | 294/1026 [00:33<01:19,  9.24it/s, now=None]"
     ]
    },
    {
     "name": "stderr",
     "output_type": "stream",
     "text": [
      "\r",
      "t:  29%|██████████████████████████▎                                                                | 296/1026 [00:34<01:27,  8.36it/s, now=None]"
     ]
    },
    {
     "name": "stderr",
     "output_type": "stream",
     "text": [
      "\r",
      "t:  29%|██████████████████████████▎                                                                | 297/1026 [00:34<01:25,  8.49it/s, now=None]"
     ]
    },
    {
     "name": "stderr",
     "output_type": "stream",
     "text": [
      "\r",
      "t:  29%|██████████████████████████▌                                                                | 299/1026 [00:34<01:20,  8.98it/s, now=None]"
     ]
    },
    {
     "name": "stderr",
     "output_type": "stream",
     "text": [
      "\r",
      "t:  29%|██████████████████████████▌                                                                | 300/1026 [00:34<01:19,  9.12it/s, now=None]"
     ]
    },
    {
     "name": "stderr",
     "output_type": "stream",
     "text": [
      "\r",
      "t:  29%|██████████████████████████▊                                                                | 302/1026 [00:34<01:27,  8.24it/s, now=None]"
     ]
    },
    {
     "name": "stderr",
     "output_type": "stream",
     "text": [
      "\r",
      "t:  30%|██████████████████████████▊                                                                | 303/1026 [00:34<01:24,  8.52it/s, now=None]"
     ]
    },
    {
     "name": "stderr",
     "output_type": "stream",
     "text": [
      "\r",
      "t:  30%|███████████████████████████                                                                | 305/1026 [00:35<01:18,  9.13it/s, now=None]"
     ]
    },
    {
     "name": "stderr",
     "output_type": "stream",
     "text": [
      "\r",
      "t:  30%|███████████████████████████▏                                                               | 306/1026 [00:35<01:18,  9.13it/s, now=None]"
     ]
    },
    {
     "name": "stderr",
     "output_type": "stream",
     "text": [
      "\r",
      "t:  30%|███████████████████████████▎                                                               | 308/1026 [00:35<01:26,  8.26it/s, now=None]"
     ]
    },
    {
     "name": "stderr",
     "output_type": "stream",
     "text": [
      "\r",
      "t:  30%|███████████████████████████▍                                                               | 309/1026 [00:35<01:24,  8.51it/s, now=None]"
     ]
    },
    {
     "name": "stderr",
     "output_type": "stream",
     "text": [
      "\r",
      "t:  30%|███████████████████████████▌                                                               | 311/1026 [00:35<01:20,  8.87it/s, now=None]"
     ]
    },
    {
     "name": "stderr",
     "output_type": "stream",
     "text": [
      "\r",
      "t:  30%|███████████████████████████▋                                                               | 312/1026 [00:35<01:19,  9.04it/s, now=None]"
     ]
    },
    {
     "name": "stderr",
     "output_type": "stream",
     "text": [
      "\r",
      "t:  31%|███████████████████████████▊                                                               | 314/1026 [00:36<01:28,  8.08it/s, now=None]"
     ]
    },
    {
     "name": "stderr",
     "output_type": "stream",
     "text": [
      "\r",
      "t:  31%|███████████████████████████▉                                                               | 315/1026 [00:36<01:25,  8.30it/s, now=None]"
     ]
    },
    {
     "name": "stderr",
     "output_type": "stream",
     "text": [
      "\r",
      "t:  31%|████████████████████████████                                                               | 317/1026 [00:36<01:19,  8.97it/s, now=None]"
     ]
    },
    {
     "name": "stderr",
     "output_type": "stream",
     "text": [
      "\r",
      "t:  31%|████████████████████████████▏                                                              | 318/1026 [00:36<01:17,  9.12it/s, now=None]"
     ]
    },
    {
     "name": "stderr",
     "output_type": "stream",
     "text": [
      "\r",
      "t:  31%|████████████████████████████▍                                                              | 320/1026 [00:36<01:25,  8.25it/s, now=None]"
     ]
    },
    {
     "name": "stderr",
     "output_type": "stream",
     "text": [
      "\r",
      "t:  31%|████████████████████████████▍                                                              | 321/1026 [00:37<01:22,  8.51it/s, now=None]"
     ]
    },
    {
     "name": "stderr",
     "output_type": "stream",
     "text": [
      "\r",
      "t:  31%|████████████████████████████▋                                                              | 323/1026 [00:37<01:18,  9.00it/s, now=None]"
     ]
    },
    {
     "name": "stderr",
     "output_type": "stream",
     "text": [
      "\r",
      "t:  32%|████████████████████████████▋                                                              | 324/1026 [00:37<01:17,  9.01it/s, now=None]"
     ]
    },
    {
     "name": "stderr",
     "output_type": "stream",
     "text": [
      "\r",
      "t:  32%|████████████████████████████▉                                                              | 326/1026 [00:37<01:25,  8.17it/s, now=None]"
     ]
    },
    {
     "name": "stderr",
     "output_type": "stream",
     "text": [
      "\r",
      "t:  32%|█████████████████████████████                                                              | 327/1026 [00:37<01:22,  8.45it/s, now=None]"
     ]
    },
    {
     "name": "stderr",
     "output_type": "stream",
     "text": [
      "\r",
      "t:  32%|█████████████████████████████▏                                                             | 329/1026 [00:37<01:17,  8.96it/s, now=None]"
     ]
    },
    {
     "name": "stderr",
     "output_type": "stream",
     "text": [
      "\r",
      "t:  32%|█████████████████████████████▎                                                             | 330/1026 [00:38<01:16,  9.09it/s, now=None]"
     ]
    },
    {
     "name": "stderr",
     "output_type": "stream",
     "text": [
      "\r",
      "t:  32%|█████████████████████████████▍                                                             | 332/1026 [00:38<01:24,  8.25it/s, now=None]"
     ]
    },
    {
     "name": "stderr",
     "output_type": "stream",
     "text": [
      "\r",
      "t:  32%|█████████████████████████████▌                                                             | 333/1026 [00:38<01:22,  8.40it/s, now=None]"
     ]
    },
    {
     "name": "stderr",
     "output_type": "stream",
     "text": [
      "\r",
      "t:  33%|█████████████████████████████▋                                                             | 335/1026 [00:38<01:17,  8.90it/s, now=None]"
     ]
    },
    {
     "name": "stderr",
     "output_type": "stream",
     "text": [
      "\r",
      "t:  33%|█████████████████████████████▊                                                             | 336/1026 [00:38<01:16,  9.05it/s, now=None]"
     ]
    },
    {
     "name": "stderr",
     "output_type": "stream",
     "text": [
      "\r",
      "t:  33%|█████████████████████████████▉                                                             | 338/1026 [00:39<01:22,  8.29it/s, now=None]"
     ]
    },
    {
     "name": "stderr",
     "output_type": "stream",
     "text": [
      "\r",
      "t:  33%|██████████████████████████████                                                             | 339/1026 [00:39<01:20,  8.55it/s, now=None]"
     ]
    },
    {
     "name": "stderr",
     "output_type": "stream",
     "text": [
      "\r",
      "t:  33%|██████████████████████████████▏                                                            | 341/1026 [00:39<01:14,  9.15it/s, now=None]"
     ]
    },
    {
     "name": "stderr",
     "output_type": "stream",
     "text": [
      "\r",
      "t:  33%|██████████████████████████████▎                                                            | 342/1026 [00:39<01:13,  9.27it/s, now=None]"
     ]
    },
    {
     "name": "stderr",
     "output_type": "stream",
     "text": [
      "\r",
      "t:  34%|██████████████████████████████▌                                                            | 344/1026 [00:39<01:21,  8.36it/s, now=None]"
     ]
    },
    {
     "name": "stderr",
     "output_type": "stream",
     "text": [
      "\r",
      "t:  34%|██████████████████████████████▌                                                            | 345/1026 [00:39<01:18,  8.63it/s, now=None]"
     ]
    },
    {
     "name": "stderr",
     "output_type": "stream",
     "text": [
      "\r",
      "t:  34%|██████████████████████████████▊                                                            | 347/1026 [00:40<01:14,  9.07it/s, now=None]"
     ]
    },
    {
     "name": "stderr",
     "output_type": "stream",
     "text": [
      "\r",
      "t:  34%|██████████████████████████████▊                                                            | 348/1026 [00:40<01:14,  9.04it/s, now=None]"
     ]
    },
    {
     "name": "stderr",
     "output_type": "stream",
     "text": [
      "\r",
      "t:  34%|███████████████████████████████                                                            | 350/1026 [00:40<01:22,  8.20it/s, now=None]"
     ]
    },
    {
     "name": "stderr",
     "output_type": "stream",
     "text": [
      "\r",
      "t:  34%|███████████████████████████████▏                                                           | 351/1026 [00:40<01:19,  8.48it/s, now=None]"
     ]
    },
    {
     "name": "stderr",
     "output_type": "stream",
     "text": [
      "\r",
      "t:  34%|███████████████████████████████▎                                                           | 353/1026 [00:40<01:15,  8.95it/s, now=None]"
     ]
    },
    {
     "name": "stderr",
     "output_type": "stream",
     "text": [
      "\r",
      "t:  35%|███████████████████████████████▍                                                           | 354/1026 [00:40<01:15,  8.95it/s, now=None]"
     ]
    },
    {
     "name": "stderr",
     "output_type": "stream",
     "text": [
      "\r",
      "t:  35%|███████████████████████████████▌                                                           | 356/1026 [00:41<01:22,  8.16it/s, now=None]"
     ]
    },
    {
     "name": "stderr",
     "output_type": "stream",
     "text": [
      "\r",
      "t:  35%|███████████████████████████████▋                                                           | 357/1026 [00:41<01:19,  8.44it/s, now=None]"
     ]
    },
    {
     "name": "stderr",
     "output_type": "stream",
     "text": [
      "\r",
      "t:  35%|███████████████████████████████▊                                                           | 359/1026 [00:41<01:13,  9.09it/s, now=None]"
     ]
    },
    {
     "name": "stderr",
     "output_type": "stream",
     "text": [
      "\r",
      "t:  35%|███████████████████████████████▉                                                           | 360/1026 [00:41<01:12,  9.24it/s, now=None]"
     ]
    },
    {
     "name": "stderr",
     "output_type": "stream",
     "text": [
      "\r",
      "t:  35%|████████████████████████████████                                                           | 362/1026 [00:41<01:19,  8.32it/s, now=None]"
     ]
    },
    {
     "name": "stderr",
     "output_type": "stream",
     "text": [
      "\r",
      "t:  35%|████████████████████████████████▏                                                          | 363/1026 [00:41<01:17,  8.59it/s, now=None]"
     ]
    },
    {
     "name": "stderr",
     "output_type": "stream",
     "text": [
      "\r",
      "t:  36%|████████████████████████████████▎                                                          | 365/1026 [00:42<01:12,  9.06it/s, now=None]"
     ]
    },
    {
     "name": "stderr",
     "output_type": "stream",
     "text": [
      "\r",
      "t:  36%|████████████████████████████████▍                                                          | 366/1026 [00:42<01:12,  9.04it/s, now=None]"
     ]
    },
    {
     "name": "stderr",
     "output_type": "stream",
     "text": [
      "\r",
      "t:  36%|████████████████████████████████▋                                                          | 368/1026 [00:42<01:19,  8.31it/s, now=None]"
     ]
    },
    {
     "name": "stderr",
     "output_type": "stream",
     "text": [
      "\r",
      "t:  36%|████████████████████████████████▋                                                          | 369/1026 [00:42<01:16,  8.56it/s, now=None]"
     ]
    },
    {
     "name": "stderr",
     "output_type": "stream",
     "text": [
      "\r",
      "t:  36%|████████████████████████████████▉                                                          | 371/1026 [00:42<01:12,  9.08it/s, now=None]"
     ]
    },
    {
     "name": "stderr",
     "output_type": "stream",
     "text": [
      "\r",
      "t:  36%|████████████████████████████████▉                                                          | 372/1026 [00:42<01:11,  9.19it/s, now=None]"
     ]
    },
    {
     "name": "stderr",
     "output_type": "stream",
     "text": [
      "\r",
      "t:  36%|█████████████████████████████████▏                                                         | 374/1026 [00:43<01:18,  8.28it/s, now=None]"
     ]
    },
    {
     "name": "stderr",
     "output_type": "stream",
     "text": [
      "\r",
      "t:  37%|█████████████████████████████████▎                                                         | 375/1026 [00:43<01:16,  8.55it/s, now=None]"
     ]
    },
    {
     "name": "stderr",
     "output_type": "stream",
     "text": [
      "\r",
      "t:  37%|█████████████████████████████████▍                                                         | 377/1026 [00:43<01:13,  8.89it/s, now=None]"
     ]
    },
    {
     "name": "stderr",
     "output_type": "stream",
     "text": [
      "\r",
      "t:  37%|█████████████████████████████████▌                                                         | 378/1026 [00:43<01:12,  8.92it/s, now=None]"
     ]
    },
    {
     "name": "stderr",
     "output_type": "stream",
     "text": [
      "\r",
      "t:  37%|█████████████████████████████████▋                                                         | 380/1026 [00:43<01:19,  8.17it/s, now=None]"
     ]
    },
    {
     "name": "stderr",
     "output_type": "stream",
     "text": [
      "\r",
      "t:  37%|█████████████████████████████████▊                                                         | 381/1026 [00:43<01:16,  8.46it/s, now=None]"
     ]
    },
    {
     "name": "stderr",
     "output_type": "stream",
     "text": [
      "\r",
      "t:  37%|█████████████████████████████████▉                                                         | 383/1026 [00:44<01:13,  8.72it/s, now=None]"
     ]
    },
    {
     "name": "stderr",
     "output_type": "stream",
     "text": [
      "\r",
      "t:  37%|██████████████████████████████████                                                         | 384/1026 [00:44<01:13,  8.79it/s, now=None]"
     ]
    },
    {
     "name": "stderr",
     "output_type": "stream",
     "text": [
      "\r",
      "t:  38%|██████████████████████████████████▏                                                        | 386/1026 [00:44<01:18,  8.18it/s, now=None]"
     ]
    },
    {
     "name": "stderr",
     "output_type": "stream",
     "text": [
      "\r",
      "t:  38%|██████████████████████████████████▎                                                        | 387/1026 [00:44<01:15,  8.46it/s, now=None]"
     ]
    },
    {
     "name": "stderr",
     "output_type": "stream",
     "text": [
      "\r",
      "t:  38%|██████████████████████████████████▌                                                        | 389/1026 [00:44<01:11,  8.88it/s, now=None]"
     ]
    },
    {
     "name": "stderr",
     "output_type": "stream",
     "text": [
      "\r",
      "t:  38%|██████████████████████████████████▌                                                        | 390/1026 [00:44<01:10,  9.04it/s, now=None]"
     ]
    },
    {
     "name": "stderr",
     "output_type": "stream",
     "text": [
      "\r",
      "t:  38%|██████████████████████████████████▊                                                        | 392/1026 [00:45<01:17,  8.23it/s, now=None]"
     ]
    },
    {
     "name": "stderr",
     "output_type": "stream",
     "text": [
      "\r",
      "t:  38%|██████████████████████████████████▊                                                        | 393/1026 [00:45<01:14,  8.47it/s, now=None]"
     ]
    },
    {
     "name": "stderr",
     "output_type": "stream",
     "text": [
      "\r",
      "t:  38%|███████████████████████████████████                                                        | 395/1026 [00:45<01:09,  9.05it/s, now=None]"
     ]
    },
    {
     "name": "stderr",
     "output_type": "stream",
     "text": [
      "\r",
      "t:  39%|███████████████████████████████████                                                        | 396/1026 [00:45<01:08,  9.18it/s, now=None]"
     ]
    },
    {
     "name": "stderr",
     "output_type": "stream",
     "text": [
      "\r",
      "t:  39%|███████████████████████████████████▎                                                       | 398/1026 [00:45<01:14,  8.42it/s, now=None]"
     ]
    },
    {
     "name": "stderr",
     "output_type": "stream",
     "text": [
      "\r",
      "t:  39%|███████████████████████████████████▍                                                       | 399/1026 [00:46<01:12,  8.66it/s, now=None]"
     ]
    },
    {
     "name": "stderr",
     "output_type": "stream",
     "text": [
      "\r",
      "t:  39%|███████████████████████████████████▌                                                       | 401/1026 [00:46<01:08,  9.10it/s, now=None]"
     ]
    },
    {
     "name": "stderr",
     "output_type": "stream",
     "text": [
      "\r",
      "t:  39%|███████████████████████████████████▋                                                       | 402/1026 [00:46<01:07,  9.21it/s, now=None]"
     ]
    },
    {
     "name": "stderr",
     "output_type": "stream",
     "text": [
      "\r",
      "t:  39%|███████████████████████████████████▊                                                       | 404/1026 [00:46<01:15,  8.27it/s, now=None]"
     ]
    },
    {
     "name": "stderr",
     "output_type": "stream",
     "text": [
      "\r",
      "t:  39%|███████████████████████████████████▉                                                       | 405/1026 [00:46<01:14,  8.32it/s, now=None]"
     ]
    },
    {
     "name": "stderr",
     "output_type": "stream",
     "text": [
      "\r",
      "t:  40%|████████████████████████████████████                                                       | 406/1026 [00:46<01:12,  8.49it/s, now=None]"
     ]
    },
    {
     "name": "stderr",
     "output_type": "stream",
     "text": [
      "\r",
      "t:  40%|████████████████████████████████████                                                       | 407/1026 [00:46<01:10,  8.76it/s, now=None]"
     ]
    },
    {
     "name": "stderr",
     "output_type": "stream",
     "text": [
      "\r",
      "t:  40%|████████████████████████████████████▏                                                      | 408/1026 [00:47<01:09,  8.83it/s, now=None]"
     ]
    },
    {
     "name": "stderr",
     "output_type": "stream",
     "text": [
      "\r",
      "t:  40%|████████████████████████████████████▎                                                      | 410/1026 [00:47<01:16,  8.10it/s, now=None]"
     ]
    },
    {
     "name": "stderr",
     "output_type": "stream",
     "text": [
      "\r",
      "t:  40%|████████████████████████████████████▍                                                      | 411/1026 [00:47<01:13,  8.42it/s, now=None]"
     ]
    },
    {
     "name": "stderr",
     "output_type": "stream",
     "text": [
      "\r",
      "t:  40%|████████████████████████████████████▋                                                      | 413/1026 [00:47<01:07,  9.07it/s, now=None]"
     ]
    },
    {
     "name": "stderr",
     "output_type": "stream",
     "text": [
      "\r",
      "t:  40%|████████████████████████████████████▋                                                      | 414/1026 [00:47<01:06,  9.19it/s, now=None]"
     ]
    },
    {
     "name": "stderr",
     "output_type": "stream",
     "text": [
      "\r",
      "t:  40%|████████████████████████████████████▊                                                      | 415/1026 [00:47<01:05,  9.37it/s, now=None]"
     ]
    },
    {
     "name": "stderr",
     "output_type": "stream",
     "text": [
      "\r",
      "t:  41%|████████████████████████████████████▉                                                      | 416/1026 [00:48<01:17,  7.82it/s, now=None]"
     ]
    },
    {
     "name": "stderr",
     "output_type": "stream",
     "text": [
      "\r",
      "t:  41%|████████████████████████████████████▉                                                      | 417/1026 [00:48<01:13,  8.24it/s, now=None]"
     ]
    },
    {
     "name": "stderr",
     "output_type": "stream",
     "text": [
      "\r",
      "t:  41%|█████████████████████████████████████▏                                                     | 419/1026 [00:48<01:09,  8.73it/s, now=None]"
     ]
    },
    {
     "name": "stderr",
     "output_type": "stream",
     "text": [
      "\r",
      "t:  41%|█████████████████████████████████████▎                                                     | 420/1026 [00:48<01:08,  8.80it/s, now=None]"
     ]
    },
    {
     "name": "stderr",
     "output_type": "stream",
     "text": [
      "\r",
      "t:  41%|█████████████████████████████████████▍                                                     | 422/1026 [00:48<01:14,  8.06it/s, now=None]"
     ]
    },
    {
     "name": "stderr",
     "output_type": "stream",
     "text": [
      "\r",
      "t:  41%|█████████████████████████████████████▌                                                     | 423/1026 [00:48<01:12,  8.36it/s, now=None]"
     ]
    },
    {
     "name": "stderr",
     "output_type": "stream",
     "text": [
      "\r",
      "t:  41%|█████████████████████████████████████▋                                                     | 425/1026 [00:49<01:06,  9.01it/s, now=None]"
     ]
    },
    {
     "name": "stderr",
     "output_type": "stream",
     "text": [
      "\r",
      "t:  42%|█████████████████████████████████████▊                                                     | 426/1026 [00:49<01:05,  9.14it/s, now=None]"
     ]
    },
    {
     "name": "stderr",
     "output_type": "stream",
     "text": [
      "\r",
      "t:  42%|█████████████████████████████████████▉                                                     | 428/1026 [00:49<01:12,  8.24it/s, now=None]"
     ]
    },
    {
     "name": "stderr",
     "output_type": "stream",
     "text": [
      "\r",
      "t:  42%|██████████████████████████████████████                                                     | 429/1026 [00:49<01:10,  8.51it/s, now=None]"
     ]
    },
    {
     "name": "stderr",
     "output_type": "stream",
     "text": [
      "\r",
      "t:  42%|██████████████████████████████████████▏                                                    | 431/1026 [00:49<01:05,  9.10it/s, now=None]"
     ]
    },
    {
     "name": "stderr",
     "output_type": "stream",
     "text": [
      "\r",
      "t:  42%|██████████████████████████████████████▎                                                    | 432/1026 [00:49<01:04,  9.22it/s, now=None]"
     ]
    },
    {
     "name": "stderr",
     "output_type": "stream",
     "text": [
      "\r",
      "t:  42%|██████████████████████████████████████▍                                                    | 434/1026 [00:50<01:11,  8.29it/s, now=None]"
     ]
    },
    {
     "name": "stderr",
     "output_type": "stream",
     "text": [
      "\r",
      "t:  42%|██████████████████████████████████████▌                                                    | 435/1026 [00:50<01:09,  8.55it/s, now=None]"
     ]
    },
    {
     "name": "stderr",
     "output_type": "stream",
     "text": [
      "\r",
      "t:  42%|██████████████████████████████████████▋                                                    | 436/1026 [00:50<01:06,  8.82it/s, now=None]"
     ]
    },
    {
     "name": "stderr",
     "output_type": "stream",
     "text": [
      "\r",
      "t:  43%|██████████████████████████████████████▊                                                    | 437/1026 [00:50<01:05,  9.00it/s, now=None]"
     ]
    },
    {
     "name": "stderr",
     "output_type": "stream",
     "text": [
      "\r",
      "t:  43%|██████████████████████████████████████▊                                                    | 438/1026 [00:50<01:05,  9.00it/s, now=None]"
     ]
    },
    {
     "name": "stderr",
     "output_type": "stream",
     "text": [
      "\r",
      "t:  43%|██████████████████████████████████████▉                                                    | 439/1026 [00:50<01:03,  9.22it/s, now=None]"
     ]
    },
    {
     "name": "stderr",
     "output_type": "stream",
     "text": [
      "\r",
      "t:  43%|███████████████████████████████████████                                                    | 440/1026 [00:50<01:16,  7.62it/s, now=None]"
     ]
    },
    {
     "name": "stderr",
     "output_type": "stream",
     "text": [
      "\r",
      "t:  43%|███████████████████████████████████████                                                    | 441/1026 [00:50<01:12,  8.11it/s, now=None]"
     ]
    },
    {
     "name": "stderr",
     "output_type": "stream",
     "text": [
      "\r",
      "t:  43%|███████████████████████████████████████▏                                                   | 442/1026 [00:51<01:08,  8.56it/s, now=None]"
     ]
    },
    {
     "name": "stderr",
     "output_type": "stream",
     "text": [
      "\r",
      "t:  43%|███████████████████████████████████████▎                                                   | 443/1026 [00:51<01:06,  8.74it/s, now=None]"
     ]
    },
    {
     "name": "stderr",
     "output_type": "stream",
     "text": [
      "\r",
      "t:  43%|███████████████████████████████████████▍                                                   | 444/1026 [00:51<01:04,  8.99it/s, now=None]"
     ]
    },
    {
     "name": "stderr",
     "output_type": "stream",
     "text": [
      "\r",
      "t:  43%|███████████████████████████████████████▌                                                   | 446/1026 [00:51<01:11,  8.14it/s, now=None]"
     ]
    },
    {
     "name": "stderr",
     "output_type": "stream",
     "text": [
      "\r",
      "t:  44%|███████████████████████████████████████▋                                                   | 447/1026 [00:51<01:08,  8.47it/s, now=None]"
     ]
    },
    {
     "name": "stderr",
     "output_type": "stream",
     "text": [
      "\r",
      "t:  44%|███████████████████████████████████████▋                                                   | 448/1026 [00:51<01:07,  8.60it/s, now=None]"
     ]
    },
    {
     "name": "stderr",
     "output_type": "stream",
     "text": [
      "\r",
      "t:  44%|███████████████████████████████████████▊                                                   | 449/1026 [00:51<01:05,  8.82it/s, now=None]"
     ]
    },
    {
     "name": "stderr",
     "output_type": "stream",
     "text": [
      "\r",
      "t:  44%|███████████████████████████████████████▉                                                   | 450/1026 [00:51<01:04,  8.97it/s, now=None]"
     ]
    },
    {
     "name": "stderr",
     "output_type": "stream",
     "text": [
      "\r",
      "t:  44%|████████████████████████████████████████                                                   | 452/1026 [00:52<01:12,  7.93it/s, now=None]"
     ]
    },
    {
     "name": "stderr",
     "output_type": "stream",
     "text": [
      "\r",
      "t:  44%|████████████████████████████████████████▏                                                  | 453/1026 [00:52<01:09,  8.21it/s, now=None]"
     ]
    },
    {
     "name": "stderr",
     "output_type": "stream",
     "text": [
      "\r",
      "t:  44%|████████████████████████████████████████▎                                                  | 455/1026 [00:52<01:04,  8.79it/s, now=None]"
     ]
    },
    {
     "name": "stderr",
     "output_type": "stream",
     "text": [
      "\r",
      "t:  44%|████████████████████████████████████████▍                                                  | 456/1026 [00:52<01:04,  8.89it/s, now=None]"
     ]
    },
    {
     "name": "stderr",
     "output_type": "stream",
     "text": [
      "\r",
      "t:  45%|████████████████████████████████████████▌                                                  | 457/1026 [00:52<01:03,  8.99it/s, now=None]"
     ]
    },
    {
     "name": "stderr",
     "output_type": "stream",
     "text": [
      "\r",
      "t:  45%|████████████████████████████████████████▌                                                  | 458/1026 [00:52<01:14,  7.58it/s, now=None]"
     ]
    },
    {
     "name": "stderr",
     "output_type": "stream",
     "text": [
      "\r",
      "t:  45%|████████████████████████████████████████▋                                                  | 459/1026 [00:53<01:10,  8.06it/s, now=None]"
     ]
    },
    {
     "name": "stderr",
     "output_type": "stream",
     "text": [
      "\r",
      "t:  45%|████████████████████████████████████████▉                                                  | 461/1026 [00:53<01:04,  8.76it/s, now=None]"
     ]
    },
    {
     "name": "stderr",
     "output_type": "stream",
     "text": [
      "\r",
      "t:  45%|████████████████████████████████████████▉                                                  | 462/1026 [00:53<01:02,  8.98it/s, now=None]"
     ]
    },
    {
     "name": "stderr",
     "output_type": "stream",
     "text": [
      "\r",
      "t:  45%|█████████████████████████████████████████                                                  | 463/1026 [00:53<01:01,  9.18it/s, now=None]"
     ]
    },
    {
     "name": "stderr",
     "output_type": "stream",
     "text": [
      "\r",
      "t:  45%|█████████████████████████████████████████▏                                                 | 464/1026 [00:53<01:12,  7.78it/s, now=None]"
     ]
    },
    {
     "name": "stderr",
     "output_type": "stream",
     "text": [
      "\r",
      "t:  45%|█████████████████████████████████████████▏                                                 | 465/1026 [00:53<01:08,  8.22it/s, now=None]"
     ]
    },
    {
     "name": "stderr",
     "output_type": "stream",
     "text": [
      "\r",
      "t:  46%|█████████████████████████████████████████▍                                                 | 467/1026 [00:53<01:02,  9.01it/s, now=None]"
     ]
    },
    {
     "name": "stderr",
     "output_type": "stream",
     "text": [
      "\r",
      "t:  46%|█████████████████████████████████████████▌                                                 | 468/1026 [00:54<01:01,  9.14it/s, now=None]"
     ]
    },
    {
     "name": "stderr",
     "output_type": "stream",
     "text": [
      "\r",
      "t:  46%|█████████████████████████████████████████▋                                                 | 470/1026 [00:54<01:08,  8.08it/s, now=None]"
     ]
    },
    {
     "name": "stderr",
     "output_type": "stream",
     "text": [
      "\r",
      "t:  46%|█████████████████████████████████████████▊                                                 | 471/1026 [00:54<01:06,  8.38it/s, now=None]"
     ]
    },
    {
     "name": "stderr",
     "output_type": "stream",
     "text": [
      "\r",
      "t:  46%|█████████████████████████████████████████▉                                                 | 473/1026 [00:54<01:02,  8.91it/s, now=None]"
     ]
    },
    {
     "name": "stderr",
     "output_type": "stream",
     "text": [
      "\r",
      "t:  46%|██████████████████████████████████████████                                                 | 474/1026 [00:54<01:02,  8.84it/s, now=None]"
     ]
    },
    {
     "name": "stderr",
     "output_type": "stream",
     "text": [
      "\r",
      "t:  46%|██████████████████████████████████████████▏                                                | 476/1026 [00:55<01:07,  8.09it/s, now=None]"
     ]
    },
    {
     "name": "stderr",
     "output_type": "stream",
     "text": [
      "\r",
      "t:  46%|██████████████████████████████████████████▎                                                | 477/1026 [00:55<01:06,  8.23it/s, now=None]"
     ]
    },
    {
     "name": "stderr",
     "output_type": "stream",
     "text": [
      "\r",
      "t:  47%|██████████████████████████████████████████▍                                                | 479/1026 [00:55<01:02,  8.76it/s, now=None]"
     ]
    },
    {
     "name": "stderr",
     "output_type": "stream",
     "text": [
      "\r",
      "t:  47%|██████████████████████████████████████████▌                                                | 480/1026 [00:55<01:01,  8.87it/s, now=None]"
     ]
    },
    {
     "name": "stderr",
     "output_type": "stream",
     "text": [
      "\r",
      "t:  47%|██████████████████████████████████████████▊                                                | 482/1026 [00:55<01:07,  8.01it/s, now=None]"
     ]
    },
    {
     "name": "stderr",
     "output_type": "stream",
     "text": [
      "\r",
      "t:  47%|██████████████████████████████████████████▊                                                | 483/1026 [00:55<01:05,  8.26it/s, now=None]"
     ]
    },
    {
     "name": "stderr",
     "output_type": "stream",
     "text": [
      "\r",
      "t:  47%|███████████████████████████████████████████                                                | 485/1026 [00:56<01:01,  8.82it/s, now=None]"
     ]
    },
    {
     "name": "stderr",
     "output_type": "stream",
     "text": [
      "\r",
      "t:  47%|███████████████████████████████████████████                                                | 486/1026 [00:56<01:00,  8.93it/s, now=None]"
     ]
    },
    {
     "name": "stderr",
     "output_type": "stream",
     "text": [
      "\r",
      "t:  48%|███████████████████████████████████████████▎                                               | 488/1026 [00:56<01:06,  8.09it/s, now=None]"
     ]
    },
    {
     "name": "stderr",
     "output_type": "stream",
     "text": [
      "\r",
      "t:  48%|███████████████████████████████████████████▎                                               | 489/1026 [00:56<01:03,  8.40it/s, now=None]"
     ]
    },
    {
     "name": "stderr",
     "output_type": "stream",
     "text": [
      "\r",
      "t:  48%|███████████████████████████████████████████▌                                               | 491/1026 [00:56<01:00,  8.91it/s, now=None]"
     ]
    },
    {
     "name": "stderr",
     "output_type": "stream",
     "text": [
      "\r",
      "t:  48%|███████████████████████████████████████████▋                                               | 492/1026 [00:56<00:59,  8.96it/s, now=None]"
     ]
    },
    {
     "name": "stderr",
     "output_type": "stream",
     "text": [
      "\r",
      "t:  48%|███████████████████████████████████████████▊                                               | 494/1026 [00:57<01:06,  8.02it/s, now=None]"
     ]
    },
    {
     "name": "stderr",
     "output_type": "stream",
     "text": [
      "\r",
      "t:  48%|███████████████████████████████████████████▉                                               | 495/1026 [00:57<01:04,  8.26it/s, now=None]"
     ]
    },
    {
     "name": "stderr",
     "output_type": "stream",
     "text": [
      "\r",
      "t:  48%|████████████████████████████████████████████                                               | 497/1026 [00:57<01:00,  8.70it/s, now=None]"
     ]
    },
    {
     "name": "stderr",
     "output_type": "stream",
     "text": [
      "\r",
      "t:  49%|████████████████████████████████████████████▏                                              | 498/1026 [00:57<00:59,  8.82it/s, now=None]"
     ]
    },
    {
     "name": "stderr",
     "output_type": "stream",
     "text": [
      "\r",
      "t:  49%|████████████████████████████████████████████▎                                              | 500/1026 [00:57<01:05,  8.05it/s, now=None]"
     ]
    },
    {
     "name": "stderr",
     "output_type": "stream",
     "text": [
      "\r",
      "t:  49%|████████████████████████████████████████████▍                                              | 501/1026 [00:57<01:03,  8.27it/s, now=None]"
     ]
    },
    {
     "name": "stderr",
     "output_type": "stream",
     "text": [
      "\r",
      "t:  49%|████████████████████████████████████████████▌                                              | 503/1026 [00:58<00:59,  8.78it/s, now=None]"
     ]
    },
    {
     "name": "stderr",
     "output_type": "stream",
     "text": [
      "\r",
      "t:  49%|████████████████████████████████████████████▋                                              | 504/1026 [00:58<00:58,  8.89it/s, now=None]"
     ]
    },
    {
     "name": "stderr",
     "output_type": "stream",
     "text": [
      "\r",
      "t:  49%|████████████████████████████████████████████▉                                              | 506/1026 [00:58<01:04,  8.10it/s, now=None]"
     ]
    },
    {
     "name": "stderr",
     "output_type": "stream",
     "text": [
      "\r",
      "t:  49%|████████████████████████████████████████████▉                                              | 507/1026 [00:58<01:02,  8.28it/s, now=None]"
     ]
    },
    {
     "name": "stderr",
     "output_type": "stream",
     "text": [
      "\r",
      "t:  50%|█████████████████████████████████████████████▏                                             | 509/1026 [00:58<00:58,  8.81it/s, now=None]"
     ]
    },
    {
     "name": "stderr",
     "output_type": "stream",
     "text": [
      "\r",
      "t:  50%|█████████████████████████████████████████████▏                                             | 510/1026 [00:58<00:58,  8.84it/s, now=None]"
     ]
    },
    {
     "name": "stderr",
     "output_type": "stream",
     "text": [
      "\r",
      "t:  50%|█████████████████████████████████████████████▍                                             | 512/1026 [00:59<01:03,  8.11it/s, now=None]"
     ]
    },
    {
     "name": "stderr",
     "output_type": "stream",
     "text": [
      "\r",
      "t:  50%|█████████████████████████████████████████████▌                                             | 513/1026 [00:59<01:01,  8.39it/s, now=None]"
     ]
    },
    {
     "name": "stderr",
     "output_type": "stream",
     "text": [
      "\r",
      "t:  50%|█████████████████████████████████████████████▋                                             | 515/1026 [00:59<00:57,  8.91it/s, now=None]"
     ]
    },
    {
     "name": "stderr",
     "output_type": "stream",
     "text": [
      "\r",
      "t:  50%|█████████████████████████████████████████████▊                                             | 516/1026 [00:59<00:56,  9.05it/s, now=None]"
     ]
    },
    {
     "name": "stderr",
     "output_type": "stream",
     "text": [
      "\r",
      "t:  50%|█████████████████████████████████████████████▉                                             | 518/1026 [00:59<01:01,  8.20it/s, now=None]"
     ]
    },
    {
     "name": "stderr",
     "output_type": "stream",
     "text": [
      "\r",
      "t:  51%|██████████████████████████████████████████████                                             | 519/1026 [01:00<00:59,  8.48it/s, now=None]"
     ]
    },
    {
     "name": "stderr",
     "output_type": "stream",
     "text": [
      "\r",
      "t:  51%|██████████████████████████████████████████████▏                                            | 521/1026 [01:00<00:56,  8.98it/s, now=None]"
     ]
    },
    {
     "name": "stderr",
     "output_type": "stream",
     "text": [
      "\r",
      "t:  51%|██████████████████████████████████████████████▎                                            | 522/1026 [01:00<00:55,  9.14it/s, now=None]"
     ]
    },
    {
     "name": "stderr",
     "output_type": "stream",
     "text": [
      "\r",
      "t:  51%|██████████████████████████████████████████████▍                                            | 524/1026 [01:00<01:00,  8.25it/s, now=None]"
     ]
    },
    {
     "name": "stderr",
     "output_type": "stream",
     "text": [
      "\r",
      "t:  51%|██████████████████████████████████████████████▌                                            | 525/1026 [01:00<00:59,  8.45it/s, now=None]"
     ]
    },
    {
     "name": "stderr",
     "output_type": "stream",
     "text": [
      "\r",
      "t:  51%|██████████████████████████████████████████████▋                                            | 526/1026 [01:00<00:57,  8.69it/s, now=None]"
     ]
    },
    {
     "name": "stderr",
     "output_type": "stream",
     "text": [
      "\r",
      "t:  51%|██████████████████████████████████████████████▋                                            | 527/1026 [01:00<00:56,  8.84it/s, now=None]"
     ]
    },
    {
     "name": "stderr",
     "output_type": "stream",
     "text": [
      "\r",
      "t:  51%|██████████████████████████████████████████████▊                                            | 528/1026 [01:01<00:55,  8.95it/s, now=None]"
     ]
    },
    {
     "name": "stderr",
     "output_type": "stream",
     "text": [
      "\r",
      "t:  52%|███████████████████████████████████████████████                                            | 530/1026 [01:01<01:02,  7.89it/s, now=None]"
     ]
    },
    {
     "name": "stderr",
     "output_type": "stream",
     "text": [
      "\r",
      "t:  52%|███████████████████████████████████████████████                                            | 531/1026 [01:01<01:00,  8.18it/s, now=None]"
     ]
    },
    {
     "name": "stderr",
     "output_type": "stream",
     "text": [
      "\r",
      "t:  52%|███████████████████████████████████████████████▎                                           | 533/1026 [01:01<00:56,  8.77it/s, now=None]"
     ]
    },
    {
     "name": "stderr",
     "output_type": "stream",
     "text": [
      "\r",
      "t:  52%|███████████████████████████████████████████████▎                                           | 534/1026 [01:01<00:55,  8.86it/s, now=None]"
     ]
    },
    {
     "name": "stderr",
     "output_type": "stream",
     "text": [
      "\r",
      "t:  52%|███████████████████████████████████████████████▌                                           | 536/1026 [01:02<01:01,  7.95it/s, now=None]"
     ]
    },
    {
     "name": "stderr",
     "output_type": "stream",
     "text": [
      "\r",
      "t:  52%|███████████████████████████████████████████████▋                                           | 537/1026 [01:02<01:00,  8.10it/s, now=None]"
     ]
    },
    {
     "name": "stderr",
     "output_type": "stream",
     "text": [
      "\r",
      "t:  53%|███████████████████████████████████████████████▊                                           | 539/1026 [01:02<00:56,  8.65it/s, now=None]"
     ]
    },
    {
     "name": "stderr",
     "output_type": "stream",
     "text": [
      "\r",
      "t:  53%|███████████████████████████████████████████████▉                                           | 540/1026 [01:02<00:55,  8.77it/s, now=None]"
     ]
    },
    {
     "name": "stderr",
     "output_type": "stream",
     "text": [
      "\r",
      "t:  53%|████████████████████████████████████████████████                                           | 542/1026 [01:02<01:01,  7.93it/s, now=None]"
     ]
    },
    {
     "name": "stderr",
     "output_type": "stream",
     "text": [
      "\r",
      "t:  53%|████████████████████████████████████████████████▏                                          | 543/1026 [01:02<00:59,  8.17it/s, now=None]"
     ]
    },
    {
     "name": "stderr",
     "output_type": "stream",
     "text": [
      "\r",
      "t:  53%|████████████████████████████████████████████████▎                                          | 545/1026 [01:03<00:55,  8.71it/s, now=None]"
     ]
    },
    {
     "name": "stderr",
     "output_type": "stream",
     "text": [
      "\r",
      "t:  53%|████████████████████████████████████████████████▍                                          | 546/1026 [01:03<00:54,  8.83it/s, now=None]"
     ]
    },
    {
     "name": "stderr",
     "output_type": "stream",
     "text": [
      "\r",
      "t:  53%|████████████████████████████████████████████████▌                                          | 547/1026 [01:03<00:53,  8.98it/s, now=None]"
     ]
    },
    {
     "name": "stderr",
     "output_type": "stream",
     "text": [
      "\r",
      "t:  53%|████████████████████████████████████████████████▌                                          | 548/1026 [01:03<01:03,  7.57it/s, now=None]"
     ]
    },
    {
     "name": "stderr",
     "output_type": "stream",
     "text": [
      "\r",
      "t:  54%|████████████████████████████████████████████████▋                                          | 549/1026 [01:03<01:00,  7.95it/s, now=None]"
     ]
    },
    {
     "name": "stderr",
     "output_type": "stream",
     "text": [
      "\r",
      "t:  54%|████████████████████████████████████████████████▊                                          | 551/1026 [01:03<00:54,  8.67it/s, now=None]"
     ]
    },
    {
     "name": "stderr",
     "output_type": "stream",
     "text": [
      "\r",
      "t:  54%|████████████████████████████████████████████████▉                                          | 552/1026 [01:03<00:53,  8.87it/s, now=None]"
     ]
    },
    {
     "name": "stderr",
     "output_type": "stream",
     "text": [
      "\r",
      "t:  54%|█████████████████████████████████████████████████▏                                         | 554/1026 [01:04<00:58,  8.11it/s, now=None]"
     ]
    },
    {
     "name": "stderr",
     "output_type": "stream",
     "text": [
      "\r",
      "t:  54%|█████████████████████████████████████████████████▏                                         | 555/1026 [01:04<00:55,  8.42it/s, now=None]"
     ]
    },
    {
     "name": "stderr",
     "output_type": "stream",
     "text": [
      "\r",
      "t:  54%|█████████████████████████████████████████████████▍                                         | 557/1026 [01:04<00:52,  8.94it/s, now=None]"
     ]
    },
    {
     "name": "stderr",
     "output_type": "stream",
     "text": [
      "\r",
      "t:  54%|█████████████████████████████████████████████████▍                                         | 558/1026 [01:04<00:52,  9.00it/s, now=None]"
     ]
    },
    {
     "name": "stderr",
     "output_type": "stream",
     "text": [
      "\r",
      "t:  55%|█████████████████████████████████████████████████▋                                         | 560/1026 [01:04<00:57,  8.17it/s, now=None]"
     ]
    },
    {
     "name": "stderr",
     "output_type": "stream",
     "text": [
      "\r",
      "t:  55%|█████████████████████████████████████████████████▊                                         | 561/1026 [01:05<00:55,  8.44it/s, now=None]"
     ]
    },
    {
     "name": "stderr",
     "output_type": "stream",
     "text": [
      "\r",
      "t:  55%|█████████████████████████████████████████████████▉                                         | 563/1026 [01:05<00:52,  8.81it/s, now=None]"
     ]
    },
    {
     "name": "stderr",
     "output_type": "stream",
     "text": [
      "\r",
      "t:  55%|██████████████████████████████████████████████████                                         | 564/1026 [01:05<00:51,  8.98it/s, now=None]"
     ]
    },
    {
     "name": "stderr",
     "output_type": "stream",
     "text": [
      "\r",
      "t:  55%|██████████████████████████████████████████████████▏                                        | 566/1026 [01:05<00:55,  8.25it/s, now=None]"
     ]
    },
    {
     "name": "stderr",
     "output_type": "stream",
     "text": [
      "\r",
      "t:  55%|██████████████████████████████████████████████████▎                                        | 567/1026 [01:05<00:53,  8.52it/s, now=None]"
     ]
    },
    {
     "name": "stderr",
     "output_type": "stream",
     "text": [
      "\r",
      "t:  55%|██████████████████████████████████████████████████▍                                        | 569/1026 [01:05<00:50,  9.12it/s, now=None]"
     ]
    },
    {
     "name": "stderr",
     "output_type": "stream",
     "text": [
      "\r",
      "t:  56%|██████████████████████████████████████████████████▌                                        | 570/1026 [01:06<00:50,  9.11it/s, now=None]"
     ]
    },
    {
     "name": "stderr",
     "output_type": "stream",
     "text": [
      "\r",
      "t:  56%|██████████████████████████████████████████████████▋                                        | 572/1026 [01:06<00:55,  8.21it/s, now=None]"
     ]
    },
    {
     "name": "stderr",
     "output_type": "stream",
     "text": [
      "\r",
      "t:  56%|██████████████████████████████████████████████████▊                                        | 573/1026 [01:06<00:53,  8.49it/s, now=None]"
     ]
    },
    {
     "name": "stderr",
     "output_type": "stream",
     "text": [
      "\r",
      "t:  56%|██████████████████████████████████████████████████▉                                        | 575/1026 [01:06<00:51,  8.74it/s, now=None]"
     ]
    },
    {
     "name": "stderr",
     "output_type": "stream",
     "text": [
      "\r",
      "t:  56%|███████████████████████████████████████████████████                                        | 576/1026 [01:06<00:51,  8.80it/s, now=None]"
     ]
    },
    {
     "name": "stderr",
     "output_type": "stream",
     "text": [
      "\r",
      "t:  56%|███████████████████████████████████████████████████▎                                       | 578/1026 [01:07<00:55,  8.04it/s, now=None]"
     ]
    },
    {
     "name": "stderr",
     "output_type": "stream",
     "text": [
      "\r",
      "t:  56%|███████████████████████████████████████████████████▎                                       | 579/1026 [01:07<00:53,  8.34it/s, now=None]"
     ]
    },
    {
     "name": "stderr",
     "output_type": "stream",
     "text": [
      "\r",
      "t:  57%|███████████████████████████████████████████████████▌                                       | 581/1026 [01:07<00:49,  9.00it/s, now=None]"
     ]
    },
    {
     "name": "stderr",
     "output_type": "stream",
     "text": [
      "\r",
      "t:  57%|███████████████████████████████████████████████████▌                                       | 582/1026 [01:07<00:48,  9.14it/s, now=None]"
     ]
    },
    {
     "name": "stderr",
     "output_type": "stream",
     "text": [
      "\r",
      "t:  57%|███████████████████████████████████████████████████▊                                       | 584/1026 [01:07<00:53,  8.20it/s, now=None]"
     ]
    },
    {
     "name": "stderr",
     "output_type": "stream",
     "text": [
      "\r",
      "t:  57%|███████████████████████████████████████████████████▉                                       | 585/1026 [01:07<00:52,  8.48it/s, now=None]"
     ]
    },
    {
     "name": "stderr",
     "output_type": "stream",
     "text": [
      "\r",
      "t:  57%|████████████████████████████████████████████████████                                       | 587/1026 [01:07<00:48,  9.04it/s, now=None]"
     ]
    },
    {
     "name": "stderr",
     "output_type": "stream",
     "text": [
      "\r",
      "t:  57%|████████████████████████████████████████████████████▏                                      | 588/1026 [01:08<00:47,  9.17it/s, now=None]"
     ]
    },
    {
     "name": "stderr",
     "output_type": "stream",
     "text": [
      "\r",
      "t:  58%|████████████████████████████████████████████████████▎                                      | 590/1026 [01:08<00:53,  8.17it/s, now=None]"
     ]
    },
    {
     "name": "stderr",
     "output_type": "stream",
     "text": [
      "\r",
      "t:  58%|████████████████████████████████████████████████████▍                                      | 591/1026 [01:08<00:51,  8.47it/s, now=None]"
     ]
    },
    {
     "name": "stderr",
     "output_type": "stream",
     "text": [
      "\r",
      "t:  58%|████████████████████████████████████████████████████▌                                      | 593/1026 [01:08<00:48,  8.96it/s, now=None]"
     ]
    },
    {
     "name": "stderr",
     "output_type": "stream",
     "text": [
      "\r",
      "t:  58%|████████████████████████████████████████████████████▋                                      | 594/1026 [01:08<00:48,  8.89it/s, now=None]"
     ]
    },
    {
     "name": "stderr",
     "output_type": "stream",
     "text": [
      "\r",
      "t:  58%|████████████████████████████████████████████████████▊                                      | 595/1026 [01:08<00:47,  9.03it/s, now=None]"
     ]
    },
    {
     "name": "stderr",
     "output_type": "stream",
     "text": [
      "\r",
      "t:  58%|████████████████████████████████████████████████████▊                                      | 596/1026 [01:09<00:55,  7.71it/s, now=None]"
     ]
    },
    {
     "name": "stderr",
     "output_type": "stream",
     "text": [
      "\r",
      "t:  58%|████████████████████████████████████████████████████▉                                      | 597/1026 [01:09<00:53,  8.00it/s, now=None]"
     ]
    },
    {
     "name": "stderr",
     "output_type": "stream",
     "text": [
      "\r",
      "t:  58%|█████████████████████████████████████████████████████                                      | 598/1026 [01:09<00:51,  8.36it/s, now=None]"
     ]
    },
    {
     "name": "stderr",
     "output_type": "stream",
     "text": [
      "\r",
      "t:  58%|█████████████████████████████████████████████████████▏                                     | 599/1026 [01:09<00:49,  8.58it/s, now=None]"
     ]
    },
    {
     "name": "stderr",
     "output_type": "stream",
     "text": [
      "\r",
      "t:  58%|█████████████████████████████████████████████████████▏                                     | 600/1026 [01:09<00:48,  8.76it/s, now=None]"
     ]
    },
    {
     "name": "stderr",
     "output_type": "stream",
     "text": [
      "\r",
      "t:  59%|█████████████████████████████████████████████████████▍                                     | 602/1026 [01:09<00:54,  7.76it/s, now=None]"
     ]
    },
    {
     "name": "stderr",
     "output_type": "stream",
     "text": [
      "\r",
      "t:  59%|█████████████████████████████████████████████████████▍                                     | 603/1026 [01:09<00:52,  8.06it/s, now=None]"
     ]
    },
    {
     "name": "stderr",
     "output_type": "stream",
     "text": [
      "\r",
      "t:  59%|█████████████████████████████████████████████████████▌                                     | 604/1026 [01:10<00:50,  8.38it/s, now=None]"
     ]
    },
    {
     "name": "stderr",
     "output_type": "stream",
     "text": [
      "\r",
      "t:  59%|█████████████████████████████████████████████████████▋                                     | 605/1026 [01:10<00:48,  8.63it/s, now=None]"
     ]
    },
    {
     "name": "stderr",
     "output_type": "stream",
     "text": [
      "\r",
      "t:  59%|█████████████████████████████████████████████████████▋                                     | 606/1026 [01:10<00:47,  8.79it/s, now=None]"
     ]
    },
    {
     "name": "stderr",
     "output_type": "stream",
     "text": [
      "\r",
      "t:  59%|█████████████████████████████████████████████████████▉                                     | 608/1026 [01:10<00:53,  7.79it/s, now=None]"
     ]
    },
    {
     "name": "stderr",
     "output_type": "stream",
     "text": [
      "\r",
      "t:  59%|██████████████████████████████████████████████████████                                     | 609/1026 [01:10<00:51,  8.17it/s, now=None]"
     ]
    },
    {
     "name": "stderr",
     "output_type": "stream",
     "text": [
      "\r",
      "t:  60%|██████████████████████████████████████████████████████▏                                    | 611/1026 [01:10<00:47,  8.82it/s, now=None]"
     ]
    },
    {
     "name": "stderr",
     "output_type": "stream",
     "text": [
      "\r",
      "t:  60%|██████████████████████████████████████████████████████▎                                    | 612/1026 [01:10<00:45,  9.04it/s, now=None]"
     ]
    },
    {
     "name": "stderr",
     "output_type": "stream",
     "text": [
      "\r",
      "t:  60%|██████████████████████████████████████████████████████▍                                    | 614/1026 [01:11<00:50,  8.16it/s, now=None]"
     ]
    },
    {
     "name": "stderr",
     "output_type": "stream",
     "text": [
      "\r",
      "t:  60%|██████████████████████████████████████████████████████▌                                    | 615/1026 [01:11<00:48,  8.46it/s, now=None]"
     ]
    },
    {
     "name": "stderr",
     "output_type": "stream",
     "text": [
      "\r",
      "t:  60%|██████████████████████████████████████████████████████▋                                    | 617/1026 [01:11<00:44,  9.10it/s, now=None]"
     ]
    },
    {
     "name": "stderr",
     "output_type": "stream",
     "text": [
      "\r",
      "t:  60%|██████████████████████████████████████████████████████▊                                    | 618/1026 [01:11<00:44,  9.24it/s, now=None]"
     ]
    },
    {
     "name": "stderr",
     "output_type": "stream",
     "text": [
      "\r",
      "t:  60%|██████████████████████████████████████████████████████▉                                    | 620/1026 [01:11<00:48,  8.32it/s, now=None]"
     ]
    },
    {
     "name": "stderr",
     "output_type": "stream",
     "text": [
      "\r",
      "t:  61%|███████████████████████████████████████████████████████                                    | 621/1026 [01:12<00:47,  8.58it/s, now=None]"
     ]
    },
    {
     "name": "stderr",
     "output_type": "stream",
     "text": [
      "\r",
      "t:  61%|███████████████████████████████████████████████████████▎                                   | 623/1026 [01:12<00:44,  9.12it/s, now=None]"
     ]
    },
    {
     "name": "stderr",
     "output_type": "stream",
     "text": [
      "\r",
      "t:  61%|███████████████████████████████████████████████████████▎                                   | 624/1026 [01:12<00:43,  9.22it/s, now=None]"
     ]
    },
    {
     "name": "stderr",
     "output_type": "stream",
     "text": [
      "\r",
      "t:  61%|███████████████████████████████████████████████████████▌                                   | 626/1026 [01:12<00:48,  8.21it/s, now=None]"
     ]
    },
    {
     "name": "stderr",
     "output_type": "stream",
     "text": [
      "\r",
      "t:  61%|███████████████████████████████████████████████████████▌                                   | 627/1026 [01:12<00:47,  8.43it/s, now=None]"
     ]
    },
    {
     "name": "stderr",
     "output_type": "stream",
     "text": [
      "\r",
      "t:  61%|███████████████████████████████████████████████████████▊                                   | 629/1026 [01:12<00:44,  9.01it/s, now=None]"
     ]
    },
    {
     "name": "stderr",
     "output_type": "stream",
     "text": [
      "\r",
      "t:  61%|███████████████████████████████████████████████████████▉                                   | 630/1026 [01:13<00:43,  9.09it/s, now=None]"
     ]
    },
    {
     "name": "stderr",
     "output_type": "stream",
     "text": [
      "\r",
      "t:  62%|███████████████████████████████████████████████████████▉                                   | 631/1026 [01:13<00:43,  9.17it/s, now=None]"
     ]
    },
    {
     "name": "stderr",
     "output_type": "stream",
     "text": [
      "\r",
      "t:  62%|████████████████████████████████████████████████████████                                   | 632/1026 [01:13<00:51,  7.65it/s, now=None]"
     ]
    },
    {
     "name": "stderr",
     "output_type": "stream",
     "text": [
      "\r",
      "t:  62%|████████████████████████████████████████████████████████▏                                  | 633/1026 [01:13<00:48,  8.07it/s, now=None]"
     ]
    },
    {
     "name": "stderr",
     "output_type": "stream",
     "text": [
      "\r",
      "t:  62%|████████████████████████████████████████████████████████▎                                  | 635/1026 [01:13<00:44,  8.83it/s, now=None]"
     ]
    },
    {
     "name": "stderr",
     "output_type": "stream",
     "text": [
      "\r",
      "t:  62%|████████████████████████████████████████████████████████▍                                  | 636/1026 [01:13<00:43,  8.97it/s, now=None]"
     ]
    },
    {
     "name": "stderr",
     "output_type": "stream",
     "text": [
      "\r",
      "t:  62%|████████████████████████████████████████████████████████▌                                  | 638/1026 [01:14<00:48,  8.03it/s, now=None]"
     ]
    },
    {
     "name": "stderr",
     "output_type": "stream",
     "text": [
      "\r",
      "t:  62%|████████████████████████████████████████████████████████▋                                  | 639/1026 [01:14<00:46,  8.31it/s, now=None]"
     ]
    },
    {
     "name": "stderr",
     "output_type": "stream",
     "text": [
      "\r",
      "t:  62%|████████████████████████████████████████████████████████▊                                  | 641/1026 [01:14<00:43,  8.82it/s, now=None]"
     ]
    },
    {
     "name": "stderr",
     "output_type": "stream",
     "text": [
      "\r",
      "t:  63%|████████████████████████████████████████████████████████▉                                  | 642/1026 [01:14<00:42,  8.94it/s, now=None]"
     ]
    },
    {
     "name": "stderr",
     "output_type": "stream",
     "text": [
      "\r",
      "t:  63%|█████████████████████████████████████████████████████████                                  | 644/1026 [01:14<00:47,  8.07it/s, now=None]"
     ]
    },
    {
     "name": "stderr",
     "output_type": "stream",
     "text": [
      "\r",
      "t:  63%|█████████████████████████████████████████████████████████▏                                 | 645/1026 [01:14<00:45,  8.34it/s, now=None]"
     ]
    },
    {
     "name": "stderr",
     "output_type": "stream",
     "text": [
      "\r",
      "t:  63%|█████████████████████████████████████████████████████████▍                                 | 647/1026 [01:15<00:42,  8.84it/s, now=None]"
     ]
    },
    {
     "name": "stderr",
     "output_type": "stream",
     "text": [
      "\r",
      "t:  63%|█████████████████████████████████████████████████████████▍                                 | 648/1026 [01:15<00:42,  8.96it/s, now=None]"
     ]
    },
    {
     "name": "stderr",
     "output_type": "stream",
     "text": [
      "\r",
      "t:  63%|█████████████████████████████████████████████████████████▋                                 | 650/1026 [01:15<00:46,  8.10it/s, now=None]"
     ]
    },
    {
     "name": "stderr",
     "output_type": "stream",
     "text": [
      "\r",
      "t:  63%|█████████████████████████████████████████████████████████▋                                 | 651/1026 [01:15<00:44,  8.36it/s, now=None]"
     ]
    },
    {
     "name": "stderr",
     "output_type": "stream",
     "text": [
      "\r",
      "t:  64%|█████████████████████████████████████████████████████████▉                                 | 653/1026 [01:15<00:41,  8.96it/s, now=None]"
     ]
    },
    {
     "name": "stderr",
     "output_type": "stream",
     "text": [
      "\r",
      "t:  64%|██████████████████████████████████████████████████████████                                 | 654/1026 [01:15<00:41,  8.94it/s, now=None]"
     ]
    },
    {
     "name": "stderr",
     "output_type": "stream",
     "text": [
      "\r",
      "t:  64%|██████████████████████████████████████████████████████████▏                                | 656/1026 [01:16<00:45,  8.20it/s, now=None]"
     ]
    },
    {
     "name": "stderr",
     "output_type": "stream",
     "text": [
      "\r",
      "t:  64%|██████████████████████████████████████████████████████████▎                                | 657/1026 [01:16<00:43,  8.43it/s, now=None]"
     ]
    },
    {
     "name": "stderr",
     "output_type": "stream",
     "text": [
      "\r",
      "t:  64%|██████████████████████████████████████████████████████████▍                                | 659/1026 [01:16<00:40,  9.05it/s, now=None]"
     ]
    },
    {
     "name": "stderr",
     "output_type": "stream",
     "text": [
      "\r",
      "t:  64%|██████████████████████████████████████████████████████████▌                                | 660/1026 [01:16<00:39,  9.16it/s, now=None]"
     ]
    },
    {
     "name": "stderr",
     "output_type": "stream",
     "text": [
      "\r",
      "t:  65%|██████████████████████████████████████████████████████████▋                                | 662/1026 [01:16<00:44,  8.19it/s, now=None]"
     ]
    },
    {
     "name": "stderr",
     "output_type": "stream",
     "text": [
      "\r",
      "t:  65%|██████████████████████████████████████████████████████████▊                                | 663/1026 [01:16<00:42,  8.45it/s, now=None]"
     ]
    },
    {
     "name": "stderr",
     "output_type": "stream",
     "text": [
      "\r",
      "t:  65%|██████████████████████████████████████████████████████████▉                                | 665/1026 [01:17<00:40,  8.93it/s, now=None]"
     ]
    },
    {
     "name": "stderr",
     "output_type": "stream",
     "text": [
      "\r",
      "t:  65%|███████████████████████████████████████████████████████████                                | 666/1026 [01:17<00:39,  9.06it/s, now=None]"
     ]
    },
    {
     "name": "stderr",
     "output_type": "stream",
     "text": [
      "\r",
      "t:  65%|███████████████████████████████████████████████████████████▏                               | 668/1026 [01:17<00:44,  8.12it/s, now=None]"
     ]
    },
    {
     "name": "stderr",
     "output_type": "stream",
     "text": [
      "\r",
      "t:  65%|███████████████████████████████████████████████████████████▎                               | 669/1026 [01:17<00:42,  8.39it/s, now=None]"
     ]
    },
    {
     "name": "stderr",
     "output_type": "stream",
     "text": [
      "\r",
      "t:  65%|███████████████████████████████████████████████████████████▌                               | 671/1026 [01:17<00:39,  8.97it/s, now=None]"
     ]
    },
    {
     "name": "stderr",
     "output_type": "stream",
     "text": [
      "\r",
      "t:  65%|███████████████████████████████████████████████████████████▌                               | 672/1026 [01:17<00:38,  9.08it/s, now=None]"
     ]
    },
    {
     "name": "stderr",
     "output_type": "stream",
     "text": [
      "\r",
      "t:  66%|███████████████████████████████████████████████████████████▊                               | 674/1026 [01:18<00:42,  8.30it/s, now=None]"
     ]
    },
    {
     "name": "stderr",
     "output_type": "stream",
     "text": [
      "\r",
      "t:  66%|███████████████████████████████████████████████████████████▊                               | 675/1026 [01:18<00:41,  8.53it/s, now=None]"
     ]
    },
    {
     "name": "stderr",
     "output_type": "stream",
     "text": [
      "\r",
      "t:  66%|███████████████████████████████████████████████████████████▉                               | 676/1026 [01:18<00:39,  8.82it/s, now=None]"
     ]
    },
    {
     "name": "stderr",
     "output_type": "stream",
     "text": [
      "\r",
      "t:  66%|████████████████████████████████████████████████████████████                               | 677/1026 [01:18<00:39,  8.82it/s, now=None]"
     ]
    },
    {
     "name": "stderr",
     "output_type": "stream",
     "text": [
      "\r",
      "t:  66%|████████████████████████████████████████████████████████████▏                              | 678/1026 [01:18<00:39,  8.85it/s, now=None]"
     ]
    },
    {
     "name": "stderr",
     "output_type": "stream",
     "text": [
      "\r",
      "t:  66%|████████████████████████████████████████████████████████████▎                              | 680/1026 [01:18<00:43,  7.92it/s, now=None]"
     ]
    },
    {
     "name": "stderr",
     "output_type": "stream",
     "text": [
      "\r",
      "t:  66%|████████████████████████████████████████████████████████████▍                              | 681/1026 [01:19<00:41,  8.24it/s, now=None]"
     ]
    },
    {
     "name": "stderr",
     "output_type": "stream",
     "text": [
      "\r",
      "t:  67%|████████████████████████████████████████████████████████████▌                              | 683/1026 [01:19<00:38,  8.96it/s, now=None]"
     ]
    },
    {
     "name": "stderr",
     "output_type": "stream",
     "text": [
      "\r",
      "t:  67%|████████████████████████████████████████████████████████████▋                              | 684/1026 [01:19<00:37,  9.10it/s, now=None]"
     ]
    },
    {
     "name": "stderr",
     "output_type": "stream",
     "text": [
      "\r",
      "t:  67%|████████████████████████████████████████████████████████████▊                              | 686/1026 [01:19<00:41,  8.17it/s, now=None]"
     ]
    },
    {
     "name": "stderr",
     "output_type": "stream",
     "text": [
      "\r",
      "t:  67%|████████████████████████████████████████████████████████████▉                              | 687/1026 [01:19<00:41,  8.24it/s, now=None]"
     ]
    },
    {
     "name": "stderr",
     "output_type": "stream",
     "text": [
      "\r",
      "t:  67%|█████████████████████████████████████████████████████████████                              | 689/1026 [01:19<00:37,  8.93it/s, now=None]"
     ]
    },
    {
     "name": "stderr",
     "output_type": "stream",
     "text": [
      "\r",
      "t:  67%|█████████████████████████████████████████████████████████████▏                             | 690/1026 [01:20<00:36,  9.09it/s, now=None]"
     ]
    },
    {
     "name": "stderr",
     "output_type": "stream",
     "text": [
      "\r",
      "t:  67%|█████████████████████████████████████████████████████████████▍                             | 692/1026 [01:20<00:39,  8.36it/s, now=None]"
     ]
    },
    {
     "name": "stderr",
     "output_type": "stream",
     "text": [
      "\r",
      "t:  68%|█████████████████████████████████████████████████████████████▍                             | 693/1026 [01:20<00:38,  8.64it/s, now=None]"
     ]
    },
    {
     "name": "stderr",
     "output_type": "stream",
     "text": [
      "\r",
      "t:  68%|█████████████████████████████████████████████████████████████▋                             | 695/1026 [01:20<00:35,  9.25it/s, now=None]"
     ]
    },
    {
     "name": "stderr",
     "output_type": "stream",
     "text": [
      "\r",
      "t:  68%|█████████████████████████████████████████████████████████████▋                             | 696/1026 [01:20<00:35,  9.37it/s, now=None]"
     ]
    },
    {
     "name": "stderr",
     "output_type": "stream",
     "text": [
      "\r",
      "t:  68%|█████████████████████████████████████████████████████████████▉                             | 698/1026 [01:20<00:38,  8.54it/s, now=None]"
     ]
    },
    {
     "name": "stderr",
     "output_type": "stream",
     "text": [
      "\r",
      "t:  68%|█████████████████████████████████████████████████████████████▉                             | 699/1026 [01:21<00:37,  8.78it/s, now=None]"
     ]
    },
    {
     "name": "stderr",
     "output_type": "stream",
     "text": [
      "\r",
      "t:  68%|██████████████████████████████████████████████████████████████▏                            | 701/1026 [01:21<00:35,  9.20it/s, now=None]"
     ]
    },
    {
     "name": "stderr",
     "output_type": "stream",
     "text": [
      "\r",
      "t:  68%|██████████████████████████████████████████████████████████████▎                            | 702/1026 [01:21<00:34,  9.34it/s, now=None]"
     ]
    },
    {
     "name": "stderr",
     "output_type": "stream",
     "text": [
      "\r",
      "t:  69%|██████████████████████████████████████████████████████████████▍                            | 704/1026 [01:21<00:38,  8.41it/s, now=None]"
     ]
    },
    {
     "name": "stderr",
     "output_type": "stream",
     "text": [
      "\r",
      "t:  69%|██████████████████████████████████████████████████████████████▌                            | 705/1026 [01:21<00:36,  8.68it/s, now=None]"
     ]
    },
    {
     "name": "stderr",
     "output_type": "stream",
     "text": [
      "\r",
      "t:  69%|██████████████████████████████████████████████████████████████▋                            | 707/1026 [01:21<00:34,  9.30it/s, now=None]"
     ]
    },
    {
     "name": "stderr",
     "output_type": "stream",
     "text": [
      "\r",
      "t:  69%|██████████████████████████████████████████████████████████████▊                            | 708/1026 [01:22<00:33,  9.41it/s, now=None]"
     ]
    },
    {
     "name": "stderr",
     "output_type": "stream",
     "text": [
      "\r",
      "t:  69%|██████████████████████████████████████████████████████████████▉                            | 710/1026 [01:22<00:37,  8.52it/s, now=None]"
     ]
    },
    {
     "name": "stderr",
     "output_type": "stream",
     "text": [
      "\r",
      "t:  69%|███████████████████████████████████████████████████████████████                            | 711/1026 [01:22<00:35,  8.78it/s, now=None]"
     ]
    },
    {
     "name": "stderr",
     "output_type": "stream",
     "text": [
      "\r",
      "t:  69%|███████████████████████████████████████████████████████████████▏                           | 713/1026 [01:22<00:33,  9.37it/s, now=None]"
     ]
    },
    {
     "name": "stderr",
     "output_type": "stream",
     "text": [
      "\r",
      "t:  70%|███████████████████████████████████████████████████████████████▎                           | 714/1026 [01:22<00:32,  9.46it/s, now=None]"
     ]
    },
    {
     "name": "stderr",
     "output_type": "stream",
     "text": [
      "\r",
      "t:  70%|███████████████████████████████████████████████████████████████▌                           | 716/1026 [01:22<00:36,  8.56it/s, now=None]"
     ]
    },
    {
     "name": "stderr",
     "output_type": "stream",
     "text": [
      "\r",
      "t:  70%|███████████████████████████████████████████████████████████████▌                           | 717/1026 [01:23<00:35,  8.80it/s, now=None]"
     ]
    },
    {
     "name": "stderr",
     "output_type": "stream",
     "text": [
      "\r",
      "t:  70%|███████████████████████████████████████████████████████████████▊                           | 719/1026 [01:23<00:32,  9.39it/s, now=None]"
     ]
    },
    {
     "name": "stderr",
     "output_type": "stream",
     "text": [
      "\r",
      "t:  70%|███████████████████████████████████████████████████████████████▊                           | 720/1026 [01:23<00:32,  9.46it/s, now=None]"
     ]
    },
    {
     "name": "stderr",
     "output_type": "stream",
     "text": [
      "\r",
      "t:  70%|████████████████████████████████████████████████████████████████                           | 722/1026 [01:23<00:36,  8.44it/s, now=None]"
     ]
    },
    {
     "name": "stderr",
     "output_type": "stream",
     "text": [
      "\r",
      "t:  70%|████████████████████████████████████████████████████████████████▏                          | 723/1026 [01:23<00:34,  8.70it/s, now=None]"
     ]
    },
    {
     "name": "stderr",
     "output_type": "stream",
     "text": [
      "\r",
      "t:  71%|████████████████████████████████████████████████████████████████▎                          | 725/1026 [01:23<00:32,  9.33it/s, now=None]"
     ]
    },
    {
     "name": "stderr",
     "output_type": "stream",
     "text": [
      "\r",
      "t:  71%|████████████████████████████████████████████████████████████████▍                          | 726/1026 [01:24<00:32,  9.19it/s, now=None]"
     ]
    },
    {
     "name": "stderr",
     "output_type": "stream",
     "text": [
      "\r",
      "t:  71%|████████████████████████████████████████████████████████████████▌                          | 728/1026 [01:24<00:35,  8.34it/s, now=None]"
     ]
    },
    {
     "name": "stderr",
     "output_type": "stream",
     "text": [
      "\r",
      "t:  71%|████████████████████████████████████████████████████████████████▋                          | 729/1026 [01:24<00:34,  8.62it/s, now=None]"
     ]
    },
    {
     "name": "stderr",
     "output_type": "stream",
     "text": [
      "\r",
      "t:  71%|████████████████████████████████████████████████████████████████▊                          | 731/1026 [01:24<00:32,  9.09it/s, now=None]"
     ]
    },
    {
     "name": "stderr",
     "output_type": "stream",
     "text": [
      "\r",
      "t:  71%|████████████████████████████████████████████████████████████████▉                          | 732/1026 [01:24<00:31,  9.24it/s, now=None]"
     ]
    },
    {
     "name": "stderr",
     "output_type": "stream",
     "text": [
      "\r",
      "t:  72%|█████████████████████████████████████████████████████████████████                          | 734/1026 [01:24<00:34,  8.41it/s, now=None]"
     ]
    },
    {
     "name": "stderr",
     "output_type": "stream",
     "text": [
      "\r",
      "t:  72%|█████████████████████████████████████████████████████████████████▏                         | 735/1026 [01:25<00:33,  8.67it/s, now=None]"
     ]
    },
    {
     "name": "stderr",
     "output_type": "stream",
     "text": [
      "\r",
      "t:  72%|█████████████████████████████████████████████████████████████████▎                         | 737/1026 [01:25<00:31,  9.29it/s, now=None]"
     ]
    },
    {
     "name": "stderr",
     "output_type": "stream",
     "text": [
      "\r",
      "t:  72%|█████████████████████████████████████████████████████████████████▍                         | 738/1026 [01:25<00:30,  9.40it/s, now=None]"
     ]
    },
    {
     "name": "stderr",
     "output_type": "stream",
     "text": [
      "\r",
      "t:  72%|█████████████████████████████████████████████████████████████████▋                         | 740/1026 [01:25<00:33,  8.42it/s, now=None]"
     ]
    },
    {
     "name": "stderr",
     "output_type": "stream",
     "text": [
      "\r",
      "t:  72%|█████████████████████████████████████████████████████████████████▋                         | 741/1026 [01:25<00:32,  8.69it/s, now=None]"
     ]
    },
    {
     "name": "stderr",
     "output_type": "stream",
     "text": [
      "\r",
      "t:  72%|█████████████████████████████████████████████████████████████████▉                         | 743/1026 [01:25<00:30,  9.30it/s, now=None]"
     ]
    },
    {
     "name": "stderr",
     "output_type": "stream",
     "text": [
      "\r",
      "t:  73%|█████████████████████████████████████████████████████████████████▉                         | 744/1026 [01:26<00:30,  9.40it/s, now=None]"
     ]
    },
    {
     "name": "stderr",
     "output_type": "stream",
     "text": [
      "\r",
      "t:  73%|██████████████████████████████████████████████████████████████████▏                        | 746/1026 [01:26<00:33,  8.40it/s, now=None]"
     ]
    },
    {
     "name": "stderr",
     "output_type": "stream",
     "text": [
      "\r",
      "t:  73%|██████████████████████████████████████████████████████████████████▎                        | 747/1026 [01:26<00:32,  8.67it/s, now=None]"
     ]
    },
    {
     "name": "stderr",
     "output_type": "stream",
     "text": [
      "\r",
      "t:  73%|██████████████████████████████████████████████████████████████████▍                        | 749/1026 [01:26<00:29,  9.27it/s, now=None]"
     ]
    },
    {
     "name": "stderr",
     "output_type": "stream",
     "text": [
      "\r",
      "t:  73%|██████████████████████████████████████████████████████████████████▌                        | 750/1026 [01:26<00:29,  9.39it/s, now=None]"
     ]
    },
    {
     "name": "stderr",
     "output_type": "stream",
     "text": [
      "\r",
      "t:  73%|██████████████████████████████████████████████████████████████████▋                        | 752/1026 [01:26<00:32,  8.50it/s, now=None]"
     ]
    },
    {
     "name": "stderr",
     "output_type": "stream",
     "text": [
      "\r",
      "t:  73%|██████████████████████████████████████████████████████████████████▊                        | 753/1026 [01:27<00:31,  8.73it/s, now=None]"
     ]
    },
    {
     "name": "stderr",
     "output_type": "stream",
     "text": [
      "\r",
      "t:  74%|██████████████████████████████████████████████████████████████████▉                        | 755/1026 [01:27<00:29,  9.23it/s, now=None]"
     ]
    },
    {
     "name": "stderr",
     "output_type": "stream",
     "text": [
      "\r",
      "t:  74%|███████████████████████████████████████████████████████████████████                        | 756/1026 [01:27<00:29,  9.31it/s, now=None]"
     ]
    },
    {
     "name": "stderr",
     "output_type": "stream",
     "text": [
      "\r",
      "t:  74%|███████████████████████████████████████████████████████████████████▏                       | 758/1026 [01:27<00:32,  8.27it/s, now=None]"
     ]
    },
    {
     "name": "stderr",
     "output_type": "stream",
     "text": [
      "\r",
      "t:  74%|███████████████████████████████████████████████████████████████████▎                       | 759/1026 [01:27<00:31,  8.52it/s, now=None]"
     ]
    },
    {
     "name": "stderr",
     "output_type": "stream",
     "text": [
      "\r",
      "t:  74%|███████████████████████████████████████████████████████████████████▍                       | 761/1026 [01:27<00:29,  9.08it/s, now=None]"
     ]
    },
    {
     "name": "stderr",
     "output_type": "stream",
     "text": [
      "\r",
      "t:  74%|███████████████████████████████████████████████████████████████████▌                       | 762/1026 [01:28<00:28,  9.19it/s, now=None]"
     ]
    },
    {
     "name": "stderr",
     "output_type": "stream",
     "text": [
      "\r",
      "t:  74%|███████████████████████████████████████████████████████████████████▊                       | 764/1026 [01:28<00:31,  8.21it/s, now=None]"
     ]
    },
    {
     "name": "stderr",
     "output_type": "stream",
     "text": [
      "\r",
      "t:  75%|███████████████████████████████████████████████████████████████████▊                       | 765/1026 [01:28<00:30,  8.45it/s, now=None]"
     ]
    },
    {
     "name": "stderr",
     "output_type": "stream",
     "text": [
      "\r",
      "t:  75%|████████████████████████████████████████████████████████████████████                       | 767/1026 [01:28<00:28,  9.00it/s, now=None]"
     ]
    },
    {
     "name": "stderr",
     "output_type": "stream",
     "text": [
      "\r",
      "t:  75%|████████████████████████████████████████████████████████████████████                       | 768/1026 [01:28<00:28,  9.13it/s, now=None]"
     ]
    },
    {
     "name": "stderr",
     "output_type": "stream",
     "text": [
      "\r",
      "t:  75%|████████████████████████████████████████████████████████████████████▎                      | 770/1026 [01:29<00:31,  8.18it/s, now=None]"
     ]
    },
    {
     "name": "stderr",
     "output_type": "stream",
     "text": [
      "\r",
      "t:  75%|████████████████████████████████████████████████████████████████████▍                      | 771/1026 [01:29<00:30,  8.43it/s, now=None]"
     ]
    },
    {
     "name": "stderr",
     "output_type": "stream",
     "text": [
      "\r",
      "t:  75%|████████████████████████████████████████████████████████████████████▌                      | 773/1026 [01:29<00:28,  9.01it/s, now=None]"
     ]
    },
    {
     "name": "stderr",
     "output_type": "stream",
     "text": [
      "\r",
      "t:  75%|████████████████████████████████████████████████████████████████████▋                      | 774/1026 [01:29<00:27,  9.11it/s, now=None]"
     ]
    },
    {
     "name": "stderr",
     "output_type": "stream",
     "text": [
      "\r",
      "t:  76%|████████████████████████████████████████████████████████████████████▊                      | 776/1026 [01:29<00:30,  8.18it/s, now=None]"
     ]
    },
    {
     "name": "stderr",
     "output_type": "stream",
     "text": [
      "\r",
      "t:  76%|████████████████████████████████████████████████████████████████████▉                      | 777/1026 [01:29<00:29,  8.44it/s, now=None]"
     ]
    },
    {
     "name": "stderr",
     "output_type": "stream",
     "text": [
      "\r",
      "t:  76%|█████████████████████████████████████████████████████████████████████                      | 779/1026 [01:30<00:27,  9.05it/s, now=None]"
     ]
    },
    {
     "name": "stderr",
     "output_type": "stream",
     "text": [
      "\r",
      "t:  76%|█████████████████████████████████████████████████████████████████████▏                     | 780/1026 [01:30<00:27,  9.03it/s, now=None]"
     ]
    },
    {
     "name": "stderr",
     "output_type": "stream",
     "text": [
      "\r",
      "t:  76%|█████████████████████████████████████████████████████████████████████▎                     | 781/1026 [01:30<00:26,  9.23it/s, now=None]"
     ]
    },
    {
     "name": "stderr",
     "output_type": "stream",
     "text": [
      "\r",
      "t:  76%|█████████████████████████████████████████████████████████████████████▎                     | 782/1026 [01:30<00:31,  7.69it/s, now=None]"
     ]
    },
    {
     "name": "stderr",
     "output_type": "stream",
     "text": [
      "\r",
      "t:  76%|█████████████████████████████████████████████████████████████████████▍                     | 783/1026 [01:30<00:29,  8.11it/s, now=None]"
     ]
    },
    {
     "name": "stderr",
     "output_type": "stream",
     "text": [
      "\r",
      "t:  77%|█████████████████████████████████████████████████████████████████████▌                     | 785/1026 [01:30<00:27,  8.71it/s, now=None]"
     ]
    },
    {
     "name": "stderr",
     "output_type": "stream",
     "text": [
      "\r",
      "t:  77%|█████████████████████████████████████████████████████████████████████▋                     | 786/1026 [01:30<00:27,  8.88it/s, now=None]"
     ]
    },
    {
     "name": "stderr",
     "output_type": "stream",
     "text": [
      "\r",
      "t:  77%|█████████████████████████████████████████████████████████████████████▉                     | 788/1026 [01:31<00:29,  8.13it/s, now=None]"
     ]
    },
    {
     "name": "stderr",
     "output_type": "stream",
     "text": [
      "\r",
      "t:  77%|█████████████████████████████████████████████████████████████████████▉                     | 789/1026 [01:31<00:28,  8.26it/s, now=None]"
     ]
    },
    {
     "name": "stderr",
     "output_type": "stream",
     "text": [
      "\r",
      "t:  77%|██████████████████████████████████████████████████████████████████████▏                    | 791/1026 [01:31<00:26,  8.77it/s, now=None]"
     ]
    },
    {
     "name": "stderr",
     "output_type": "stream",
     "text": [
      "\r",
      "t:  77%|██████████████████████████████████████████████████████████████████████▏                    | 792/1026 [01:31<00:26,  8.93it/s, now=None]"
     ]
    },
    {
     "name": "stderr",
     "output_type": "stream",
     "text": [
      "\r",
      "t:  77%|██████████████████████████████████████████████████████████████████████▎                    | 793/1026 [01:31<00:25,  9.15it/s, now=None]"
     ]
    },
    {
     "name": "stderr",
     "output_type": "stream",
     "text": [
      "\r",
      "t:  77%|██████████████████████████████████████████████████████████████████████▍                    | 794/1026 [01:31<00:30,  7.64it/s, now=None]"
     ]
    },
    {
     "name": "stderr",
     "output_type": "stream",
     "text": [
      "\r",
      "t:  77%|██████████████████████████████████████████████████████████████████████▌                    | 795/1026 [01:31<00:28,  8.04it/s, now=None]"
     ]
    },
    {
     "name": "stderr",
     "output_type": "stream",
     "text": [
      "\r",
      "t:  78%|██████████████████████████████████████████████████████████████████████▋                    | 797/1026 [01:32<00:25,  8.84it/s, now=None]"
     ]
    },
    {
     "name": "stderr",
     "output_type": "stream",
     "text": [
      "\r",
      "t:  78%|██████████████████████████████████████████████████████████████████████▊                    | 798/1026 [01:32<00:25,  9.01it/s, now=None]"
     ]
    },
    {
     "name": "stderr",
     "output_type": "stream",
     "text": [
      "\r",
      "t:  78%|██████████████████████████████████████████████████████████████████████▉                    | 800/1026 [01:32<00:27,  8.08it/s, now=None]"
     ]
    },
    {
     "name": "stderr",
     "output_type": "stream",
     "text": [
      "\r",
      "t:  78%|███████████████████████████████████████████████████████████████████████                    | 801/1026 [01:32<00:26,  8.34it/s, now=None]"
     ]
    },
    {
     "name": "stderr",
     "output_type": "stream",
     "text": [
      "\r",
      "t:  78%|███████████████████████████████████████████████████████████████████████▏                   | 803/1026 [01:32<00:25,  8.83it/s, now=None]"
     ]
    },
    {
     "name": "stderr",
     "output_type": "stream",
     "text": [
      "\r",
      "t:  78%|███████████████████████████████████████████████████████████████████████▎                   | 804/1026 [01:32<00:24,  8.97it/s, now=None]"
     ]
    },
    {
     "name": "stderr",
     "output_type": "stream",
     "text": [
      "\r",
      "t:  79%|███████████████████████████████████████████████████████████████████████▍                   | 806/1026 [01:33<00:26,  8.21it/s, now=None]"
     ]
    },
    {
     "name": "stderr",
     "output_type": "stream",
     "text": [
      "\r",
      "t:  79%|███████████████████████████████████████████████████████████████████████▌                   | 807/1026 [01:33<00:25,  8.43it/s, now=None]"
     ]
    },
    {
     "name": "stderr",
     "output_type": "stream",
     "text": [
      "\r",
      "t:  79%|███████████████████████████████████████████████████████████████████████▊                   | 809/1026 [01:33<00:24,  8.99it/s, now=None]"
     ]
    },
    {
     "name": "stderr",
     "output_type": "stream",
     "text": [
      "\r",
      "t:  79%|███████████████████████████████████████████████████████████████████████▊                   | 810/1026 [01:33<00:24,  8.96it/s, now=None]"
     ]
    },
    {
     "name": "stderr",
     "output_type": "stream",
     "text": [
      "\r",
      "t:  79%|███████████████████████████████████████████████████████████████████████▉                   | 811/1026 [01:33<00:23,  9.15it/s, now=None]"
     ]
    },
    {
     "name": "stderr",
     "output_type": "stream",
     "text": [
      "\r",
      "t:  79%|████████████████████████████████████████████████████████████████████████                   | 812/1026 [01:33<00:27,  7.67it/s, now=None]"
     ]
    },
    {
     "name": "stderr",
     "output_type": "stream",
     "text": [
      "\r",
      "t:  79%|████████████████████████████████████████████████████████████████████████                   | 813/1026 [01:34<00:26,  8.08it/s, now=None]"
     ]
    },
    {
     "name": "stderr",
     "output_type": "stream",
     "text": [
      "\r",
      "t:  79%|████████████████████████████████████████████████████████████████████████▎                  | 815/1026 [01:34<00:23,  8.88it/s, now=None]"
     ]
    },
    {
     "name": "stderr",
     "output_type": "stream",
     "text": [
      "\r",
      "t:  80%|████████████████████████████████████████████████████████████████████████▎                  | 816/1026 [01:34<00:23,  9.03it/s, now=None]"
     ]
    },
    {
     "name": "stderr",
     "output_type": "stream",
     "text": [
      "\r",
      "t:  80%|████████████████████████████████████████████████████████████████████████▍                  | 817/1026 [01:34<00:22,  9.25it/s, now=None]"
     ]
    },
    {
     "name": "stderr",
     "output_type": "stream",
     "text": [
      "\r",
      "t:  80%|████████████████████████████████████████████████████████████████████████▌                  | 818/1026 [01:34<00:27,  7.62it/s, now=None]"
     ]
    },
    {
     "name": "stderr",
     "output_type": "stream",
     "text": [
      "\r",
      "t:  80%|████████████████████████████████████████████████████████████████████████▋                  | 819/1026 [01:34<00:25,  8.05it/s, now=None]"
     ]
    },
    {
     "name": "stderr",
     "output_type": "stream",
     "text": [
      "\r",
      "t:  80%|████████████████████████████████████████████████████████████████████████▋                  | 820/1026 [01:34<00:24,  8.48it/s, now=None]"
     ]
    },
    {
     "name": "stderr",
     "output_type": "stream",
     "text": [
      "\r",
      "t:  80%|████████████████████████████████████████████████████████████████████████▊                  | 821/1026 [01:34<00:23,  8.73it/s, now=None]"
     ]
    },
    {
     "name": "stderr",
     "output_type": "stream",
     "text": [
      "\r",
      "t:  80%|████████████████████████████████████████████████████████████████████████▉                  | 822/1026 [01:35<00:22,  8.94it/s, now=None]"
     ]
    },
    {
     "name": "stderr",
     "output_type": "stream",
     "text": [
      "\r",
      "t:  80%|█████████████████████████████████████████████████████████████████████████                  | 824/1026 [01:35<00:25,  7.94it/s, now=None]"
     ]
    },
    {
     "name": "stderr",
     "output_type": "stream",
     "text": [
      "\r",
      "t:  80%|█████████████████████████████████████████████████████████████████████████▏                 | 825/1026 [01:35<00:24,  8.28it/s, now=None]"
     ]
    },
    {
     "name": "stderr",
     "output_type": "stream",
     "text": [
      "\r",
      "t:  81%|█████████████████████████████████████████████████████████████████████████▎                 | 827/1026 [01:35<00:22,  8.85it/s, now=None]"
     ]
    },
    {
     "name": "stderr",
     "output_type": "stream",
     "text": [
      "\r",
      "t:  81%|█████████████████████████████████████████████████████████████████████████▍                 | 828/1026 [01:35<00:22,  9.00it/s, now=None]"
     ]
    },
    {
     "name": "stderr",
     "output_type": "stream",
     "text": [
      "\r",
      "t:  81%|█████████████████████████████████████████████████████████████████████████▌                 | 830/1026 [01:36<00:24,  8.10it/s, now=None]"
     ]
    },
    {
     "name": "stderr",
     "output_type": "stream",
     "text": [
      "\r",
      "t:  81%|█████████████████████████████████████████████████████████████████████████▋                 | 831/1026 [01:36<00:23,  8.25it/s, now=None]"
     ]
    },
    {
     "name": "stderr",
     "output_type": "stream",
     "text": [
      "\r",
      "t:  81%|█████████████████████████████████████████████████████████████████████████▉                 | 833/1026 [01:36<00:21,  8.78it/s, now=None]"
     ]
    },
    {
     "name": "stderr",
     "output_type": "stream",
     "text": [
      "\r",
      "t:  81%|█████████████████████████████████████████████████████████████████████████▉                 | 834/1026 [01:36<00:21,  8.93it/s, now=None]"
     ]
    },
    {
     "name": "stderr",
     "output_type": "stream",
     "text": [
      "\r",
      "t:  81%|██████████████████████████████████████████████████████████████████████████▏                | 836/1026 [01:36<00:23,  8.09it/s, now=None]"
     ]
    },
    {
     "name": "stderr",
     "output_type": "stream",
     "text": [
      "\r",
      "t:  82%|██████████████████████████████████████████████████████████████████████████▏                | 837/1026 [01:36<00:22,  8.37it/s, now=None]"
     ]
    },
    {
     "name": "stderr",
     "output_type": "stream",
     "text": [
      "\r",
      "t:  82%|██████████████████████████████████████████████████████████████████████████▍                | 839/1026 [01:37<00:21,  8.87it/s, now=None]"
     ]
    },
    {
     "name": "stderr",
     "output_type": "stream",
     "text": [
      "\r",
      "t:  82%|██████████████████████████████████████████████████████████████████████████▌                | 840/1026 [01:37<00:20,  9.01it/s, now=None]"
     ]
    },
    {
     "name": "stderr",
     "output_type": "stream",
     "text": [
      "\r",
      "t:  82%|██████████████████████████████████████████████████████████████████████████▋                | 842/1026 [01:37<00:22,  8.12it/s, now=None]"
     ]
    },
    {
     "name": "stderr",
     "output_type": "stream",
     "text": [
      "\r",
      "t:  82%|██████████████████████████████████████████████████████████████████████████▊                | 843/1026 [01:37<00:21,  8.40it/s, now=None]"
     ]
    },
    {
     "name": "stderr",
     "output_type": "stream",
     "text": [
      "\r",
      "t:  82%|██████████████████████████████████████████████████████████████████████████▉                | 845/1026 [01:37<00:20,  9.00it/s, now=None]"
     ]
    },
    {
     "name": "stderr",
     "output_type": "stream",
     "text": [
      "\r",
      "t:  82%|███████████████████████████████████████████████████████████████████████████                | 846/1026 [01:37<00:19,  9.12it/s, now=None]"
     ]
    },
    {
     "name": "stderr",
     "output_type": "stream",
     "text": [
      "\r",
      "t:  83%|███████████████████████████████████████████████████████████████████████████▏               | 848/1026 [01:38<00:21,  8.19it/s, now=None]"
     ]
    },
    {
     "name": "stderr",
     "output_type": "stream",
     "text": [
      "\r",
      "t:  83%|███████████████████████████████████████████████████████████████████████████▎               | 849/1026 [01:38<00:20,  8.44it/s, now=None]"
     ]
    },
    {
     "name": "stderr",
     "output_type": "stream",
     "text": [
      "\r",
      "t:  83%|███████████████████████████████████████████████████████████████████████████▍               | 851/1026 [01:38<00:19,  9.03it/s, now=None]"
     ]
    },
    {
     "name": "stderr",
     "output_type": "stream",
     "text": [
      "\r",
      "t:  83%|███████████████████████████████████████████████████████████████████████████▌               | 852/1026 [01:38<00:19,  9.15it/s, now=None]"
     ]
    },
    {
     "name": "stderr",
     "output_type": "stream",
     "text": [
      "\r",
      "t:  83%|███████████████████████████████████████████████████████████████████████████▋               | 854/1026 [01:38<00:20,  8.19it/s, now=None]"
     ]
    },
    {
     "name": "stderr",
     "output_type": "stream",
     "text": [
      "\r",
      "t:  83%|███████████████████████████████████████████████████████████████████████████▊               | 855/1026 [01:38<00:20,  8.46it/s, now=None]"
     ]
    },
    {
     "name": "stderr",
     "output_type": "stream",
     "text": [
      "\r",
      "t:  83%|███████████████████████████████████████████████████████████████████████████▉               | 856/1026 [01:39<00:19,  8.77it/s, now=None]"
     ]
    },
    {
     "name": "stderr",
     "output_type": "stream",
     "text": [
      "\r",
      "t:  84%|████████████████████████████████████████████████████████████████████████████               | 857/1026 [01:39<00:18,  8.96it/s, now=None]"
     ]
    },
    {
     "name": "stderr",
     "output_type": "stream",
     "text": [
      "\r",
      "t:  84%|████████████████████████████████████████████████████████████████████████████               | 858/1026 [01:39<00:18,  9.10it/s, now=None]"
     ]
    },
    {
     "name": "stderr",
     "output_type": "stream",
     "text": [
      "\r",
      "t:  84%|████████████████████████████████████████████████████████████████████████████▎              | 860/1026 [01:39<00:20,  8.08it/s, now=None]"
     ]
    },
    {
     "name": "stderr",
     "output_type": "stream",
     "text": [
      "\r",
      "t:  84%|████████████████████████████████████████████████████████████████████████████▎              | 861/1026 [01:39<00:19,  8.38it/s, now=None]"
     ]
    },
    {
     "name": "stderr",
     "output_type": "stream",
     "text": [
      "\r",
      "t:  84%|████████████████████████████████████████████████████████████████████████████▍              | 862/1026 [01:39<00:18,  8.72it/s, now=None]"
     ]
    },
    {
     "name": "stderr",
     "output_type": "stream",
     "text": [
      "\r",
      "t:  84%|████████████████████████████████████████████████████████████████████████████▌              | 863/1026 [01:39<00:18,  8.93it/s, now=None]"
     ]
    },
    {
     "name": "stderr",
     "output_type": "stream",
     "text": [
      "\r",
      "t:  84%|████████████████████████████████████████████████████████████████████████████▋              | 864/1026 [01:39<00:17,  9.11it/s, now=None]"
     ]
    },
    {
     "name": "stderr",
     "output_type": "stream",
     "text": [
      "\r",
      "t:  84%|████████████████████████████████████████████████████████████████████████████▊              | 866/1026 [01:40<00:19,  8.07it/s, now=None]"
     ]
    },
    {
     "name": "stderr",
     "output_type": "stream",
     "text": [
      "\r",
      "t:  85%|████████████████████████████████████████████████████████████████████████████▉              | 867/1026 [01:40<00:18,  8.38it/s, now=None]"
     ]
    },
    {
     "name": "stderr",
     "output_type": "stream",
     "text": [
      "\r",
      "t:  85%|█████████████████████████████████████████████████████████████████████████████              | 869/1026 [01:40<00:17,  9.05it/s, now=None]"
     ]
    },
    {
     "name": "stderr",
     "output_type": "stream",
     "text": [
      "\r",
      "t:  85%|█████████████████████████████████████████████████████████████████████████████▏             | 870/1026 [01:40<00:17,  9.01it/s, now=None]"
     ]
    },
    {
     "name": "stderr",
     "output_type": "stream",
     "text": [
      "\r",
      "t:  85%|█████████████████████████████████████████████████████████████████████████████▎             | 872/1026 [01:40<00:19,  8.09it/s, now=None]"
     ]
    },
    {
     "name": "stderr",
     "output_type": "stream",
     "text": [
      "\r",
      "t:  85%|█████████████████████████████████████████████████████████████████████████████▍             | 873/1026 [01:41<00:18,  8.38it/s, now=None]"
     ]
    },
    {
     "name": "stderr",
     "output_type": "stream",
     "text": [
      "\r",
      "t:  85%|█████████████████████████████████████████████████████████████████████████████▌             | 875/1026 [01:41<00:17,  8.77it/s, now=None]"
     ]
    },
    {
     "name": "stderr",
     "output_type": "stream",
     "text": [
      "\r",
      "t:  85%|█████████████████████████████████████████████████████████████████████████████▋             | 876/1026 [01:41<00:16,  8.94it/s, now=None]"
     ]
    },
    {
     "name": "stderr",
     "output_type": "stream",
     "text": [
      "\r",
      "t:  86%|█████████████████████████████████████████████████████████████████████████████▊             | 878/1026 [01:41<00:18,  8.17it/s, now=None]"
     ]
    },
    {
     "name": "stderr",
     "output_type": "stream",
     "text": [
      "\r",
      "t:  86%|█████████████████████████████████████████████████████████████████████████████▉             | 879/1026 [01:41<00:17,  8.45it/s, now=None]"
     ]
    },
    {
     "name": "stderr",
     "output_type": "stream",
     "text": [
      "\r",
      "t:  86%|██████████████████████████████████████████████████████████████████████████████▏            | 881/1026 [01:41<00:16,  9.05it/s, now=None]"
     ]
    },
    {
     "name": "stderr",
     "output_type": "stream",
     "text": [
      "\r",
      "t:  86%|██████████████████████████████████████████████████████████████████████████████▏            | 882/1026 [01:42<00:15,  9.17it/s, now=None]"
     ]
    },
    {
     "name": "stderr",
     "output_type": "stream",
     "text": [
      "\r",
      "t:  86%|██████████████████████████████████████████████████████████████████████████████▍            | 884/1026 [01:42<00:17,  8.31it/s, now=None]"
     ]
    },
    {
     "name": "stderr",
     "output_type": "stream",
     "text": [
      "\r",
      "t:  86%|██████████████████████████████████████████████████████████████████████████████▍            | 885/1026 [01:42<00:16,  8.56it/s, now=None]"
     ]
    },
    {
     "name": "stderr",
     "output_type": "stream",
     "text": [
      "\r",
      "t:  86%|██████████████████████████████████████████████████████████████████████████████▋            | 887/1026 [01:42<00:15,  8.99it/s, now=None]"
     ]
    },
    {
     "name": "stderr",
     "output_type": "stream",
     "text": [
      "\r",
      "t:  87%|██████████████████████████████████████████████████████████████████████████████▊            | 888/1026 [01:42<00:15,  9.11it/s, now=None]"
     ]
    },
    {
     "name": "stderr",
     "output_type": "stream",
     "text": [
      "\r",
      "t:  87%|██████████████████████████████████████████████████████████████████████████████▊            | 889/1026 [01:42<00:14,  9.20it/s, now=None]"
     ]
    },
    {
     "name": "stderr",
     "output_type": "stream",
     "text": [
      "\r",
      "t:  87%|██████████████████████████████████████████████████████████████████████████████▉            | 890/1026 [01:43<00:17,  7.80it/s, now=None]"
     ]
    },
    {
     "name": "stderr",
     "output_type": "stream",
     "text": [
      "\r",
      "t:  87%|███████████████████████████████████████████████████████████████████████████████            | 891/1026 [01:43<00:16,  8.21it/s, now=None]"
     ]
    },
    {
     "name": "stderr",
     "output_type": "stream",
     "text": [
      "\r",
      "t:  87%|███████████████████████████████████████████████████████████████████████████████▏           | 893/1026 [01:43<00:15,  8.84it/s, now=None]"
     ]
    },
    {
     "name": "stderr",
     "output_type": "stream",
     "text": [
      "\r",
      "t:  87%|███████████████████████████████████████████████████████████████████████████████▎           | 894/1026 [01:43<00:14,  8.98it/s, now=None]"
     ]
    },
    {
     "name": "stderr",
     "output_type": "stream",
     "text": [
      "\r",
      "t:  87%|███████████████████████████████████████████████████████████████████████████████▍           | 896/1026 [01:43<00:16,  8.05it/s, now=None]"
     ]
    },
    {
     "name": "stderr",
     "output_type": "stream",
     "text": [
      "\r",
      "t:  87%|███████████████████████████████████████████████████████████████████████████████▌           | 897/1026 [01:43<00:15,  8.36it/s, now=None]"
     ]
    },
    {
     "name": "stderr",
     "output_type": "stream",
     "text": [
      "\r",
      "t:  88%|███████████████████████████████████████████████████████████████████████████████▋           | 899/1026 [01:44<00:14,  8.88it/s, now=None]"
     ]
    },
    {
     "name": "stderr",
     "output_type": "stream",
     "text": [
      "\r",
      "t:  88%|███████████████████████████████████████████████████████████████████████████████▊           | 900/1026 [01:44<00:13,  9.02it/s, now=None]"
     ]
    },
    {
     "name": "stderr",
     "output_type": "stream",
     "text": [
      "\r",
      "t:  88%|████████████████████████████████████████████████████████████████████████████████           | 902/1026 [01:44<00:15,  8.09it/s, now=None]"
     ]
    },
    {
     "name": "stderr",
     "output_type": "stream",
     "text": [
      "\r",
      "t:  88%|████████████████████████████████████████████████████████████████████████████████           | 903/1026 [01:44<00:14,  8.38it/s, now=None]"
     ]
    },
    {
     "name": "stderr",
     "output_type": "stream",
     "text": [
      "\r",
      "t:  88%|████████████████████████████████████████████████████████████████████████████████▏          | 904/1026 [01:44<00:14,  8.71it/s, now=None]"
     ]
    },
    {
     "name": "stderr",
     "output_type": "stream",
     "text": [
      "\r",
      "t:  88%|████████████████████████████████████████████████████████████████████████████████▎          | 905/1026 [01:44<00:13,  8.91it/s, now=None]"
     ]
    },
    {
     "name": "stderr",
     "output_type": "stream",
     "text": [
      "\r",
      "t:  88%|████████████████████████████████████████████████████████████████████████████████▎          | 906/1026 [01:44<00:13,  9.10it/s, now=None]"
     ]
    },
    {
     "name": "stderr",
     "output_type": "stream",
     "text": [
      "\r",
      "t:  88%|████████████████████████████████████████████████████████████████████████████████▌          | 908/1026 [01:45<00:14,  7.98it/s, now=None]"
     ]
    },
    {
     "name": "stderr",
     "output_type": "stream",
     "text": [
      "\r",
      "t:  89%|████████████████████████████████████████████████████████████████████████████████▌          | 909/1026 [01:45<00:14,  8.32it/s, now=None]"
     ]
    },
    {
     "name": "stderr",
     "output_type": "stream",
     "text": [
      "\r",
      "t:  89%|████████████████████████████████████████████████████████████████████████████████▊          | 911/1026 [01:45<00:12,  8.87it/s, now=None]"
     ]
    },
    {
     "name": "stderr",
     "output_type": "stream",
     "text": [
      "\r",
      "t:  89%|████████████████████████████████████████████████████████████████████████████████▉          | 912/1026 [01:45<00:12,  8.88it/s, now=None]"
     ]
    },
    {
     "name": "stderr",
     "output_type": "stream",
     "text": [
      "\r",
      "t:  89%|█████████████████████████████████████████████████████████████████████████████████          | 914/1026 [01:45<00:13,  8.04it/s, now=None]"
     ]
    },
    {
     "name": "stderr",
     "output_type": "stream",
     "text": [
      "\r",
      "t:  89%|█████████████████████████████████████████████████████████████████████████████████▏         | 915/1026 [01:45<00:13,  8.34it/s, now=None]"
     ]
    },
    {
     "name": "stderr",
     "output_type": "stream",
     "text": [
      "\r",
      "t:  89%|█████████████████████████████████████████████████████████████████████████████████▎         | 917/1026 [01:46<00:12,  8.85it/s, now=None]"
     ]
    },
    {
     "name": "stderr",
     "output_type": "stream",
     "text": [
      "\r",
      "t:  89%|█████████████████████████████████████████████████████████████████████████████████▍         | 918/1026 [01:46<00:11,  9.00it/s, now=None]"
     ]
    },
    {
     "name": "stderr",
     "output_type": "stream",
     "text": [
      "\r",
      "t:  90%|█████████████████████████████████████████████████████████████████████████████████▌         | 920/1026 [01:46<00:13,  8.11it/s, now=None]"
     ]
    },
    {
     "name": "stderr",
     "output_type": "stream",
     "text": [
      "\r",
      "t:  90%|█████████████████████████████████████████████████████████████████████████████████▋         | 921/1026 [01:46<00:12,  8.39it/s, now=None]"
     ]
    },
    {
     "name": "stderr",
     "output_type": "stream",
     "text": [
      "\r",
      "t:  90%|█████████████████████████████████████████████████████████████████████████████████▊         | 923/1026 [01:46<00:11,  8.85it/s, now=None]"
     ]
    },
    {
     "name": "stderr",
     "output_type": "stream",
     "text": [
      "\r",
      "t:  90%|█████████████████████████████████████████████████████████████████████████████████▉         | 924/1026 [01:46<00:11,  9.01it/s, now=None]"
     ]
    },
    {
     "name": "stderr",
     "output_type": "stream",
     "text": [
      "\r",
      "t:  90%|██████████████████████████████████████████████████████████████████████████████████▏        | 926/1026 [01:47<00:12,  8.12it/s, now=None]"
     ]
    },
    {
     "name": "stderr",
     "output_type": "stream",
     "text": [
      "\r",
      "t:  90%|██████████████████████████████████████████████████████████████████████████████████▏        | 927/1026 [01:47<00:11,  8.41it/s, now=None]"
     ]
    },
    {
     "name": "stderr",
     "output_type": "stream",
     "text": [
      "\r",
      "t:  91%|██████████████████████████████████████████████████████████████████████████████████▍        | 929/1026 [01:47<00:10,  8.87it/s, now=None]"
     ]
    },
    {
     "name": "stderr",
     "output_type": "stream",
     "text": [
      "\r",
      "t:  91%|██████████████████████████████████████████████████████████████████████████████████▍        | 930/1026 [01:47<00:10,  9.03it/s, now=None]"
     ]
    },
    {
     "name": "stderr",
     "output_type": "stream",
     "text": [
      "\r",
      "t:  91%|██████████████████████████████████████████████████████████████████████████████████▋        | 932/1026 [01:47<00:11,  8.25it/s, now=None]"
     ]
    },
    {
     "name": "stderr",
     "output_type": "stream",
     "text": [
      "\r",
      "t:  91%|██████████████████████████████████████████████████████████████████████████████████▊        | 933/1026 [01:48<00:10,  8.50it/s, now=None]"
     ]
    },
    {
     "name": "stderr",
     "output_type": "stream",
     "text": [
      "\r",
      "t:  91%|██████████████████████████████████████████████████████████████████████████████████▉        | 935/1026 [01:48<00:10,  8.83it/s, now=None]"
     ]
    },
    {
     "name": "stderr",
     "output_type": "stream",
     "text": [
      "\r",
      "t:  91%|███████████████████████████████████████████████████████████████████████████████████        | 936/1026 [01:48<00:10,  9.00it/s, now=None]"
     ]
    },
    {
     "name": "stderr",
     "output_type": "stream",
     "text": [
      "\r",
      "t:  91%|███████████████████████████████████████████████████████████████████████████████████▏       | 938/1026 [01:48<00:10,  8.12it/s, now=None]"
     ]
    },
    {
     "name": "stderr",
     "output_type": "stream",
     "text": [
      "\r",
      "t:  92%|███████████████████████████████████████████████████████████████████████████████████▎       | 939/1026 [01:48<00:10,  8.39it/s, now=None]"
     ]
    },
    {
     "name": "stderr",
     "output_type": "stream",
     "text": [
      "\r",
      "t:  92%|███████████████████████████████████████████████████████████████████████████████████▎       | 940/1026 [01:48<00:09,  8.71it/s, now=None]"
     ]
    },
    {
     "name": "stderr",
     "output_type": "stream",
     "text": [
      "\r",
      "t:  92%|███████████████████████████████████████████████████████████████████████████████████▍       | 941/1026 [01:48<00:09,  8.75it/s, now=None]"
     ]
    },
    {
     "name": "stderr",
     "output_type": "stream",
     "text": [
      "\r",
      "t:  92%|███████████████████████████████████████████████████████████████████████████████████▌       | 942/1026 [01:49<00:09,  8.95it/s, now=None]"
     ]
    },
    {
     "name": "stderr",
     "output_type": "stream",
     "text": [
      "\r",
      "t:  92%|███████████████████████████████████████████████████████████████████████████████████▋       | 944/1026 [01:49<00:10,  7.97it/s, now=None]"
     ]
    },
    {
     "name": "stderr",
     "output_type": "stream",
     "text": [
      "\r",
      "t:  92%|███████████████████████████████████████████████████████████████████████████████████▊       | 945/1026 [01:49<00:09,  8.31it/s, now=None]"
     ]
    },
    {
     "name": "stderr",
     "output_type": "stream",
     "text": [
      "\r",
      "t:  92%|███████████████████████████████████████████████████████████████████████████████████▉       | 947/1026 [01:49<00:08,  8.90it/s, now=None]"
     ]
    },
    {
     "name": "stderr",
     "output_type": "stream",
     "text": [
      "\r",
      "t:  92%|████████████████████████████████████████████████████████████████████████████████████       | 948/1026 [01:49<00:08,  9.08it/s, now=None]"
     ]
    },
    {
     "name": "stderr",
     "output_type": "stream",
     "text": [
      "\r",
      "t:  93%|████████████████████████████████████████████████████████████████████████████████████▎      | 950/1026 [01:50<00:09,  8.19it/s, now=None]"
     ]
    },
    {
     "name": "stderr",
     "output_type": "stream",
     "text": [
      "\r",
      "t:  93%|████████████████████████████████████████████████████████████████████████████████████▎      | 951/1026 [01:50<00:08,  8.48it/s, now=None]"
     ]
    },
    {
     "name": "stderr",
     "output_type": "stream",
     "text": [
      "\r",
      "t:  93%|████████████████████████████████████████████████████████████████████████████████████▌      | 953/1026 [01:50<00:07,  9.16it/s, now=None]"
     ]
    },
    {
     "name": "stderr",
     "output_type": "stream",
     "text": [
      "\r",
      "t:  93%|████████████████████████████████████████████████████████████████████████████████████▌      | 954/1026 [01:50<00:07,  9.28it/s, now=None]"
     ]
    },
    {
     "name": "stderr",
     "output_type": "stream",
     "text": [
      "\r",
      "t:  93%|████████████████████████████████████████████████████████████████████████████████████▊      | 956/1026 [01:50<00:08,  8.32it/s, now=None]"
     ]
    },
    {
     "name": "stderr",
     "output_type": "stream",
     "text": [
      "\r",
      "t:  93%|████████████████████████████████████████████████████████████████████████████████████▉      | 957/1026 [01:50<00:08,  8.59it/s, now=None]"
     ]
    },
    {
     "name": "stderr",
     "output_type": "stream",
     "text": [
      "\r",
      "t:  93%|█████████████████████████████████████████████████████████████████████████████████████      | 959/1026 [01:51<00:07,  9.23it/s, now=None]"
     ]
    },
    {
     "name": "stderr",
     "output_type": "stream",
     "text": [
      "\r",
      "t:  94%|█████████████████████████████████████████████████████████████████████████████████████▏     | 960/1026 [01:51<00:07,  9.20it/s, now=None]"
     ]
    },
    {
     "name": "stderr",
     "output_type": "stream",
     "text": [
      "\r",
      "t:  94%|█████████████████████████████████████████████████████████████████████████████████████▎     | 962/1026 [01:51<00:07,  8.26it/s, now=None]"
     ]
    },
    {
     "name": "stderr",
     "output_type": "stream",
     "text": [
      "\r",
      "t:  94%|█████████████████████████████████████████████████████████████████████████████████████▍     | 963/1026 [01:51<00:07,  8.54it/s, now=None]"
     ]
    },
    {
     "name": "stderr",
     "output_type": "stream",
     "text": [
      "\r",
      "t:  94%|█████████████████████████████████████████████████████████████████████████████████████▌     | 965/1026 [01:51<00:06,  9.18it/s, now=None]"
     ]
    },
    {
     "name": "stderr",
     "output_type": "stream",
     "text": [
      "\r",
      "t:  94%|█████████████████████████████████████████████████████████████████████████████████████▋     | 966/1026 [01:51<00:06,  9.32it/s, now=None]"
     ]
    },
    {
     "name": "stderr",
     "output_type": "stream",
     "text": [
      "\r",
      "t:  94%|█████████████████████████████████████████████████████████████████████████████████████▊     | 968/1026 [01:52<00:06,  8.46it/s, now=None]"
     ]
    },
    {
     "name": "stderr",
     "output_type": "stream",
     "text": [
      "\r",
      "t:  94%|█████████████████████████████████████████████████████████████████████████████████████▉     | 969/1026 [01:52<00:06,  8.59it/s, now=None]"
     ]
    },
    {
     "name": "stderr",
     "output_type": "stream",
     "text": [
      "\r",
      "t:  95%|██████████████████████████████████████████████████████████████████████████████████████     | 971/1026 [01:52<00:05,  9.21it/s, now=None]"
     ]
    },
    {
     "name": "stderr",
     "output_type": "stream",
     "text": [
      "\r",
      "t:  95%|██████████████████████████████████████████████████████████████████████████████████████▏    | 972/1026 [01:52<00:05,  9.35it/s, now=None]"
     ]
    },
    {
     "name": "stderr",
     "output_type": "stream",
     "text": [
      "\r",
      "t:  95%|██████████████████████████████████████████████████████████████████████████████████████▍    | 974/1026 [01:52<00:06,  8.31it/s, now=None]"
     ]
    },
    {
     "name": "stderr",
     "output_type": "stream",
     "text": [
      "\r",
      "t:  95%|██████████████████████████████████████████████████████████████████████████████████████▍    | 975/1026 [01:52<00:05,  8.58it/s, now=None]"
     ]
    },
    {
     "name": "stderr",
     "output_type": "stream",
     "text": [
      "\r",
      "t:  95%|██████████████████████████████████████████████████████████████████████████████████████▋    | 977/1026 [01:53<00:05,  9.19it/s, now=None]"
     ]
    },
    {
     "name": "stderr",
     "output_type": "stream",
     "text": [
      "\r",
      "t:  95%|██████████████████████████████████████████████████████████████████████████████████████▋    | 978/1026 [01:53<00:05,  9.31it/s, now=None]"
     ]
    },
    {
     "name": "stderr",
     "output_type": "stream",
     "text": [
      "\r",
      "t:  96%|██████████████████████████████████████████████████████████████████████████████████████▉    | 980/1026 [01:53<00:05,  8.23it/s, now=None]"
     ]
    },
    {
     "name": "stderr",
     "output_type": "stream",
     "text": [
      "\r",
      "t:  96%|███████████████████████████████████████████████████████████████████████████████████████    | 981/1026 [01:53<00:05,  8.49it/s, now=None]"
     ]
    },
    {
     "name": "stderr",
     "output_type": "stream",
     "text": [
      "\r",
      "t:  96%|███████████████████████████████████████████████████████████████████████████████████████▏   | 983/1026 [01:53<00:04,  9.07it/s, now=None]"
     ]
    },
    {
     "name": "stderr",
     "output_type": "stream",
     "text": [
      "\r",
      "t:  96%|███████████████████████████████████████████████████████████████████████████████████████▎   | 984/1026 [01:53<00:04,  8.96it/s, now=None]"
     ]
    },
    {
     "name": "stderr",
     "output_type": "stream",
     "text": [
      "\r",
      "t:  96%|███████████████████████████████████████████████████████████████████████████████████████▍   | 986/1026 [01:54<00:04,  8.06it/s, now=None]"
     ]
    },
    {
     "name": "stderr",
     "output_type": "stream",
     "text": [
      "\r",
      "t:  96%|███████████████████████████████████████████████████████████████████████████████████████▌   | 987/1026 [01:54<00:04,  8.33it/s, now=None]"
     ]
    },
    {
     "name": "stderr",
     "output_type": "stream",
     "text": [
      "\r",
      "t:  96%|███████████████████████████████████████████████████████████████████████████████████████▋   | 988/1026 [01:54<00:04,  8.63it/s, now=None]"
     ]
    },
    {
     "name": "stderr",
     "output_type": "stream",
     "text": [
      "\r",
      "t:  96%|███████████████████████████████████████████████████████████████████████████████████████▋   | 989/1026 [01:54<00:04,  8.73it/s, now=None]"
     ]
    },
    {
     "name": "stderr",
     "output_type": "stream",
     "text": [
      "\r",
      "t:  96%|███████████████████████████████████████████████████████████████████████████████████████▊   | 990/1026 [01:54<00:04,  8.95it/s, now=None]"
     ]
    },
    {
     "name": "stderr",
     "output_type": "stream",
     "text": [
      "\r",
      "t:  97%|███████████████████████████████████████████████████████████████████████████████████████▉   | 992/1026 [01:54<00:04,  7.97it/s, now=None]"
     ]
    },
    {
     "name": "stderr",
     "output_type": "stream",
     "text": [
      "\r",
      "t:  97%|████████████████████████████████████████████████████████████████████████████████████████   | 993/1026 [01:54<00:03,  8.28it/s, now=None]"
     ]
    },
    {
     "name": "stderr",
     "output_type": "stream",
     "text": [
      "\r",
      "t:  97%|████████████████████████████████████████████████████████████████████████████████████████▎  | 995/1026 [01:55<00:03,  8.98it/s, now=None]"
     ]
    },
    {
     "name": "stderr",
     "output_type": "stream",
     "text": [
      "\r",
      "t:  97%|████████████████████████████████████████████████████████████████████████████████████████▎  | 996/1026 [01:55<00:03,  9.11it/s, now=None]"
     ]
    },
    {
     "name": "stderr",
     "output_type": "stream",
     "text": [
      "\r",
      "t:  97%|████████████████████████████████████████████████████████████████████████████████████████▌  | 998/1026 [01:55<00:03,  8.06it/s, now=None]"
     ]
    },
    {
     "name": "stderr",
     "output_type": "stream",
     "text": [
      "\r",
      "t:  97%|████████████████████████████████████████████████████████████████████████████████████████▌  | 999/1026 [01:55<00:03,  8.34it/s, now=None]"
     ]
    },
    {
     "name": "stderr",
     "output_type": "stream",
     "text": [
      "\r",
      "t:  98%|███████████████████████████████████████████████████████████████████████████████████████▊  | 1001/1026 [01:55<00:02,  8.97it/s, now=None]"
     ]
    },
    {
     "name": "stderr",
     "output_type": "stream",
     "text": [
      "\r",
      "t:  98%|███████████████████████████████████████████████████████████████████████████████████████▉  | 1002/1026 [01:55<00:02,  9.11it/s, now=None]"
     ]
    },
    {
     "name": "stderr",
     "output_type": "stream",
     "text": [
      "\r",
      "t:  98%|████████████████████████████████████████████████████████████████████████████████████████  | 1004/1026 [01:56<00:02,  8.29it/s, now=None]"
     ]
    },
    {
     "name": "stderr",
     "output_type": "stream",
     "text": [
      "\r",
      "t:  98%|████████████████████████████████████████████████████████████████████████████████████████▏ | 1005/1026 [01:56<00:02,  8.54it/s, now=None]"
     ]
    },
    {
     "name": "stderr",
     "output_type": "stream",
     "text": [
      "\r",
      "t:  98%|████████████████████████████████████████████████████████████████████████████████████████▎ | 1007/1026 [01:56<00:02,  9.12it/s, now=None]"
     ]
    },
    {
     "name": "stderr",
     "output_type": "stream",
     "text": [
      "\r",
      "t:  98%|████████████████████████████████████████████████████████████████████████████████████████▍ | 1008/1026 [01:56<00:01,  9.21it/s, now=None]"
     ]
    },
    {
     "name": "stderr",
     "output_type": "stream",
     "text": [
      "\r",
      "t:  98%|████████████████████████████████████████████████████████████████████████████████████████▌ | 1010/1026 [01:56<00:01,  8.20it/s, now=None]"
     ]
    },
    {
     "name": "stderr",
     "output_type": "stream",
     "text": [
      "\r",
      "t:  99%|████████████████████████████████████████████████████████████████████████████████████████▋ | 1011/1026 [01:57<00:01,  8.46it/s, now=None]"
     ]
    },
    {
     "name": "stderr",
     "output_type": "stream",
     "text": [
      "\r",
      "t:  99%|████████████████████████████████████████████████████████████████████████████████████████▊ | 1013/1026 [01:57<00:01,  9.04it/s, now=None]"
     ]
    },
    {
     "name": "stderr",
     "output_type": "stream",
     "text": [
      "\r",
      "t:  99%|████████████████████████████████████████████████████████████████████████████████████████▉ | 1014/1026 [01:57<00:01,  9.17it/s, now=None]"
     ]
    },
    {
     "name": "stderr",
     "output_type": "stream",
     "text": [
      "\r",
      "t:  99%|█████████████████████████████████████████████████████████████████████████████████████████ | 1016/1026 [01:57<00:01,  8.19it/s, now=None]"
     ]
    },
    {
     "name": "stderr",
     "output_type": "stream",
     "text": [
      "\r",
      "t:  99%|█████████████████████████████████████████████████████████████████████████████████████████▏| 1017/1026 [01:57<00:01,  8.45it/s, now=None]"
     ]
    },
    {
     "name": "stderr",
     "output_type": "stream",
     "text": [
      "\r",
      "t:  99%|█████████████████████████████████████████████████████████████████████████████████████████▍| 1019/1026 [01:57<00:00,  8.93it/s, now=None]"
     ]
    },
    {
     "name": "stderr",
     "output_type": "stream",
     "text": [
      "\r",
      "t:  99%|█████████████████████████████████████████████████████████████████████████████████████████▍| 1020/1026 [01:58<00:00,  9.06it/s, now=None]"
     ]
    },
    {
     "name": "stderr",
     "output_type": "stream",
     "text": [
      "\r",
      "t: 100%|█████████████████████████████████████████████████████████████████████████████████████████▋| 1022/1026 [01:58<00:00,  8.14it/s, now=None]"
     ]
    },
    {
     "name": "stderr",
     "output_type": "stream",
     "text": [
      "\r",
      "t: 100%|█████████████████████████████████████████████████████████████████████████████████████████▋| 1023/1026 [01:58<00:00,  8.40it/s, now=None]"
     ]
    },
    {
     "name": "stderr",
     "output_type": "stream",
     "text": [
      "\r",
      "t: 100%|█████████████████████████████████████████████████████████████████████████████████████████▉| 1025/1026 [01:58<00:00,  9.01it/s, now=None]"
     ]
    },
    {
     "name": "stderr",
     "output_type": "stream",
     "text": [
      "\r",
      "t: 100%|██████████████████████████████████████████████████████████████████████████████████████████| 1026/1026 [01:58<00:00,  9.14it/s, now=None]"
     ]
    },
    {
     "name": "stderr",
     "output_type": "stream",
     "text": [
      "\r",
      "                                                                                                                                                "
     ]
    },
    {
     "name": "stderr",
     "output_type": "stream",
     "text": [
      "\r"
     ]
    },
    {
     "name": "stdout",
     "output_type": "stream",
     "text": [
      "Moviepy - Done !\n",
      "Moviepy - video ready outputs/Americas/SVM/probability_animation.mp4\n"
     ]
    }
   ],
   "source": [
    "times = range(171)\n",
    "gplot_kw = dict(\n",
    "    rotation_model=rotation_filenames,\n",
    "    topology_features=feature_filenames,\n",
    "    coastlines=coastlines_filename,\n",
    ")\n",
    "\n",
    "for algorithm in (\"PU\", \"SVM\"):\n",
    "    output_filename = os.path.join(\n",
    "        output_dir,\n",
    "        algorithm,\n",
    "        \"probability_animation.mp4\",\n",
    "    )\n",
    "    probs_dir = os.path.join(output_dir, algorithm, \"probability_grids\")\n",
    "\n",
    "    # Create all plots\n",
    "    with tempfile.TemporaryDirectory() as tmpdir, \\\n",
    "            Parallel(n_jobs=n_jobs, verbose=int(verbose)) as parallel:\n",
    "        output_filenames = [\n",
    "            os.path.join(tmpdir, f\"image_{t:0.0f}Ma.png\")\n",
    "            for t in times\n",
    "        ]\n",
    "        parallel(\n",
    "            delayed(plot)(\n",
    "                gplot=gplot_kw,\n",
    "                probabilities=os.path.join(\n",
    "                    probs_dir,\n",
    "                    f\"probability_grid_{t:0.0f}Ma.nc\",\n",
    "                ),\n",
    "                projection=projection,\n",
    "                time=t,\n",
    "                positives=positives[\n",
    "                    (positives[\"age (Ma)\"] - float(t)).abs()\n",
    "                    <= 2.5\n",
    "                ],\n",
    "                output_filename=o,\n",
    "                central_meridian=-100,\n",
    "            )\n",
    "            for t, o in zip(times, output_filenames)\n",
    "        )\n",
    "\n",
    "        with ImageSequenceClip(output_filenames[::-1], fps=5) as clip:\n",
    "            clip.write_videofile(\n",
    "                output_filename,\n",
    "                fps=30,\n",
    "                codec=\"mpeg4\",\n",
    "                bitrate=\"5000k\",\n",
    "                audio=False,\n",
    "                threads=n_jobs,\n",
    "                logger=\"bar\" if verbose else None,\n",
    "                ffmpeg_params=[\n",
    "                    \"-vf\",\n",
    "                    \"pad=ceil(iw/2)*2:ceil(ih/2)*2\",\n",
    "                ],\n",
    "            )\n"
   ]
  },
  {
   "cell_type": "code",
   "execution_count": null,
   "id": "7b0932cf",
   "metadata": {
    "papermill": {
     "duration": 0.067958,
     "end_time": "2023-12-02T10:49:26.477433",
     "exception": false,
     "start_time": "2023-12-02T10:49:26.409475",
     "status": "completed"
    },
    "tags": []
   },
   "outputs": [],
   "source": []
  }
 ],
 "metadata": {
  "kernelspec": {
   "display_name": "datamining",
   "language": "python",
   "name": "python3"
  },
  "language_info": {
   "codemirror_mode": {
    "name": "ipython",
    "version": 3
   },
   "file_extension": ".py",
   "mimetype": "text/x-python",
   "name": "python",
   "nbconvert_exporter": "python",
   "pygments_lexer": "ipython3",
   "version": "3.11.6"
  },
  "papermill": {
   "default_parameters": {},
   "duration": 844.007539,
   "end_time": "2023-12-02T10:49:29.466144",
   "environment_variables": {},
   "exception": null,
   "input_path": "03-create_probability_animations.ipynb",
   "output_path": "03-create_probability_animations_output.ipynb",
   "parameters": {},
   "start_time": "2023-12-02T10:35:25.458605",
   "version": "2.4.0"
  }
 },
 "nbformat": 4,
 "nbformat_minor": 5
}